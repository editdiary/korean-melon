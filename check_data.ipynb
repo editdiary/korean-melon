{
 "cells": [
  {
   "cell_type": "code",
   "execution_count": 1,
   "metadata": {},
   "outputs": [],
   "source": [
    "import os\n",
    "import pandas as pd"
   ]
  },
  {
   "cell_type": "markdown",
   "metadata": {},
   "source": [
    "# 데이터 확인 & 준비"
   ]
  },
  {
   "cell_type": "markdown",
   "metadata": {},
   "source": [
    "### 간단한 무결성 확인\n",
    "> 데이터가 온전하게 잘 있는가? 혹시 image 파일과 label 파일의 이름이 다르지 않는가?"
   ]
  },
  {
   "cell_type": "code",
   "execution_count": 2,
   "metadata": {},
   "outputs": [
    {
     "name": "stdout",
     "output_type": "stream",
     "text": [
      "이미지 개수: 508 / 라벨 개수: 508\n",
      "공통된 파일명 개수: 508\n",
      "이미지 개수: 101 / 라벨 개수: 101\n",
      "공통된 파일명 개수: 101\n",
      "이미지 개수: 69 / 라벨 개수: 69\n",
      "공통된 파일명 개수: 69\n"
     ]
    }
   ],
   "source": [
    "def check_data(image_path, label_path):\n",
    "    # 파일명 리스트 생성\n",
    "    img_list, lbl_list = os.listdir(image_path), os.listdir(label_path)\n",
    "\n",
    "    # 확장자 제거\n",
    "    img_list = [i.split('.')[0] for i in img_list]\n",
    "    lbl_list = [i.split('.')[0] for i in lbl_list]\n",
    "\n",
    "    # 공통된 파일명 리스트 생성\n",
    "    img_list = set(img_list)\n",
    "    lbl_list = set(lbl_list)\n",
    "    common_list = list(set(img_list) & set(lbl_list))\n",
    "\n",
    "    print(f\"이미지 개수: {len(img_list)} / 라벨 개수: {len(lbl_list)}\")\n",
    "    print(f\"공통된 파일명 개수: {len(common_list)}\")\n",
    "\n",
    "# 함수 실행\n",
    "for state in ['train', 'valid', 'test']:\n",
    "    image_path = f\"./dataset/{state}/images\"\n",
    "    label_path = f\"./dataset/{state}/labels\"\n",
    "    check_data(image_path, label_path)"
   ]
  },
  {
   "cell_type": "markdown",
   "metadata": {},
   "source": [
    "> 확장자가 다른 이미지가 발견됐다. 한 번 확인해보자. -> roboflow에서 다운받으니 다 통일됐다!"
   ]
  },
  {
   "cell_type": "code",
   "execution_count": 5,
   "metadata": {},
   "outputs": [
    {
     "name": "stdout",
     "output_type": "stream",
     "text": [
      "jpg    508\n",
      "Name: count, dtype: int64\n",
      "jpg    101\n",
      "Name: count, dtype: int64\n",
      "jpg    69\n",
      "Name: count, dtype: int64\n"
     ]
    }
   ],
   "source": [
    "def check_extesion(image_path):\n",
    "    # 파일명 리스트 생성\n",
    "    img_list = os.listdir(image_path)\n",
    "\n",
    "    # 확장자 리스트 생성\n",
    "    img_ext = [i.split('.')[-1] for i in img_list]\n",
    "\n",
    "    # 확장자별 개수\n",
    "    img_ext = pd.Series(img_ext).value_counts()\n",
    "\n",
    "    return img_ext\n",
    "\n",
    "# 함수 실행\n",
    "for state in ['train', 'valid', 'test']:\n",
    "    image_path = f\"./dataset/{state}/images\"\n",
    "    print(check_extesion(image_path))"
   ]
  },
  {
   "cell_type": "markdown",
   "metadata": {},
   "source": [
    "### 파일의 클래스 분포 확인"
   ]
  },
  {
   "cell_type": "code",
   "execution_count": null,
   "metadata": {},
   "outputs": [
    {
     "data": {
      "text/html": [
       "<div>\n",
       "<style scoped>\n",
       "    .dataframe tbody tr th:only-of-type {\n",
       "        vertical-align: middle;\n",
       "    }\n",
       "\n",
       "    .dataframe tbody tr th {\n",
       "        vertical-align: top;\n",
       "    }\n",
       "\n",
       "    .dataframe thead th {\n",
       "        text-align: right;\n",
       "    }\n",
       "</style>\n",
       "<table border=\"1\" class=\"dataframe\">\n",
       "  <thead>\n",
       "    <tr style=\"text-align: right;\">\n",
       "      <th></th>\n",
       "      <th>train</th>\n",
       "      <th>valid</th>\n",
       "      <th>test</th>\n",
       "      <th>sum</th>\n",
       "    </tr>\n",
       "    <tr>\n",
       "      <th>classID</th>\n",
       "      <th></th>\n",
       "      <th></th>\n",
       "      <th></th>\n",
       "      <th></th>\n",
       "    </tr>\n",
       "  </thead>\n",
       "  <tbody>\n",
       "    <tr>\n",
       "      <th>0</th>\n",
       "      <td>439</td>\n",
       "      <td>81</td>\n",
       "      <td>95</td>\n",
       "      <td>615</td>\n",
       "    </tr>\n",
       "    <tr>\n",
       "      <th>1</th>\n",
       "      <td>200</td>\n",
       "      <td>54</td>\n",
       "      <td>41</td>\n",
       "      <td>295</td>\n",
       "    </tr>\n",
       "  </tbody>\n",
       "</table>\n",
       "</div>"
      ],
      "text/plain": [
       "         train  valid  test  sum\n",
       "classID                         \n",
       "0          439     81    95  615\n",
       "1          200     54    41  295"
      ]
     },
     "execution_count": 24,
     "metadata": {},
     "output_type": "execute_result"
    }
   ],
   "source": [
    "def check_distribution(label_path):\n",
    "    # 라벨 리스트 생성\n",
    "    lbl_list = os.listdir(label_path)\n",
    "\n",
    "    # label 파일(txt)로부터 classID 추출\n",
    "    class_list = []\n",
    "    for lbl in lbl_list:\n",
    "        with open(label_path+f\"/{lbl}\", 'r') as f:\n",
    "            lines = f.readlines()\n",
    "            for line in lines:\n",
    "                # 현재 label은 yolo 형식이므로 첫번째 값이 class\n",
    "                classID = line.split()[0]\n",
    "                class_list.append(classID)\n",
    "    \n",
    "    return class_list\n",
    "\n",
    "# 함수 실행\n",
    "class_dict = {}\n",
    "for state in ['train', 'valid', 'test']:\n",
    "    label_path = f\"./dataset/{state}/labels\"\n",
    "    class_list = check_distribution(label_path)\n",
    "    class_dict[state] = class_list\n",
    "\n",
    "\n",
    "train_df = pd.DataFrame(class_dict['train'], columns=['classID'])\n",
    "train_df_counts = train_df.value_counts()\n",
    "\n",
    "valid_df = pd.DataFrame(class_dict['valid'], columns=['classID'])\n",
    "valid_df_counts = valid_df.value_counts()\n",
    "\n",
    "test_df = pd.DataFrame(class_dict['test'], columns=['classID'])\n",
    "test_df_counts = test_df.value_counts()\n",
    "\n",
    "total_df = pd.concat([train_df_counts, valid_df_counts, test_df_counts],\n",
    "                     axis=1, keys=['train', 'valid', 'test'])\n",
    "total_df['sum'] = total_df.sum(axis=1)\n",
    "total_df"
   ]
  },
  {
   "cell_type": "markdown",
   "metadata": {},
   "source": [
    "### 객체가 여러 개 있는 일부 이미지의 bbox 그려보기"
   ]
  },
  {
   "cell_type": "code",
   "execution_count": 8,
   "metadata": {},
   "outputs": [
    {
     "name": "stdout",
     "output_type": "stream",
     "text": [
      "Saved result image: ./output/bbox_V006_77_0_00_10_05_12_0_c14_20201224_0019_S01_1.jpg\n",
      "Saved result image: ./output/bbox_V006_77_0_00_10_05_12_0_c14_20201224_0004_S01_1.jpg\n",
      "Saved result image: ./output/bbox_V006_77_0_00_10_05_12_0_c18_20201221_0030_S01_1.JPG\n",
      "Saved result image: ./output/bbox_V006_77_0_00_10_05_12_0_c19_20201130_0032_S01_1.jpg\n",
      "Saved result image: ./output/bbox_V006_77_0_00_10_05_12_0_c19_20201130_0022_S01_2.jpg\n",
      "All images processed\n"
     ]
    }
   ],
   "source": [
    "import os\n",
    "import cv2\n",
    "import numpy as np\n",
    "    \n",
    "# 경로 설정\n",
    "image_dir = './dataset/images'\n",
    "label_path = './dataset/labels'\n",
    "\n",
    "image_list = [\"V006_77_0_00_10_05_12_0_c14_20201224_0019_S01_1.jpg\",\n",
    "            \"V006_77_0_00_10_05_12_0_c14_20201224_0004_S01_1.jpg\",\n",
    "            \"V006_77_0_00_10_05_12_0_c18_20201221_0030_S01_1.JPG\",\n",
    "            \"V006_77_0_00_10_05_12_0_c19_20201130_0032_S01_1.jpg\",\n",
    "            \"V006_77_0_00_10_05_12_0_c19_20201130_0022_S01_2.jpg\"]\n",
    "\n",
    "\n",
    "for image in image_list:\n",
    "    img_file = os.path.join(image_dir, image)\n",
    "    # 이미지가 JPG일 경우\n",
    "    if img_file.split('.')[-1] == 'JPG':\n",
    "        lbl_file = os.path.join(label_path, image.replace('.JPG', '.txt'))\n",
    "    # 이미지가 jpg일 경우\n",
    "    elif img_file.split('.')[-1] == 'jpg':\n",
    "        lbl_file = os.path.join(label_path, image.replace('.jpg', '.txt'))\n",
    "    \n",
    "    try:\n",
    "        img = cv2.imread(img_file)\n",
    "        if img is None:\n",
    "            print(f\"Error loading image: {img_file}\")\n",
    "            continue\n",
    "    \n",
    "        height, width = img.shape[:2]\n",
    "\n",
    "        # label 파일(txt)로부터 bbox 정보 추출\n",
    "        if os.path.exists(lbl_file):\n",
    "            with open(lbl_file, 'r') as f:\n",
    "                lines = f.readlines()\n",
    "                for line in lines:\n",
    "                    classID, x, y, w, h = map(float, line.split())\n",
    "                    x1 = int((x - w/2) * width)\n",
    "                    y1 = int((y - h/2) * height)\n",
    "                    x2 = int((x + w/2) * width)\n",
    "                    y2 = int((y + h/2) * height)\n",
    "                    cv2.rectangle(img, (x1, y1), (x2, y2), (0, 0, 255), 5)\n",
    "        else:\n",
    "            print(f\"Label file not found: {lbl_file}\")\n",
    "        \n",
    "        # 결과 이미지 저장\n",
    "        output_file = os.path.join('./output', f\"bbox_{image}\")\n",
    "        if not os.path.exists('./output'):\n",
    "            os.makedirs('./output')\n",
    "        cv2.imwrite(output_file, img)\n",
    "        print(f\"Saved result image: {output_file}\")\n",
    "\n",
    "    except Exception as e:\n",
    "        print(f\"Error processing {image}: {e}\")\n",
    "\n",
    "print(\"All images processed\")"
   ]
  },
  {
   "cell_type": "code",
   "execution_count": null,
   "metadata": {},
   "outputs": [],
   "source": []
  }
 ],
 "metadata": {
  "kernelspec": {
   "display_name": "CV",
   "language": "python",
   "name": "python3"
  },
  "language_info": {
   "codemirror_mode": {
    "name": "ipython",
    "version": 3
   },
   "file_extension": ".py",
   "mimetype": "text/x-python",
   "name": "python",
   "nbconvert_exporter": "python",
   "pygments_lexer": "ipython3",
   "version": "3.8.20"
  }
 },
 "nbformat": 4,
 "nbformat_minor": 2
}
