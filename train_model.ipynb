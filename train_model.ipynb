{
 "cells": [
  {
   "cell_type": "code",
   "execution_count": 1,
   "metadata": {},
   "outputs": [
    {
     "name": "stdout",
     "output_type": "stream",
     "text": [
      "PyTorch version: 2.4.1+cu121\n",
      "CUDA version: 12.1\n",
      "GPU available: True\n",
      "GPU name: NVIDIA GeForce RTX 4090\n"
     ]
    }
   ],
   "source": [
    "# GPU 사용 가능 여부 확인\n",
    "import torch\n",
    "import random\n",
    "import numpy as np\n",
    "\n",
    "print(f\"PyTorch version: {torch.__version__}\")\n",
    "print(f\"CUDA version: {torch.version.cuda}\")\n",
    "print(f\"GPU available: {torch.cuda.is_available()}\")\n",
    "print(f\"GPU name: {torch.cuda.get_device_name(0) if torch.cuda.is_available() else 'None'}\")"
   ]
  },
  {
   "cell_type": "code",
   "execution_count": 2,
   "metadata": {},
   "outputs": [],
   "source": [
    "# 모델 재현을 위한 랜덤시드 고정\n",
    "def set_random_seed(seed_value=42):\n",
    "    # Python의 기본 난수 시드 설정\n",
    "    random.seed(seed_value)\n",
    "    # NumPy 난수 시드 설정\n",
    "    np.random.seed(seed_value)\n",
    "    # PyTorch 난수 시드 설정 (CPU)\n",
    "    torch.manual_seed(seed_value)\n",
    "    # PyTorch 난수 시드 설정 (GPU)\n",
    "    torch.cuda.manual_seed(seed_value)\n",
    "    torch.cuda.manual_seed_all(seed_value)\n",
    "    # CuDNN 설정\n",
    "    torch.backends.cudnn.deterministic = True\n",
    "    torch.backends.cudnn.benchmark = False\n",
    "\n",
    "set_random_seed()\n",
    "\n",
    "# matplotlib default 설정\n",
    "import matplotlib.pyplot as plt\n",
    "plt.style.use('default')"
   ]
  },
  {
   "cell_type": "code",
   "execution_count": 3,
   "metadata": {},
   "outputs": [],
   "source": [
    "# 사전학습된 가중치 파일 불러오기\n",
    "from ultralytics import YOLO\n",
    "\n",
    "model = YOLO('./models/yolov10x.pt')"
   ]
  },
  {
   "cell_type": "code",
   "execution_count": null,
   "metadata": {},
   "outputs": [],
   "source": [
    "# train 파라미터 설정\n",
    "train_params = {\n",
    "    'data': './data.yaml',\n",
    "    'epochs': 100,\n",
    "    'imgsz': 640,\n",
    "    'batch': 16,\n",
    "    'project': './runs/PID2/CID0',\n",
    "    'name': 'v10x',\n",
    "    'seed': 42,\n",
    "    'optimizer': 'AdamW',           # default='auto' - Options include SGD, Adam, AdamW, NAdam, RAdam, RMSProp etc.\n",
    "    'lr0': 1e-4,\n",
    "    'lrf': 0.01,\n",
    "    'conf': 0.10,                   # default: 0.25\n",
    "    'save_json': True,\n",
    "    'workers': 4,                   # default: 8\n",
    "}"
   ]
  },
  {
   "cell_type": "code",
   "execution_count": 5,
   "metadata": {},
   "outputs": [
    {
     "name": "stdout",
     "output_type": "stream",
     "text": [
      "New https://pypi.org/project/ultralytics/8.3.33 available 😃 Update with 'pip install -U ultralytics'\n",
      "Ultralytics 8.3.31 🚀 Python-3.8.20 torch-2.4.1+cu121 CUDA:0 (NVIDIA GeForce RTX 4090, 24184MiB)\n"
     ]
    },
    {
     "name": "stdout",
     "output_type": "stream",
     "text": [
      "\u001b[34m\u001b[1mengine/trainer: \u001b[0mtask=detect, mode=train, model=./models/yolov10x.pt, data=/home/leedh/바탕화면/korean_melon/dataset/data.yaml, epochs=100, time=None, patience=100, batch=16, imgsz=640, save=True, save_period=-1, cache=False, device=None, workers=4, project=./runs/PID2/CID0, name=v10x, exist_ok=False, pretrained=True, optimizer=AdamW, verbose=True, seed=42, deterministic=True, single_cls=False, rect=False, cos_lr=False, close_mosaic=10, resume=False, amp=True, fraction=1.0, profile=False, freeze=None, multi_scale=False, overlap_mask=True, mask_ratio=4, dropout=0.0, val=True, split=val, save_json=True, save_hybrid=False, conf=0.1, iou=0.7, max_det=300, half=False, dnn=False, plots=True, source=None, vid_stride=1, stream_buffer=False, visualize=False, augment=False, agnostic_nms=False, classes=None, retina_masks=False, embed=None, show=False, save_frames=False, save_txt=False, save_conf=False, save_crop=False, show_labels=True, show_conf=True, show_boxes=True, line_width=None, format=torchscript, keras=False, optimize=False, int8=False, dynamic=False, simplify=True, opset=None, workspace=4, nms=False, lr0=0.0001, lrf=0.01, momentum=0.937, weight_decay=0.0005, warmup_epochs=3.0, warmup_momentum=0.8, warmup_bias_lr=0.1, box=7.5, cls=0.5, dfl=1.5, pose=12.0, kobj=1.0, label_smoothing=0.0, nbs=64, hsv_h=0.015, hsv_s=0.7, hsv_v=0.4, degrees=0.0, translate=0.1, scale=0.5, shear=0.0, perspective=0.0, flipud=0.0, fliplr=0.5, bgr=0.0, mosaic=1.0, mixup=0.0, copy_paste=0.0, copy_paste_mode=flip, auto_augment=randaugment, erasing=0.4, crop_fraction=1.0, cfg=None, tracker=botsort.yaml, save_dir=runs/PID2/CID0/v10x\n",
      "Overriding model.yaml nc=80 with nc=2\n",
      "\n",
      "                   from  n    params  module                                       arguments                     \n",
      "  0                  -1  1      2320  ultralytics.nn.modules.conv.Conv             [3, 80, 3, 2]                 \n",
      "  1                  -1  1    115520  ultralytics.nn.modules.conv.Conv             [80, 160, 3, 2]               \n",
      "  2                  -1  3    436800  ultralytics.nn.modules.block.C2f             [160, 160, 3, True]           \n",
      "  3                  -1  1    461440  ultralytics.nn.modules.conv.Conv             [160, 320, 3, 2]              \n",
      "  4                  -1  6   3281920  ultralytics.nn.modules.block.C2f             [320, 320, 6, True]           \n",
      "  5                  -1  1    213120  ultralytics.nn.modules.block.SCDown          [320, 640, 3, 2]              \n",
      "  6                  -1  6   4604160  ultralytics.nn.modules.block.C2fCIB          [640, 640, 6, True]           \n",
      "  7                  -1  1    417920  ultralytics.nn.modules.block.SCDown          [640, 640, 3, 2]              \n",
      "  8                  -1  3   2712960  ultralytics.nn.modules.block.C2fCIB          [640, 640, 3, True]           \n",
      "  9                  -1  1   1025920  ultralytics.nn.modules.block.SPPF            [640, 640, 5]                 \n",
      " 10                  -1  1   1545920  ultralytics.nn.modules.block.PSA             [640, 640]                    \n",
      " 11                  -1  1         0  torch.nn.modules.upsampling.Upsample         [None, 2, 'nearest']          \n",
      " 12             [-1, 6]  1         0  ultralytics.nn.modules.conv.Concat           [1]                           \n",
      " 13                  -1  3   3122560  ultralytics.nn.modules.block.C2fCIB          [1280, 640, 3, True]          \n",
      " 14                  -1  1         0  torch.nn.modules.upsampling.Upsample         [None, 2, 'nearest']          \n",
      " 15             [-1, 4]  1         0  ultralytics.nn.modules.conv.Concat           [1]                           \n",
      " 16                  -1  3   1948800  ultralytics.nn.modules.block.C2f             [960, 320, 3]                 \n",
      " 17                  -1  1    922240  ultralytics.nn.modules.conv.Conv             [320, 320, 3, 2]              \n",
      " 18            [-1, 13]  1         0  ultralytics.nn.modules.conv.Concat           [1]                           \n",
      " 19                  -1  3   2917760  ultralytics.nn.modules.block.C2fCIB          [960, 640, 3, True]           \n",
      " 20                  -1  1    417920  ultralytics.nn.modules.block.SCDown          [640, 640, 3, 2]              \n",
      " 21            [-1, 10]  1         0  ultralytics.nn.modules.conv.Concat           [1]                           \n",
      " 22                  -1  3   3122560  ultralytics.nn.modules.block.C2fCIB          [1280, 640, 3, True]          \n",
      " 23        [16, 19, 22]  1   4388892  ultralytics.nn.modules.head.v10Detect        [2, [320, 640, 640]]          \n",
      "YOLOv10x summary: 688 layers, 31,658,732 parameters, 31,658,716 gradients, 171.0 GFLOPs\n",
      "\n",
      "Transferred 1123/1135 items from pretrained weights\n",
      "Freezing layer 'model.23.dfl.conv.weight'\n",
      "\u001b[34m\u001b[1mAMP: \u001b[0mrunning Automatic Mixed Precision (AMP) checks...\n",
      "\u001b[34m\u001b[1mAMP: \u001b[0mchecks passed ✅\n"
     ]
    },
    {
     "name": "stderr",
     "output_type": "stream",
     "text": [
      "\u001b[34m\u001b[1mtrain: \u001b[0mScanning /home/leedh/바탕화면/korean_melon/dataset/train/labels.cache... 508 images, 0 backgrounds, 0 corrupt: 100%|██████████| 508/508 [00:00<?, ?it/s]\n",
      "\u001b[34m\u001b[1mval: \u001b[0mScanning /home/leedh/바탕화면/korean_melon/dataset/valid/labels.cache... 101 images, 0 backgrounds, 0 corrupt: 100%|██████████| 101/101 [00:00<?, ?it/s]\n"
     ]
    },
    {
     "name": "stdout",
     "output_type": "stream",
     "text": [
      "Plotting labels to runs/PID2/CID0/v10x/labels.jpg... \n",
      "\u001b[34m\u001b[1moptimizer:\u001b[0m AdamW(lr=0.0001, momentum=0.937) with parameter groups 185 weight(decay=0.0), 198 weight(decay=0.0005), 197 bias(decay=0.0)\n",
      "Image sizes 640 train, 640 val\n",
      "Using 4 dataloader workers\n",
      "Logging results to \u001b[1mruns/PID2/CID0/v10x\u001b[0m\n",
      "Starting training for 100 epochs...\n",
      "\n",
      "      Epoch    GPU_mem   box_loss   cls_loss   dfl_loss  Instances       Size\n"
     ]
    },
    {
     "name": "stderr",
     "output_type": "stream",
     "text": [
      "      1/100      17.7G      1.209      4.953      2.348         30        640: 100%|██████████| 32/32 [00:07<00:00,  4.13it/s]\n",
      "                 Class     Images  Instances      Box(P          R      mAP50  mAP50-95): 100%|██████████| 4/4 [00:00<00:00,  9.37it/s]"
     ]
    },
    {
     "name": "stdout",
     "output_type": "stream",
     "text": [
      "                   all        101        135          0          0          0          0\n"
     ]
    },
    {
     "name": "stderr",
     "output_type": "stream",
     "text": [
      "\n"
     ]
    },
    {
     "name": "stdout",
     "output_type": "stream",
     "text": [
      "\n",
      "      Epoch    GPU_mem   box_loss   cls_loss   dfl_loss  Instances       Size\n"
     ]
    },
    {
     "name": "stderr",
     "output_type": "stream",
     "text": [
      "      2/100      17.9G       1.04      1.244       2.14         37        640: 100%|██████████| 32/32 [00:07<00:00,  4.49it/s]\n",
      "                 Class     Images  Instances      Box(P          R      mAP50  mAP50-95): 100%|██████████| 4/4 [00:00<00:00,  9.50it/s]"
     ]
    },
    {
     "name": "stdout",
     "output_type": "stream",
     "text": [
      "                   all        101        135      0.817      0.762      0.838      0.804\n"
     ]
    },
    {
     "name": "stderr",
     "output_type": "stream",
     "text": [
      "\n"
     ]
    },
    {
     "name": "stdout",
     "output_type": "stream",
     "text": [
      "\n",
      "      Epoch    GPU_mem   box_loss   cls_loss   dfl_loss  Instances       Size\n"
     ]
    },
    {
     "name": "stderr",
     "output_type": "stream",
     "text": [
      "      3/100      17.9G     0.9319     0.9468      2.088         27        640: 100%|██████████| 32/32 [00:07<00:00,  4.53it/s]\n",
      "                 Class     Images  Instances      Box(P          R      mAP50  mAP50-95): 100%|██████████| 4/4 [00:00<00:00,  9.50it/s]"
     ]
    },
    {
     "name": "stdout",
     "output_type": "stream",
     "text": [
      "                   all        101        135      0.931      0.848       0.92       0.87\n"
     ]
    },
    {
     "name": "stderr",
     "output_type": "stream",
     "text": [
      "\n"
     ]
    },
    {
     "name": "stdout",
     "output_type": "stream",
     "text": [
      "\n",
      "      Epoch    GPU_mem   box_loss   cls_loss   dfl_loss  Instances       Size\n"
     ]
    },
    {
     "name": "stderr",
     "output_type": "stream",
     "text": [
      "      4/100      17.9G      0.937     0.9023      2.087         26        640: 100%|██████████| 32/32 [00:07<00:00,  4.56it/s]\n",
      "                 Class     Images  Instances      Box(P          R      mAP50  mAP50-95): 100%|██████████| 4/4 [00:00<00:00,  9.47it/s]"
     ]
    },
    {
     "name": "stdout",
     "output_type": "stream",
     "text": [
      "                   all        101        135      0.946      0.827      0.936       0.89\n"
     ]
    },
    {
     "name": "stderr",
     "output_type": "stream",
     "text": [
      "\n"
     ]
    },
    {
     "name": "stdout",
     "output_type": "stream",
     "text": [
      "\n",
      "      Epoch    GPU_mem   box_loss   cls_loss   dfl_loss  Instances       Size\n"
     ]
    },
    {
     "name": "stderr",
     "output_type": "stream",
     "text": [
      "      5/100      17.9G     0.9094     0.8296       2.07         30        640: 100%|██████████| 32/32 [00:07<00:00,  4.55it/s]\n",
      "                 Class     Images  Instances      Box(P          R      mAP50  mAP50-95): 100%|██████████| 4/4 [00:00<00:00,  9.45it/s]"
     ]
    },
    {
     "name": "stdout",
     "output_type": "stream",
     "text": [
      "                   all        101        135      0.951      0.868      0.964        0.9\n"
     ]
    },
    {
     "name": "stderr",
     "output_type": "stream",
     "text": [
      "\n"
     ]
    },
    {
     "name": "stdout",
     "output_type": "stream",
     "text": [
      "\n",
      "      Epoch    GPU_mem   box_loss   cls_loss   dfl_loss  Instances       Size\n"
     ]
    },
    {
     "name": "stderr",
     "output_type": "stream",
     "text": [
      "      6/100      17.9G     0.8968      0.787      2.057         35        640: 100%|██████████| 32/32 [00:07<00:00,  4.55it/s]\n",
      "                 Class     Images  Instances      Box(P          R      mAP50  mAP50-95): 100%|██████████| 4/4 [00:00<00:00,  9.46it/s]"
     ]
    },
    {
     "name": "stdout",
     "output_type": "stream",
     "text": [
      "                   all        101        135      0.882      0.837      0.909      0.862\n"
     ]
    },
    {
     "name": "stderr",
     "output_type": "stream",
     "text": [
      "\n"
     ]
    },
    {
     "name": "stdout",
     "output_type": "stream",
     "text": [
      "\n",
      "      Epoch    GPU_mem   box_loss   cls_loss   dfl_loss  Instances       Size\n"
     ]
    },
    {
     "name": "stderr",
     "output_type": "stream",
     "text": [
      "      7/100      17.9G      0.861     0.7016      2.022         35        640: 100%|██████████| 32/32 [00:07<00:00,  4.54it/s]\n",
      "                 Class     Images  Instances      Box(P          R      mAP50  mAP50-95): 100%|██████████| 4/4 [00:00<00:00,  9.43it/s]"
     ]
    },
    {
     "name": "stdout",
     "output_type": "stream",
     "text": [
      "                   all        101        135      0.861      0.916      0.962      0.914\n"
     ]
    },
    {
     "name": "stderr",
     "output_type": "stream",
     "text": [
      "\n"
     ]
    },
    {
     "name": "stdout",
     "output_type": "stream",
     "text": [
      "\n",
      "      Epoch    GPU_mem   box_loss   cls_loss   dfl_loss  Instances       Size\n"
     ]
    },
    {
     "name": "stderr",
     "output_type": "stream",
     "text": [
      "      8/100      17.9G     0.8279      0.652      2.004         40        640: 100%|██████████| 32/32 [00:07<00:00,  4.55it/s]\n",
      "                 Class     Images  Instances      Box(P          R      mAP50  mAP50-95): 100%|██████████| 4/4 [00:00<00:00,  9.46it/s]"
     ]
    },
    {
     "name": "stdout",
     "output_type": "stream",
     "text": [
      "                   all        101        135      0.943      0.921      0.965      0.918\n"
     ]
    },
    {
     "name": "stderr",
     "output_type": "stream",
     "text": [
      "\n"
     ]
    },
    {
     "name": "stdout",
     "output_type": "stream",
     "text": [
      "\n",
      "      Epoch    GPU_mem   box_loss   cls_loss   dfl_loss  Instances       Size\n"
     ]
    },
    {
     "name": "stderr",
     "output_type": "stream",
     "text": [
      "      9/100      17.9G     0.8384     0.6834      2.011         27        640: 100%|██████████| 32/32 [00:07<00:00,  4.55it/s]\n",
      "                 Class     Images  Instances      Box(P          R      mAP50  mAP50-95): 100%|██████████| 4/4 [00:00<00:00,  9.45it/s]"
     ]
    },
    {
     "name": "stdout",
     "output_type": "stream",
     "text": [
      "                   all        101        135      0.936      0.917      0.962      0.922\n"
     ]
    },
    {
     "name": "stderr",
     "output_type": "stream",
     "text": [
      "\n"
     ]
    },
    {
     "name": "stdout",
     "output_type": "stream",
     "text": [
      "\n",
      "      Epoch    GPU_mem   box_loss   cls_loss   dfl_loss  Instances       Size\n"
     ]
    },
    {
     "name": "stderr",
     "output_type": "stream",
     "text": [
      "     10/100      17.9G      0.831     0.6247      2.027         23        640: 100%|██████████| 32/32 [00:07<00:00,  4.55it/s]\n",
      "                 Class     Images  Instances      Box(P          R      mAP50  mAP50-95): 100%|██████████| 4/4 [00:00<00:00,  9.49it/s]"
     ]
    },
    {
     "name": "stdout",
     "output_type": "stream",
     "text": [
      "                   all        101        135      0.874      0.932      0.951      0.889\n"
     ]
    },
    {
     "name": "stderr",
     "output_type": "stream",
     "text": [
      "\n"
     ]
    },
    {
     "name": "stdout",
     "output_type": "stream",
     "text": [
      "\n",
      "      Epoch    GPU_mem   box_loss   cls_loss   dfl_loss  Instances       Size\n"
     ]
    },
    {
     "name": "stderr",
     "output_type": "stream",
     "text": [
      "     11/100      17.9G     0.8557     0.6556      2.021         35        640: 100%|██████████| 32/32 [00:07<00:00,  4.55it/s]\n",
      "                 Class     Images  Instances      Box(P          R      mAP50  mAP50-95): 100%|██████████| 4/4 [00:00<00:00,  9.24it/s]"
     ]
    },
    {
     "name": "stdout",
     "output_type": "stream",
     "text": [
      "                   all        101        135      0.935      0.897      0.963      0.896\n"
     ]
    },
    {
     "name": "stderr",
     "output_type": "stream",
     "text": [
      "\n"
     ]
    },
    {
     "name": "stdout",
     "output_type": "stream",
     "text": [
      "\n",
      "      Epoch    GPU_mem   box_loss   cls_loss   dfl_loss  Instances       Size\n"
     ]
    },
    {
     "name": "stderr",
     "output_type": "stream",
     "text": [
      "     12/100      17.9G     0.7725     0.6192      1.994         34        640: 100%|██████████| 32/32 [00:07<00:00,  4.55it/s]\n",
      "                 Class     Images  Instances      Box(P          R      mAP50  mAP50-95): 100%|██████████| 4/4 [00:00<00:00,  9.42it/s]"
     ]
    },
    {
     "name": "stdout",
     "output_type": "stream",
     "text": [
      "                   all        101        135      0.961      0.894      0.952       0.88\n"
     ]
    },
    {
     "name": "stderr",
     "output_type": "stream",
     "text": [
      "\n"
     ]
    },
    {
     "name": "stdout",
     "output_type": "stream",
     "text": [
      "\n",
      "      Epoch    GPU_mem   box_loss   cls_loss   dfl_loss  Instances       Size\n"
     ]
    },
    {
     "name": "stderr",
     "output_type": "stream",
     "text": [
      "     13/100      17.9G     0.7953     0.6489          2         38        640: 100%|██████████| 32/32 [00:07<00:00,  4.55it/s]\n",
      "                 Class     Images  Instances      Box(P          R      mAP50  mAP50-95): 100%|██████████| 4/4 [00:00<00:00,  9.46it/s]"
     ]
    },
    {
     "name": "stdout",
     "output_type": "stream",
     "text": [
      "                   all        101        135      0.947      0.892      0.956      0.895\n"
     ]
    },
    {
     "name": "stderr",
     "output_type": "stream",
     "text": [
      "\n"
     ]
    },
    {
     "name": "stdout",
     "output_type": "stream",
     "text": [
      "\n",
      "      Epoch    GPU_mem   box_loss   cls_loss   dfl_loss  Instances       Size\n"
     ]
    },
    {
     "name": "stderr",
     "output_type": "stream",
     "text": [
      "     14/100      17.9G     0.8293     0.6323      2.038         27        640: 100%|██████████| 32/32 [00:07<00:00,  4.55it/s]\n",
      "                 Class     Images  Instances      Box(P          R      mAP50  mAP50-95): 100%|██████████| 4/4 [00:00<00:00,  9.49it/s]"
     ]
    },
    {
     "name": "stdout",
     "output_type": "stream",
     "text": [
      "                   all        101        135      0.956      0.903      0.964      0.905\n"
     ]
    },
    {
     "name": "stderr",
     "output_type": "stream",
     "text": [
      "\n"
     ]
    },
    {
     "name": "stdout",
     "output_type": "stream",
     "text": [
      "\n",
      "      Epoch    GPU_mem   box_loss   cls_loss   dfl_loss  Instances       Size\n"
     ]
    },
    {
     "name": "stderr",
     "output_type": "stream",
     "text": [
      "     15/100      17.9G     0.7811     0.5874       1.99         41        640: 100%|██████████| 32/32 [00:07<00:00,  4.55it/s]\n",
      "                 Class     Images  Instances      Box(P          R      mAP50  mAP50-95): 100%|██████████| 4/4 [00:00<00:00,  9.43it/s]"
     ]
    },
    {
     "name": "stdout",
     "output_type": "stream",
     "text": [
      "                   all        101        135       0.96      0.849      0.942      0.889\n"
     ]
    },
    {
     "name": "stderr",
     "output_type": "stream",
     "text": [
      "\n"
     ]
    },
    {
     "name": "stdout",
     "output_type": "stream",
     "text": [
      "\n",
      "      Epoch    GPU_mem   box_loss   cls_loss   dfl_loss  Instances       Size\n"
     ]
    },
    {
     "name": "stderr",
     "output_type": "stream",
     "text": [
      "     16/100      17.9G     0.7839     0.6415      1.987         29        640: 100%|██████████| 32/32 [00:07<00:00,  4.55it/s]\n",
      "                 Class     Images  Instances      Box(P          R      mAP50  mAP50-95): 100%|██████████| 4/4 [00:00<00:00,  9.50it/s]"
     ]
    },
    {
     "name": "stdout",
     "output_type": "stream",
     "text": [
      "                   all        101        135      0.924      0.877      0.938      0.885\n"
     ]
    },
    {
     "name": "stderr",
     "output_type": "stream",
     "text": [
      "\n"
     ]
    },
    {
     "name": "stdout",
     "output_type": "stream",
     "text": [
      "\n",
      "      Epoch    GPU_mem   box_loss   cls_loss   dfl_loss  Instances       Size\n"
     ]
    },
    {
     "name": "stderr",
     "output_type": "stream",
     "text": [
      "     17/100      17.9G     0.7623     0.5957       1.99         31        640: 100%|██████████| 32/32 [00:07<00:00,  4.55it/s]\n",
      "                 Class     Images  Instances      Box(P          R      mAP50  mAP50-95): 100%|██████████| 4/4 [00:00<00:00,  9.45it/s]"
     ]
    },
    {
     "name": "stdout",
     "output_type": "stream",
     "text": [
      "                   all        101        135      0.924      0.864      0.943      0.891\n"
     ]
    },
    {
     "name": "stderr",
     "output_type": "stream",
     "text": [
      "\n"
     ]
    },
    {
     "name": "stdout",
     "output_type": "stream",
     "text": [
      "\n",
      "      Epoch    GPU_mem   box_loss   cls_loss   dfl_loss  Instances       Size\n"
     ]
    },
    {
     "name": "stderr",
     "output_type": "stream",
     "text": [
      "     18/100      17.9G     0.7793     0.5892      1.984         41        640: 100%|██████████| 32/32 [00:07<00:00,  4.55it/s]\n",
      "                 Class     Images  Instances      Box(P          R      mAP50  mAP50-95): 100%|██████████| 4/4 [00:00<00:00,  9.49it/s]"
     ]
    },
    {
     "name": "stdout",
     "output_type": "stream",
     "text": [
      "                   all        101        135       0.91      0.893       0.93      0.875\n"
     ]
    },
    {
     "name": "stderr",
     "output_type": "stream",
     "text": [
      "\n"
     ]
    },
    {
     "name": "stdout",
     "output_type": "stream",
     "text": [
      "\n",
      "      Epoch    GPU_mem   box_loss   cls_loss   dfl_loss  Instances       Size\n"
     ]
    },
    {
     "name": "stderr",
     "output_type": "stream",
     "text": [
      "     19/100      17.9G     0.7678     0.5534      1.978         42        640: 100%|██████████| 32/32 [00:07<00:00,  4.55it/s]\n",
      "                 Class     Images  Instances      Box(P          R      mAP50  mAP50-95): 100%|██████████| 4/4 [00:00<00:00,  9.49it/s]"
     ]
    },
    {
     "name": "stdout",
     "output_type": "stream",
     "text": [
      "                   all        101        135      0.968      0.861      0.953      0.882\n"
     ]
    },
    {
     "name": "stderr",
     "output_type": "stream",
     "text": [
      "\n"
     ]
    },
    {
     "name": "stdout",
     "output_type": "stream",
     "text": [
      "\n",
      "      Epoch    GPU_mem   box_loss   cls_loss   dfl_loss  Instances       Size\n"
     ]
    },
    {
     "name": "stderr",
     "output_type": "stream",
     "text": [
      "     20/100      17.9G     0.7437     0.5275      1.951         33        640: 100%|██████████| 32/32 [00:07<00:00,  4.55it/s]\n",
      "                 Class     Images  Instances      Box(P          R      mAP50  mAP50-95): 100%|██████████| 4/4 [00:00<00:00,  9.48it/s]"
     ]
    },
    {
     "name": "stdout",
     "output_type": "stream",
     "text": [
      "                   all        101        135      0.953      0.867      0.956      0.898\n"
     ]
    },
    {
     "name": "stderr",
     "output_type": "stream",
     "text": [
      "\n"
     ]
    },
    {
     "name": "stdout",
     "output_type": "stream",
     "text": [
      "\n",
      "      Epoch    GPU_mem   box_loss   cls_loss   dfl_loss  Instances       Size\n"
     ]
    },
    {
     "name": "stderr",
     "output_type": "stream",
     "text": [
      "     21/100      17.9G     0.7801     0.5502      1.958         33        640: 100%|██████████| 32/32 [00:07<00:00,  4.54it/s]\n",
      "                 Class     Images  Instances      Box(P          R      mAP50  mAP50-95): 100%|██████████| 4/4 [00:00<00:00,  9.52it/s]"
     ]
    },
    {
     "name": "stdout",
     "output_type": "stream",
     "text": [
      "                   all        101        135      0.956      0.838      0.926      0.882\n"
     ]
    },
    {
     "name": "stderr",
     "output_type": "stream",
     "text": [
      "\n"
     ]
    },
    {
     "name": "stdout",
     "output_type": "stream",
     "text": [
      "\n",
      "      Epoch    GPU_mem   box_loss   cls_loss   dfl_loss  Instances       Size\n"
     ]
    },
    {
     "name": "stderr",
     "output_type": "stream",
     "text": [
      "     22/100      17.9G     0.7514     0.5284      1.953         36        640: 100%|██████████| 32/32 [00:07<00:00,  4.54it/s]\n",
      "                 Class     Images  Instances      Box(P          R      mAP50  mAP50-95): 100%|██████████| 4/4 [00:00<00:00,  9.48it/s]"
     ]
    },
    {
     "name": "stdout",
     "output_type": "stream",
     "text": [
      "                   all        101        135      0.933      0.907      0.957      0.903\n"
     ]
    },
    {
     "name": "stderr",
     "output_type": "stream",
     "text": [
      "\n"
     ]
    },
    {
     "name": "stdout",
     "output_type": "stream",
     "text": [
      "\n",
      "      Epoch    GPU_mem   box_loss   cls_loss   dfl_loss  Instances       Size\n"
     ]
    },
    {
     "name": "stderr",
     "output_type": "stream",
     "text": [
      "     23/100      17.9G     0.7516     0.5525      1.947         20        640: 100%|██████████| 32/32 [00:07<00:00,  4.54it/s]\n",
      "                 Class     Images  Instances      Box(P          R      mAP50  mAP50-95): 100%|██████████| 4/4 [00:00<00:00,  9.48it/s]"
     ]
    },
    {
     "name": "stdout",
     "output_type": "stream",
     "text": [
      "                   all        101        135      0.947      0.924      0.965      0.923\n"
     ]
    },
    {
     "name": "stderr",
     "output_type": "stream",
     "text": [
      "\n"
     ]
    },
    {
     "name": "stdout",
     "output_type": "stream",
     "text": [
      "\n",
      "      Epoch    GPU_mem   box_loss   cls_loss   dfl_loss  Instances       Size\n"
     ]
    },
    {
     "name": "stderr",
     "output_type": "stream",
     "text": [
      "     24/100      17.9G     0.7403     0.5328      1.972         25        640: 100%|██████████| 32/32 [00:07<00:00,  4.55it/s]\n",
      "                 Class     Images  Instances      Box(P          R      mAP50  mAP50-95): 100%|██████████| 4/4 [00:00<00:00,  9.44it/s]"
     ]
    },
    {
     "name": "stdout",
     "output_type": "stream",
     "text": [
      "                   all        101        135      0.899      0.932      0.965      0.903\n"
     ]
    },
    {
     "name": "stderr",
     "output_type": "stream",
     "text": [
      "\n"
     ]
    },
    {
     "name": "stdout",
     "output_type": "stream",
     "text": [
      "\n",
      "      Epoch    GPU_mem   box_loss   cls_loss   dfl_loss  Instances       Size\n"
     ]
    },
    {
     "name": "stderr",
     "output_type": "stream",
     "text": [
      "     25/100      17.9G     0.7217     0.5276      1.926         32        640: 100%|██████████| 32/32 [00:07<00:00,  4.55it/s]\n",
      "                 Class     Images  Instances      Box(P          R      mAP50  mAP50-95): 100%|██████████| 4/4 [00:00<00:00,  9.19it/s]"
     ]
    },
    {
     "name": "stdout",
     "output_type": "stream",
     "text": [
      "                   all        101        135      0.907      0.955      0.975      0.912\n"
     ]
    },
    {
     "name": "stderr",
     "output_type": "stream",
     "text": [
      "\n"
     ]
    },
    {
     "name": "stdout",
     "output_type": "stream",
     "text": [
      "\n",
      "      Epoch    GPU_mem   box_loss   cls_loss   dfl_loss  Instances       Size\n"
     ]
    },
    {
     "name": "stderr",
     "output_type": "stream",
     "text": [
      "     26/100      17.9G     0.7845     0.5332      1.951         32        640: 100%|██████████| 32/32 [00:07<00:00,  4.54it/s]\n",
      "                 Class     Images  Instances      Box(P          R      mAP50  mAP50-95): 100%|██████████| 4/4 [00:00<00:00,  9.47it/s]"
     ]
    },
    {
     "name": "stdout",
     "output_type": "stream",
     "text": [
      "                   all        101        135       0.93      0.944      0.971      0.913\n"
     ]
    },
    {
     "name": "stderr",
     "output_type": "stream",
     "text": [
      "\n"
     ]
    },
    {
     "name": "stdout",
     "output_type": "stream",
     "text": [
      "\n",
      "      Epoch    GPU_mem   box_loss   cls_loss   dfl_loss  Instances       Size\n"
     ]
    },
    {
     "name": "stderr",
     "output_type": "stream",
     "text": [
      "     27/100      17.9G     0.7345     0.5255      1.933         34        640: 100%|██████████| 32/32 [00:07<00:00,  4.54it/s]\n",
      "                 Class     Images  Instances      Box(P          R      mAP50  mAP50-95): 100%|██████████| 4/4 [00:00<00:00,  9.49it/s]"
     ]
    },
    {
     "name": "stdout",
     "output_type": "stream",
     "text": [
      "                   all        101        135      0.933      0.901      0.953      0.899\n"
     ]
    },
    {
     "name": "stderr",
     "output_type": "stream",
     "text": [
      "\n"
     ]
    },
    {
     "name": "stdout",
     "output_type": "stream",
     "text": [
      "\n",
      "      Epoch    GPU_mem   box_loss   cls_loss   dfl_loss  Instances       Size\n"
     ]
    },
    {
     "name": "stderr",
     "output_type": "stream",
     "text": [
      "     28/100      17.9G     0.7179     0.4924      1.922         38        640: 100%|██████████| 32/32 [00:07<00:00,  4.55it/s]\n",
      "                 Class     Images  Instances      Box(P          R      mAP50  mAP50-95): 100%|██████████| 4/4 [00:00<00:00,  9.43it/s]"
     ]
    },
    {
     "name": "stdout",
     "output_type": "stream",
     "text": [
      "                   all        101        135      0.901      0.932      0.961      0.906\n"
     ]
    },
    {
     "name": "stderr",
     "output_type": "stream",
     "text": [
      "\n"
     ]
    },
    {
     "name": "stdout",
     "output_type": "stream",
     "text": [
      "\n",
      "      Epoch    GPU_mem   box_loss   cls_loss   dfl_loss  Instances       Size\n"
     ]
    },
    {
     "name": "stderr",
     "output_type": "stream",
     "text": [
      "     29/100      17.9G     0.6702     0.4617      1.879         31        640: 100%|██████████| 32/32 [00:07<00:00,  4.54it/s]\n",
      "                 Class     Images  Instances      Box(P          R      mAP50  mAP50-95): 100%|██████████| 4/4 [00:00<00:00,  9.49it/s]"
     ]
    },
    {
     "name": "stdout",
     "output_type": "stream",
     "text": [
      "                   all        101        135      0.946      0.923      0.966      0.921\n"
     ]
    },
    {
     "name": "stderr",
     "output_type": "stream",
     "text": [
      "\n"
     ]
    },
    {
     "name": "stdout",
     "output_type": "stream",
     "text": [
      "\n",
      "      Epoch    GPU_mem   box_loss   cls_loss   dfl_loss  Instances       Size\n"
     ]
    },
    {
     "name": "stderr",
     "output_type": "stream",
     "text": [
      "     30/100      17.9G     0.6781     0.4451      1.907         26        640: 100%|██████████| 32/32 [00:07<00:00,  4.55it/s]\n",
      "                 Class     Images  Instances      Box(P          R      mAP50  mAP50-95): 100%|██████████| 4/4 [00:00<00:00,  9.49it/s]"
     ]
    },
    {
     "name": "stdout",
     "output_type": "stream",
     "text": [
      "                   all        101        135      0.986      0.926      0.966      0.921\n"
     ]
    },
    {
     "name": "stderr",
     "output_type": "stream",
     "text": [
      "\n"
     ]
    },
    {
     "name": "stdout",
     "output_type": "stream",
     "text": [
      "\n",
      "      Epoch    GPU_mem   box_loss   cls_loss   dfl_loss  Instances       Size\n"
     ]
    },
    {
     "name": "stderr",
     "output_type": "stream",
     "text": [
      "     31/100      17.9G     0.7246     0.5056      1.944         31        640: 100%|██████████| 32/32 [00:07<00:00,  4.54it/s]\n",
      "                 Class     Images  Instances      Box(P          R      mAP50  mAP50-95): 100%|██████████| 4/4 [00:00<00:00,  9.48it/s]"
     ]
    },
    {
     "name": "stdout",
     "output_type": "stream",
     "text": [
      "                   all        101        135       0.96       0.89      0.958      0.912\n"
     ]
    },
    {
     "name": "stderr",
     "output_type": "stream",
     "text": [
      "\n"
     ]
    },
    {
     "name": "stdout",
     "output_type": "stream",
     "text": [
      "\n",
      "      Epoch    GPU_mem   box_loss   cls_loss   dfl_loss  Instances       Size\n"
     ]
    },
    {
     "name": "stderr",
     "output_type": "stream",
     "text": [
      "     32/100      17.9G     0.6894     0.4621      1.918         30        640: 100%|██████████| 32/32 [00:07<00:00,  4.55it/s]\n",
      "                 Class     Images  Instances      Box(P          R      mAP50  mAP50-95): 100%|██████████| 4/4 [00:00<00:00,  9.48it/s]"
     ]
    },
    {
     "name": "stdout",
     "output_type": "stream",
     "text": [
      "                   all        101        135      0.927      0.876      0.942      0.907\n"
     ]
    },
    {
     "name": "stderr",
     "output_type": "stream",
     "text": [
      "\n"
     ]
    },
    {
     "name": "stdout",
     "output_type": "stream",
     "text": [
      "\n",
      "      Epoch    GPU_mem   box_loss   cls_loss   dfl_loss  Instances       Size\n"
     ]
    },
    {
     "name": "stderr",
     "output_type": "stream",
     "text": [
      "     33/100      17.9G     0.6523     0.4607      1.879         27        640: 100%|██████████| 32/32 [00:07<00:00,  4.54it/s]\n",
      "                 Class     Images  Instances      Box(P          R      mAP50  mAP50-95): 100%|██████████| 4/4 [00:00<00:00,  9.46it/s]"
     ]
    },
    {
     "name": "stdout",
     "output_type": "stream",
     "text": [
      "                   all        101        135      0.907      0.812      0.915      0.879\n"
     ]
    },
    {
     "name": "stderr",
     "output_type": "stream",
     "text": [
      "\n"
     ]
    },
    {
     "name": "stdout",
     "output_type": "stream",
     "text": [
      "\n",
      "      Epoch    GPU_mem   box_loss   cls_loss   dfl_loss  Instances       Size\n"
     ]
    },
    {
     "name": "stderr",
     "output_type": "stream",
     "text": [
      "     34/100      17.9G     0.7378     0.5225      1.946         30        640: 100%|██████████| 32/32 [00:07<00:00,  4.54it/s]\n",
      "                 Class     Images  Instances      Box(P          R      mAP50  mAP50-95): 100%|██████████| 4/4 [00:00<00:00,  9.47it/s]"
     ]
    },
    {
     "name": "stdout",
     "output_type": "stream",
     "text": [
      "                   all        101        135      0.949       0.92      0.964      0.916\n"
     ]
    },
    {
     "name": "stderr",
     "output_type": "stream",
     "text": [
      "\n"
     ]
    },
    {
     "name": "stdout",
     "output_type": "stream",
     "text": [
      "\n",
      "      Epoch    GPU_mem   box_loss   cls_loss   dfl_loss  Instances       Size\n"
     ]
    },
    {
     "name": "stderr",
     "output_type": "stream",
     "text": [
      "     35/100      17.9G     0.6541     0.4634      1.909         33        640: 100%|██████████| 32/32 [00:07<00:00,  4.54it/s]\n",
      "                 Class     Images  Instances      Box(P          R      mAP50  mAP50-95): 100%|██████████| 4/4 [00:00<00:00,  9.47it/s]"
     ]
    },
    {
     "name": "stdout",
     "output_type": "stream",
     "text": [
      "                   all        101        135      0.936       0.88      0.958      0.909\n"
     ]
    },
    {
     "name": "stderr",
     "output_type": "stream",
     "text": [
      "\n"
     ]
    },
    {
     "name": "stdout",
     "output_type": "stream",
     "text": [
      "\n",
      "      Epoch    GPU_mem   box_loss   cls_loss   dfl_loss  Instances       Size\n"
     ]
    },
    {
     "name": "stderr",
     "output_type": "stream",
     "text": [
      "     36/100      17.9G     0.6756     0.4594      1.877         36        640: 100%|██████████| 32/32 [00:07<00:00,  4.54it/s]\n",
      "                 Class     Images  Instances      Box(P          R      mAP50  mAP50-95): 100%|██████████| 4/4 [00:00<00:00,  9.38it/s]"
     ]
    },
    {
     "name": "stdout",
     "output_type": "stream",
     "text": [
      "                   all        101        135      0.926      0.912       0.95       0.91\n"
     ]
    },
    {
     "name": "stderr",
     "output_type": "stream",
     "text": [
      "\n"
     ]
    },
    {
     "name": "stdout",
     "output_type": "stream",
     "text": [
      "\n",
      "      Epoch    GPU_mem   box_loss   cls_loss   dfl_loss  Instances       Size\n"
     ]
    },
    {
     "name": "stderr",
     "output_type": "stream",
     "text": [
      "     37/100      17.9G     0.6453     0.4542       1.89         30        640: 100%|██████████| 32/32 [00:07<00:00,  4.54it/s]\n",
      "                 Class     Images  Instances      Box(P          R      mAP50  mAP50-95): 100%|██████████| 4/4 [00:00<00:00,  9.47it/s]"
     ]
    },
    {
     "name": "stdout",
     "output_type": "stream",
     "text": [
      "                   all        101        135      0.959      0.917      0.956      0.915\n"
     ]
    },
    {
     "name": "stderr",
     "output_type": "stream",
     "text": [
      "\n"
     ]
    },
    {
     "name": "stdout",
     "output_type": "stream",
     "text": [
      "\n",
      "      Epoch    GPU_mem   box_loss   cls_loss   dfl_loss  Instances       Size\n"
     ]
    },
    {
     "name": "stderr",
     "output_type": "stream",
     "text": [
      "     38/100      17.9G     0.6592     0.4572      1.894         32        640: 100%|██████████| 32/32 [00:07<00:00,  4.54it/s]\n",
      "                 Class     Images  Instances      Box(P          R      mAP50  mAP50-95): 100%|██████████| 4/4 [00:00<00:00,  9.51it/s]"
     ]
    },
    {
     "name": "stdout",
     "output_type": "stream",
     "text": [
      "                   all        101        135       0.96      0.902      0.959      0.928\n"
     ]
    },
    {
     "name": "stderr",
     "output_type": "stream",
     "text": [
      "\n"
     ]
    },
    {
     "name": "stdout",
     "output_type": "stream",
     "text": [
      "\n",
      "      Epoch    GPU_mem   box_loss   cls_loss   dfl_loss  Instances       Size\n"
     ]
    },
    {
     "name": "stderr",
     "output_type": "stream",
     "text": [
      "     39/100      17.9G     0.6603     0.4174      1.894         28        640: 100%|██████████| 32/32 [00:07<00:00,  4.55it/s]\n",
      "                 Class     Images  Instances      Box(P          R      mAP50  mAP50-95): 100%|██████████| 4/4 [00:00<00:00,  9.48it/s]"
     ]
    },
    {
     "name": "stdout",
     "output_type": "stream",
     "text": [
      "                   all        101        135      0.955      0.893      0.963      0.924\n"
     ]
    },
    {
     "name": "stderr",
     "output_type": "stream",
     "text": [
      "\n"
     ]
    },
    {
     "name": "stdout",
     "output_type": "stream",
     "text": [
      "\n",
      "      Epoch    GPU_mem   box_loss   cls_loss   dfl_loss  Instances       Size\n"
     ]
    },
    {
     "name": "stderr",
     "output_type": "stream",
     "text": [
      "     40/100      17.9G     0.6318     0.4261      1.904         23        640: 100%|██████████| 32/32 [00:07<00:00,  4.55it/s]\n",
      "                 Class     Images  Instances      Box(P          R      mAP50  mAP50-95): 100%|██████████| 4/4 [00:00<00:00,  9.44it/s]"
     ]
    },
    {
     "name": "stdout",
     "output_type": "stream",
     "text": [
      "                   all        101        135      0.923      0.914       0.96      0.912\n"
     ]
    },
    {
     "name": "stderr",
     "output_type": "stream",
     "text": [
      "\n"
     ]
    },
    {
     "name": "stdout",
     "output_type": "stream",
     "text": [
      "\n",
      "      Epoch    GPU_mem   box_loss   cls_loss   dfl_loss  Instances       Size\n"
     ]
    },
    {
     "name": "stderr",
     "output_type": "stream",
     "text": [
      "     41/100      17.9G     0.6786     0.4685      1.912         38        640: 100%|██████████| 32/32 [00:07<00:00,  4.55it/s]\n",
      "                 Class     Images  Instances      Box(P          R      mAP50  mAP50-95): 100%|██████████| 4/4 [00:00<00:00,  9.48it/s]"
     ]
    },
    {
     "name": "stdout",
     "output_type": "stream",
     "text": [
      "                   all        101        135      0.912      0.941      0.962      0.919\n"
     ]
    },
    {
     "name": "stderr",
     "output_type": "stream",
     "text": [
      "\n"
     ]
    },
    {
     "name": "stdout",
     "output_type": "stream",
     "text": [
      "\n",
      "      Epoch    GPU_mem   box_loss   cls_loss   dfl_loss  Instances       Size\n"
     ]
    },
    {
     "name": "stderr",
     "output_type": "stream",
     "text": [
      "     42/100      17.9G     0.6609     0.4696      1.915         25        640: 100%|██████████| 32/32 [00:07<00:00,  4.54it/s]\n",
      "                 Class     Images  Instances      Box(P          R      mAP50  mAP50-95): 100%|██████████| 4/4 [00:00<00:00,  9.50it/s]"
     ]
    },
    {
     "name": "stdout",
     "output_type": "stream",
     "text": [
      "                   all        101        135      0.941      0.885      0.947       0.91\n"
     ]
    },
    {
     "name": "stderr",
     "output_type": "stream",
     "text": [
      "\n"
     ]
    },
    {
     "name": "stdout",
     "output_type": "stream",
     "text": [
      "\n",
      "      Epoch    GPU_mem   box_loss   cls_loss   dfl_loss  Instances       Size\n"
     ]
    },
    {
     "name": "stderr",
     "output_type": "stream",
     "text": [
      "     43/100      17.9G     0.6764     0.4727        1.9         24        640: 100%|██████████| 32/32 [00:07<00:00,  4.55it/s]\n",
      "                 Class     Images  Instances      Box(P          R      mAP50  mAP50-95): 100%|██████████| 4/4 [00:00<00:00,  9.25it/s]"
     ]
    },
    {
     "name": "stdout",
     "output_type": "stream",
     "text": [
      "                   all        101        135      0.957      0.864      0.929      0.889\n"
     ]
    },
    {
     "name": "stderr",
     "output_type": "stream",
     "text": [
      "\n"
     ]
    },
    {
     "name": "stdout",
     "output_type": "stream",
     "text": [
      "\n",
      "      Epoch    GPU_mem   box_loss   cls_loss   dfl_loss  Instances       Size\n"
     ]
    },
    {
     "name": "stderr",
     "output_type": "stream",
     "text": [
      "     44/100      17.9G     0.6669     0.4578      1.899         38        640: 100%|██████████| 32/32 [00:07<00:00,  4.54it/s]\n",
      "                 Class     Images  Instances      Box(P          R      mAP50  mAP50-95): 100%|██████████| 4/4 [00:00<00:00,  9.47it/s]"
     ]
    },
    {
     "name": "stdout",
     "output_type": "stream",
     "text": [
      "                   all        101        135      0.984       0.83      0.933      0.884\n"
     ]
    },
    {
     "name": "stderr",
     "output_type": "stream",
     "text": [
      "\n"
     ]
    },
    {
     "name": "stdout",
     "output_type": "stream",
     "text": [
      "\n",
      "      Epoch    GPU_mem   box_loss   cls_loss   dfl_loss  Instances       Size\n"
     ]
    },
    {
     "name": "stderr",
     "output_type": "stream",
     "text": [
      "     45/100      17.9G     0.6387     0.4535      1.881         19        640: 100%|██████████| 32/32 [00:07<00:00,  4.55it/s]\n",
      "                 Class     Images  Instances      Box(P          R      mAP50  mAP50-95): 100%|██████████| 4/4 [00:00<00:00,  9.50it/s]"
     ]
    },
    {
     "name": "stdout",
     "output_type": "stream",
     "text": [
      "                   all        101        135       0.99      0.855      0.949      0.891\n"
     ]
    },
    {
     "name": "stderr",
     "output_type": "stream",
     "text": [
      "\n"
     ]
    },
    {
     "name": "stdout",
     "output_type": "stream",
     "text": [
      "\n",
      "      Epoch    GPU_mem   box_loss   cls_loss   dfl_loss  Instances       Size\n"
     ]
    },
    {
     "name": "stderr",
     "output_type": "stream",
     "text": [
      "     46/100      17.9G     0.6694     0.4646      1.917         34        640: 100%|██████████| 32/32 [00:07<00:00,  4.55it/s]\n",
      "                 Class     Images  Instances      Box(P          R      mAP50  mAP50-95): 100%|██████████| 4/4 [00:00<00:00,  9.45it/s]"
     ]
    },
    {
     "name": "stdout",
     "output_type": "stream",
     "text": [
      "                   all        101        135      0.975      0.886      0.951        0.9\n"
     ]
    },
    {
     "name": "stderr",
     "output_type": "stream",
     "text": [
      "\n"
     ]
    },
    {
     "name": "stdout",
     "output_type": "stream",
     "text": [
      "\n",
      "      Epoch    GPU_mem   box_loss   cls_loss   dfl_loss  Instances       Size\n"
     ]
    },
    {
     "name": "stderr",
     "output_type": "stream",
     "text": [
      "     47/100      17.9G     0.6388     0.3963      1.889         29        640: 100%|██████████| 32/32 [00:07<00:00,  4.54it/s]\n",
      "                 Class     Images  Instances      Box(P          R      mAP50  mAP50-95): 100%|██████████| 4/4 [00:00<00:00,  9.49it/s]"
     ]
    },
    {
     "name": "stdout",
     "output_type": "stream",
     "text": [
      "                   all        101        135      0.967      0.886      0.943      0.896\n"
     ]
    },
    {
     "name": "stderr",
     "output_type": "stream",
     "text": [
      "\n"
     ]
    },
    {
     "name": "stdout",
     "output_type": "stream",
     "text": [
      "\n",
      "      Epoch    GPU_mem   box_loss   cls_loss   dfl_loss  Instances       Size\n"
     ]
    },
    {
     "name": "stderr",
     "output_type": "stream",
     "text": [
      "     48/100      17.9G     0.6105      0.399       1.87         36        640: 100%|██████████| 32/32 [00:07<00:00,  4.54it/s]\n",
      "                 Class     Images  Instances      Box(P          R      mAP50  mAP50-95): 100%|██████████| 4/4 [00:00<00:00,  9.22it/s]"
     ]
    },
    {
     "name": "stdout",
     "output_type": "stream",
     "text": [
      "                   all        101        135      0.952      0.883       0.94      0.889\n"
     ]
    },
    {
     "name": "stderr",
     "output_type": "stream",
     "text": [
      "\n"
     ]
    },
    {
     "name": "stdout",
     "output_type": "stream",
     "text": [
      "\n",
      "      Epoch    GPU_mem   box_loss   cls_loss   dfl_loss  Instances       Size\n"
     ]
    },
    {
     "name": "stderr",
     "output_type": "stream",
     "text": [
      "     49/100      17.9G     0.6394     0.4158      1.879         21        640: 100%|██████████| 32/32 [00:07<00:00,  4.54it/s]\n",
      "                 Class     Images  Instances      Box(P          R      mAP50  mAP50-95): 100%|██████████| 4/4 [00:00<00:00,  9.50it/s]"
     ]
    },
    {
     "name": "stdout",
     "output_type": "stream",
     "text": [
      "                   all        101        135      0.909      0.934      0.957      0.906\n"
     ]
    },
    {
     "name": "stderr",
     "output_type": "stream",
     "text": [
      "\n"
     ]
    },
    {
     "name": "stdout",
     "output_type": "stream",
     "text": [
      "\n",
      "      Epoch    GPU_mem   box_loss   cls_loss   dfl_loss  Instances       Size\n"
     ]
    },
    {
     "name": "stderr",
     "output_type": "stream",
     "text": [
      "     50/100      17.9G     0.6708     0.4201      1.911         28        640: 100%|██████████| 32/32 [00:07<00:00,  4.55it/s]\n",
      "                 Class     Images  Instances      Box(P          R      mAP50  mAP50-95): 100%|██████████| 4/4 [00:00<00:00,  9.27it/s]"
     ]
    },
    {
     "name": "stdout",
     "output_type": "stream",
     "text": [
      "                   all        101        135      0.893      0.914       0.94      0.893\n"
     ]
    },
    {
     "name": "stderr",
     "output_type": "stream",
     "text": [
      "\n"
     ]
    },
    {
     "name": "stdout",
     "output_type": "stream",
     "text": [
      "\n",
      "      Epoch    GPU_mem   box_loss   cls_loss   dfl_loss  Instances       Size\n"
     ]
    },
    {
     "name": "stderr",
     "output_type": "stream",
     "text": [
      "     51/100      17.9G     0.5885     0.3622      1.834         28        640: 100%|██████████| 32/32 [00:07<00:00,  4.55it/s]\n",
      "                 Class     Images  Instances      Box(P          R      mAP50  mAP50-95): 100%|██████████| 4/4 [00:00<00:00,  9.49it/s]"
     ]
    },
    {
     "name": "stdout",
     "output_type": "stream",
     "text": [
      "                   all        101        135      0.958      0.863      0.926      0.884\n"
     ]
    },
    {
     "name": "stderr",
     "output_type": "stream",
     "text": [
      "\n"
     ]
    },
    {
     "name": "stdout",
     "output_type": "stream",
     "text": [
      "\n",
      "      Epoch    GPU_mem   box_loss   cls_loss   dfl_loss  Instances       Size\n"
     ]
    },
    {
     "name": "stderr",
     "output_type": "stream",
     "text": [
      "     52/100      17.9G     0.6188     0.4037      1.891         35        640: 100%|██████████| 32/32 [00:07<00:00,  4.54it/s]\n",
      "                 Class     Images  Instances      Box(P          R      mAP50  mAP50-95): 100%|██████████| 4/4 [00:00<00:00,  9.46it/s]"
     ]
    },
    {
     "name": "stdout",
     "output_type": "stream",
     "text": [
      "                   all        101        135      0.968      0.879      0.945      0.898\n"
     ]
    },
    {
     "name": "stderr",
     "output_type": "stream",
     "text": [
      "\n"
     ]
    },
    {
     "name": "stdout",
     "output_type": "stream",
     "text": [
      "\n",
      "      Epoch    GPU_mem   box_loss   cls_loss   dfl_loss  Instances       Size\n"
     ]
    },
    {
     "name": "stderr",
     "output_type": "stream",
     "text": [
      "     53/100      17.9G     0.6491     0.3994      1.911         27        640: 100%|██████████| 32/32 [00:07<00:00,  4.54it/s]\n",
      "                 Class     Images  Instances      Box(P          R      mAP50  mAP50-95): 100%|██████████| 4/4 [00:00<00:00,  9.46it/s]"
     ]
    },
    {
     "name": "stdout",
     "output_type": "stream",
     "text": [
      "                   all        101        135      0.899      0.958      0.965      0.916\n"
     ]
    },
    {
     "name": "stderr",
     "output_type": "stream",
     "text": [
      "\n"
     ]
    },
    {
     "name": "stdout",
     "output_type": "stream",
     "text": [
      "\n",
      "      Epoch    GPU_mem   box_loss   cls_loss   dfl_loss  Instances       Size\n"
     ]
    },
    {
     "name": "stderr",
     "output_type": "stream",
     "text": [
      "     54/100      17.9G     0.6292     0.3959      1.875         29        640: 100%|██████████| 32/32 [00:07<00:00,  4.54it/s]\n",
      "                 Class     Images  Instances      Box(P          R      mAP50  mAP50-95): 100%|██████████| 4/4 [00:00<00:00,  9.47it/s]"
     ]
    },
    {
     "name": "stdout",
     "output_type": "stream",
     "text": [
      "                   all        101        135      0.988      0.899      0.961      0.908\n"
     ]
    },
    {
     "name": "stderr",
     "output_type": "stream",
     "text": [
      "\n"
     ]
    },
    {
     "name": "stdout",
     "output_type": "stream",
     "text": [
      "\n",
      "      Epoch    GPU_mem   box_loss   cls_loss   dfl_loss  Instances       Size\n"
     ]
    },
    {
     "name": "stderr",
     "output_type": "stream",
     "text": [
      "     55/100      17.9G     0.5789     0.3725      1.846         30        640: 100%|██████████| 32/32 [00:07<00:00,  4.55it/s]\n",
      "                 Class     Images  Instances      Box(P          R      mAP50  mAP50-95): 100%|██████████| 4/4 [00:00<00:00,  9.45it/s]"
     ]
    },
    {
     "name": "stdout",
     "output_type": "stream",
     "text": [
      "                   all        101        135      0.954      0.906       0.95      0.899\n"
     ]
    },
    {
     "name": "stderr",
     "output_type": "stream",
     "text": [
      "\n"
     ]
    },
    {
     "name": "stdout",
     "output_type": "stream",
     "text": [
      "\n",
      "      Epoch    GPU_mem   box_loss   cls_loss   dfl_loss  Instances       Size\n"
     ]
    },
    {
     "name": "stderr",
     "output_type": "stream",
     "text": [
      "     56/100      17.9G     0.5943     0.3685      1.852         30        640: 100%|██████████| 32/32 [00:07<00:00,  4.55it/s]\n",
      "                 Class     Images  Instances      Box(P          R      mAP50  mAP50-95): 100%|██████████| 4/4 [00:00<00:00,  9.19it/s]"
     ]
    },
    {
     "name": "stdout",
     "output_type": "stream",
     "text": [
      "                   all        101        135      0.902      0.951      0.962      0.911\n"
     ]
    },
    {
     "name": "stderr",
     "output_type": "stream",
     "text": [
      "\n"
     ]
    },
    {
     "name": "stdout",
     "output_type": "stream",
     "text": [
      "\n",
      "      Epoch    GPU_mem   box_loss   cls_loss   dfl_loss  Instances       Size\n"
     ]
    },
    {
     "name": "stderr",
     "output_type": "stream",
     "text": [
      "     57/100      17.9G     0.6112     0.3888      1.865         31        640: 100%|██████████| 32/32 [00:07<00:00,  4.54it/s]\n",
      "                 Class     Images  Instances      Box(P          R      mAP50  mAP50-95): 100%|██████████| 4/4 [00:00<00:00,  9.46it/s]"
     ]
    },
    {
     "name": "stdout",
     "output_type": "stream",
     "text": [
      "                   all        101        135      0.929      0.926      0.953      0.904\n"
     ]
    },
    {
     "name": "stderr",
     "output_type": "stream",
     "text": [
      "\n"
     ]
    },
    {
     "name": "stdout",
     "output_type": "stream",
     "text": [
      "\n",
      "      Epoch    GPU_mem   box_loss   cls_loss   dfl_loss  Instances       Size\n"
     ]
    },
    {
     "name": "stderr",
     "output_type": "stream",
     "text": [
      "     58/100      17.9G     0.5944     0.3782      1.867         33        640: 100%|██████████| 32/32 [00:07<00:00,  4.54it/s]\n",
      "                 Class     Images  Instances      Box(P          R      mAP50  mAP50-95): 100%|██████████| 4/4 [00:00<00:00,  9.50it/s]"
     ]
    },
    {
     "name": "stdout",
     "output_type": "stream",
     "text": [
      "                   all        101        135      0.943      0.871      0.927      0.894\n"
     ]
    },
    {
     "name": "stderr",
     "output_type": "stream",
     "text": [
      "\n"
     ]
    },
    {
     "name": "stdout",
     "output_type": "stream",
     "text": [
      "\n",
      "      Epoch    GPU_mem   box_loss   cls_loss   dfl_loss  Instances       Size\n"
     ]
    },
    {
     "name": "stderr",
     "output_type": "stream",
     "text": [
      "     59/100      17.9G     0.5688     0.3884      1.839         29        640: 100%|██████████| 32/32 [00:07<00:00,  4.54it/s]\n",
      "                 Class     Images  Instances      Box(P          R      mAP50  mAP50-95): 100%|██████████| 4/4 [00:00<00:00,  9.52it/s]"
     ]
    },
    {
     "name": "stdout",
     "output_type": "stream",
     "text": [
      "                   all        101        135      0.918      0.898      0.934        0.9\n"
     ]
    },
    {
     "name": "stderr",
     "output_type": "stream",
     "text": [
      "\n"
     ]
    },
    {
     "name": "stdout",
     "output_type": "stream",
     "text": [
      "\n",
      "      Epoch    GPU_mem   box_loss   cls_loss   dfl_loss  Instances       Size\n"
     ]
    },
    {
     "name": "stderr",
     "output_type": "stream",
     "text": [
      "     60/100      17.9G     0.5696     0.3404       1.86         33        640: 100%|██████████| 32/32 [00:07<00:00,  4.54it/s]\n",
      "                 Class     Images  Instances      Box(P          R      mAP50  mAP50-95): 100%|██████████| 4/4 [00:00<00:00,  9.50it/s]"
     ]
    },
    {
     "name": "stdout",
     "output_type": "stream",
     "text": [
      "                   all        101        135      0.909      0.893      0.933      0.897\n"
     ]
    },
    {
     "name": "stderr",
     "output_type": "stream",
     "text": [
      "\n"
     ]
    },
    {
     "name": "stdout",
     "output_type": "stream",
     "text": [
      "\n",
      "      Epoch    GPU_mem   box_loss   cls_loss   dfl_loss  Instances       Size\n"
     ]
    },
    {
     "name": "stderr",
     "output_type": "stream",
     "text": [
      "     61/100      17.9G      0.566     0.3535      1.856         23        640: 100%|██████████| 32/32 [00:07<00:00,  4.55it/s]\n",
      "                 Class     Images  Instances      Box(P          R      mAP50  mAP50-95): 100%|██████████| 4/4 [00:00<00:00,  9.46it/s]"
     ]
    },
    {
     "name": "stdout",
     "output_type": "stream",
     "text": [
      "                   all        101        135      0.946      0.878      0.942        0.9\n"
     ]
    },
    {
     "name": "stderr",
     "output_type": "stream",
     "text": [
      "\n"
     ]
    },
    {
     "name": "stdout",
     "output_type": "stream",
     "text": [
      "\n",
      "      Epoch    GPU_mem   box_loss   cls_loss   dfl_loss  Instances       Size\n"
     ]
    },
    {
     "name": "stderr",
     "output_type": "stream",
     "text": [
      "     62/100      17.9G     0.5876     0.3905      1.852         31        640: 100%|██████████| 32/32 [00:07<00:00,  4.55it/s]\n",
      "                 Class     Images  Instances      Box(P          R      mAP50  mAP50-95): 100%|██████████| 4/4 [00:00<00:00,  9.49it/s]"
     ]
    },
    {
     "name": "stdout",
     "output_type": "stream",
     "text": [
      "                   all        101        135      0.933       0.92      0.951       0.91\n"
     ]
    },
    {
     "name": "stderr",
     "output_type": "stream",
     "text": [
      "\n"
     ]
    },
    {
     "name": "stdout",
     "output_type": "stream",
     "text": [
      "\n",
      "      Epoch    GPU_mem   box_loss   cls_loss   dfl_loss  Instances       Size\n"
     ]
    },
    {
     "name": "stderr",
     "output_type": "stream",
     "text": [
      "     63/100      17.9G     0.6038      0.377      1.873         35        640: 100%|██████████| 32/32 [00:07<00:00,  4.54it/s]\n",
      "                 Class     Images  Instances      Box(P          R      mAP50  mAP50-95): 100%|██████████| 4/4 [00:00<00:00,  9.51it/s]"
     ]
    },
    {
     "name": "stdout",
     "output_type": "stream",
     "text": [
      "                   all        101        135      0.961      0.909      0.954      0.913\n"
     ]
    },
    {
     "name": "stderr",
     "output_type": "stream",
     "text": [
      "\n"
     ]
    },
    {
     "name": "stdout",
     "output_type": "stream",
     "text": [
      "\n",
      "      Epoch    GPU_mem   box_loss   cls_loss   dfl_loss  Instances       Size\n"
     ]
    },
    {
     "name": "stderr",
     "output_type": "stream",
     "text": [
      "     64/100      17.9G     0.5943     0.3587      1.885         30        640: 100%|██████████| 32/32 [00:07<00:00,  4.55it/s]\n",
      "                 Class     Images  Instances      Box(P          R      mAP50  mAP50-95): 100%|██████████| 4/4 [00:00<00:00,  9.51it/s]"
     ]
    },
    {
     "name": "stdout",
     "output_type": "stream",
     "text": [
      "                   all        101        135      0.955      0.922      0.958      0.913\n"
     ]
    },
    {
     "name": "stderr",
     "output_type": "stream",
     "text": [
      "\n"
     ]
    },
    {
     "name": "stdout",
     "output_type": "stream",
     "text": [
      "\n",
      "      Epoch    GPU_mem   box_loss   cls_loss   dfl_loss  Instances       Size\n"
     ]
    },
    {
     "name": "stderr",
     "output_type": "stream",
     "text": [
      "     65/100      17.9G     0.6039     0.3865      1.878         42        640: 100%|██████████| 32/32 [00:07<00:00,  4.55it/s]\n",
      "                 Class     Images  Instances      Box(P          R      mAP50  mAP50-95): 100%|██████████| 4/4 [00:00<00:00,  9.47it/s]"
     ]
    },
    {
     "name": "stdout",
     "output_type": "stream",
     "text": [
      "                   all        101        135      0.961      0.931      0.965      0.928\n"
     ]
    },
    {
     "name": "stderr",
     "output_type": "stream",
     "text": [
      "\n"
     ]
    },
    {
     "name": "stdout",
     "output_type": "stream",
     "text": [
      "\n",
      "      Epoch    GPU_mem   box_loss   cls_loss   dfl_loss  Instances       Size\n"
     ]
    },
    {
     "name": "stderr",
     "output_type": "stream",
     "text": [
      "     66/100      17.9G     0.5603     0.3376      1.842         28        640: 100%|██████████| 32/32 [00:07<00:00,  4.54it/s]\n",
      "                 Class     Images  Instances      Box(P          R      mAP50  mAP50-95): 100%|██████████| 4/4 [00:00<00:00,  9.50it/s]"
     ]
    },
    {
     "name": "stdout",
     "output_type": "stream",
     "text": [
      "                   all        101        135      0.949      0.931      0.965      0.924\n"
     ]
    },
    {
     "name": "stderr",
     "output_type": "stream",
     "text": [
      "\n"
     ]
    },
    {
     "name": "stdout",
     "output_type": "stream",
     "text": [
      "\n",
      "      Epoch    GPU_mem   box_loss   cls_loss   dfl_loss  Instances       Size\n"
     ]
    },
    {
     "name": "stderr",
     "output_type": "stream",
     "text": [
      "     67/100      17.9G     0.5234     0.3095      1.819         33        640: 100%|██████████| 32/32 [00:07<00:00,  4.54it/s]\n",
      "                 Class     Images  Instances      Box(P          R      mAP50  mAP50-95): 100%|██████████| 4/4 [00:00<00:00,  9.52it/s]"
     ]
    },
    {
     "name": "stdout",
     "output_type": "stream",
     "text": [
      "                   all        101        135      0.906      0.926      0.952      0.921\n"
     ]
    },
    {
     "name": "stderr",
     "output_type": "stream",
     "text": [
      "\n"
     ]
    },
    {
     "name": "stdout",
     "output_type": "stream",
     "text": [
      "\n",
      "      Epoch    GPU_mem   box_loss   cls_loss   dfl_loss  Instances       Size\n"
     ]
    },
    {
     "name": "stderr",
     "output_type": "stream",
     "text": [
      "     68/100      17.9G     0.5497     0.3239      1.809         24        640: 100%|██████████| 32/32 [00:07<00:00,  4.55it/s]\n",
      "                 Class     Images  Instances      Box(P          R      mAP50  mAP50-95): 100%|██████████| 4/4 [00:00<00:00,  9.51it/s]"
     ]
    },
    {
     "name": "stdout",
     "output_type": "stream",
     "text": [
      "                   all        101        135      0.936      0.885      0.943      0.916\n"
     ]
    },
    {
     "name": "stderr",
     "output_type": "stream",
     "text": [
      "\n"
     ]
    },
    {
     "name": "stdout",
     "output_type": "stream",
     "text": [
      "\n",
      "      Epoch    GPU_mem   box_loss   cls_loss   dfl_loss  Instances       Size\n"
     ]
    },
    {
     "name": "stderr",
     "output_type": "stream",
     "text": [
      "     69/100      17.9G     0.5824     0.3611      1.848         33        640: 100%|██████████| 32/32 [00:07<00:00,  4.55it/s]\n",
      "                 Class     Images  Instances      Box(P          R      mAP50  mAP50-95): 100%|██████████| 4/4 [00:00<00:00,  9.48it/s]"
     ]
    },
    {
     "name": "stdout",
     "output_type": "stream",
     "text": [
      "                   all        101        135      0.932      0.907      0.946      0.922\n"
     ]
    },
    {
     "name": "stderr",
     "output_type": "stream",
     "text": [
      "\n"
     ]
    },
    {
     "name": "stdout",
     "output_type": "stream",
     "text": [
      "\n",
      "      Epoch    GPU_mem   box_loss   cls_loss   dfl_loss  Instances       Size\n"
     ]
    },
    {
     "name": "stderr",
     "output_type": "stream",
     "text": [
      "     70/100      17.9G     0.5635     0.3269      1.854         31        640: 100%|██████████| 32/32 [00:07<00:00,  4.55it/s]\n",
      "                 Class     Images  Instances      Box(P          R      mAP50  mAP50-95): 100%|██████████| 4/4 [00:00<00:00,  9.48it/s]"
     ]
    },
    {
     "name": "stdout",
     "output_type": "stream",
     "text": [
      "                   all        101        135      0.959      0.861      0.929      0.908\n"
     ]
    },
    {
     "name": "stderr",
     "output_type": "stream",
     "text": [
      "\n"
     ]
    },
    {
     "name": "stdout",
     "output_type": "stream",
     "text": [
      "\n",
      "      Epoch    GPU_mem   box_loss   cls_loss   dfl_loss  Instances       Size\n"
     ]
    },
    {
     "name": "stderr",
     "output_type": "stream",
     "text": [
      "     71/100      17.9G     0.5354     0.3352      1.819         27        640: 100%|██████████| 32/32 [00:07<00:00,  4.54it/s]\n",
      "                 Class     Images  Instances      Box(P          R      mAP50  mAP50-95): 100%|██████████| 4/4 [00:00<00:00,  9.51it/s]"
     ]
    },
    {
     "name": "stdout",
     "output_type": "stream",
     "text": [
      "                   all        101        135      0.966      0.864      0.932      0.899\n"
     ]
    },
    {
     "name": "stderr",
     "output_type": "stream",
     "text": [
      "\n"
     ]
    },
    {
     "name": "stdout",
     "output_type": "stream",
     "text": [
      "\n",
      "      Epoch    GPU_mem   box_loss   cls_loss   dfl_loss  Instances       Size\n"
     ]
    },
    {
     "name": "stderr",
     "output_type": "stream",
     "text": [
      "     72/100      17.9G     0.5165     0.3307      1.822         33        640: 100%|██████████| 32/32 [00:07<00:00,  4.55it/s]\n",
      "                 Class     Images  Instances      Box(P          R      mAP50  mAP50-95): 100%|██████████| 4/4 [00:00<00:00,  9.52it/s]"
     ]
    },
    {
     "name": "stdout",
     "output_type": "stream",
     "text": [
      "                   all        101        135       0.96      0.858      0.927      0.899\n"
     ]
    },
    {
     "name": "stderr",
     "output_type": "stream",
     "text": [
      "\n"
     ]
    },
    {
     "name": "stdout",
     "output_type": "stream",
     "text": [
      "\n",
      "      Epoch    GPU_mem   box_loss   cls_loss   dfl_loss  Instances       Size\n"
     ]
    },
    {
     "name": "stderr",
     "output_type": "stream",
     "text": [
      "     73/100      17.9G     0.5458     0.3334       1.83         30        640: 100%|██████████| 32/32 [00:07<00:00,  4.56it/s]\n",
      "                 Class     Images  Instances      Box(P          R      mAP50  mAP50-95): 100%|██████████| 4/4 [00:00<00:00,  9.50it/s]"
     ]
    },
    {
     "name": "stdout",
     "output_type": "stream",
     "text": [
      "                   all        101        135      0.923      0.907      0.946      0.913\n"
     ]
    },
    {
     "name": "stderr",
     "output_type": "stream",
     "text": [
      "\n"
     ]
    },
    {
     "name": "stdout",
     "output_type": "stream",
     "text": [
      "\n",
      "      Epoch    GPU_mem   box_loss   cls_loss   dfl_loss  Instances       Size\n"
     ]
    },
    {
     "name": "stderr",
     "output_type": "stream",
     "text": [
      "     74/100      17.9G     0.5349     0.3242      1.858         39        640: 100%|██████████| 32/32 [00:07<00:00,  4.55it/s]\n",
      "                 Class     Images  Instances      Box(P          R      mAP50  mAP50-95): 100%|██████████| 4/4 [00:00<00:00,  9.20it/s]"
     ]
    },
    {
     "name": "stdout",
     "output_type": "stream",
     "text": [
      "                   all        101        135      0.949      0.917      0.962      0.915\n"
     ]
    },
    {
     "name": "stderr",
     "output_type": "stream",
     "text": [
      "\n"
     ]
    },
    {
     "name": "stdout",
     "output_type": "stream",
     "text": [
      "\n",
      "      Epoch    GPU_mem   box_loss   cls_loss   dfl_loss  Instances       Size\n"
     ]
    },
    {
     "name": "stderr",
     "output_type": "stream",
     "text": [
      "     75/100      17.9G     0.5019     0.2996      1.806         27        640: 100%|██████████| 32/32 [00:07<00:00,  4.55it/s]\n",
      "                 Class     Images  Instances      Box(P          R      mAP50  mAP50-95): 100%|██████████| 4/4 [00:00<00:00,  9.49it/s]"
     ]
    },
    {
     "name": "stdout",
     "output_type": "stream",
     "text": [
      "                   all        101        135      0.959      0.902      0.965      0.918\n"
     ]
    },
    {
     "name": "stderr",
     "output_type": "stream",
     "text": [
      "\n"
     ]
    },
    {
     "name": "stdout",
     "output_type": "stream",
     "text": [
      "\n",
      "      Epoch    GPU_mem   box_loss   cls_loss   dfl_loss  Instances       Size\n"
     ]
    },
    {
     "name": "stderr",
     "output_type": "stream",
     "text": [
      "     76/100      17.9G     0.5335     0.3405      1.862         32        640: 100%|██████████| 32/32 [00:07<00:00,  4.54it/s]\n",
      "                 Class     Images  Instances      Box(P          R      mAP50  mAP50-95): 100%|██████████| 4/4 [00:00<00:00,  9.47it/s]"
     ]
    },
    {
     "name": "stdout",
     "output_type": "stream",
     "text": [
      "                   all        101        135      0.932      0.914      0.958      0.918\n"
     ]
    },
    {
     "name": "stderr",
     "output_type": "stream",
     "text": [
      "\n"
     ]
    },
    {
     "name": "stdout",
     "output_type": "stream",
     "text": [
      "\n",
      "      Epoch    GPU_mem   box_loss   cls_loss   dfl_loss  Instances       Size\n"
     ]
    },
    {
     "name": "stderr",
     "output_type": "stream",
     "text": [
      "     77/100      17.9G     0.5195     0.3021      1.842         36        640: 100%|██████████| 32/32 [00:07<00:00,  4.54it/s]\n",
      "                 Class     Images  Instances      Box(P          R      mAP50  mAP50-95): 100%|██████████| 4/4 [00:00<00:00,  9.48it/s]"
     ]
    },
    {
     "name": "stdout",
     "output_type": "stream",
     "text": [
      "                   all        101        135       0.97      0.908      0.958      0.919\n"
     ]
    },
    {
     "name": "stderr",
     "output_type": "stream",
     "text": [
      "\n"
     ]
    },
    {
     "name": "stdout",
     "output_type": "stream",
     "text": [
      "\n",
      "      Epoch    GPU_mem   box_loss   cls_loss   dfl_loss  Instances       Size\n"
     ]
    },
    {
     "name": "stderr",
     "output_type": "stream",
     "text": [
      "     78/100      17.9G     0.5421     0.3254      1.824         39        640: 100%|██████████| 32/32 [00:07<00:00,  4.54it/s]\n",
      "                 Class     Images  Instances      Box(P          R      mAP50  mAP50-95): 100%|██████████| 4/4 [00:00<00:00,  9.48it/s]"
     ]
    },
    {
     "name": "stdout",
     "output_type": "stream",
     "text": [
      "                   all        101        135      0.969       0.91      0.959      0.921\n"
     ]
    },
    {
     "name": "stderr",
     "output_type": "stream",
     "text": [
      "\n"
     ]
    },
    {
     "name": "stdout",
     "output_type": "stream",
     "text": [
      "\n",
      "      Epoch    GPU_mem   box_loss   cls_loss   dfl_loss  Instances       Size\n"
     ]
    },
    {
     "name": "stderr",
     "output_type": "stream",
     "text": [
      "     79/100      17.9G     0.4915     0.2894       1.81         38        640: 100%|██████████| 32/32 [00:07<00:00,  4.55it/s]\n",
      "                 Class     Images  Instances      Box(P          R      mAP50  mAP50-95): 100%|██████████| 4/4 [00:00<00:00,  9.45it/s]"
     ]
    },
    {
     "name": "stdout",
     "output_type": "stream",
     "text": [
      "                   all        101        135      0.961      0.899      0.958      0.923\n"
     ]
    },
    {
     "name": "stderr",
     "output_type": "stream",
     "text": [
      "\n"
     ]
    },
    {
     "name": "stdout",
     "output_type": "stream",
     "text": [
      "\n",
      "      Epoch    GPU_mem   box_loss   cls_loss   dfl_loss  Instances       Size\n"
     ]
    },
    {
     "name": "stderr",
     "output_type": "stream",
     "text": [
      "     80/100      17.9G     0.5177     0.3167      1.836         35        640: 100%|██████████| 32/32 [00:07<00:00,  4.53it/s]\n",
      "                 Class     Images  Instances      Box(P          R      mAP50  mAP50-95): 100%|██████████| 4/4 [00:00<00:00,  9.46it/s]"
     ]
    },
    {
     "name": "stdout",
     "output_type": "stream",
     "text": [
      "                   all        101        135      0.954      0.914      0.956      0.925\n"
     ]
    },
    {
     "name": "stderr",
     "output_type": "stream",
     "text": [
      "\n"
     ]
    },
    {
     "name": "stdout",
     "output_type": "stream",
     "text": [
      "\n",
      "      Epoch    GPU_mem   box_loss   cls_loss   dfl_loss  Instances       Size\n"
     ]
    },
    {
     "name": "stderr",
     "output_type": "stream",
     "text": [
      "     81/100      17.9G     0.5093     0.3166      1.824         33        640: 100%|██████████| 32/32 [00:07<00:00,  4.54it/s]\n",
      "                 Class     Images  Instances      Box(P          R      mAP50  mAP50-95): 100%|██████████| 4/4 [00:00<00:00,  9.21it/s]"
     ]
    },
    {
     "name": "stdout",
     "output_type": "stream",
     "text": [
      "                   all        101        135      0.951       0.92      0.961      0.929\n"
     ]
    },
    {
     "name": "stderr",
     "output_type": "stream",
     "text": [
      "\n"
     ]
    },
    {
     "name": "stdout",
     "output_type": "stream",
     "text": [
      "\n",
      "      Epoch    GPU_mem   box_loss   cls_loss   dfl_loss  Instances       Size\n"
     ]
    },
    {
     "name": "stderr",
     "output_type": "stream",
     "text": [
      "     82/100      17.9G     0.5083     0.2969      1.823         30        640: 100%|██████████| 32/32 [00:07<00:00,  4.54it/s]\n",
      "                 Class     Images  Instances      Box(P          R      mAP50  mAP50-95): 100%|██████████| 4/4 [00:00<00:00,  9.49it/s]"
     ]
    },
    {
     "name": "stdout",
     "output_type": "stream",
     "text": [
      "                   all        101        135      0.938      0.913      0.962      0.925\n"
     ]
    },
    {
     "name": "stderr",
     "output_type": "stream",
     "text": [
      "\n"
     ]
    },
    {
     "name": "stdout",
     "output_type": "stream",
     "text": [
      "\n",
      "      Epoch    GPU_mem   box_loss   cls_loss   dfl_loss  Instances       Size\n"
     ]
    },
    {
     "name": "stderr",
     "output_type": "stream",
     "text": [
      "     83/100      17.9G     0.5267      0.314      1.827         42        640: 100%|██████████| 32/32 [00:07<00:00,  4.55it/s]\n",
      "                 Class     Images  Instances      Box(P          R      mAP50  mAP50-95): 100%|██████████| 4/4 [00:00<00:00,  9.45it/s]"
     ]
    },
    {
     "name": "stdout",
     "output_type": "stream",
     "text": [
      "                   all        101        135      0.947      0.894      0.959      0.922\n"
     ]
    },
    {
     "name": "stderr",
     "output_type": "stream",
     "text": [
      "\n"
     ]
    },
    {
     "name": "stdout",
     "output_type": "stream",
     "text": [
      "\n",
      "      Epoch    GPU_mem   box_loss   cls_loss   dfl_loss  Instances       Size\n"
     ]
    },
    {
     "name": "stderr",
     "output_type": "stream",
     "text": [
      "     84/100      17.9G     0.4725     0.2775      1.788         26        640: 100%|██████████| 32/32 [00:07<00:00,  4.55it/s]\n",
      "                 Class     Images  Instances      Box(P          R      mAP50  mAP50-95): 100%|██████████| 4/4 [00:00<00:00,  9.43it/s]"
     ]
    },
    {
     "name": "stdout",
     "output_type": "stream",
     "text": [
      "                   all        101        135      0.941      0.897      0.951      0.918\n"
     ]
    },
    {
     "name": "stderr",
     "output_type": "stream",
     "text": [
      "\n"
     ]
    },
    {
     "name": "stdout",
     "output_type": "stream",
     "text": [
      "\n",
      "      Epoch    GPU_mem   box_loss   cls_loss   dfl_loss  Instances       Size\n"
     ]
    },
    {
     "name": "stderr",
     "output_type": "stream",
     "text": [
      "     85/100      17.9G      0.511     0.3053      1.826         24        640: 100%|██████████| 32/32 [00:07<00:00,  4.54it/s]\n",
      "                 Class     Images  Instances      Box(P          R      mAP50  mAP50-95): 100%|██████████| 4/4 [00:00<00:00,  9.47it/s]"
     ]
    },
    {
     "name": "stdout",
     "output_type": "stream",
     "text": [
      "                   all        101        135      0.956      0.907      0.956      0.918\n"
     ]
    },
    {
     "name": "stderr",
     "output_type": "stream",
     "text": [
      "\n"
     ]
    },
    {
     "name": "stdout",
     "output_type": "stream",
     "text": [
      "\n",
      "      Epoch    GPU_mem   box_loss   cls_loss   dfl_loss  Instances       Size\n"
     ]
    },
    {
     "name": "stderr",
     "output_type": "stream",
     "text": [
      "     86/100      17.9G     0.5111     0.3085      1.844         31        640: 100%|██████████| 32/32 [00:07<00:00,  4.55it/s]\n",
      "                 Class     Images  Instances      Box(P          R      mAP50  mAP50-95): 100%|██████████| 4/4 [00:00<00:00,  9.48it/s]"
     ]
    },
    {
     "name": "stdout",
     "output_type": "stream",
     "text": [
      "                   all        101        135      0.964      0.893      0.954      0.914\n"
     ]
    },
    {
     "name": "stderr",
     "output_type": "stream",
     "text": [
      "\n"
     ]
    },
    {
     "name": "stdout",
     "output_type": "stream",
     "text": [
      "\n",
      "      Epoch    GPU_mem   box_loss   cls_loss   dfl_loss  Instances       Size\n"
     ]
    },
    {
     "name": "stderr",
     "output_type": "stream",
     "text": [
      "     87/100      17.9G     0.4934     0.2948      1.831         32        640: 100%|██████████| 32/32 [00:07<00:00,  4.55it/s]\n",
      "                 Class     Images  Instances      Box(P          R      mAP50  mAP50-95): 100%|██████████| 4/4 [00:00<00:00,  9.49it/s]"
     ]
    },
    {
     "name": "stdout",
     "output_type": "stream",
     "text": [
      "                   all        101        135      0.946      0.921      0.959      0.916\n"
     ]
    },
    {
     "name": "stderr",
     "output_type": "stream",
     "text": [
      "\n"
     ]
    },
    {
     "name": "stdout",
     "output_type": "stream",
     "text": [
      "\n",
      "      Epoch    GPU_mem   box_loss   cls_loss   dfl_loss  Instances       Size\n"
     ]
    },
    {
     "name": "stderr",
     "output_type": "stream",
     "text": [
      "     88/100      17.9G     0.4844     0.2792      1.807         32        640: 100%|██████████| 32/32 [00:07<00:00,  4.54it/s]\n",
      "                 Class     Images  Instances      Box(P          R      mAP50  mAP50-95): 100%|██████████| 4/4 [00:00<00:00,  9.47it/s]"
     ]
    },
    {
     "name": "stdout",
     "output_type": "stream",
     "text": [
      "                   all        101        135      0.931      0.924      0.957      0.915\n"
     ]
    },
    {
     "name": "stderr",
     "output_type": "stream",
     "text": [
      "\n"
     ]
    },
    {
     "name": "stdout",
     "output_type": "stream",
     "text": [
      "\n",
      "      Epoch    GPU_mem   box_loss   cls_loss   dfl_loss  Instances       Size\n"
     ]
    },
    {
     "name": "stderr",
     "output_type": "stream",
     "text": [
      "     89/100      17.9G     0.4935     0.2926       1.82         30        640: 100%|██████████| 32/32 [00:07<00:00,  4.54it/s]\n",
      "                 Class     Images  Instances      Box(P          R      mAP50  mAP50-95): 100%|██████████| 4/4 [00:00<00:00,  9.29it/s]"
     ]
    },
    {
     "name": "stdout",
     "output_type": "stream",
     "text": [
      "                   all        101        135      0.937      0.901      0.946      0.912\n"
     ]
    },
    {
     "name": "stderr",
     "output_type": "stream",
     "text": [
      "\n"
     ]
    },
    {
     "name": "stdout",
     "output_type": "stream",
     "text": [
      "\n",
      "      Epoch    GPU_mem   box_loss   cls_loss   dfl_loss  Instances       Size\n"
     ]
    },
    {
     "name": "stderr",
     "output_type": "stream",
     "text": [
      "     90/100      17.9G     0.4805     0.2864      1.797         40        640: 100%|██████████| 32/32 [00:07<00:00,  4.55it/s]\n",
      "                 Class     Images  Instances      Box(P          R      mAP50  mAP50-95): 100%|██████████| 4/4 [00:00<00:00,  9.48it/s]"
     ]
    },
    {
     "name": "stdout",
     "output_type": "stream",
     "text": [
      "                   all        101        135      0.954      0.917      0.951      0.911\n"
     ]
    },
    {
     "name": "stderr",
     "output_type": "stream",
     "text": [
      "\n"
     ]
    },
    {
     "name": "stdout",
     "output_type": "stream",
     "text": [
      "Closing dataloader mosaic\n",
      "\n",
      "      Epoch    GPU_mem   box_loss   cls_loss   dfl_loss  Instances       Size\n"
     ]
    },
    {
     "name": "stderr",
     "output_type": "stream",
     "text": [
      "     91/100      17.9G     0.2826     0.2113      1.562         15        640: 100%|██████████| 32/32 [00:07<00:00,  4.13it/s]\n",
      "                 Class     Images  Instances      Box(P          R      mAP50  mAP50-95): 100%|██████████| 4/4 [00:00<00:00,  9.41it/s]"
     ]
    },
    {
     "name": "stdout",
     "output_type": "stream",
     "text": [
      "                   all        101        135      0.893      0.932       0.96      0.922\n"
     ]
    },
    {
     "name": "stderr",
     "output_type": "stream",
     "text": [
      "\n"
     ]
    },
    {
     "name": "stdout",
     "output_type": "stream",
     "text": [
      "\n",
      "      Epoch    GPU_mem   box_loss   cls_loss   dfl_loss  Instances       Size\n"
     ]
    },
    {
     "name": "stderr",
     "output_type": "stream",
     "text": [
      "     92/100      17.9G     0.2863     0.1912      1.601         13        640: 100%|██████████| 32/32 [00:07<00:00,  4.55it/s]\n",
      "                 Class     Images  Instances      Box(P          R      mAP50  mAP50-95): 100%|██████████| 4/4 [00:00<00:00,  9.44it/s]"
     ]
    },
    {
     "name": "stdout",
     "output_type": "stream",
     "text": [
      "                   all        101        135      0.933      0.921      0.957      0.924\n"
     ]
    },
    {
     "name": "stderr",
     "output_type": "stream",
     "text": [
      "\n"
     ]
    },
    {
     "name": "stdout",
     "output_type": "stream",
     "text": [
      "\n",
      "      Epoch    GPU_mem   box_loss   cls_loss   dfl_loss  Instances       Size\n"
     ]
    },
    {
     "name": "stderr",
     "output_type": "stream",
     "text": [
      "     93/100      17.9G     0.2895     0.1865      1.598         12        640: 100%|██████████| 32/32 [00:07<00:00,  4.55it/s]\n",
      "                 Class     Images  Instances      Box(P          R      mAP50  mAP50-95): 100%|██████████| 4/4 [00:00<00:00,  9.49it/s]"
     ]
    },
    {
     "name": "stdout",
     "output_type": "stream",
     "text": [
      "                   all        101        135      0.922      0.914      0.952      0.923\n"
     ]
    },
    {
     "name": "stderr",
     "output_type": "stream",
     "text": [
      "\n"
     ]
    },
    {
     "name": "stdout",
     "output_type": "stream",
     "text": [
      "\n",
      "      Epoch    GPU_mem   box_loss   cls_loss   dfl_loss  Instances       Size\n"
     ]
    },
    {
     "name": "stderr",
     "output_type": "stream",
     "text": [
      "     94/100      17.9G     0.2839     0.1771      1.582         16        640: 100%|██████████| 32/32 [00:07<00:00,  4.55it/s]\n",
      "                 Class     Images  Instances      Box(P          R      mAP50  mAP50-95): 100%|██████████| 4/4 [00:00<00:00,  9.47it/s]"
     ]
    },
    {
     "name": "stdout",
     "output_type": "stream",
     "text": [
      "                   all        101        135      0.924      0.906      0.941      0.919\n"
     ]
    },
    {
     "name": "stderr",
     "output_type": "stream",
     "text": [
      "\n"
     ]
    },
    {
     "name": "stdout",
     "output_type": "stream",
     "text": [
      "\n",
      "      Epoch    GPU_mem   box_loss   cls_loss   dfl_loss  Instances       Size\n"
     ]
    },
    {
     "name": "stderr",
     "output_type": "stream",
     "text": [
      "     95/100      17.9G     0.2667     0.1643       1.57         15        640: 100%|██████████| 32/32 [00:07<00:00,  4.55it/s]\n",
      "                 Class     Images  Instances      Box(P          R      mAP50  mAP50-95): 100%|██████████| 4/4 [00:00<00:00,  9.45it/s]"
     ]
    },
    {
     "name": "stdout",
     "output_type": "stream",
     "text": [
      "                   all        101        135      0.922      0.922       0.95      0.925\n"
     ]
    },
    {
     "name": "stderr",
     "output_type": "stream",
     "text": [
      "\n"
     ]
    },
    {
     "name": "stdout",
     "output_type": "stream",
     "text": [
      "\n",
      "      Epoch    GPU_mem   box_loss   cls_loss   dfl_loss  Instances       Size\n"
     ]
    },
    {
     "name": "stderr",
     "output_type": "stream",
     "text": [
      "     96/100      17.9G     0.2713      0.169      1.581         15        640: 100%|██████████| 32/32 [00:07<00:00,  4.55it/s]\n",
      "                 Class     Images  Instances      Box(P          R      mAP50  mAP50-95): 100%|██████████| 4/4 [00:00<00:00,  9.50it/s]"
     ]
    },
    {
     "name": "stdout",
     "output_type": "stream",
     "text": [
      "                   all        101        135      0.926      0.926      0.954      0.927\n"
     ]
    },
    {
     "name": "stderr",
     "output_type": "stream",
     "text": [
      "\n"
     ]
    },
    {
     "name": "stdout",
     "output_type": "stream",
     "text": [
      "\n",
      "      Epoch    GPU_mem   box_loss   cls_loss   dfl_loss  Instances       Size\n"
     ]
    },
    {
     "name": "stderr",
     "output_type": "stream",
     "text": [
      "     97/100      17.9G     0.2794     0.1743      1.582         14        640: 100%|██████████| 32/32 [00:07<00:00,  4.55it/s]\n",
      "                 Class     Images  Instances      Box(P          R      mAP50  mAP50-95): 100%|██████████| 4/4 [00:00<00:00,  9.47it/s]"
     ]
    },
    {
     "name": "stdout",
     "output_type": "stream",
     "text": [
      "                   all        101        135      0.951      0.923      0.954       0.93\n"
     ]
    },
    {
     "name": "stderr",
     "output_type": "stream",
     "text": [
      "\n"
     ]
    },
    {
     "name": "stdout",
     "output_type": "stream",
     "text": [
      "\n",
      "      Epoch    GPU_mem   box_loss   cls_loss   dfl_loss  Instances       Size\n"
     ]
    },
    {
     "name": "stderr",
     "output_type": "stream",
     "text": [
      "     98/100      17.9G     0.2827     0.1805      1.581         13        640: 100%|██████████| 32/32 [00:07<00:00,  4.55it/s]\n",
      "                 Class     Images  Instances      Box(P          R      mAP50  mAP50-95): 100%|██████████| 4/4 [00:00<00:00,  9.51it/s]"
     ]
    },
    {
     "name": "stdout",
     "output_type": "stream",
     "text": [
      "                   all        101        135      0.946      0.923      0.955      0.929\n"
     ]
    },
    {
     "name": "stderr",
     "output_type": "stream",
     "text": [
      "\n"
     ]
    },
    {
     "name": "stdout",
     "output_type": "stream",
     "text": [
      "\n",
      "      Epoch    GPU_mem   box_loss   cls_loss   dfl_loss  Instances       Size\n"
     ]
    },
    {
     "name": "stderr",
     "output_type": "stream",
     "text": [
      "     99/100      17.9G     0.2724      0.173      1.576         13        640: 100%|██████████| 32/32 [00:07<00:00,  4.55it/s]\n",
      "                 Class     Images  Instances      Box(P          R      mAP50  mAP50-95): 100%|██████████| 4/4 [00:00<00:00,  9.48it/s]"
     ]
    },
    {
     "name": "stdout",
     "output_type": "stream",
     "text": [
      "                   all        101        135      0.948      0.916      0.954      0.929\n"
     ]
    },
    {
     "name": "stderr",
     "output_type": "stream",
     "text": [
      "\n"
     ]
    },
    {
     "name": "stdout",
     "output_type": "stream",
     "text": [
      "\n",
      "      Epoch    GPU_mem   box_loss   cls_loss   dfl_loss  Instances       Size\n"
     ]
    },
    {
     "name": "stderr",
     "output_type": "stream",
     "text": [
      "    100/100      17.9G     0.2666     0.1823      1.585         14        640: 100%|██████████| 32/32 [00:07<00:00,  4.56it/s]\n",
      "                 Class     Images  Instances      Box(P          R      mAP50  mAP50-95): 100%|██████████| 4/4 [00:00<00:00,  9.48it/s]"
     ]
    },
    {
     "name": "stdout",
     "output_type": "stream",
     "text": [
      "                   all        101        135      0.935      0.917      0.953      0.928\n"
     ]
    },
    {
     "name": "stderr",
     "output_type": "stream",
     "text": [
      "\n"
     ]
    },
    {
     "name": "stdout",
     "output_type": "stream",
     "text": [
      "\n",
      "100 epochs completed in 0.231 hours.\n",
      "Optimizer stripped from runs/PID2/CID0/v10x/weights/last.pt, 64.1MB\n",
      "Optimizer stripped from runs/PID2/CID0/v10x/weights/best.pt, 64.1MB\n",
      "\n",
      "Validating runs/PID2/CID0/v10x/weights/best.pt...\n",
      "Ultralytics 8.3.31 🚀 Python-3.8.20 torch-2.4.1+cu121 CUDA:0 (NVIDIA GeForce RTX 4090, 24184MiB)\n",
      "YOLOv10x summary (fused): 503 layers, 31,587,932 parameters, 0 gradients, 169.8 GFLOPs\n"
     ]
    },
    {
     "name": "stderr",
     "output_type": "stream",
     "text": [
      "                 Class     Images  Instances      Box(P          R      mAP50  mAP50-95): 100%|██████████| 4/4 [00:00<00:00,  8.77it/s]\n"
     ]
    },
    {
     "name": "stdout",
     "output_type": "stream",
     "text": [
      "                   all        101        135       0.95      0.917      0.961      0.928\n",
      "                 fruit         64         81      0.956      0.963      0.979      0.954\n",
      "                flower         37         54      0.944       0.87      0.943      0.902\n",
      "Speed: 0.1ms preprocess, 3.5ms inference, 0.0ms loss, 0.0ms postprocess per image\n",
      "Saving runs/PID2/CID0/v10x/predictions.json...\n",
      "Results saved to \u001b[1mruns/PID2/CID0/v10x\u001b[0m\n"
     ]
    }
   ],
   "source": [
    "# 모델 학습\n",
    "results = model.train(**train_params)"
   ]
  },
  {
   "cell_type": "markdown",
   "metadata": {},
   "source": [
    "# Validation set"
   ]
  },
  {
   "cell_type": "code",
   "execution_count": 6,
   "metadata": {},
   "outputs": [],
   "source": [
    "from ultralytics import YOLO\n",
    "best_model = YOLO(f\"{train_params['project']}/{train_params['name']}/weights/best.pt\")\n",
    "\n",
    "# validation 파라미터 설정\n",
    "val_params = {\n",
    "    'data': train_params['data'],\n",
    "    'batch': train_params['batch'],\n",
    "    'conf': train_params['conf'],\n",
    "    'save_json': True,\n",
    "    'project': f\"{train_params['project']}/{train_params['name']}\",\n",
    "    'name': 'val_performance',\n",
    "    'split': 'val',                        # 'val', 'test', 'train'\n",
    "    'workers': 0,\n",
    "}"
   ]
  },
  {
   "cell_type": "code",
   "execution_count": 7,
   "metadata": {},
   "outputs": [
    {
     "name": "stdout",
     "output_type": "stream",
     "text": [
      "Ultralytics 8.3.31 🚀 Python-3.8.20 torch-2.4.1+cu121 CUDA:0 (NVIDIA GeForce RTX 4090, 24184MiB)\n",
      "YOLOv10x summary (fused): 503 layers, 31,587,932 parameters, 0 gradients, 169.8 GFLOPs\n"
     ]
    },
    {
     "name": "stderr",
     "output_type": "stream",
     "text": [
      "\u001b[34m\u001b[1mval: \u001b[0mScanning /home/leedh/바탕화면/korean_melon/dataset/valid/labels.cache... 101 images, 0 backgrounds, 0 corrupt: 100%|██████████| 101/101 [00:00<?, ?it/s]\n",
      "                 Class     Images  Instances      Box(P          R      mAP50  mAP50-95): 100%|██████████| 7/7 [00:03<00:00,  2.08it/s]\n"
     ]
    },
    {
     "name": "stdout",
     "output_type": "stream",
     "text": [
      "                   all        101        135      0.961      0.916      0.961      0.928\n",
      "                 fruit         64         81      0.963      0.962      0.979      0.954\n",
      "                flower         37         54      0.959       0.87      0.943      0.903\n",
      "Speed: 0.1ms preprocess, 5.1ms inference, 0.0ms loss, 0.0ms postprocess per image\n",
      "Saving runs/PID2/CID0/v10x/val_performance/predictions.json...\n",
      "Results saved to \u001b[1mruns/PID2/CID0/v10x/val_performance\u001b[0m\n"
     ]
    }
   ],
   "source": [
    "# 모델 학습\n",
    "val_results = best_model.val(**val_params)"
   ]
  },
  {
   "cell_type": "code",
   "execution_count": null,
   "metadata": {},
   "outputs": [
    {
     "name": "stdout",
     "output_type": "stream",
     "text": [
      "\n",
      "image 1/101 /home/leedh/바탕화면/korean_melon/dataset/valid/images/V006_77_0_00_10_01_13_0_b08_20201020_0003_S01_1_jpg.rf.abaaed2999cf725602f3c2c6a43bbb4a.jpg: 480x640 1 fruit, 5.4ms\n",
      "image 2/101 /home/leedh/바탕화면/korean_melon/dataset/valid/images/V006_77_0_00_10_01_13_0_b08_20201020_0008_S01_1_jpg.rf.35faf5aea6be0571827a2dd1b33f27b3.jpg: 480x640 1 fruit, 5.4ms\n",
      "image 3/101 /home/leedh/바탕화면/korean_melon/dataset/valid/images/V006_77_0_00_10_01_13_0_b08_20201020_0025_S01_1_jpg.rf.0fe4486de4a87edc5f21a734b91cbab7.jpg: 480x640 2 fruits, 5.4ms\n",
      "image 4/101 /home/leedh/바탕화면/korean_melon/dataset/valid/images/V006_77_0_00_10_01_13_0_b08_20201020_0026_S01_1_jpg.rf.c3093450d663bf370222670e259b81e6.jpg: 480x640 2 fruits, 5.4ms\n",
      "image 5/101 /home/leedh/바탕화면/korean_melon/dataset/valid/images/V006_77_0_00_10_01_13_0_b08_20201020_0028_S01_1_jpg.rf.a884e50897a70f3ff4bce64620bbe2dd.jpg: 480x640 2 fruits, 5.4ms\n",
      "image 6/101 /home/leedh/바탕화면/korean_melon/dataset/valid/images/V006_77_0_00_10_01_13_0_b08_20201020_0029_S01_1_jpg.rf.661755d95515e3a9dcbf748572b93c63.jpg: 480x640 1 fruit, 5.4ms\n",
      "image 7/101 /home/leedh/바탕화면/korean_melon/dataset/valid/images/V006_77_0_00_10_01_13_0_b08_20201020_0041_S01_1_jpg.rf.23baeed7fa5e8935c4923e804f6cb5d2.jpg: 480x640 1 fruit, 5.4ms\n",
      "image 8/101 /home/leedh/바탕화면/korean_melon/dataset/valid/images/V006_77_0_00_10_01_13_0_b08_20201020_0042_S01_1_jpg.rf.763cf20bb479c47adea79268df9de556.jpg: 480x640 4 fruits, 5.4ms\n",
      "image 9/101 /home/leedh/바탕화면/korean_melon/dataset/valid/images/V006_77_0_00_10_01_13_0_b08_20201020_0049_S01_1_jpg.rf.50590d93dc8ef7079a42e6ecd5a70209.jpg: 480x640 2 fruits, 5.4ms\n",
      "image 10/101 /home/leedh/바탕화면/korean_melon/dataset/valid/images/V006_77_0_00_10_01_13_0_b08_20201020_0054_S01_1_jpg.rf.8483713739a8e7a556105a124e855a8f.jpg: 480x640 1 fruit, 5.4ms\n",
      "image 11/101 /home/leedh/바탕화면/korean_melon/dataset/valid/images/V006_77_0_00_10_01_13_0_b08_20201020_0056_S01_1_jpg.rf.63f91876fef119c2a5e709163e11642c.jpg: 480x640 1 fruit, 5.4ms\n",
      "image 12/101 /home/leedh/바탕화면/korean_melon/dataset/valid/images/V006_77_0_00_10_01_13_0_b08_20201020_0071_S01_1_jpg.rf.6a2ab2cd246874906c5b80a095567be1.jpg: 480x640 1 fruit, 5.4ms\n",
      "image 13/101 /home/leedh/바탕화면/korean_melon/dataset/valid/images/V006_77_0_00_10_01_13_0_b08_20201020_0075_S01_1_jpg.rf.3d00fe2f9607abbb04ffab91bc49b605.jpg: 480x640 4 fruits, 5.4ms\n",
      "image 14/101 /home/leedh/바탕화면/korean_melon/dataset/valid/images/V006_77_0_00_10_01_13_0_b08_20201020_0093_S01_1_jpg.rf.993aee4227a2db57fc1d12caf56c1d64.jpg: 480x640 1 fruit, 5.4ms\n",
      "image 15/101 /home/leedh/바탕화면/korean_melon/dataset/valid/images/V006_77_0_00_10_01_13_0_b09_20201020_0007_S01_1_jpg.rf.90309c086d8014957614bfdbf449d36c.jpg: 320x640 1 fruit, 4.8ms\n",
      "image 16/101 /home/leedh/바탕화면/korean_melon/dataset/valid/images/V006_77_0_00_10_01_13_0_b09_20201020_0011_S01_1_jpg.rf.40763be1a593b82f69bd061d89b1fef0.jpg: 320x640 2 fruits, 4.7ms\n",
      "image 17/101 /home/leedh/바탕화면/korean_melon/dataset/valid/images/V006_77_0_00_10_01_13_0_b09_20201020_0012_S01_1_jpg.rf.e6b731e50d435efcbfb3011532e55609.jpg: 320x640 1 fruit, 4.7ms\n",
      "image 18/101 /home/leedh/바탕화면/korean_melon/dataset/valid/images/V006_77_0_00_10_01_13_0_b09_20201020_0029_S01_1_jpg.rf.5e4d649ca4fbceb3edd4f886e1e9ae10.jpg: 320x640 3 fruits, 4.6ms\n",
      "image 19/101 /home/leedh/바탕화면/korean_melon/dataset/valid/images/V006_77_0_00_10_01_13_0_b09_20201020_0037_S01_1_jpg.rf.40500090d83605647516360a657931ea.jpg: 320x640 1 fruit, 4.7ms\n",
      "image 20/101 /home/leedh/바탕화면/korean_melon/dataset/valid/images/V006_77_0_00_10_01_13_0_b09_20201020_0047_S01_1_jpg.rf.6ac6e3d08b24d874744b4a9cc1ccf9c2.jpg: 320x640 1 fruit, 4.6ms\n",
      "image 21/101 /home/leedh/바탕화면/korean_melon/dataset/valid/images/V006_77_0_00_10_01_13_0_c34_20201020_0013_S01_1_jpg.rf.d489ddce8254654536df1bb731569dcd.jpg: 480x640 1 fruit, 5.6ms\n",
      "image 22/101 /home/leedh/바탕화면/korean_melon/dataset/valid/images/V006_77_0_00_10_01_13_0_c34_20201020_0020_S01_1_jpg.rf.2a818054b63492cd44a787869a95620e.jpg: 480x640 2 fruits, 5.3ms\n",
      "image 23/101 /home/leedh/바탕화면/korean_melon/dataset/valid/images/V006_77_0_00_10_01_13_0_c34_20201020_0022_S01_1_jpg.rf.b60dd88a130ac8766f4b9cb74c9ba156.jpg: 480x640 1 fruit, 5.4ms\n",
      "image 24/101 /home/leedh/바탕화면/korean_melon/dataset/valid/images/V006_77_0_00_10_01_13_0_c34_20201020_0030_S01_1_jpg.rf.4ba84bcb8972109c54d273cfa50902ec.jpg: 480x640 1 fruit, 5.4ms\n",
      "image 25/101 /home/leedh/바탕화면/korean_melon/dataset/valid/images/V006_77_0_00_10_01_13_0_c34_20201020_0051_S01_1_jpg.rf.696168b7023de4ae336249c404e083f3.jpg: 480x640 1 fruit, 5.4ms\n",
      "image 26/101 /home/leedh/바탕화면/korean_melon/dataset/valid/images/V006_77_0_00_10_01_13_0_c34_20201020_0054_S01_1_jpg.rf.02cb4c2c16b69544454b028f2a46132b.jpg: 480x640 1 fruit, 5.4ms\n",
      "image 27/101 /home/leedh/바탕화면/korean_melon/dataset/valid/images/V006_77_0_00_10_01_13_0_c34_20201020_0055_S01_1_jpg.rf.28e097980ad81a8a3972f13c8f46d9b0.jpg: 480x640 2 fruits, 5.4ms\n",
      "image 28/101 /home/leedh/바탕화면/korean_melon/dataset/valid/images/V006_77_0_00_10_01_13_0_c34_20201020_0057_S01_1_jpg.rf.68fe851488d08dd6bd5b630acd967960.jpg: 480x640 1 fruit, 5.4ms\n",
      "image 29/101 /home/leedh/바탕화면/korean_melon/dataset/valid/images/V006_77_0_00_10_01_13_0_c34_20201020_0059_S01_1_jpg.rf.13baa4951bb54d1bb361985065a83174.jpg: 480x640 2 fruits, 5.4ms\n",
      "image 30/101 /home/leedh/바탕화면/korean_melon/dataset/valid/images/V006_77_0_00_10_01_13_0_c34_20201020_0060_S01_1_jpg.rf.17908be7fb381d620b4164eb2ce8fe25.jpg: 480x640 2 fruits, 5.4ms\n",
      "image 31/101 /home/leedh/바탕화면/korean_melon/dataset/valid/images/V006_77_0_00_10_01_13_0_c35_20201020_0011_S01_1_jpg.rf.0cbd912ef1be7b279466486fabe4e1af.jpg: 480x640 1 fruit, 5.4ms\n",
      "image 32/101 /home/leedh/바탕화면/korean_melon/dataset/valid/images/V006_77_0_00_10_01_13_0_c35_20201020_0013_S01_1_jpg.rf.38b802fe5e35d66a5f76dedd60477da7.jpg: 480x640 1 fruit, 5.4ms\n",
      "image 33/101 /home/leedh/바탕화면/korean_melon/dataset/valid/images/V006_77_0_00_10_01_13_0_c35_20201020_0027_S01_1_jpg.rf.df77d38aeedf7197cf7c4a7d11c02e80.jpg: 480x640 3 fruits, 5.4ms\n",
      "image 34/101 /home/leedh/바탕화면/korean_melon/dataset/valid/images/V006_77_0_00_10_01_13_0_c35_20201020_0028_S01_1_jpg.rf.0332a0aa98e06fa642ebc3087faf7498.jpg: 480x640 2 fruits, 5.4ms\n",
      "image 35/101 /home/leedh/바탕화면/korean_melon/dataset/valid/images/V006_77_0_00_10_01_13_0_c35_20201020_0036_S01_1_jpg.rf.0720d9374c393de32c04d411822bc14f.jpg: 480x640 1 fruit, 5.4ms\n",
      "image 36/101 /home/leedh/바탕화면/korean_melon/dataset/valid/images/V006_77_0_00_10_01_13_0_c35_20201020_0038_S01_1_jpg.rf.0045898a31dc92be27932fad3423309b.jpg: 480x640 1 fruit, 5.4ms\n",
      "image 37/101 /home/leedh/바탕화면/korean_melon/dataset/valid/images/V006_77_0_00_10_01_13_0_c35_20201020_0041_S01_1_jpg.rf.931b0385ae684af5336d88ca0da2418e.jpg: 480x640 1 fruit, 5.4ms\n",
      "image 38/101 /home/leedh/바탕화면/korean_melon/dataset/valid/images/V006_77_0_00_10_01_13_0_c35_20201020_0051_S01_1_jpg.rf.300ce93842c36eab7d9ca6d30a6c0285.jpg: 480x640 2 fruits, 5.4ms\n",
      "image 39/101 /home/leedh/바탕화면/korean_melon/dataset/valid/images/V006_77_0_00_10_01_13_0_c35_20201020_0052_S01_1_jpg.rf.280c04bcc53085251ee7fd70ee6cc36a.jpg: 480x640 1 fruit, 5.4ms\n",
      "image 40/101 /home/leedh/바탕화면/korean_melon/dataset/valid/images/V006_77_0_00_10_01_13_0_c35_20201020_0064_S01_1_jpg.rf.341188bf8d74272ade185c5966a0e19f.jpg: 480x640 1 fruit, 5.4ms\n",
      "image 41/101 /home/leedh/바탕화면/korean_melon/dataset/valid/images/V006_77_0_00_10_01_13_0_c35_20201020_0066_S01_1_jpg.rf.0436300a7984ad16235bd609b73aff0b.jpg: 480x640 3 fruits, 5.4ms\n",
      "image 42/101 /home/leedh/바탕화면/korean_melon/dataset/valid/images/V006_77_0_00_10_01_13_0_c35_20201020_0069_S01_1_jpg.rf.e2d5ee06f5009283894660d27cfe9980.jpg: 480x640 2 fruits, 5.4ms\n",
      "image 43/101 /home/leedh/바탕화면/korean_melon/dataset/valid/images/V006_77_0_00_10_01_13_0_c35_20201020_0070_S01_1_jpg.rf.7fb4981c5a6383eb244ccde317905cc6.jpg: 480x640 2 fruits, 5.4ms\n",
      "image 44/101 /home/leedh/바탕화면/korean_melon/dataset/valid/images/V006_77_0_00_10_01_13_0_c35_20201020_0077_S01_1_jpg.rf.054761a49734dba030c0c57b989065fb.jpg: 480x640 2 fruits, 5.4ms\n",
      "image 45/101 /home/leedh/바탕화면/korean_melon/dataset/valid/images/V006_77_0_00_10_01_13_0_c35_20201020_0083_S01_1_jpg.rf.ea9e2fd460ab7dceee0dcb4776611368.jpg: 480x640 2 fruits, 5.4ms\n",
      "image 46/101 /home/leedh/바탕화면/korean_melon/dataset/valid/images/V006_77_0_00_10_01_13_0_c43_20201020_0000_S01_1_jpg.rf.40344a2a662df3c7e0baa89032ccee3f.jpg: 480x640 1 fruit, 5.4ms\n",
      "image 47/101 /home/leedh/바탕화면/korean_melon/dataset/valid/images/V006_77_0_00_10_01_13_0_c43_20201020_0002_S01_1_jpg.rf.b2a59c6e46a923d95d127a77b3d74f93.jpg: 480x640 1 fruit, 5.4ms\n",
      "image 48/101 /home/leedh/바탕화면/korean_melon/dataset/valid/images/V006_77_0_00_10_01_13_0_c43_20201020_0009_S01_1_jpg.rf.172ef14844a65b58946c19fbb6aa656e.jpg: 480x640 1 fruit, 5.4ms\n",
      "image 49/101 /home/leedh/바탕화면/korean_melon/dataset/valid/images/V006_77_0_00_10_01_13_0_c43_20201020_0020_S01_1_jpg.rf.820675c8a2c7b5d0b8b1730840fe74f5.jpg: 480x640 1 fruit, 5.4ms\n",
      "image 50/101 /home/leedh/바탕화면/korean_melon/dataset/valid/images/V006_77_0_00_10_01_13_0_c43_20201020_0021_S01_1_jpg.rf.bd3d1b46348caef377f229507ad1f8a8.jpg: 480x640 1 fruit, 5.4ms\n",
      "image 51/101 /home/leedh/바탕화면/korean_melon/dataset/valid/images/V006_77_0_00_10_01_13_0_c43_20201020_0032_S01_1_jpg.rf.91f2d00856d99551436ef1ddf2be9bee.jpg: 480x640 1 fruit, 5.4ms\n",
      "image 52/101 /home/leedh/바탕화면/korean_melon/dataset/valid/images/V006_77_0_00_10_01_13_0_c43_20201020_0037_S01_1_jpg.rf.a6fa10ce8f63c5a34b5ed0c361dc3c27.jpg: 480x640 1 fruit, 5.4ms\n",
      "image 53/101 /home/leedh/바탕화면/korean_melon/dataset/valid/images/V006_77_0_00_10_01_13_0_c43_20201020_0052_S01_1_jpg.rf.89f00e3fcf2f6db7436846e84002586c.jpg: 480x640 1 fruit, 5.4ms\n",
      "image 54/101 /home/leedh/바탕화면/korean_melon/dataset/valid/images/V006_77_0_00_10_01_13_0_c43_20201020_0055_S01_1_jpg.rf.3852a65e8d420aee65d0e1cd955b88c4.jpg: 480x640 1 fruit, 5.4ms\n",
      "image 55/101 /home/leedh/바탕화면/korean_melon/dataset/valid/images/V006_77_0_00_10_01_13_0_c43_20201020_0061_S01_1_jpg.rf.410bc2b3733667439f01465ff6d29905.jpg: 480x640 1 fruit, 5.4ms\n",
      "image 56/101 /home/leedh/바탕화면/korean_melon/dataset/valid/images/V006_77_0_00_10_01_13_0_c43_20201020_0082_S01_1_jpg.rf.60686936f9ee68457611b6c5c475714d.jpg: 480x640 2 fruits, 5.4ms\n",
      "image 57/101 /home/leedh/바탕화면/korean_melon/dataset/valid/images/V006_77_0_00_10_01_13_0_c43_20201020_0085_S01_1_jpg.rf.f109ef08ff42b39b4f1a1f6dc618e7aa.jpg: 480x640 1 fruit, 5.4ms\n",
      "image 58/101 /home/leedh/바탕화면/korean_melon/dataset/valid/images/V006_77_0_00_10_01_13_0_c43_20201020_0090_S01_1_jpg.rf.0e0b57f8bb1cce27252a5f157bce18d6.jpg: 480x640 1 fruit, 5.3ms\n",
      "image 59/101 /home/leedh/바탕화면/korean_melon/dataset/valid/images/V006_77_0_00_10_01_13_0_c43_20201020_0097_S01_1_jpg.rf.57cbef53d34bd215e6c51e0b50763a36.jpg: 480x640 1 fruit, 5.4ms\n",
      "image 60/101 /home/leedh/바탕화면/korean_melon/dataset/valid/images/V006_77_0_00_10_01_13_0_c43_20201020_0108_S01_1_jpg.rf.34ecfafe103e2b5d29149800b30cd737.jpg: 480x640 1 fruit, 5.4ms\n",
      "image 61/101 /home/leedh/바탕화면/korean_melon/dataset/valid/images/V006_77_0_00_10_01_13_0_c43_20201020_0134_S01_1_jpg.rf.09ac693235136d3b521987a4e92c1564.jpg: 480x640 1 fruit, 5.4ms\n",
      "image 62/101 /home/leedh/바탕화면/korean_melon/dataset/valid/images/V006_77_0_00_10_01_13_0_c43_20201020_0138_S01_1_jpg.rf.27a95d873fa51f240c1e46c7ca8a8ac1.jpg: 480x640 1 fruit, 5.4ms\n",
      "image 63/101 /home/leedh/바탕화면/korean_melon/dataset/valid/images/V006_77_0_00_10_01_13_0_c43_20201020_0142_S01_1_jpg.rf.0b977fd214f0143ff4c299af4cc00964.jpg: 480x640 2 fruits, 5.4ms\n",
      "image 64/101 /home/leedh/바탕화면/korean_melon/dataset/valid/images/V006_77_0_00_10_01_13_0_c43_20201020_0156_S01_1_jpg.rf.723c6a0d1fa11b641658a7c4e8b97cfd.jpg: 480x640 1 fruit, 5.4ms\n",
      "image 65/101 /home/leedh/바탕화면/korean_melon/dataset/valid/images/V006_77_0_00_10_02_13_0_b08_20201027_0003_S01_1_jpg.rf.54b87f8a238c2c214eac0eeb9ba5b0af.jpg: 480x640 3 flowers, 5.4ms\n",
      "image 66/101 /home/leedh/바탕화면/korean_melon/dataset/valid/images/V006_77_0_00_10_02_13_0_b08_20201027_0010_S01_1_jpg.rf.bd7d7a611404040bccd889f40b8e9359.jpg: 480x640 1 flower, 5.4ms\n",
      "image 67/101 /home/leedh/바탕화면/korean_melon/dataset/valid/images/V006_77_0_00_10_02_13_0_b08_20201027_0013_S01_1_jpg.rf.a17beb2041b4ba82f590fbd7e3b1c6c1.jpg: 480x640 3 flowers, 5.4ms\n",
      "image 68/101 /home/leedh/바탕화면/korean_melon/dataset/valid/images/V006_77_0_00_10_02_13_0_b08_20201027_0019_S01_1_jpg.rf.64c03d413f7ac264c31777e5bfd51e98.jpg: 480x640 2 flowers, 5.4ms\n",
      "image 69/101 /home/leedh/바탕화면/korean_melon/dataset/valid/images/V006_77_0_00_10_02_13_0_b08_20201027_0021_S01_1_jpg.rf.bce1fa605811887b6f595a72027c6ac0.jpg: 480x640 1 flower, 5.4ms\n",
      "image 70/101 /home/leedh/바탕화면/korean_melon/dataset/valid/images/V006_77_0_00_10_02_13_0_b08_20201027_0025_S01_1_jpg.rf.f77fb198c193b3dab34e6d1a4555e7f5.jpg: 480x640 1 flower, 5.4ms\n",
      "image 71/101 /home/leedh/바탕화면/korean_melon/dataset/valid/images/V006_77_0_00_10_02_13_0_b08_20201027_0027_S01_1_jpg.rf.148e80a109cfce081a9d321998de8c4d.jpg: 480x640 2 flowers, 5.4ms\n",
      "image 72/101 /home/leedh/바탕화면/korean_melon/dataset/valid/images/V006_77_0_00_10_02_13_0_b08_20201027_0028_S01_1_jpg.rf.f4e14376e317376b1125f80643b80053.jpg: 480x640 1 flower, 5.4ms\n",
      "image 73/101 /home/leedh/바탕화면/korean_melon/dataset/valid/images/V006_77_0_00_10_02_13_0_b08_20201027_0029_S01_1_jpg.rf.0416ab56c099d3d20144c2f9d9d52003.jpg: 480x640 1 flower, 5.4ms\n",
      "image 74/101 /home/leedh/바탕화면/korean_melon/dataset/valid/images/V006_77_0_00_10_02_13_0_b09_20201027_0001_S01_1_jpg.rf.1212b78d623b91890fd7bfa2b34819e0.jpg: 320x640 1 flower, 4.8ms\n",
      "image 75/101 /home/leedh/바탕화면/korean_melon/dataset/valid/images/V006_77_0_00_10_02_13_0_b09_20201027_0004_S01_1_jpg.rf.ef0212f559f9598389d69a1b8424063a.jpg: 320x640 1 flower, 4.6ms\n",
      "image 76/101 /home/leedh/바탕화면/korean_melon/dataset/valid/images/V006_77_0_00_10_02_13_0_b09_20201027_0006_S01_1_jpg.rf.00edf66d1acb7bc35ab77fbcc2467a7b.jpg: 320x640 1 flower, 4.7ms\n",
      "image 77/101 /home/leedh/바탕화면/korean_melon/dataset/valid/images/V006_77_0_00_10_02_13_0_b09_20201027_0016_S01_1_jpg.rf.c8b62c20c0520c405ca10d5581c87cac.jpg: 320x640 2 flowers, 4.7ms\n",
      "image 78/101 /home/leedh/바탕화면/korean_melon/dataset/valid/images/V006_77_0_00_10_02_13_0_c35_20201027_0003_S01_1_jpg.rf.c5c3ba9de16bf59acb2f380b5ff428da.jpg: 480x640 1 flower, 5.6ms\n",
      "image 79/101 /home/leedh/바탕화면/korean_melon/dataset/valid/images/V006_77_0_00_10_02_13_0_c35_20201027_0004_S01_1_jpg.rf.686898f8522c4bd9f30c953563ab1112.jpg: 480x640 1 flower, 5.4ms\n",
      "image 80/101 /home/leedh/바탕화면/korean_melon/dataset/valid/images/V006_77_0_00_10_02_13_0_c35_20201027_0009_S01_1_jpg.rf.2737de604a98181dce2a8265a5b5997e.jpg: 480x640 1 flower, 5.4ms\n",
      "image 81/101 /home/leedh/바탕화면/korean_melon/dataset/valid/images/V006_77_0_00_10_02_13_0_c35_20201027_0033_S01_1_jpg.rf.6d81623ace398e021078eb8676660573.jpg: 480x640 1 flower, 5.4ms\n",
      "image 82/101 /home/leedh/바탕화면/korean_melon/dataset/valid/images/V006_77_0_00_10_02_13_0_c35_20201027_0046_S01_1_jpg.rf.c0dc29ff0b95c270e5f43f9fd7844fb3.jpg: 480x640 3 flowers, 5.4ms\n",
      "image 83/101 /home/leedh/바탕화면/korean_melon/dataset/valid/images/V006_77_0_00_10_02_13_0_c35_20201027_0048_S01_1_jpg.rf.0ed547c82abea3e0ce5715ca5e4946d1.jpg: 480x640 2 flowers, 5.4ms\n",
      "image 84/101 /home/leedh/바탕화면/korean_melon/dataset/valid/images/V006_77_0_00_10_02_13_0_c35_20201027_0054_S01_1_jpg.rf.7c5df105e4a0c1e068fbb6f9bed3f8a3.jpg: 480x640 1 fruit, 3 flowers, 5.4ms\n",
      "image 85/101 /home/leedh/바탕화면/korean_melon/dataset/valid/images/V006_77_0_00_10_02_13_0_c35_20201027_0056_S01_1_jpg.rf.b0f15a6b050ba623cc74e70d4335a6ca.jpg: 480x640 1 flower, 5.4ms\n",
      "image 86/101 /home/leedh/바탕화면/korean_melon/dataset/valid/images/V006_77_0_00_10_02_13_0_c35_20201027_0057_S01_1_jpg.rf.67166a07a2a6c9da895b10c014ea9aaf.jpg: 480x640 1 flower, 5.4ms\n",
      "image 87/101 /home/leedh/바탕화면/korean_melon/dataset/valid/images/V006_77_0_00_10_02_13_0_c35_20201027_0059_S01_1_jpg.rf.fb19f965df70d906fbf37f235fc31187.jpg: 480x640 1 flower, 5.4ms\n",
      "image 88/101 /home/leedh/바탕화면/korean_melon/dataset/valid/images/V006_77_0_00_10_02_13_0_c35_20201027_0069_S01_1_jpg.rf.fb8172fa203560ede31e2db904b21a27.jpg: 480x640 2 flowers, 5.4ms\n",
      "image 89/101 /home/leedh/바탕화면/korean_melon/dataset/valid/images/V006_77_0_00_10_02_13_0_c43_20201027_0003_S01_1_jpg.rf.a98606eff7d39cbbe8a9dd46e8edfa63.jpg: 480x640 2 flowers, 5.4ms\n",
      "image 90/101 /home/leedh/바탕화면/korean_melon/dataset/valid/images/V006_77_0_00_10_02_13_0_c43_20201027_0013_S01_1_jpg.rf.8cb5bc82e738da3f7efdd9945f89eed0.jpg: 480x640 1 flower, 5.4ms\n",
      "image 91/101 /home/leedh/바탕화면/korean_melon/dataset/valid/images/V006_77_0_00_10_02_13_0_c43_20201027_0016_S01_1_jpg.rf.3381a404fc86b26e7119433b4100ff8b.jpg: 480x640 2 flowers, 5.4ms\n",
      "image 92/101 /home/leedh/바탕화면/korean_melon/dataset/valid/images/V006_77_0_00_10_02_13_0_c43_20201027_0022_S01_1_jpg.rf.28d8216c25f7d104c2f43fa9331d3e4b.jpg: 480x640 1 flower, 5.4ms\n",
      "image 93/101 /home/leedh/바탕화면/korean_melon/dataset/valid/images/V006_77_0_00_10_02_13_0_c43_20201027_0026_S01_1_jpg.rf.420af64a322ef09d0bfeca71e5afcf6f.jpg: 480x640 1 flower, 5.4ms\n",
      "image 94/101 /home/leedh/바탕화면/korean_melon/dataset/valid/images/V006_77_0_00_10_02_13_0_c43_20201027_0041_S01_1_jpg.rf.b136fff808078f38792014f33c07ba58.jpg: 480x640 1 flower, 5.4ms\n",
      "image 95/101 /home/leedh/바탕화면/korean_melon/dataset/valid/images/V006_77_0_00_10_02_13_0_c43_20201027_0043_S01_1_jpg.rf.8186198fbd2cda5de507ac20253a0b1e.jpg: 480x640 2 flowers, 5.4ms\n",
      "image 96/101 /home/leedh/바탕화면/korean_melon/dataset/valid/images/V006_77_0_00_10_02_13_0_c43_20201027_0044_S01_1_jpg.rf.a0c662bacc19b5bf5aed4dec1a8092a2.jpg: 480x640 1 flower, 5.4ms\n",
      "image 97/101 /home/leedh/바탕화면/korean_melon/dataset/valid/images/V006_77_0_00_10_02_13_0_c43_20201027_0050_S01_1_jpg.rf.9f87e22a6b474e13732afe7703946573.jpg: 480x640 1 flower, 5.4ms\n",
      "image 98/101 /home/leedh/바탕화면/korean_melon/dataset/valid/images/V006_77_0_00_10_02_13_0_c43_20201027_0051_S01_1_jpg.rf.eca4a63fd11e7b027a17152bead58cf6.jpg: 480x640 1 flower, 5.4ms\n",
      "image 99/101 /home/leedh/바탕화면/korean_melon/dataset/valid/images/V006_77_0_00_10_02_13_0_c43_20201027_0055_S01_1_jpg.rf.a808aa3322e921ce91c89aad61db9eb6.jpg: 480x640 3 flowers, 5.4ms\n",
      "image 100/101 /home/leedh/바탕화면/korean_melon/dataset/valid/images/V006_77_0_00_10_02_13_0_c43_20201027_0064_S01_1_jpg.rf.e49d145bcf55ed42fe2288250be66152.jpg: 480x640 1 flower, 5.4ms\n",
      "image 101/101 /home/leedh/바탕화면/korean_melon/dataset/valid/images/V006_77_0_00_10_02_13_0_c43_20201027_0076_S01_1_jpg.rf.db38186beb748841cfa5f6612f157035.jpg: 480x640 1 flower, 5.4ms\n",
      "Speed: 1.3ms preprocess, 5.3ms inference, 0.2ms postprocess per image at shape (1, 3, 480, 640)\n",
      "Results saved to \u001b[1mruns/PID2/CID0/v10x/val_predict\u001b[0m\n"
     ]
    }
   ],
   "source": [
    "# 실제 validation에 대한 predict 결과 저장\n",
    "pred_results = best_model(\n",
    "    source='./dataset/images/val',\n",
    "    conf=train_params['conf'],          # default: 0.25\n",
    "    save=True,\n",
    "    project=f\"{train_params['project']}/{train_params['name']}\",    # Name of the project directory where training outputs are saved\n",
    "    name='val_predict',                 # Name of the project\n",
    ")"
   ]
  },
  {
   "cell_type": "markdown",
   "metadata": {},
   "source": [
    "# Test set"
   ]
  },
  {
   "cell_type": "code",
   "execution_count": 4,
   "metadata": {},
   "outputs": [],
   "source": [
    "from ultralytics import YOLO\n",
    "best_model = YOLO(f\"{train_params['project']}/{train_params['name']}/weights/best.pt\")\n",
    "\n",
    "# test 파라미터 설정\n",
    "test_params = {\n",
    "    'data': train_params['data'],\n",
    "    'batch': train_params['batch'],\n",
    "    'conf': train_params['conf'],\n",
    "    'save_json': True,\n",
    "    'project': f\"{train_params['project']}/{train_params['name']}\",\n",
    "    'name': 'test_performance',\n",
    "    'split': 'test',                        # 'val', 'test', 'train'\n",
    "    'workers': 0,\n",
    "}"
   ]
  },
  {
   "cell_type": "code",
   "execution_count": 5,
   "metadata": {},
   "outputs": [
    {
     "name": "stdout",
     "output_type": "stream",
     "text": [
      "Ultralytics 8.3.31 🚀 Python-3.8.20 torch-2.4.1+cu121 CUDA:0 (NVIDIA GeForce RTX 4090, 24184MiB)\n"
     ]
    },
    {
     "name": "stdout",
     "output_type": "stream",
     "text": [
      "YOLOv10x summary (fused): 503 layers, 31,587,932 parameters, 0 gradients, 169.8 GFLOPs\n"
     ]
    },
    {
     "name": "stderr",
     "output_type": "stream",
     "text": [
      "\u001b[34m\u001b[1mval: \u001b[0mScanning /home/leedh/바탕화면/korean_melon/dataset/test/labels.cache... 69 images, 0 backgrounds, 0 corrupt: 100%|██████████| 69/69 [00:00<?, ?it/s]\n",
      "                 Class     Images  Instances      Box(P          R      mAP50  mAP50-95): 100%|██████████| 5/5 [00:02<00:00,  1.71it/s]\n"
     ]
    },
    {
     "name": "stdout",
     "output_type": "stream",
     "text": [
      "                   all         69        136      0.987       0.83      0.918      0.859\n",
      "                 fruit         45         95      0.975      0.832      0.912      0.842\n",
      "                flower         24         41          1      0.829      0.924      0.875\n",
      "Speed: 0.1ms preprocess, 5.2ms inference, 0.0ms loss, 0.1ms postprocess per image\n",
      "Saving runs/PID2/CID0/v10x/test_performance/predictions.json...\n",
      "Results saved to \u001b[1mruns/PID2/CID0/v10x/test_performance\u001b[0m\n",
      "Run 1: Preprocess time: 0.106 ms, Inference time: 5.210 ms,\n",
      "Postprocess time: 0.061 ms, Total process time: 5.377 ms, FPS: 185.97\n",
      "Ultralytics 8.3.31 🚀 Python-3.8.20 torch-2.4.1+cu121 CUDA:0 (NVIDIA GeForce RTX 4090, 24184MiB)\n"
     ]
    },
    {
     "name": "stderr",
     "output_type": "stream",
     "text": [
      "\u001b[34m\u001b[1mval: \u001b[0mScanning /home/leedh/바탕화면/korean_melon/dataset/test/labels.cache... 69 images, 0 backgrounds, 0 corrupt: 100%|██████████| 69/69 [00:00<?, ?it/s]\n",
      "                 Class     Images  Instances      Box(P          R      mAP50  mAP50-95): 100%|██████████| 5/5 [00:02<00:00,  2.11it/s]\n"
     ]
    },
    {
     "name": "stdout",
     "output_type": "stream",
     "text": [
      "                   all         69        136      0.987       0.83      0.918      0.859\n",
      "                 fruit         45         95      0.975      0.832      0.912      0.842\n",
      "                flower         24         41          1      0.829      0.924      0.875\n",
      "Speed: 0.1ms preprocess, 5.1ms inference, 0.0ms loss, 0.0ms postprocess per image\n",
      "Saving runs/PID2/CID0/v10x/test_performance2/predictions.json...\n",
      "Results saved to \u001b[1mruns/PID2/CID0/v10x/test_performance2\u001b[0m\n",
      "Run 2: Preprocess time: 0.104 ms, Inference time: 5.085 ms,\n",
      "Postprocess time: 0.030 ms, Total process time: 5.219 ms, FPS: 191.62\n",
      "Ultralytics 8.3.31 🚀 Python-3.8.20 torch-2.4.1+cu121 CUDA:0 (NVIDIA GeForce RTX 4090, 24184MiB)\n"
     ]
    },
    {
     "name": "stderr",
     "output_type": "stream",
     "text": [
      "\u001b[34m\u001b[1mval: \u001b[0mScanning /home/leedh/바탕화면/korean_melon/dataset/test/labels.cache... 69 images, 0 backgrounds, 0 corrupt: 100%|██████████| 69/69 [00:00<?, ?it/s]\n",
      "                 Class     Images  Instances      Box(P          R      mAP50  mAP50-95): 100%|██████████| 5/5 [00:02<00:00,  2.10it/s]\n"
     ]
    },
    {
     "name": "stdout",
     "output_type": "stream",
     "text": [
      "                   all         69        136      0.987       0.83      0.918      0.859\n",
      "                 fruit         45         95      0.975      0.832      0.912      0.842\n",
      "                flower         24         41          1      0.829      0.924      0.875\n",
      "Speed: 0.1ms preprocess, 5.2ms inference, 0.0ms loss, 0.0ms postprocess per image\n",
      "Saving runs/PID2/CID0/v10x/test_performance3/predictions.json...\n",
      "Results saved to \u001b[1mruns/PID2/CID0/v10x/test_performance3\u001b[0m\n",
      "Run 3: Preprocess time: 0.104 ms, Inference time: 5.215 ms,\n",
      "Postprocess time: 0.030 ms, Total process time: 5.350 ms, FPS: 186.93\n",
      "Ultralytics 8.3.31 🚀 Python-3.8.20 torch-2.4.1+cu121 CUDA:0 (NVIDIA GeForce RTX 4090, 24184MiB)\n"
     ]
    },
    {
     "name": "stderr",
     "output_type": "stream",
     "text": [
      "\u001b[34m\u001b[1mval: \u001b[0mScanning /home/leedh/바탕화면/korean_melon/dataset/test/labels.cache... 69 images, 0 backgrounds, 0 corrupt: 100%|██████████| 69/69 [00:00<?, ?it/s]\n",
      "                 Class     Images  Instances      Box(P          R      mAP50  mAP50-95): 100%|██████████| 5/5 [00:02<00:00,  1.79it/s]\n"
     ]
    },
    {
     "name": "stdout",
     "output_type": "stream",
     "text": [
      "                   all         69        136      0.987       0.83      0.918      0.859\n",
      "                 fruit         45         95      0.975      0.832      0.912      0.842\n",
      "                flower         24         41          1      0.829      0.924      0.875\n",
      "Speed: 0.1ms preprocess, 5.1ms inference, 0.0ms loss, 0.0ms postprocess per image\n",
      "Saving runs/PID2/CID0/v10x/test_performance4/predictions.json...\n",
      "Results saved to \u001b[1mruns/PID2/CID0/v10x/test_performance4\u001b[0m\n",
      "Run 4: Preprocess time: 0.104 ms, Inference time: 5.125 ms,\n",
      "Postprocess time: 0.029 ms, Total process time: 5.258 ms, FPS: 190.17\n",
      "Ultralytics 8.3.31 🚀 Python-3.8.20 torch-2.4.1+cu121 CUDA:0 (NVIDIA GeForce RTX 4090, 24184MiB)\n"
     ]
    },
    {
     "name": "stderr",
     "output_type": "stream",
     "text": [
      "\u001b[34m\u001b[1mval: \u001b[0mScanning /home/leedh/바탕화면/korean_melon/dataset/test/labels.cache... 69 images, 0 backgrounds, 0 corrupt: 100%|██████████| 69/69 [00:00<?, ?it/s]\n",
      "                 Class     Images  Instances      Box(P          R      mAP50  mAP50-95): 100%|██████████| 5/5 [00:02<00:00,  2.04it/s]\n"
     ]
    },
    {
     "name": "stdout",
     "output_type": "stream",
     "text": [
      "                   all         69        136      0.987       0.83      0.918      0.859\n",
      "                 fruit         45         95      0.975      0.832      0.912      0.842\n",
      "                flower         24         41          1      0.829      0.924      0.875\n",
      "Speed: 0.1ms preprocess, 5.2ms inference, 0.0ms loss, 0.0ms postprocess per image\n",
      "Saving runs/PID2/CID0/v10x/test_performance5/predictions.json...\n",
      "Results saved to \u001b[1mruns/PID2/CID0/v10x/test_performance5\u001b[0m\n",
      "Run 5: Preprocess time: 0.104 ms, Inference time: 5.177 ms,\n",
      "Postprocess time: 0.030 ms, Total process time: 5.311 ms, FPS: 188.28\n",
      "Ultralytics 8.3.31 🚀 Python-3.8.20 torch-2.4.1+cu121 CUDA:0 (NVIDIA GeForce RTX 4090, 24184MiB)\n"
     ]
    },
    {
     "name": "stderr",
     "output_type": "stream",
     "text": [
      "\u001b[34m\u001b[1mval: \u001b[0mScanning /home/leedh/바탕화면/korean_melon/dataset/test/labels.cache... 69 images, 0 backgrounds, 0 corrupt: 100%|██████████| 69/69 [00:00<?, ?it/s]\n",
      "                 Class     Images  Instances      Box(P          R      mAP50  mAP50-95): 100%|██████████| 5/5 [00:02<00:00,  2.12it/s]\n"
     ]
    },
    {
     "name": "stdout",
     "output_type": "stream",
     "text": [
      "                   all         69        136      0.987       0.83      0.918      0.859\n",
      "                 fruit         45         95      0.975      0.832      0.912      0.842\n",
      "                flower         24         41          1      0.829      0.924      0.875\n",
      "Speed: 0.1ms preprocess, 5.1ms inference, 0.0ms loss, 0.0ms postprocess per image\n",
      "Saving runs/PID2/CID0/v10x/test_performance6/predictions.json...\n",
      "Results saved to \u001b[1mruns/PID2/CID0/v10x/test_performance6\u001b[0m\n",
      "Run 6: Preprocess time: 0.104 ms, Inference time: 5.126 ms,\n",
      "Postprocess time: 0.028 ms, Total process time: 5.258 ms, FPS: 190.18\n",
      "Ultralytics 8.3.31 🚀 Python-3.8.20 torch-2.4.1+cu121 CUDA:0 (NVIDIA GeForce RTX 4090, 24184MiB)\n"
     ]
    },
    {
     "name": "stderr",
     "output_type": "stream",
     "text": [
      "\u001b[34m\u001b[1mval: \u001b[0mScanning /home/leedh/바탕화면/korean_melon/dataset/test/labels.cache... 69 images, 0 backgrounds, 0 corrupt: 100%|██████████| 69/69 [00:00<?, ?it/s]\n",
      "                 Class     Images  Instances      Box(P          R      mAP50  mAP50-95): 100%|██████████| 5/5 [00:02<00:00,  2.10it/s]\n"
     ]
    },
    {
     "name": "stdout",
     "output_type": "stream",
     "text": [
      "                   all         69        136      0.987       0.83      0.918      0.859\n",
      "                 fruit         45         95      0.975      0.832      0.912      0.842\n",
      "                flower         24         41          1      0.829      0.924      0.875\n",
      "Speed: 0.1ms preprocess, 5.2ms inference, 0.0ms loss, 0.0ms postprocess per image\n",
      "Saving runs/PID2/CID0/v10x/test_performance7/predictions.json...\n",
      "Results saved to \u001b[1mruns/PID2/CID0/v10x/test_performance7\u001b[0m\n",
      "Run 7: Preprocess time: 0.104 ms, Inference time: 5.246 ms,\n",
      "Postprocess time: 0.029 ms, Total process time: 5.380 ms, FPS: 185.88\n",
      "Ultralytics 8.3.31 🚀 Python-3.8.20 torch-2.4.1+cu121 CUDA:0 (NVIDIA GeForce RTX 4090, 24184MiB)\n"
     ]
    },
    {
     "name": "stderr",
     "output_type": "stream",
     "text": [
      "\u001b[34m\u001b[1mval: \u001b[0mScanning /home/leedh/바탕화면/korean_melon/dataset/test/labels.cache... 69 images, 0 backgrounds, 0 corrupt: 100%|██████████| 69/69 [00:00<?, ?it/s]\n",
      "                 Class     Images  Instances      Box(P          R      mAP50  mAP50-95): 100%|██████████| 5/5 [00:02<00:00,  1.82it/s]\n"
     ]
    },
    {
     "name": "stdout",
     "output_type": "stream",
     "text": [
      "                   all         69        136      0.987       0.83      0.918      0.859\n",
      "                 fruit         45         95      0.975      0.832      0.912      0.842\n",
      "                flower         24         41          1      0.829      0.924      0.875\n",
      "Speed: 0.1ms preprocess, 5.2ms inference, 0.0ms loss, 0.0ms postprocess per image\n",
      "Saving runs/PID2/CID0/v10x/test_performance8/predictions.json...\n",
      "Results saved to \u001b[1mruns/PID2/CID0/v10x/test_performance8\u001b[0m\n",
      "Run 8: Preprocess time: 0.104 ms, Inference time: 5.154 ms,\n",
      "Postprocess time: 0.029 ms, Total process time: 5.288 ms, FPS: 189.11\n",
      "Ultralytics 8.3.31 🚀 Python-3.8.20 torch-2.4.1+cu121 CUDA:0 (NVIDIA GeForce RTX 4090, 24184MiB)\n"
     ]
    },
    {
     "name": "stderr",
     "output_type": "stream",
     "text": [
      "\u001b[34m\u001b[1mval: \u001b[0mScanning /home/leedh/바탕화면/korean_melon/dataset/test/labels.cache... 69 images, 0 backgrounds, 0 corrupt: 100%|██████████| 69/69 [00:00<?, ?it/s]\n",
      "                 Class     Images  Instances      Box(P          R      mAP50  mAP50-95): 100%|██████████| 5/5 [00:02<00:00,  1.89it/s]\n"
     ]
    },
    {
     "name": "stdout",
     "output_type": "stream",
     "text": [
      "                   all         69        136      0.987       0.83      0.918      0.859\n",
      "                 fruit         45         95      0.975      0.832      0.912      0.842\n",
      "                flower         24         41          1      0.829      0.924      0.875\n",
      "Speed: 0.1ms preprocess, 5.1ms inference, 0.0ms loss, 0.0ms postprocess per image\n",
      "Saving runs/PID2/CID0/v10x/test_performance9/predictions.json...\n",
      "Results saved to \u001b[1mruns/PID2/CID0/v10x/test_performance9\u001b[0m\n",
      "Run 9: Preprocess time: 0.104 ms, Inference time: 5.091 ms,\n",
      "Postprocess time: 0.029 ms, Total process time: 5.224 ms, FPS: 191.44\n",
      "Ultralytics 8.3.31 🚀 Python-3.8.20 torch-2.4.1+cu121 CUDA:0 (NVIDIA GeForce RTX 4090, 24184MiB)\n"
     ]
    },
    {
     "name": "stderr",
     "output_type": "stream",
     "text": [
      "\u001b[34m\u001b[1mval: \u001b[0mScanning /home/leedh/바탕화면/korean_melon/dataset/test/labels.cache... 69 images, 0 backgrounds, 0 corrupt: 100%|██████████| 69/69 [00:00<?, ?it/s]\n",
      "                 Class     Images  Instances      Box(P          R      mAP50  mAP50-95): 100%|██████████| 5/5 [00:02<00:00,  2.05it/s]\n"
     ]
    },
    {
     "name": "stdout",
     "output_type": "stream",
     "text": [
      "                   all         69        136      0.987       0.83      0.918      0.859\n",
      "                 fruit         45         95      0.975      0.832      0.912      0.842\n",
      "                flower         24         41          1      0.829      0.924      0.875\n",
      "Speed: 0.1ms preprocess, 5.1ms inference, 0.0ms loss, 0.0ms postprocess per image\n",
      "Saving runs/PID2/CID0/v10x/test_performance10/predictions.json...\n",
      "Results saved to \u001b[1mruns/PID2/CID0/v10x/test_performance10\u001b[0m\n",
      "Run 10: Preprocess time: 0.104 ms, Inference time: 5.088 ms,\n",
      "Postprocess time: 0.029 ms, Total process time: 5.221 ms, FPS: 191.53\n",
      "<<< Average time >>>\n",
      "Preprocess: 0.104 ms, Inference: 5.152 ms, Postprocess: 0.032,Total: 5.289, FPS: 189.11\n"
     ]
    }
   ],
   "source": [
    "# validation dataset 성능 평가\n",
    "def check_val_results(test_params, num_runs=10):\n",
    "    preprocess_times, inference_times, postprocess_times, total_times, n_fps = [], [], [], [], []\n",
    "    for i in range(num_runs):\n",
    "        test_results = best_model.val(**test_params)\n",
    "\n",
    "        preprocess_time = test_results.speed['preprocess']\n",
    "        inference_time = test_results.speed['inference']\n",
    "        postprocess_time = test_results.speed['postprocess']\n",
    "\n",
    "        total_time = sum(test_results.speed.values())\n",
    "        fps = 1000 / total_time\n",
    "\n",
    "        preprocess_times.append(preprocess_time)\n",
    "        inference_times.append(inference_time)\n",
    "        postprocess_times.append(postprocess_time)\n",
    "        total_times.append(total_time)\n",
    "        n_fps.append(fps)\n",
    "\n",
    "        print(f\"Run {i+1}: Preprocess time: {preprocess_time:.3f} ms, Inference time: {inference_time:.3f} ms,\\nPostprocess time: {postprocess_time:.3f} ms, Total process time: {total_time:.3f} ms, FPS: {fps:.2f}\")\n",
    "\n",
    "    average_preprocess_time = sum(preprocess_times) / num_runs\n",
    "    average_inference_time = sum(inference_times) / num_runs\n",
    "    average_postprocess_time = sum(postprocess_times) / num_runs\n",
    "    average_total_time = sum(total_times) / num_runs\n",
    "    average_fps = sum(n_fps) / num_runs\n",
    "    print(f\"<<< Average time >>>\\nPreprocess: {average_preprocess_time:.3f} ms, Inference: {average_inference_time:.3f} ms, Postprocess: {average_postprocess_time:.3f},Total: {average_total_time:.3f}, FPS: {average_fps:.2f}\")\n",
    "\n",
    "check_val_results(test_params, num_runs=10)"
   ]
  },
  {
   "cell_type": "code",
   "execution_count": null,
   "metadata": {},
   "outputs": [
    {
     "name": "stdout",
     "output_type": "stream",
     "text": [
      "\n",
      "image 1/69 /home/leedh/바탕화면/korean_melon/dataset/test/images/V006_77_0_00_10_01_13_0_b08_20201020_0004_S01_1_jpg.rf.3f5164cdcbb425ab7d37cc4135958d40.jpg: 480x640 2 fruits, 21.9ms\n",
      "image 2/69 /home/leedh/바탕화면/korean_melon/dataset/test/images/V006_77_0_00_10_01_13_0_b08_20201020_0006_S01_1_jpg.rf.66bacb01479f85cd427384b2d5a312dd.jpg: 480x640 2 fruits, 5.4ms\n",
      "image 3/69 /home/leedh/바탕화면/korean_melon/dataset/test/images/V006_77_0_00_10_01_13_0_b08_20201020_0019_S01_1_jpg.rf.9c853d8e9fcf40cd7123948c6c55ac96.jpg: 480x640 3 fruits, 5.4ms\n",
      "image 4/69 /home/leedh/바탕화면/korean_melon/dataset/test/images/V006_77_0_00_10_01_13_0_b08_20201020_0027_S01_1_jpg.rf.975e4577856056e18cd5f480f74e313b.jpg: 480x640 2 fruits, 5.4ms\n",
      "image 5/69 /home/leedh/바탕화면/korean_melon/dataset/test/images/V006_77_0_00_10_01_13_0_b08_20201020_0030_S01_1_jpg.rf.0390179a9da1858c906699ee1b85534c.jpg: 480x640 2 fruits, 5.4ms\n",
      "image 6/69 /home/leedh/바탕화면/korean_melon/dataset/test/images/V006_77_0_00_10_01_13_0_b08_20201020_0032_S01_1_jpg.rf.b73c4209464c21ca078f9da3c0b583ca.jpg: 480x640 2 fruits, 5.4ms\n",
      "image 7/69 /home/leedh/바탕화면/korean_melon/dataset/test/images/V006_77_0_00_10_01_13_0_b08_20201020_0035_S01_1_jpg.rf.57c03aaf589cdd42def115f72b8259b7.jpg: 480x640 2 fruits, 5.4ms\n",
      "image 8/69 /home/leedh/바탕화면/korean_melon/dataset/test/images/V006_77_0_00_10_01_13_0_b08_20201020_0043_S01_1_jpg.rf.4fe92baa630e8f2abf09d5b1bd6b6d37.jpg: 480x640 3 fruits, 5.4ms\n",
      "image 9/69 /home/leedh/바탕화면/korean_melon/dataset/test/images/V006_77_0_00_10_01_13_0_b08_20201020_0044_S01_1_jpg.rf.a779f4810c6ee5918e0e0abefb95edac.jpg: 480x640 3 fruits, 5.4ms\n",
      "image 10/69 /home/leedh/바탕화면/korean_melon/dataset/test/images/V006_77_0_00_10_01_13_0_b08_20201020_0047_S01_1_jpg.rf.1b03036b781941f37f2c167a40bd0459.jpg: 480x640 2 fruits, 5.4ms\n",
      "image 11/69 /home/leedh/바탕화면/korean_melon/dataset/test/images/V006_77_0_00_10_01_13_0_b08_20201020_0061_S01_1_jpg.rf.fc120548a18faad712d1b2c46f731f5b.jpg: 480x640 1 fruit, 5.4ms\n",
      "image 12/69 /home/leedh/바탕화면/korean_melon/dataset/test/images/V006_77_0_00_10_01_13_0_b08_20201020_0069_S01_1_jpg.rf.1d281e65437f838ddcbead4f93e56d94.jpg: 640x480 2 fruits, 26.7ms\n",
      "image 13/69 /home/leedh/바탕화면/korean_melon/dataset/test/images/V006_77_0_00_10_01_13_0_b08_20201020_0076_S01_1_jpg.rf.783077b5ae971077625ce24685150cd1.jpg: 480x640 3 fruits, 5.6ms\n",
      "image 14/69 /home/leedh/바탕화면/korean_melon/dataset/test/images/V006_77_0_00_10_01_13_0_b08_20201020_0078_S01_1_jpg.rf.9fe262b37dd010c5f039921753b10ff0.jpg: 480x640 2 fruits, 5.4ms\n",
      "image 15/69 /home/leedh/바탕화면/korean_melon/dataset/test/images/V006_77_0_00_10_01_13_0_b08_20201020_0090_S01_1_jpg.rf.edc05940227b025ce5beb429f68e9c54.jpg: 480x640 2 fruits, 5.4ms\n",
      "image 16/69 /home/leedh/바탕화면/korean_melon/dataset/test/images/V006_77_0_00_10_01_13_0_b09_20201020_0036_S01_1_jpg.rf.881f52fc41df42104f0cfd43a1bc8224.jpg: 320x640 4 fruits, 22.1ms\n",
      "image 17/69 /home/leedh/바탕화면/korean_melon/dataset/test/images/V006_77_0_00_10_01_13_0_b09_20201020_0041_S01_1_jpg.rf.d38f353daaab758c4fc41012d545208d.jpg: 320x640 7 fruits, 4.7ms\n",
      "image 18/69 /home/leedh/바탕화면/korean_melon/dataset/test/images/V006_77_0_00_10_01_13_0_b09_20201020_0042_S01_1_jpg.rf.a7c52f6680d930d1d6e983db150d7649.jpg: 320x640 2 fruits, 4.7ms\n",
      "image 19/69 /home/leedh/바탕화면/korean_melon/dataset/test/images/V006_77_0_00_10_01_13_0_b09_20201020_0043_S01_1_jpg.rf.d7c0bdb8d3b31387560d8b92f5838e37.jpg: 320x640 3 fruits, 4.7ms\n",
      "image 20/69 /home/leedh/바탕화면/korean_melon/dataset/test/images/V006_77_0_00_10_01_13_0_b09_20201020_0045_S01_1_jpg.rf.f46b74fa699b929d1e117e64a01457ad.jpg: 320x640 2 fruits, 4.6ms\n",
      "image 21/69 /home/leedh/바탕화면/korean_melon/dataset/test/images/V006_77_0_00_10_01_13_0_b09_20201020_0052_S01_1_jpg.rf.5ec10625df5b7f0b997889b066ba8cb3.jpg: 320x640 2 fruits, 4.7ms\n",
      "image 22/69 /home/leedh/바탕화면/korean_melon/dataset/test/images/V006_77_0_00_10_01_13_0_c34_20201020_0002_S01_1_jpg.rf.d0e2314a3a076603f16f89cafc981ffd.jpg: 480x640 4 fruits, 5.6ms\n",
      "image 23/69 /home/leedh/바탕화면/korean_melon/dataset/test/images/V006_77_0_00_10_01_13_0_c34_20201020_0011_S01_1_jpg.rf.614db17c7d38410a5b867f25c04249a3.jpg: 480x640 4 fruits, 5.4ms\n",
      "image 24/69 /home/leedh/바탕화면/korean_melon/dataset/test/images/V006_77_0_00_10_01_13_0_c34_20201020_0014_S01_1_jpg.rf.9bba062c4eaa45bf23e6ba3d4bae310f.jpg: 480x640 1 fruit, 5.4ms\n",
      "image 25/69 /home/leedh/바탕화면/korean_melon/dataset/test/images/V006_77_0_00_10_01_13_0_c34_20201020_0021_S01_1_jpg.rf.510f9226bbc5ede08891b17b37e2e0c9.jpg: 480x640 4 fruits, 5.4ms\n",
      "image 26/69 /home/leedh/바탕화면/korean_melon/dataset/test/images/V006_77_0_00_10_01_13_0_c34_20201020_0061_S01_1_jpg.rf.90bc1ba5573743a9a77b95baeea38ad9.jpg: 480x640 1 fruit, 5.4ms\n",
      "image 27/69 /home/leedh/바탕화면/korean_melon/dataset/test/images/V006_77_0_00_10_01_13_0_c35_20201020_0024_S01_1_jpg.rf.ad1665b7bd780fa9a79c040623bac873.jpg: 480x640 1 fruit, 5.3ms\n",
      "image 28/69 /home/leedh/바탕화면/korean_melon/dataset/test/images/V006_77_0_00_10_01_13_0_c35_20201020_0025_S01_1_jpg.rf.d9e7e3318690574188dd6446c76e045e.jpg: 480x640 1 fruit, 5.4ms\n",
      "image 29/69 /home/leedh/바탕화면/korean_melon/dataset/test/images/V006_77_0_00_10_01_13_0_c35_20201020_0029_S01_1_jpg.rf.2726e43b05d5ab52c9fab0aa620bd917.jpg: 480x640 2 fruits, 5.4ms\n",
      "image 30/69 /home/leedh/바탕화면/korean_melon/dataset/test/images/V006_77_0_00_10_01_13_0_c35_20201020_0032_S01_1_jpg.rf.4b8dca6d5fdcf1444d8e25a6b9544342.jpg: 480x640 1 fruit, 5.4ms\n",
      "image 31/69 /home/leedh/바탕화면/korean_melon/dataset/test/images/V006_77_0_00_10_01_13_0_c35_20201020_0043_S01_1_jpg.rf.f85c6e997150705bc11fb700605e0593.jpg: 480x640 4 fruits, 5.4ms\n",
      "image 32/69 /home/leedh/바탕화면/korean_melon/dataset/test/images/V006_77_0_00_10_01_13_0_c35_20201020_0058_S01_1_jpg.rf.83e6009b4cd693af76ecca0ee333d7f5.jpg: 480x640 2 fruits, 5.4ms\n",
      "image 33/69 /home/leedh/바탕화면/korean_melon/dataset/test/images/V006_77_0_00_10_01_13_0_c35_20201020_0060_S01_1_jpg.rf.699103ec4a6afc8e14dd27506929c91a.jpg: 480x640 1 fruit, 5.4ms\n",
      "image 34/69 /home/leedh/바탕화면/korean_melon/dataset/test/images/V006_77_0_00_10_01_13_0_c35_20201020_0085_S01_1_jpg.rf.58328fb6baf1fb06a5e5b39f4988eec8.jpg: 480x640 1 fruit, 5.4ms\n",
      "image 35/69 /home/leedh/바탕화면/korean_melon/dataset/test/images/V006_77_0_00_10_01_13_0_c43_20201020_0045_S01_1_jpg.rf.e705ca815b0e9dd4c420836c9e3d0154.jpg: 480x640 1 fruit, 5.4ms\n",
      "image 36/69 /home/leedh/바탕화면/korean_melon/dataset/test/images/V006_77_0_00_10_01_13_0_c43_20201020_0050_S01_1_jpg.rf.d7b1e6ff42fc9f6efa633edd5020fd6e.jpg: 480x640 2 fruits, 5.4ms\n",
      "image 37/69 /home/leedh/바탕화면/korean_melon/dataset/test/images/V006_77_0_00_10_01_13_0_c43_20201020_0076_S01_1_jpg.rf.bef277608c1b0e09045f6de62f69de59.jpg: 480x640 1 fruit, 5.4ms\n",
      "image 38/69 /home/leedh/바탕화면/korean_melon/dataset/test/images/V006_77_0_00_10_01_13_0_c43_20201020_0088_S01_1_jpg.rf.146b35a49dd28f610257b560c0b3b075.jpg: 480x640 1 fruit, 5.4ms\n",
      "image 39/69 /home/leedh/바탕화면/korean_melon/dataset/test/images/V006_77_0_00_10_01_13_0_c43_20201020_0095_S01_1_jpg.rf.9e40ba7ffd845ae95967ea7bb6f1afe2.jpg: 480x640 1 fruit, 5.4ms\n",
      "image 40/69 /home/leedh/바탕화면/korean_melon/dataset/test/images/V006_77_0_00_10_01_13_0_c43_20201020_0099_S01_1_jpg.rf.c6528569e55690854cd81837e9db2517.jpg: 480x640 1 fruit, 5.4ms\n",
      "image 41/69 /home/leedh/바탕화면/korean_melon/dataset/test/images/V006_77_0_00_10_01_13_0_c43_20201020_0106_S01_1_jpg.rf.55b29f5a1d5b043173f7c12c1e5de252.jpg: 480x640 2 fruits, 5.4ms\n",
      "image 42/69 /home/leedh/바탕화면/korean_melon/dataset/test/images/V006_77_0_00_10_01_13_0_c43_20201020_0107_S01_1_jpg.rf.3dedc45d7dc3f4e542ce4bd351cb637a.jpg: 480x640 3 fruits, 5.4ms\n",
      "image 43/69 /home/leedh/바탕화면/korean_melon/dataset/test/images/V006_77_0_00_10_01_13_0_c43_20201020_0127_S01_1_jpg.rf.320c3a6d4b3800770a4e18e8313eabe2.jpg: 480x640 3 fruits, 5.4ms\n",
      "image 44/69 /home/leedh/바탕화면/korean_melon/dataset/test/images/V006_77_0_00_10_01_13_0_c43_20201020_0131_S01_1_jpg.rf.03a1a640827e1364281b92d3214cd404.jpg: 480x640 1 fruit, 5.4ms\n",
      "image 45/69 /home/leedh/바탕화면/korean_melon/dataset/test/images/V006_77_0_00_10_01_13_0_c43_20201020_0150_S01_1_jpg.rf.38ccca923226f555557ab8e4b84dd538.jpg: 480x640 1 fruit, 5.4ms\n",
      "image 46/69 /home/leedh/바탕화면/korean_melon/dataset/test/images/V006_77_0_00_10_02_13_0_b08_20201027_0014_S01_1_jpg.rf.52521e28fe705ca473d497810c962a59.jpg: 480x640 2 flowers, 5.4ms\n",
      "image 47/69 /home/leedh/바탕화면/korean_melon/dataset/test/images/V006_77_0_00_10_02_13_0_b08_20201027_0024_S01_1_jpg.rf.b88fa6013a6b97950bfcdc547229e36c.jpg: 480x640 2 flowers, 5.4ms\n",
      "image 48/69 /home/leedh/바탕화면/korean_melon/dataset/test/images/V006_77_0_00_10_02_13_0_b08_20201027_0033_S01_1_jpg.rf.3649f0ae2fe7e902ecc9031d7570916d.jpg: 480x640 1 flower, 5.4ms\n",
      "image 49/69 /home/leedh/바탕화면/korean_melon/dataset/test/images/V006_77_0_00_10_02_13_0_b09_20201027_0003_S01_1_jpg.rf.ccf851a0d7041cb014764498edba9859.jpg: 320x640 2 flowers, 4.8ms\n",
      "image 50/69 /home/leedh/바탕화면/korean_melon/dataset/test/images/V006_77_0_00_10_02_13_0_c35_20201027_0008_S01_1_jpg.rf.51db2ca103972cf9856ce282ef8a6042.jpg: 480x640 1 flower, 5.6ms\n",
      "image 51/69 /home/leedh/바탕화면/korean_melon/dataset/test/images/V006_77_0_00_10_02_13_0_c35_20201027_0011_S01_1_jpg.rf.873b59f0361d5f36efacff9da9e6ca4a.jpg: 480x640 4 flowers, 5.3ms\n",
      "image 52/69 /home/leedh/바탕화면/korean_melon/dataset/test/images/V006_77_0_00_10_02_13_0_c35_20201027_0013_S01_1_jpg.rf.808a604a85783253cbd967a154883c1f.jpg: 480x640 1 flower, 5.4ms\n",
      "image 53/69 /home/leedh/바탕화면/korean_melon/dataset/test/images/V006_77_0_00_10_02_13_0_c35_20201027_0016_S01_1_jpg.rf.f44d55ba8b64a8a6cef15a4cbb88ee03.jpg: 480x640 2 flowers, 5.3ms\n",
      "image 54/69 /home/leedh/바탕화면/korean_melon/dataset/test/images/V006_77_0_00_10_02_13_0_c35_20201027_0027_S01_1_jpg.rf.e772afc8244a3bb9f396f4c3882a46b9.jpg: 480x640 1 flower, 5.4ms\n",
      "image 55/69 /home/leedh/바탕화면/korean_melon/dataset/test/images/V006_77_0_00_10_02_13_0_c35_20201027_0037_S01_1_jpg.rf.34e33bab625c088a316e3e20f42080ee.jpg: 480x640 1 flower, 5.4ms\n",
      "image 56/69 /home/leedh/바탕화면/korean_melon/dataset/test/images/V006_77_0_00_10_02_13_0_c35_20201027_0038_S01_1_jpg.rf.89b0701a1ea0f1bc2dff0dc2130e1dc9.jpg: 480x640 1 flower, 5.4ms\n",
      "image 57/69 /home/leedh/바탕화면/korean_melon/dataset/test/images/V006_77_0_00_10_02_13_0_c35_20201027_0042_S01_1_jpg.rf.1102ea93787902a62774ac7f87a88b0b.jpg: 480x640 2 flowers, 5.3ms\n",
      "image 58/69 /home/leedh/바탕화면/korean_melon/dataset/test/images/V006_77_0_00_10_02_13_0_c35_20201027_0050_S01_1_jpg.rf.a535479397c3c51063511399c5abe29c.jpg: 480x640 1 flower, 5.3ms\n",
      "image 59/69 /home/leedh/바탕화면/korean_melon/dataset/test/images/V006_77_0_00_10_02_13_0_c35_20201027_0051_S01_1_jpg.rf.d0812e468e859f82f7d3e19d07ed8767.jpg: 480x640 2 flowers, 5.4ms\n",
      "image 60/69 /home/leedh/바탕화면/korean_melon/dataset/test/images/V006_77_0_00_10_02_13_0_c35_20201027_0060_S01_1_jpg.rf.0450968a717860f9d63dbaabf9aa85b3.jpg: 480x640 1 flower, 5.4ms\n",
      "image 61/69 /home/leedh/바탕화면/korean_melon/dataset/test/images/V006_77_0_00_10_02_13_0_c35_20201027_0066_S01_1_jpg.rf.e5c3b7ce8296d5658ac98351336f5b89.jpg: 480x640 2 flowers, 5.4ms\n",
      "image 62/69 /home/leedh/바탕화면/korean_melon/dataset/test/images/V006_77_0_00_10_02_13_0_c43_20201027_0004_S01_1_jpg.rf.b83c366b8f8e03c65509b1dc1c9528f6.jpg: 480x640 1 flower, 5.4ms\n",
      "image 63/69 /home/leedh/바탕화면/korean_melon/dataset/test/images/V006_77_0_00_10_02_13_0_c43_20201027_0023_S01_1_jpg.rf.0907a66414a2c48cd6cc972a43ca85d3.jpg: 480x640 2 flowers, 5.4ms\n",
      "image 64/69 /home/leedh/바탕화면/korean_melon/dataset/test/images/V006_77_0_00_10_02_13_0_c43_20201027_0034_S01_1_jpg.rf.bca39b9e35e9750ce0941c1d0ec235d9.jpg: 480x640 1 flower, 5.4ms\n",
      "image 65/69 /home/leedh/바탕화면/korean_melon/dataset/test/images/V006_77_0_00_10_02_13_0_c43_20201027_0053_S01_1_jpg.rf.69e8d73073290caf1510925fe6c41a50.jpg: 480x640 1 flower, 5.4ms\n",
      "image 66/69 /home/leedh/바탕화면/korean_melon/dataset/test/images/V006_77_0_00_10_02_13_0_c43_20201027_0054_S01_1_jpg.rf.fcd4426481ba1bf872c77fbdad558731.jpg: 480x640 1 flower, 5.4ms\n",
      "image 67/69 /home/leedh/바탕화면/korean_melon/dataset/test/images/V006_77_0_00_10_02_13_0_c43_20201027_0062_S01_1_jpg.rf.ea3d26d861a301863d6ece280b0ae7d2.jpg: 480x640 3 flowers, 5.4ms\n",
      "image 68/69 /home/leedh/바탕화면/korean_melon/dataset/test/images/V006_77_0_00_10_02_13_0_c43_20201027_0065_S01_1_jpg.rf.d50b35bb15ec2e112f804928094b7fc6.jpg: 480x640 2 flowers, 5.4ms\n",
      "image 69/69 /home/leedh/바탕화면/korean_melon/dataset/test/images/V006_77_0_00_10_02_13_0_c43_20201027_0071_S01_1_jpg.rf.4a25f92385cd08f0e6e4c21e06c14cea.jpg: 480x640 2 flowers, 5.4ms\n",
      "Speed: 1.2ms preprocess, 6.1ms inference, 0.2ms postprocess per image at shape (1, 3, 480, 640)\n",
      "Results saved to \u001b[1mruns/PID2/CID0/v10x/test_predict\u001b[0m\n"
     ]
    }
   ],
   "source": [
    "# 실제 validation에 대한 predict 결과 저장\n",
    "pred_results = best_model(\n",
    "    source='./dataset/test/images',\n",
    "    conf=train_params['conf'],          # default: 0.25\n",
    "    save=True,\n",
    "    project=f\"{train_params['project']}/{train_params['name']}\",    # Name of the project directory where training outputs are saved\n",
    "    name='test_predict',                 # Name of the project\n",
    ")"
   ]
  }
 ],
 "metadata": {
  "kernelspec": {
   "display_name": "yolov11",
   "language": "python",
   "name": "python3"
  },
  "language_info": {
   "codemirror_mode": {
    "name": "ipython",
    "version": 3
   },
   "file_extension": ".py",
   "mimetype": "text/x-python",
   "name": "python",
   "nbconvert_exporter": "python",
   "pygments_lexer": "ipython3",
   "version": "3.8.20"
  }
 },
 "nbformat": 4,
 "nbformat_minor": 2
}
