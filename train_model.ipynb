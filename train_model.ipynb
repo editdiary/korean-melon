{
 "cells": [
  {
   "cell_type": "code",
   "execution_count": 7,
   "metadata": {},
   "outputs": [
    {
     "name": "stdout",
     "output_type": "stream",
     "text": [
      "PyTorch version: 2.4.1+cu121\n",
      "CUDA version: 12.1\n",
      "GPU available: True\n",
      "GPU name: NVIDIA GeForce RTX 4090\n"
     ]
    }
   ],
   "source": [
    "# GPU 사용 가능 여부 확인\n",
    "import torch\n",
    "import random\n",
    "import numpy as np\n",
    "\n",
    "print(f\"PyTorch version: {torch.__version__}\")\n",
    "print(f\"CUDA version: {torch.version.cuda}\")\n",
    "print(f\"GPU available: {torch.cuda.is_available()}\")\n",
    "print(f\"GPU name: {torch.cuda.get_device_name(0) if torch.cuda.is_available() else 'None'}\")"
   ]
  },
  {
   "cell_type": "code",
   "execution_count": 8,
   "metadata": {},
   "outputs": [],
   "source": [
    "# 모델 재현을 위한 랜덤시드 고정\n",
    "def set_random_seed(seed_value=42):\n",
    "    # Python의 기본 난수 시드 설정\n",
    "    random.seed(seed_value)\n",
    "    # NumPy 난수 시드 설정\n",
    "    np.random.seed(seed_value)\n",
    "    # PyTorch 난수 시드 설정 (CPU)\n",
    "    torch.manual_seed(seed_value)\n",
    "    # PyTorch 난수 시드 설정 (GPU)\n",
    "    torch.cuda.manual_seed(seed_value)\n",
    "    torch.cuda.manual_seed_all(seed_value)\n",
    "    # CuDNN 설정\n",
    "    torch.backends.cudnn.deterministic = True\n",
    "    torch.backends.cudnn.benchmark = False\n",
    "\n",
    "set_random_seed()"
   ]
  },
  {
   "cell_type": "code",
   "execution_count": 9,
   "metadata": {},
   "outputs": [],
   "source": [
    "# 사전학습된 가중치 파일 불러오기\n",
    "from ultralytics import YOLO\n",
    "\n",
    "model = YOLO('./models/yolov10x.pt')"
   ]
  },
  {
   "cell_type": "code",
   "execution_count": 10,
   "metadata": {},
   "outputs": [],
   "source": [
    "# train 파라미터 설정\n",
    "train_params = {\n",
    "    'data': '/home/leedh/바탕화면/korean_melon/dataset/data.yaml',\n",
    "    'epochs': 100,\n",
    "    'imgsz': 640,\n",
    "    'batch': 16,\n",
    "    'project': './runs',\n",
    "    'name': 'v10x_baseline',\n",
    "    'seed': 42,\n",
    "    #'optimizer': 'adam',           # default='auto' - Options include SGD, Adam, AdamW, NAdam, RAdam, RMSProp etc.\n",
    "    'lr0': 0.01,\n",
    "    'lrf': 0.01,\n",
    "    'conf': 0.05,\n",
    "    'save_json': True,\n",
    "}"
   ]
  },
  {
   "cell_type": "code",
   "execution_count": 11,
   "metadata": {},
   "outputs": [
    {
     "name": "stdout",
     "output_type": "stream",
     "text": [
      "Ultralytics 8.3.31 🚀 Python-3.8.20 torch-2.4.1+cu121 CUDA:0 (NVIDIA GeForce RTX 4090, 24184MiB)\n",
      "\u001b[34m\u001b[1mengine/trainer: \u001b[0mtask=detect, mode=train, model=./models/yolov10x.pt, data=/home/leedh/바탕화면/korean_melon/dataset/data.yaml, epochs=100, time=None, patience=100, batch=16, imgsz=640, save=True, save_period=-1, cache=False, device=None, workers=8, project=./runs, name=v10x_baseline, exist_ok=False, pretrained=True, optimizer=auto, verbose=True, seed=42, deterministic=True, single_cls=False, rect=False, cos_lr=False, close_mosaic=10, resume=False, amp=True, fraction=1.0, profile=False, freeze=None, multi_scale=False, overlap_mask=True, mask_ratio=4, dropout=0.0, val=True, split=val, save_json=True, save_hybrid=False, conf=0.05, iou=0.7, max_det=300, half=False, dnn=False, plots=True, source=None, vid_stride=1, stream_buffer=False, visualize=False, augment=False, agnostic_nms=False, classes=None, retina_masks=False, embed=None, show=False, save_frames=False, save_txt=False, save_conf=False, save_crop=False, show_labels=True, show_conf=True, show_boxes=True, line_width=None, format=torchscript, keras=False, optimize=False, int8=False, dynamic=False, simplify=True, opset=None, workspace=4, nms=False, lr0=0.01, lrf=0.01, momentum=0.937, weight_decay=0.0005, warmup_epochs=3.0, warmup_momentum=0.8, warmup_bias_lr=0.1, box=7.5, cls=0.5, dfl=1.5, pose=12.0, kobj=1.0, label_smoothing=0.0, nbs=64, hsv_h=0.015, hsv_s=0.7, hsv_v=0.4, degrees=0.0, translate=0.1, scale=0.5, shear=0.0, perspective=0.0, flipud=0.0, fliplr=0.5, bgr=0.0, mosaic=1.0, mixup=0.0, copy_paste=0.0, copy_paste_mode=flip, auto_augment=randaugment, erasing=0.4, crop_fraction=1.0, cfg=None, tracker=botsort.yaml, save_dir=runs/v10x_baseline\n",
      "Overriding model.yaml nc=80 with nc=2\n",
      "\n",
      "                   from  n    params  module                                       arguments                     \n",
      "  0                  -1  1      2320  ultralytics.nn.modules.conv.Conv             [3, 80, 3, 2]                 \n",
      "  1                  -1  1    115520  ultralytics.nn.modules.conv.Conv             [80, 160, 3, 2]               \n",
      "  2                  -1  3    436800  ultralytics.nn.modules.block.C2f             [160, 160, 3, True]           \n",
      "  3                  -1  1    461440  ultralytics.nn.modules.conv.Conv             [160, 320, 3, 2]              \n",
      "  4                  -1  6   3281920  ultralytics.nn.modules.block.C2f             [320, 320, 6, True]           \n",
      "  5                  -1  1    213120  ultralytics.nn.modules.block.SCDown          [320, 640, 3, 2]              \n",
      "  6                  -1  6   4604160  ultralytics.nn.modules.block.C2fCIB          [640, 640, 6, True]           \n",
      "  7                  -1  1    417920  ultralytics.nn.modules.block.SCDown          [640, 640, 3, 2]              \n",
      "  8                  -1  3   2712960  ultralytics.nn.modules.block.C2fCIB          [640, 640, 3, True]           \n",
      "  9                  -1  1   1025920  ultralytics.nn.modules.block.SPPF            [640, 640, 5]                 \n",
      " 10                  -1  1   1545920  ultralytics.nn.modules.block.PSA             [640, 640]                    \n",
      " 11                  -1  1         0  torch.nn.modules.upsampling.Upsample         [None, 2, 'nearest']          \n",
      " 12             [-1, 6]  1         0  ultralytics.nn.modules.conv.Concat           [1]                           \n",
      " 13                  -1  3   3122560  ultralytics.nn.modules.block.C2fCIB          [1280, 640, 3, True]          \n",
      " 14                  -1  1         0  torch.nn.modules.upsampling.Upsample         [None, 2, 'nearest']          \n",
      " 15             [-1, 4]  1         0  ultralytics.nn.modules.conv.Concat           [1]                           \n",
      " 16                  -1  3   1948800  ultralytics.nn.modules.block.C2f             [960, 320, 3]                 \n",
      " 17                  -1  1    922240  ultralytics.nn.modules.conv.Conv             [320, 320, 3, 2]              \n",
      " 18            [-1, 13]  1         0  ultralytics.nn.modules.conv.Concat           [1]                           \n",
      " 19                  -1  3   2917760  ultralytics.nn.modules.block.C2fCIB          [960, 640, 3, True]           \n",
      " 20                  -1  1    417920  ultralytics.nn.modules.block.SCDown          [640, 640, 3, 2]              \n",
      " 21            [-1, 10]  1         0  ultralytics.nn.modules.conv.Concat           [1]                           \n",
      " 22                  -1  3   3122560  ultralytics.nn.modules.block.C2fCIB          [1280, 640, 3, True]          \n",
      " 23        [16, 19, 22]  1   4388892  ultralytics.nn.modules.head.v10Detect        [2, [320, 640, 640]]          \n",
      "YOLOv10x summary: 688 layers, 31,658,732 parameters, 31,658,716 gradients, 171.0 GFLOPs\n",
      "\n",
      "Transferred 1123/1135 items from pretrained weights\n",
      "Freezing layer 'model.23.dfl.conv.weight'\n",
      "\u001b[34m\u001b[1mAMP: \u001b[0mrunning Automatic Mixed Precision (AMP) checks...\n",
      "\u001b[34m\u001b[1mAMP: \u001b[0mchecks passed ✅\n"
     ]
    },
    {
     "name": "stderr",
     "output_type": "stream",
     "text": [
      "\u001b[34m\u001b[1mtrain: \u001b[0mScanning /home/leedh/바탕화면/korean_melon/dataset/train/labels.cache... 508 images, 0 backgrounds, 0 corrupt: 100%|██████████| 508/508 [00:00<?, ?it/s]\n",
      "\u001b[34m\u001b[1mval: \u001b[0mScanning /home/leedh/바탕화면/korean_melon/dataset/valid/labels.cache... 101 images, 0 backgrounds, 0 corrupt: 100%|██████████| 101/101 [00:00<?, ?it/s]\n"
     ]
    },
    {
     "name": "stdout",
     "output_type": "stream",
     "text": [
      "Plotting labels to runs/v10x_baseline/labels.jpg... \n",
      "\u001b[34m\u001b[1moptimizer:\u001b[0m 'optimizer=auto' found, ignoring 'lr0=0.01' and 'momentum=0.937' and determining best 'optimizer', 'lr0' and 'momentum' automatically... \n",
      "\u001b[34m\u001b[1moptimizer:\u001b[0m AdamW(lr=0.001667, momentum=0.9) with parameter groups 185 weight(decay=0.0), 198 weight(decay=0.0005), 197 bias(decay=0.0)\n",
      "Image sizes 640 train, 640 val\n",
      "Using 8 dataloader workers\n",
      "Logging results to \u001b[1mruns/v10x_baseline\u001b[0m\n",
      "Starting training for 100 epochs...\n",
      "\n",
      "      Epoch    GPU_mem   box_loss   cls_loss   dfl_loss  Instances       Size\n"
     ]
    },
    {
     "name": "stderr",
     "output_type": "stream",
     "text": [
      "      1/100      17.7G      1.468       6.79      2.507         35        640: 100%|██████████| 32/32 [00:07<00:00,  4.01it/s]\n",
      "                 Class     Images  Instances      Box(P          R      mAP50  mAP50-95): 100%|██████████| 4/4 [00:00<00:00,  8.16it/s]\n"
     ]
    },
    {
     "name": "stdout",
     "output_type": "stream",
     "text": [
      "                   all        101        135      0.137      0.478      0.109     0.0818\n",
      "\n",
      "      Epoch    GPU_mem   box_loss   cls_loss   dfl_loss  Instances       Size\n"
     ]
    },
    {
     "name": "stderr",
     "output_type": "stream",
     "text": [
      "      2/100      17.9G       1.97      3.024      2.815         38        640: 100%|██████████| 32/32 [00:07<00:00,  4.49it/s]\n",
      "                 Class     Images  Instances      Box(P          R      mAP50  mAP50-95): 100%|██████████| 4/4 [00:00<00:00, 10.18it/s]"
     ]
    },
    {
     "name": "stdout",
     "output_type": "stream",
     "text": [
      "                   all        101        135      0.137      0.478      0.109     0.0818\n"
     ]
    },
    {
     "name": "stderr",
     "output_type": "stream",
     "text": [
      "\n"
     ]
    },
    {
     "name": "stdout",
     "output_type": "stream",
     "text": [
      "\n",
      "      Epoch    GPU_mem   box_loss   cls_loss   dfl_loss  Instances       Size\n"
     ]
    },
    {
     "name": "stderr",
     "output_type": "stream",
     "text": [
      "      3/100      17.9G      2.082       2.77        2.9         33        640: 100%|██████████| 32/32 [00:07<00:00,  4.54it/s]\n",
      "                 Class     Images  Instances      Box(P          R      mAP50  mAP50-95): 100%|██████████| 4/4 [00:00<00:00, 10.23it/s]"
     ]
    },
    {
     "name": "stdout",
     "output_type": "stream",
     "text": [
      "                   all        101        135      0.137      0.478      0.109     0.0818\n"
     ]
    },
    {
     "name": "stderr",
     "output_type": "stream",
     "text": [
      "\n"
     ]
    },
    {
     "name": "stdout",
     "output_type": "stream",
     "text": [
      "\n",
      "      Epoch    GPU_mem   box_loss   cls_loss   dfl_loss  Instances       Size\n"
     ]
    },
    {
     "name": "stderr",
     "output_type": "stream",
     "text": [
      "      4/100      17.9G      2.169      2.296      2.863         36        640: 100%|██████████| 32/32 [00:07<00:00,  4.56it/s]\n",
      "                 Class     Images  Instances      Box(P          R      mAP50  mAP50-95): 100%|██████████| 4/4 [00:00<00:00, 10.16it/s]"
     ]
    },
    {
     "name": "stdout",
     "output_type": "stream",
     "text": [
      "                   all        101        135     0.0323     0.0556     0.0269     0.0181\n"
     ]
    },
    {
     "name": "stderr",
     "output_type": "stream",
     "text": [
      "\n"
     ]
    },
    {
     "name": "stdout",
     "output_type": "stream",
     "text": [
      "\n",
      "      Epoch    GPU_mem   box_loss   cls_loss   dfl_loss  Instances       Size\n"
     ]
    },
    {
     "name": "stderr",
     "output_type": "stream",
     "text": [
      "      5/100      17.9G      1.948      2.065      2.702         26        640: 100%|██████████| 32/32 [00:07<00:00,  4.55it/s]\n",
      "                 Class     Images  Instances      Box(P          R      mAP50  mAP50-95): 100%|██████████| 4/4 [00:00<00:00,  9.54it/s]"
     ]
    },
    {
     "name": "stdout",
     "output_type": "stream",
     "text": [
      "                   all        101        135      0.074      0.111     0.0682     0.0545\n"
     ]
    },
    {
     "name": "stderr",
     "output_type": "stream",
     "text": [
      "\n"
     ]
    },
    {
     "name": "stdout",
     "output_type": "stream",
     "text": [
      "\n",
      "      Epoch    GPU_mem   box_loss   cls_loss   dfl_loss  Instances       Size\n"
     ]
    },
    {
     "name": "stderr",
     "output_type": "stream",
     "text": [
      "      6/100      17.9G      1.799      1.861      2.635         35        640: 100%|██████████| 32/32 [00:07<00:00,  4.55it/s]\n",
      "                 Class     Images  Instances      Box(P          R      mAP50  mAP50-95): 100%|██████████| 4/4 [00:00<00:00,  9.49it/s]"
     ]
    },
    {
     "name": "stdout",
     "output_type": "stream",
     "text": [
      "                   all        101        135      0.844       0.21      0.257      0.194\n"
     ]
    },
    {
     "name": "stderr",
     "output_type": "stream",
     "text": [
      "\n"
     ]
    },
    {
     "name": "stdout",
     "output_type": "stream",
     "text": [
      "\n",
      "      Epoch    GPU_mem   box_loss   cls_loss   dfl_loss  Instances       Size\n"
     ]
    },
    {
     "name": "stderr",
     "output_type": "stream",
     "text": [
      "      7/100      17.9G      1.777      1.841      2.627         29        640: 100%|██████████| 32/32 [00:07<00:00,  4.54it/s]\n",
      "                 Class     Images  Instances      Box(P          R      mAP50  mAP50-95): 100%|██████████| 4/4 [00:00<00:00,  9.40it/s]"
     ]
    },
    {
     "name": "stdout",
     "output_type": "stream",
     "text": [
      "                   all        101        135      0.439      0.389      0.412       0.32\n"
     ]
    },
    {
     "name": "stderr",
     "output_type": "stream",
     "text": [
      "\n"
     ]
    },
    {
     "name": "stdout",
     "output_type": "stream",
     "text": [
      "\n",
      "      Epoch    GPU_mem   box_loss   cls_loss   dfl_loss  Instances       Size\n"
     ]
    },
    {
     "name": "stderr",
     "output_type": "stream",
     "text": [
      "      8/100      17.9G      1.613       1.58      2.456         36        640: 100%|██████████| 32/32 [00:07<00:00,  4.56it/s]\n",
      "                 Class     Images  Instances      Box(P          R      mAP50  mAP50-95): 100%|██████████| 4/4 [00:00<00:00,  9.67it/s]"
     ]
    },
    {
     "name": "stdout",
     "output_type": "stream",
     "text": [
      "                   all        101        135      0.343      0.265      0.311      0.252\n"
     ]
    },
    {
     "name": "stderr",
     "output_type": "stream",
     "text": [
      "\n"
     ]
    },
    {
     "name": "stdout",
     "output_type": "stream",
     "text": [
      "\n",
      "      Epoch    GPU_mem   box_loss   cls_loss   dfl_loss  Instances       Size\n"
     ]
    },
    {
     "name": "stderr",
     "output_type": "stream",
     "text": [
      "      9/100      17.9G      1.662      1.655      2.538         28        640: 100%|██████████| 32/32 [00:07<00:00,  4.55it/s]\n",
      "                 Class     Images  Instances      Box(P          R      mAP50  mAP50-95): 100%|██████████| 4/4 [00:00<00:00,  9.63it/s]"
     ]
    },
    {
     "name": "stdout",
     "output_type": "stream",
     "text": [
      "                   all        101        135      0.662      0.373      0.473      0.381\n"
     ]
    },
    {
     "name": "stderr",
     "output_type": "stream",
     "text": [
      "\n"
     ]
    },
    {
     "name": "stdout",
     "output_type": "stream",
     "text": [
      "\n",
      "      Epoch    GPU_mem   box_loss   cls_loss   dfl_loss  Instances       Size\n"
     ]
    },
    {
     "name": "stderr",
     "output_type": "stream",
     "text": [
      "     10/100      17.9G       1.61      1.697       2.49         36        640: 100%|██████████| 32/32 [00:07<00:00,  4.56it/s]\n",
      "                 Class     Images  Instances      Box(P          R      mAP50  mAP50-95): 100%|██████████| 4/4 [00:00<00:00,  9.41it/s]"
     ]
    },
    {
     "name": "stdout",
     "output_type": "stream",
     "text": [
      "                   all        101        135      0.561      0.659      0.623       0.49\n"
     ]
    },
    {
     "name": "stderr",
     "output_type": "stream",
     "text": [
      "\n"
     ]
    },
    {
     "name": "stdout",
     "output_type": "stream",
     "text": [
      "\n",
      "      Epoch    GPU_mem   box_loss   cls_loss   dfl_loss  Instances       Size\n"
     ]
    },
    {
     "name": "stderr",
     "output_type": "stream",
     "text": [
      "     11/100      17.9G      1.618      1.556      2.484         29        640: 100%|██████████| 32/32 [00:07<00:00,  4.55it/s]\n",
      "                 Class     Images  Instances      Box(P          R      mAP50  mAP50-95): 100%|██████████| 4/4 [00:00<00:00,  9.42it/s]"
     ]
    },
    {
     "name": "stdout",
     "output_type": "stream",
     "text": [
      "                   all        101        135      0.822      0.681      0.804      0.683\n"
     ]
    },
    {
     "name": "stderr",
     "output_type": "stream",
     "text": [
      "\n"
     ]
    },
    {
     "name": "stdout",
     "output_type": "stream",
     "text": [
      "\n",
      "      Epoch    GPU_mem   box_loss   cls_loss   dfl_loss  Instances       Size\n"
     ]
    },
    {
     "name": "stderr",
     "output_type": "stream",
     "text": [
      "     12/100      17.9G      1.446      1.428      2.395         37        640: 100%|██████████| 32/32 [00:07<00:00,  4.55it/s]\n",
      "                 Class     Images  Instances      Box(P          R      mAP50  mAP50-95): 100%|██████████| 4/4 [00:00<00:00,  9.38it/s]"
     ]
    },
    {
     "name": "stdout",
     "output_type": "stream",
     "text": [
      "                   all        101        135      0.814      0.694      0.768      0.649\n"
     ]
    },
    {
     "name": "stderr",
     "output_type": "stream",
     "text": [
      "\n"
     ]
    },
    {
     "name": "stdout",
     "output_type": "stream",
     "text": [
      "\n",
      "      Epoch    GPU_mem   box_loss   cls_loss   dfl_loss  Instances       Size\n"
     ]
    },
    {
     "name": "stderr",
     "output_type": "stream",
     "text": [
      "     13/100      17.9G      1.433      1.397      2.382         29        640: 100%|██████████| 32/32 [00:07<00:00,  4.55it/s]\n",
      "                 Class     Images  Instances      Box(P          R      mAP50  mAP50-95): 100%|██████████| 4/4 [00:00<00:00,  9.42it/s]"
     ]
    },
    {
     "name": "stdout",
     "output_type": "stream",
     "text": [
      "                   all        101        135      0.789      0.693      0.805      0.668\n"
     ]
    },
    {
     "name": "stderr",
     "output_type": "stream",
     "text": [
      "\n"
     ]
    },
    {
     "name": "stdout",
     "output_type": "stream",
     "text": [
      "\n",
      "      Epoch    GPU_mem   box_loss   cls_loss   dfl_loss  Instances       Size\n"
     ]
    },
    {
     "name": "stderr",
     "output_type": "stream",
     "text": [
      "     14/100      17.9G      1.446      1.398      2.365         38        640: 100%|██████████| 32/32 [00:07<00:00,  4.55it/s]\n",
      "                 Class     Images  Instances      Box(P          R      mAP50  mAP50-95): 100%|██████████| 4/4 [00:00<00:00,  9.47it/s]"
     ]
    },
    {
     "name": "stdout",
     "output_type": "stream",
     "text": [
      "                   all        101        135      0.775      0.708      0.822      0.736\n"
     ]
    },
    {
     "name": "stderr",
     "output_type": "stream",
     "text": [
      "\n"
     ]
    },
    {
     "name": "stdout",
     "output_type": "stream",
     "text": [
      "\n",
      "      Epoch    GPU_mem   box_loss   cls_loss   dfl_loss  Instances       Size\n"
     ]
    },
    {
     "name": "stderr",
     "output_type": "stream",
     "text": [
      "     15/100      17.9G      1.376      1.385      2.309         38        640: 100%|██████████| 32/32 [00:07<00:00,  4.54it/s]\n",
      "                 Class     Images  Instances      Box(P          R      mAP50  mAP50-95): 100%|██████████| 4/4 [00:00<00:00,  9.44it/s]"
     ]
    },
    {
     "name": "stdout",
     "output_type": "stream",
     "text": [
      "                   all        101        135      0.867      0.805      0.891      0.788\n"
     ]
    },
    {
     "name": "stderr",
     "output_type": "stream",
     "text": [
      "\n"
     ]
    },
    {
     "name": "stdout",
     "output_type": "stream",
     "text": [
      "\n",
      "      Epoch    GPU_mem   box_loss   cls_loss   dfl_loss  Instances       Size\n"
     ]
    },
    {
     "name": "stderr",
     "output_type": "stream",
     "text": [
      "     16/100      17.9G      1.368      1.265      2.321         36        640: 100%|██████████| 32/32 [00:07<00:00,  4.56it/s]\n",
      "                 Class     Images  Instances      Box(P          R      mAP50  mAP50-95): 100%|██████████| 4/4 [00:00<00:00,  9.45it/s]"
     ]
    },
    {
     "name": "stdout",
     "output_type": "stream",
     "text": [
      "                   all        101        135      0.818      0.771      0.857      0.764\n"
     ]
    },
    {
     "name": "stderr",
     "output_type": "stream",
     "text": [
      "\n"
     ]
    },
    {
     "name": "stdout",
     "output_type": "stream",
     "text": [
      "\n",
      "      Epoch    GPU_mem   box_loss   cls_loss   dfl_loss  Instances       Size\n"
     ]
    },
    {
     "name": "stderr",
     "output_type": "stream",
     "text": [
      "     17/100      17.9G      1.405       1.32      2.328         43        640: 100%|██████████| 32/32 [00:07<00:00,  4.55it/s]\n",
      "                 Class     Images  Instances      Box(P          R      mAP50  mAP50-95): 100%|██████████| 4/4 [00:00<00:00,  9.42it/s]"
     ]
    },
    {
     "name": "stdout",
     "output_type": "stream",
     "text": [
      "                   all        101        135      0.849      0.719      0.841      0.715\n"
     ]
    },
    {
     "name": "stderr",
     "output_type": "stream",
     "text": [
      "\n"
     ]
    },
    {
     "name": "stdout",
     "output_type": "stream",
     "text": [
      "\n",
      "      Epoch    GPU_mem   box_loss   cls_loss   dfl_loss  Instances       Size\n"
     ]
    },
    {
     "name": "stderr",
     "output_type": "stream",
     "text": [
      "     18/100      17.9G       1.43      1.288      2.394         32        640: 100%|██████████| 32/32 [00:07<00:00,  4.55it/s]\n",
      "                 Class     Images  Instances      Box(P          R      mAP50  mAP50-95): 100%|██████████| 4/4 [00:00<00:00,  9.41it/s]"
     ]
    },
    {
     "name": "stdout",
     "output_type": "stream",
     "text": [
      "                   all        101        135      0.903      0.762      0.872      0.765\n"
     ]
    },
    {
     "name": "stderr",
     "output_type": "stream",
     "text": [
      "\n"
     ]
    },
    {
     "name": "stdout",
     "output_type": "stream",
     "text": [
      "\n",
      "      Epoch    GPU_mem   box_loss   cls_loss   dfl_loss  Instances       Size\n"
     ]
    },
    {
     "name": "stderr",
     "output_type": "stream",
     "text": [
      "     19/100      17.9G      1.355      1.227      2.311         25        640: 100%|██████████| 32/32 [00:07<00:00,  4.55it/s]\n",
      "                 Class     Images  Instances      Box(P          R      mAP50  mAP50-95): 100%|██████████| 4/4 [00:00<00:00,  9.38it/s]"
     ]
    },
    {
     "name": "stdout",
     "output_type": "stream",
     "text": [
      "                   all        101        135      0.818      0.589      0.771      0.654\n"
     ]
    },
    {
     "name": "stderr",
     "output_type": "stream",
     "text": [
      "\n"
     ]
    },
    {
     "name": "stdout",
     "output_type": "stream",
     "text": [
      "\n",
      "      Epoch    GPU_mem   box_loss   cls_loss   dfl_loss  Instances       Size\n"
     ]
    },
    {
     "name": "stderr",
     "output_type": "stream",
     "text": [
      "     20/100      17.9G      1.359      1.205      2.337         34        640: 100%|██████████| 32/32 [00:07<00:00,  4.56it/s]\n",
      "                 Class     Images  Instances      Box(P          R      mAP50  mAP50-95): 100%|██████████| 4/4 [00:00<00:00,  9.44it/s]"
     ]
    },
    {
     "name": "stdout",
     "output_type": "stream",
     "text": [
      "                   all        101        135      0.789      0.802       0.87       0.77\n"
     ]
    },
    {
     "name": "stderr",
     "output_type": "stream",
     "text": [
      "\n"
     ]
    },
    {
     "name": "stdout",
     "output_type": "stream",
     "text": [
      "\n",
      "      Epoch    GPU_mem   box_loss   cls_loss   dfl_loss  Instances       Size\n"
     ]
    },
    {
     "name": "stderr",
     "output_type": "stream",
     "text": [
      "     21/100      17.9G      1.334      1.149       2.29         35        640: 100%|██████████| 32/32 [00:07<00:00,  4.55it/s]\n",
      "                 Class     Images  Instances      Box(P          R      mAP50  mAP50-95): 100%|██████████| 4/4 [00:00<00:00,  9.47it/s]"
     ]
    },
    {
     "name": "stdout",
     "output_type": "stream",
     "text": [
      "                   all        101        135      0.922      0.846      0.933      0.823\n"
     ]
    },
    {
     "name": "stderr",
     "output_type": "stream",
     "text": [
      "\n"
     ]
    },
    {
     "name": "stdout",
     "output_type": "stream",
     "text": [
      "\n",
      "      Epoch    GPU_mem   box_loss   cls_loss   dfl_loss  Instances       Size\n"
     ]
    },
    {
     "name": "stderr",
     "output_type": "stream",
     "text": [
      "     22/100      17.9G      1.259      1.119      2.215         37        640: 100%|██████████| 32/32 [00:07<00:00,  4.55it/s]\n",
      "                 Class     Images  Instances      Box(P          R      mAP50  mAP50-95): 100%|██████████| 4/4 [00:00<00:00,  9.42it/s]"
     ]
    },
    {
     "name": "stdout",
     "output_type": "stream",
     "text": [
      "                   all        101        135      0.901      0.818      0.908      0.782\n"
     ]
    },
    {
     "name": "stderr",
     "output_type": "stream",
     "text": [
      "\n"
     ]
    },
    {
     "name": "stdout",
     "output_type": "stream",
     "text": [
      "\n",
      "      Epoch    GPU_mem   box_loss   cls_loss   dfl_loss  Instances       Size\n"
     ]
    },
    {
     "name": "stderr",
     "output_type": "stream",
     "text": [
      "     23/100      17.9G      1.367      1.175      2.321         30        640: 100%|██████████| 32/32 [00:07<00:00,  4.55it/s]\n",
      "                 Class     Images  Instances      Box(P          R      mAP50  mAP50-95): 100%|██████████| 4/4 [00:00<00:00,  9.44it/s]"
     ]
    },
    {
     "name": "stdout",
     "output_type": "stream",
     "text": [
      "                   all        101        135      0.901      0.793      0.888      0.797\n"
     ]
    },
    {
     "name": "stderr",
     "output_type": "stream",
     "text": [
      "\n"
     ]
    },
    {
     "name": "stdout",
     "output_type": "stream",
     "text": [
      "\n",
      "      Epoch    GPU_mem   box_loss   cls_loss   dfl_loss  Instances       Size\n"
     ]
    },
    {
     "name": "stderr",
     "output_type": "stream",
     "text": [
      "     24/100      17.9G      1.317      1.208      2.249         30        640: 100%|██████████| 32/32 [00:07<00:00,  4.55it/s]\n",
      "                 Class     Images  Instances      Box(P          R      mAP50  mAP50-95): 100%|██████████| 4/4 [00:00<00:00,  9.42it/s]"
     ]
    },
    {
     "name": "stdout",
     "output_type": "stream",
     "text": [
      "                   all        101        135      0.866      0.701      0.848      0.736\n"
     ]
    },
    {
     "name": "stderr",
     "output_type": "stream",
     "text": [
      "\n"
     ]
    },
    {
     "name": "stdout",
     "output_type": "stream",
     "text": [
      "\n",
      "      Epoch    GPU_mem   box_loss   cls_loss   dfl_loss  Instances       Size\n"
     ]
    },
    {
     "name": "stderr",
     "output_type": "stream",
     "text": [
      "     25/100      17.9G      1.337       1.17      2.279         36        640: 100%|██████████| 32/32 [00:07<00:00,  4.55it/s]\n",
      "                 Class     Images  Instances      Box(P          R      mAP50  mAP50-95): 100%|██████████| 4/4 [00:00<00:00,  9.50it/s]"
     ]
    },
    {
     "name": "stdout",
     "output_type": "stream",
     "text": [
      "                   all        101        135      0.945      0.757      0.878      0.791\n"
     ]
    },
    {
     "name": "stderr",
     "output_type": "stream",
     "text": [
      "\n"
     ]
    },
    {
     "name": "stdout",
     "output_type": "stream",
     "text": [
      "\n",
      "      Epoch    GPU_mem   box_loss   cls_loss   dfl_loss  Instances       Size\n"
     ]
    },
    {
     "name": "stderr",
     "output_type": "stream",
     "text": [
      "     26/100      17.9G      1.209      1.067      2.186         30        640: 100%|██████████| 32/32 [00:07<00:00,  4.55it/s]\n",
      "                 Class     Images  Instances      Box(P          R      mAP50  mAP50-95): 100%|██████████| 4/4 [00:00<00:00,  9.41it/s]"
     ]
    },
    {
     "name": "stdout",
     "output_type": "stream",
     "text": [
      "                   all        101        135      0.946      0.808      0.927      0.834\n"
     ]
    },
    {
     "name": "stderr",
     "output_type": "stream",
     "text": [
      "\n"
     ]
    },
    {
     "name": "stdout",
     "output_type": "stream",
     "text": [
      "\n",
      "      Epoch    GPU_mem   box_loss   cls_loss   dfl_loss  Instances       Size\n"
     ]
    },
    {
     "name": "stderr",
     "output_type": "stream",
     "text": [
      "     27/100      17.9G      1.222      1.091      2.214         24        640: 100%|██████████| 32/32 [00:07<00:00,  4.54it/s]\n",
      "                 Class     Images  Instances      Box(P          R      mAP50  mAP50-95): 100%|██████████| 4/4 [00:00<00:00,  9.41it/s]"
     ]
    },
    {
     "name": "stdout",
     "output_type": "stream",
     "text": [
      "                   all        101        135      0.757      0.731      0.824      0.737\n"
     ]
    },
    {
     "name": "stderr",
     "output_type": "stream",
     "text": [
      "\n"
     ]
    },
    {
     "name": "stdout",
     "output_type": "stream",
     "text": [
      "\n",
      "      Epoch    GPU_mem   box_loss   cls_loss   dfl_loss  Instances       Size\n"
     ]
    },
    {
     "name": "stderr",
     "output_type": "stream",
     "text": [
      "     28/100      17.9G      1.184      1.015      2.196         37        640: 100%|██████████| 32/32 [00:07<00:00,  4.55it/s]\n",
      "                 Class     Images  Instances      Box(P          R      mAP50  mAP50-95): 100%|██████████| 4/4 [00:00<00:00,  9.37it/s]"
     ]
    },
    {
     "name": "stdout",
     "output_type": "stream",
     "text": [
      "                   all        101        135      0.841      0.774      0.859      0.758\n"
     ]
    },
    {
     "name": "stderr",
     "output_type": "stream",
     "text": [
      "\n"
     ]
    },
    {
     "name": "stdout",
     "output_type": "stream",
     "text": [
      "\n",
      "      Epoch    GPU_mem   box_loss   cls_loss   dfl_loss  Instances       Size\n"
     ]
    },
    {
     "name": "stderr",
     "output_type": "stream",
     "text": [
      "     29/100      17.9G      1.139     0.9688      2.158         29        640: 100%|██████████| 32/32 [00:07<00:00,  4.55it/s]\n",
      "                 Class     Images  Instances      Box(P          R      mAP50  mAP50-95): 100%|██████████| 4/4 [00:00<00:00,  9.44it/s]"
     ]
    },
    {
     "name": "stdout",
     "output_type": "stream",
     "text": [
      "                   all        101        135       0.91      0.811      0.898      0.825\n"
     ]
    },
    {
     "name": "stderr",
     "output_type": "stream",
     "text": [
      "\n"
     ]
    },
    {
     "name": "stdout",
     "output_type": "stream",
     "text": [
      "\n",
      "      Epoch    GPU_mem   box_loss   cls_loss   dfl_loss  Instances       Size\n"
     ]
    },
    {
     "name": "stderr",
     "output_type": "stream",
     "text": [
      "     30/100      17.9G      1.192      0.982      2.187         22        640: 100%|██████████| 32/32 [00:07<00:00,  4.55it/s]\n",
      "                 Class     Images  Instances      Box(P          R      mAP50  mAP50-95): 100%|██████████| 4/4 [00:00<00:00,  9.42it/s]"
     ]
    },
    {
     "name": "stdout",
     "output_type": "stream",
     "text": [
      "                   all        101        135      0.727      0.759       0.82      0.732\n"
     ]
    },
    {
     "name": "stderr",
     "output_type": "stream",
     "text": [
      "\n"
     ]
    },
    {
     "name": "stdout",
     "output_type": "stream",
     "text": [
      "\n",
      "      Epoch    GPU_mem   box_loss   cls_loss   dfl_loss  Instances       Size\n"
     ]
    },
    {
     "name": "stderr",
     "output_type": "stream",
     "text": [
      "     31/100      17.9G       1.17      1.006      2.178         24        640: 100%|██████████| 32/32 [00:07<00:00,  4.55it/s]\n",
      "                 Class     Images  Instances      Box(P          R      mAP50  mAP50-95): 100%|██████████| 4/4 [00:00<00:00,  9.44it/s]"
     ]
    },
    {
     "name": "stdout",
     "output_type": "stream",
     "text": [
      "                   all        101        135      0.921      0.796      0.908      0.828\n"
     ]
    },
    {
     "name": "stderr",
     "output_type": "stream",
     "text": [
      "\n"
     ]
    },
    {
     "name": "stdout",
     "output_type": "stream",
     "text": [
      "\n",
      "      Epoch    GPU_mem   box_loss   cls_loss   dfl_loss  Instances       Size\n"
     ]
    },
    {
     "name": "stderr",
     "output_type": "stream",
     "text": [
      "     32/100      17.9G      1.165      1.061      2.174         37        640: 100%|██████████| 32/32 [00:07<00:00,  4.55it/s]\n",
      "                 Class     Images  Instances      Box(P          R      mAP50  mAP50-95): 100%|██████████| 4/4 [00:00<00:00,  9.39it/s]"
     ]
    },
    {
     "name": "stdout",
     "output_type": "stream",
     "text": [
      "                   all        101        135      0.771      0.769      0.864      0.762\n"
     ]
    },
    {
     "name": "stderr",
     "output_type": "stream",
     "text": [
      "\n"
     ]
    },
    {
     "name": "stdout",
     "output_type": "stream",
     "text": [
      "\n",
      "      Epoch    GPU_mem   box_loss   cls_loss   dfl_loss  Instances       Size\n"
     ]
    },
    {
     "name": "stderr",
     "output_type": "stream",
     "text": [
      "     33/100      17.9G      1.153     0.9649      2.171         43        640: 100%|██████████| 32/32 [00:07<00:00,  4.55it/s]\n",
      "                 Class     Images  Instances      Box(P          R      mAP50  mAP50-95): 100%|██████████| 4/4 [00:00<00:00,  9.46it/s]"
     ]
    },
    {
     "name": "stdout",
     "output_type": "stream",
     "text": [
      "                   all        101        135      0.974      0.753      0.921      0.837\n"
     ]
    },
    {
     "name": "stderr",
     "output_type": "stream",
     "text": [
      "\n"
     ]
    },
    {
     "name": "stdout",
     "output_type": "stream",
     "text": [
      "\n",
      "      Epoch    GPU_mem   box_loss   cls_loss   dfl_loss  Instances       Size\n"
     ]
    },
    {
     "name": "stderr",
     "output_type": "stream",
     "text": [
      "     34/100      17.9G      1.198     0.9597      2.165         31        640: 100%|██████████| 32/32 [00:07<00:00,  4.55it/s]\n",
      "                 Class     Images  Instances      Box(P          R      mAP50  mAP50-95): 100%|██████████| 4/4 [00:00<00:00,  9.39it/s]"
     ]
    },
    {
     "name": "stdout",
     "output_type": "stream",
     "text": [
      "                   all        101        135      0.838      0.869      0.923      0.832\n"
     ]
    },
    {
     "name": "stderr",
     "output_type": "stream",
     "text": [
      "\n"
     ]
    },
    {
     "name": "stdout",
     "output_type": "stream",
     "text": [
      "\n",
      "      Epoch    GPU_mem   box_loss   cls_loss   dfl_loss  Instances       Size\n"
     ]
    },
    {
     "name": "stderr",
     "output_type": "stream",
     "text": [
      "     35/100      17.9G      1.152     0.9597      2.184         39        640: 100%|██████████| 32/32 [00:07<00:00,  4.55it/s]\n",
      "                 Class     Images  Instances      Box(P          R      mAP50  mAP50-95): 100%|██████████| 4/4 [00:00<00:00,  9.47it/s]"
     ]
    },
    {
     "name": "stdout",
     "output_type": "stream",
     "text": [
      "                   all        101        135      0.877      0.818      0.897      0.824\n"
     ]
    },
    {
     "name": "stderr",
     "output_type": "stream",
     "text": [
      "\n"
     ]
    },
    {
     "name": "stdout",
     "output_type": "stream",
     "text": [
      "\n",
      "      Epoch    GPU_mem   box_loss   cls_loss   dfl_loss  Instances       Size\n"
     ]
    },
    {
     "name": "stderr",
     "output_type": "stream",
     "text": [
      "     36/100      17.9G      1.117     0.9654      2.169         35        640: 100%|██████████| 32/32 [00:07<00:00,  4.55it/s]\n",
      "                 Class     Images  Instances      Box(P          R      mAP50  mAP50-95): 100%|██████████| 4/4 [00:00<00:00,  9.46it/s]"
     ]
    },
    {
     "name": "stdout",
     "output_type": "stream",
     "text": [
      "                   all        101        135      0.885      0.797      0.906      0.837\n"
     ]
    },
    {
     "name": "stderr",
     "output_type": "stream",
     "text": [
      "\n"
     ]
    },
    {
     "name": "stdout",
     "output_type": "stream",
     "text": [
      "\n",
      "      Epoch    GPU_mem   box_loss   cls_loss   dfl_loss  Instances       Size\n"
     ]
    },
    {
     "name": "stderr",
     "output_type": "stream",
     "text": [
      "     37/100      17.9G      1.137     0.8875      2.146         38        640: 100%|██████████| 32/32 [00:07<00:00,  4.54it/s]\n",
      "                 Class     Images  Instances      Box(P          R      mAP50  mAP50-95): 100%|██████████| 4/4 [00:00<00:00,  9.39it/s]"
     ]
    },
    {
     "name": "stdout",
     "output_type": "stream",
     "text": [
      "                   all        101        135      0.909      0.825      0.918      0.835\n"
     ]
    },
    {
     "name": "stderr",
     "output_type": "stream",
     "text": [
      "\n"
     ]
    },
    {
     "name": "stdout",
     "output_type": "stream",
     "text": [
      "\n",
      "      Epoch    GPU_mem   box_loss   cls_loss   dfl_loss  Instances       Size\n"
     ]
    },
    {
     "name": "stderr",
     "output_type": "stream",
     "text": [
      "     38/100      17.9G      1.104     0.8424      2.155         23        640: 100%|██████████| 32/32 [00:07<00:00,  4.55it/s]\n",
      "                 Class     Images  Instances      Box(P          R      mAP50  mAP50-95): 100%|██████████| 4/4 [00:00<00:00,  9.45it/s]"
     ]
    },
    {
     "name": "stdout",
     "output_type": "stream",
     "text": [
      "                   all        101        135      0.895      0.809      0.913      0.832\n"
     ]
    },
    {
     "name": "stderr",
     "output_type": "stream",
     "text": [
      "\n"
     ]
    },
    {
     "name": "stdout",
     "output_type": "stream",
     "text": [
      "\n",
      "      Epoch    GPU_mem   box_loss   cls_loss   dfl_loss  Instances       Size\n"
     ]
    },
    {
     "name": "stderr",
     "output_type": "stream",
     "text": [
      "     39/100      17.9G      1.109     0.8564      2.126         31        640: 100%|██████████| 32/32 [00:07<00:00,  4.55it/s]\n",
      "                 Class     Images  Instances      Box(P          R      mAP50  mAP50-95): 100%|██████████| 4/4 [00:00<00:00,  9.42it/s]"
     ]
    },
    {
     "name": "stdout",
     "output_type": "stream",
     "text": [
      "                   all        101        135      0.917      0.826      0.917      0.834\n"
     ]
    },
    {
     "name": "stderr",
     "output_type": "stream",
     "text": [
      "\n"
     ]
    },
    {
     "name": "stdout",
     "output_type": "stream",
     "text": [
      "\n",
      "      Epoch    GPU_mem   box_loss   cls_loss   dfl_loss  Instances       Size\n"
     ]
    },
    {
     "name": "stderr",
     "output_type": "stream",
     "text": [
      "     40/100      17.9G      1.116     0.8823      2.154         32        640: 100%|██████████| 32/32 [00:07<00:00,  4.55it/s]\n",
      "                 Class     Images  Instances      Box(P          R      mAP50  mAP50-95): 100%|██████████| 4/4 [00:00<00:00,  9.48it/s]"
     ]
    },
    {
     "name": "stdout",
     "output_type": "stream",
     "text": [
      "                   all        101        135      0.881      0.833      0.916      0.851\n"
     ]
    },
    {
     "name": "stderr",
     "output_type": "stream",
     "text": [
      "\n"
     ]
    },
    {
     "name": "stdout",
     "output_type": "stream",
     "text": [
      "\n",
      "      Epoch    GPU_mem   box_loss   cls_loss   dfl_loss  Instances       Size\n"
     ]
    },
    {
     "name": "stderr",
     "output_type": "stream",
     "text": [
      "     41/100      17.9G      1.098     0.8607      2.138         37        640: 100%|██████████| 32/32 [00:07<00:00,  4.55it/s]\n",
      "                 Class     Images  Instances      Box(P          R      mAP50  mAP50-95): 100%|██████████| 4/4 [00:00<00:00,  9.47it/s]"
     ]
    },
    {
     "name": "stdout",
     "output_type": "stream",
     "text": [
      "                   all        101        135      0.953      0.818      0.921      0.857\n"
     ]
    },
    {
     "name": "stderr",
     "output_type": "stream",
     "text": [
      "\n"
     ]
    },
    {
     "name": "stdout",
     "output_type": "stream",
     "text": [
      "\n",
      "      Epoch    GPU_mem   box_loss   cls_loss   dfl_loss  Instances       Size\n"
     ]
    },
    {
     "name": "stderr",
     "output_type": "stream",
     "text": [
      "     42/100      17.9G      1.048      0.861      2.107         31        640: 100%|██████████| 32/32 [00:07<00:00,  4.54it/s]\n",
      "                 Class     Images  Instances      Box(P          R      mAP50  mAP50-95): 100%|██████████| 4/4 [00:00<00:00,  9.42it/s]"
     ]
    },
    {
     "name": "stdout",
     "output_type": "stream",
     "text": [
      "                   all        101        135      0.914       0.82      0.918      0.855\n"
     ]
    },
    {
     "name": "stderr",
     "output_type": "stream",
     "text": [
      "\n"
     ]
    },
    {
     "name": "stdout",
     "output_type": "stream",
     "text": [
      "\n",
      "      Epoch    GPU_mem   box_loss   cls_loss   dfl_loss  Instances       Size\n"
     ]
    },
    {
     "name": "stderr",
     "output_type": "stream",
     "text": [
      "     43/100      17.9G      1.085     0.8549      2.127         30        640: 100%|██████████| 32/32 [00:07<00:00,  4.54it/s]\n",
      "                 Class     Images  Instances      Box(P          R      mAP50  mAP50-95): 100%|██████████| 4/4 [00:00<00:00,  9.35it/s]"
     ]
    },
    {
     "name": "stdout",
     "output_type": "stream",
     "text": [
      "                   all        101        135      0.867      0.806      0.894      0.818\n"
     ]
    },
    {
     "name": "stderr",
     "output_type": "stream",
     "text": [
      "\n"
     ]
    },
    {
     "name": "stdout",
     "output_type": "stream",
     "text": [
      "\n",
      "      Epoch    GPU_mem   box_loss   cls_loss   dfl_loss  Instances       Size\n"
     ]
    },
    {
     "name": "stderr",
     "output_type": "stream",
     "text": [
      "     44/100      17.9G      1.094     0.8544      2.107         33        640: 100%|██████████| 32/32 [00:07<00:00,  4.55it/s]\n",
      "                 Class     Images  Instances      Box(P          R      mAP50  mAP50-95): 100%|██████████| 4/4 [00:00<00:00,  9.46it/s]"
     ]
    },
    {
     "name": "stdout",
     "output_type": "stream",
     "text": [
      "                   all        101        135      0.978      0.755      0.902      0.826\n"
     ]
    },
    {
     "name": "stderr",
     "output_type": "stream",
     "text": [
      "\n"
     ]
    },
    {
     "name": "stdout",
     "output_type": "stream",
     "text": [
      "\n",
      "      Epoch    GPU_mem   box_loss   cls_loss   dfl_loss  Instances       Size\n"
     ]
    },
    {
     "name": "stderr",
     "output_type": "stream",
     "text": [
      "     45/100      17.9G      1.086     0.8823      2.138         29        640: 100%|██████████| 32/32 [00:07<00:00,  4.55it/s]\n",
      "                 Class     Images  Instances      Box(P          R      mAP50  mAP50-95): 100%|██████████| 4/4 [00:00<00:00,  9.43it/s]"
     ]
    },
    {
     "name": "stdout",
     "output_type": "stream",
     "text": [
      "                   all        101        135       0.94      0.812      0.943      0.861\n"
     ]
    },
    {
     "name": "stderr",
     "output_type": "stream",
     "text": [
      "\n"
     ]
    },
    {
     "name": "stdout",
     "output_type": "stream",
     "text": [
      "\n",
      "      Epoch    GPU_mem   box_loss   cls_loss   dfl_loss  Instances       Size\n"
     ]
    },
    {
     "name": "stderr",
     "output_type": "stream",
     "text": [
      "     46/100      17.9G     0.9874     0.7839      2.049         29        640: 100%|██████████| 32/32 [00:07<00:00,  4.55it/s]\n",
      "                 Class     Images  Instances      Box(P          R      mAP50  mAP50-95): 100%|██████████| 4/4 [00:00<00:00,  9.40it/s]"
     ]
    },
    {
     "name": "stdout",
     "output_type": "stream",
     "text": [
      "                   all        101        135      0.944      0.766      0.893      0.828\n"
     ]
    },
    {
     "name": "stderr",
     "output_type": "stream",
     "text": [
      "\n"
     ]
    },
    {
     "name": "stdout",
     "output_type": "stream",
     "text": [
      "\n",
      "      Epoch    GPU_mem   box_loss   cls_loss   dfl_loss  Instances       Size\n"
     ]
    },
    {
     "name": "stderr",
     "output_type": "stream",
     "text": [
      "     47/100      17.9G      1.019     0.7688      2.079         31        640: 100%|██████████| 32/32 [00:07<00:00,  4.54it/s]\n",
      "                 Class     Images  Instances      Box(P          R      mAP50  mAP50-95): 100%|██████████| 4/4 [00:00<00:00,  9.46it/s]"
     ]
    },
    {
     "name": "stdout",
     "output_type": "stream",
     "text": [
      "                   all        101        135      0.946      0.797      0.916      0.851\n"
     ]
    },
    {
     "name": "stderr",
     "output_type": "stream",
     "text": [
      "\n"
     ]
    },
    {
     "name": "stdout",
     "output_type": "stream",
     "text": [
      "\n",
      "      Epoch    GPU_mem   box_loss   cls_loss   dfl_loss  Instances       Size\n"
     ]
    },
    {
     "name": "stderr",
     "output_type": "stream",
     "text": [
      "     48/100      17.9G      1.026     0.7943      2.101         33        640: 100%|██████████| 32/32 [00:07<00:00,  4.55it/s]\n",
      "                 Class     Images  Instances      Box(P          R      mAP50  mAP50-95): 100%|██████████| 4/4 [00:00<00:00,  9.45it/s]"
     ]
    },
    {
     "name": "stdout",
     "output_type": "stream",
     "text": [
      "                   all        101        135      0.911      0.788       0.91      0.838\n"
     ]
    },
    {
     "name": "stderr",
     "output_type": "stream",
     "text": [
      "\n"
     ]
    },
    {
     "name": "stdout",
     "output_type": "stream",
     "text": [
      "\n",
      "      Epoch    GPU_mem   box_loss   cls_loss   dfl_loss  Instances       Size\n"
     ]
    },
    {
     "name": "stderr",
     "output_type": "stream",
     "text": [
      "     49/100      17.9G      1.025     0.7579       2.11         27        640: 100%|██████████| 32/32 [00:07<00:00,  4.55it/s]\n",
      "                 Class     Images  Instances      Box(P          R      mAP50  mAP50-95): 100%|██████████| 4/4 [00:00<00:00,  9.46it/s]"
     ]
    },
    {
     "name": "stdout",
     "output_type": "stream",
     "text": [
      "                   all        101        135      0.898      0.836      0.915      0.835\n"
     ]
    },
    {
     "name": "stderr",
     "output_type": "stream",
     "text": [
      "\n"
     ]
    },
    {
     "name": "stdout",
     "output_type": "stream",
     "text": [
      "\n",
      "      Epoch    GPU_mem   box_loss   cls_loss   dfl_loss  Instances       Size\n"
     ]
    },
    {
     "name": "stderr",
     "output_type": "stream",
     "text": [
      "     50/100      17.9G      1.024     0.7632      2.086         25        640: 100%|██████████| 32/32 [00:07<00:00,  4.54it/s]\n",
      "                 Class     Images  Instances      Box(P          R      mAP50  mAP50-95): 100%|██████████| 4/4 [00:00<00:00,  9.47it/s]"
     ]
    },
    {
     "name": "stdout",
     "output_type": "stream",
     "text": [
      "                   all        101        135      0.885       0.88      0.934      0.843\n"
     ]
    },
    {
     "name": "stderr",
     "output_type": "stream",
     "text": [
      "\n"
     ]
    },
    {
     "name": "stdout",
     "output_type": "stream",
     "text": [
      "\n",
      "      Epoch    GPU_mem   box_loss   cls_loss   dfl_loss  Instances       Size\n"
     ]
    },
    {
     "name": "stderr",
     "output_type": "stream",
     "text": [
      "     51/100      17.9G     0.9953     0.7647      2.065         30        640: 100%|██████████| 32/32 [00:07<00:00,  4.54it/s]\n",
      "                 Class     Images  Instances      Box(P          R      mAP50  mAP50-95): 100%|██████████| 4/4 [00:00<00:00,  9.35it/s]"
     ]
    },
    {
     "name": "stdout",
     "output_type": "stream",
     "text": [
      "                   all        101        135      0.905      0.822      0.923      0.845\n"
     ]
    },
    {
     "name": "stderr",
     "output_type": "stream",
     "text": [
      "\n"
     ]
    },
    {
     "name": "stdout",
     "output_type": "stream",
     "text": [
      "\n",
      "      Epoch    GPU_mem   box_loss   cls_loss   dfl_loss  Instances       Size\n"
     ]
    },
    {
     "name": "stderr",
     "output_type": "stream",
     "text": [
      "     52/100      17.9G      1.035     0.7829      2.101         30        640: 100%|██████████| 32/32 [00:07<00:00,  4.54it/s]\n",
      "                 Class     Images  Instances      Box(P          R      mAP50  mAP50-95): 100%|██████████| 4/4 [00:00<00:00,  9.43it/s]"
     ]
    },
    {
     "name": "stdout",
     "output_type": "stream",
     "text": [
      "                   all        101        135      0.913      0.863      0.926       0.87\n"
     ]
    },
    {
     "name": "stderr",
     "output_type": "stream",
     "text": [
      "\n"
     ]
    },
    {
     "name": "stdout",
     "output_type": "stream",
     "text": [
      "\n",
      "      Epoch    GPU_mem   box_loss   cls_loss   dfl_loss  Instances       Size\n"
     ]
    },
    {
     "name": "stderr",
     "output_type": "stream",
     "text": [
      "     53/100      17.9G     0.9725     0.7442      2.048         25        640: 100%|██████████| 32/32 [00:07<00:00,  4.55it/s]\n",
      "                 Class     Images  Instances      Box(P          R      mAP50  mAP50-95): 100%|██████████| 4/4 [00:00<00:00,  9.24it/s]"
     ]
    },
    {
     "name": "stdout",
     "output_type": "stream",
     "text": [
      "                   all        101        135      0.894      0.815      0.907      0.842\n"
     ]
    },
    {
     "name": "stderr",
     "output_type": "stream",
     "text": [
      "\n"
     ]
    },
    {
     "name": "stdout",
     "output_type": "stream",
     "text": [
      "\n",
      "      Epoch    GPU_mem   box_loss   cls_loss   dfl_loss  Instances       Size\n"
     ]
    },
    {
     "name": "stderr",
     "output_type": "stream",
     "text": [
      "     54/100      17.9G       1.05     0.7648      2.119         41        640: 100%|██████████| 32/32 [00:07<00:00,  4.54it/s]\n",
      "                 Class     Images  Instances      Box(P          R      mAP50  mAP50-95): 100%|██████████| 4/4 [00:00<00:00,  9.44it/s]"
     ]
    },
    {
     "name": "stdout",
     "output_type": "stream",
     "text": [
      "                   all        101        135      0.944      0.833      0.919      0.852\n"
     ]
    },
    {
     "name": "stderr",
     "output_type": "stream",
     "text": [
      "\n"
     ]
    },
    {
     "name": "stdout",
     "output_type": "stream",
     "text": [
      "\n",
      "      Epoch    GPU_mem   box_loss   cls_loss   dfl_loss  Instances       Size\n"
     ]
    },
    {
     "name": "stderr",
     "output_type": "stream",
     "text": [
      "     55/100      17.9G     0.9579     0.7132      2.026         30        640: 100%|██████████| 32/32 [00:07<00:00,  4.55it/s]\n",
      "                 Class     Images  Instances      Box(P          R      mAP50  mAP50-95): 100%|██████████| 4/4 [00:00<00:00,  9.48it/s]"
     ]
    },
    {
     "name": "stdout",
     "output_type": "stream",
     "text": [
      "                   all        101        135       0.93       0.86      0.931      0.875\n"
     ]
    },
    {
     "name": "stderr",
     "output_type": "stream",
     "text": [
      "\n"
     ]
    },
    {
     "name": "stdout",
     "output_type": "stream",
     "text": [
      "\n",
      "      Epoch    GPU_mem   box_loss   cls_loss   dfl_loss  Instances       Size\n"
     ]
    },
    {
     "name": "stderr",
     "output_type": "stream",
     "text": [
      "     56/100      17.9G     0.9786     0.7275      2.067         25        640: 100%|██████████| 32/32 [00:07<00:00,  4.54it/s]\n",
      "                 Class     Images  Instances      Box(P          R      mAP50  mAP50-95): 100%|██████████| 4/4 [00:00<00:00,  9.41it/s]"
     ]
    },
    {
     "name": "stdout",
     "output_type": "stream",
     "text": [
      "                   all        101        135      0.953      0.791      0.929       0.86\n"
     ]
    },
    {
     "name": "stderr",
     "output_type": "stream",
     "text": [
      "\n"
     ]
    },
    {
     "name": "stdout",
     "output_type": "stream",
     "text": [
      "\n",
      "      Epoch    GPU_mem   box_loss   cls_loss   dfl_loss  Instances       Size\n"
     ]
    },
    {
     "name": "stderr",
     "output_type": "stream",
     "text": [
      "     57/100      17.9G     0.9687     0.7093      2.076         29        640: 100%|██████████| 32/32 [00:07<00:00,  4.55it/s]\n",
      "                 Class     Images  Instances      Box(P          R      mAP50  mAP50-95): 100%|██████████| 4/4 [00:00<00:00,  9.47it/s]"
     ]
    },
    {
     "name": "stdout",
     "output_type": "stream",
     "text": [
      "                   all        101        135      0.884      0.903      0.941      0.869\n"
     ]
    },
    {
     "name": "stderr",
     "output_type": "stream",
     "text": [
      "\n"
     ]
    },
    {
     "name": "stdout",
     "output_type": "stream",
     "text": [
      "\n",
      "      Epoch    GPU_mem   box_loss   cls_loss   dfl_loss  Instances       Size\n"
     ]
    },
    {
     "name": "stderr",
     "output_type": "stream",
     "text": [
      "     58/100      17.9G     0.9601     0.6982      2.059         32        640: 100%|██████████| 32/32 [00:07<00:00,  4.55it/s]\n",
      "                 Class     Images  Instances      Box(P          R      mAP50  mAP50-95): 100%|██████████| 4/4 [00:00<00:00,  9.42it/s]"
     ]
    },
    {
     "name": "stdout",
     "output_type": "stream",
     "text": [
      "                   all        101        135      0.948      0.789      0.938      0.865\n"
     ]
    },
    {
     "name": "stderr",
     "output_type": "stream",
     "text": [
      "\n"
     ]
    },
    {
     "name": "stdout",
     "output_type": "stream",
     "text": [
      "\n",
      "      Epoch    GPU_mem   box_loss   cls_loss   dfl_loss  Instances       Size\n"
     ]
    },
    {
     "name": "stderr",
     "output_type": "stream",
     "text": [
      "     59/100      17.9G     0.9502     0.6876      2.048         30        640: 100%|██████████| 32/32 [00:07<00:00,  4.54it/s]\n",
      "                 Class     Images  Instances      Box(P          R      mAP50  mAP50-95): 100%|██████████| 4/4 [00:00<00:00,  9.43it/s]"
     ]
    },
    {
     "name": "stdout",
     "output_type": "stream",
     "text": [
      "                   all        101        135      0.955      0.853       0.94      0.873\n"
     ]
    },
    {
     "name": "stderr",
     "output_type": "stream",
     "text": [
      "\n"
     ]
    },
    {
     "name": "stdout",
     "output_type": "stream",
     "text": [
      "\n",
      "      Epoch    GPU_mem   box_loss   cls_loss   dfl_loss  Instances       Size\n"
     ]
    },
    {
     "name": "stderr",
     "output_type": "stream",
     "text": [
      "     60/100      17.9G      0.912     0.6313          2         26        640: 100%|██████████| 32/32 [00:07<00:00,  4.55it/s]\n",
      "                 Class     Images  Instances      Box(P          R      mAP50  mAP50-95): 100%|██████████| 4/4 [00:00<00:00,  9.29it/s]"
     ]
    },
    {
     "name": "stdout",
     "output_type": "stream",
     "text": [
      "                   all        101        135      0.945      0.845      0.944      0.879\n"
     ]
    },
    {
     "name": "stderr",
     "output_type": "stream",
     "text": [
      "\n"
     ]
    },
    {
     "name": "stdout",
     "output_type": "stream",
     "text": [
      "\n",
      "      Epoch    GPU_mem   box_loss   cls_loss   dfl_loss  Instances       Size\n"
     ]
    },
    {
     "name": "stderr",
     "output_type": "stream",
     "text": [
      "     61/100      17.9G     0.9123     0.6385      2.028         33        640: 100%|██████████| 32/32 [00:07<00:00,  4.55it/s]\n",
      "                 Class     Images  Instances      Box(P          R      mAP50  mAP50-95): 100%|██████████| 4/4 [00:00<00:00,  9.46it/s]"
     ]
    },
    {
     "name": "stdout",
     "output_type": "stream",
     "text": [
      "                   all        101        135      0.965      0.852      0.939      0.875\n"
     ]
    },
    {
     "name": "stderr",
     "output_type": "stream",
     "text": [
      "\n"
     ]
    },
    {
     "name": "stdout",
     "output_type": "stream",
     "text": [
      "\n",
      "      Epoch    GPU_mem   box_loss   cls_loss   dfl_loss  Instances       Size\n"
     ]
    },
    {
     "name": "stderr",
     "output_type": "stream",
     "text": [
      "     62/100      17.9G     0.9193     0.6525      2.019         30        640: 100%|██████████| 32/32 [00:07<00:00,  4.55it/s]\n",
      "                 Class     Images  Instances      Box(P          R      mAP50  mAP50-95): 100%|██████████| 4/4 [00:00<00:00,  9.44it/s]"
     ]
    },
    {
     "name": "stdout",
     "output_type": "stream",
     "text": [
      "                   all        101        135      0.952      0.829      0.941      0.869\n"
     ]
    },
    {
     "name": "stderr",
     "output_type": "stream",
     "text": [
      "\n"
     ]
    },
    {
     "name": "stdout",
     "output_type": "stream",
     "text": [
      "\n",
      "      Epoch    GPU_mem   box_loss   cls_loss   dfl_loss  Instances       Size\n"
     ]
    },
    {
     "name": "stderr",
     "output_type": "stream",
     "text": [
      "     63/100      17.9G     0.9072     0.6542      2.011         33        640: 100%|██████████| 32/32 [00:07<00:00,  4.54it/s]\n",
      "                 Class     Images  Instances      Box(P          R      mAP50  mAP50-95): 100%|██████████| 4/4 [00:00<00:00,  9.43it/s]"
     ]
    },
    {
     "name": "stdout",
     "output_type": "stream",
     "text": [
      "                   all        101        135      0.924      0.855       0.93      0.872\n"
     ]
    },
    {
     "name": "stderr",
     "output_type": "stream",
     "text": [
      "\n"
     ]
    },
    {
     "name": "stdout",
     "output_type": "stream",
     "text": [
      "\n",
      "      Epoch    GPU_mem   box_loss   cls_loss   dfl_loss  Instances       Size\n"
     ]
    },
    {
     "name": "stderr",
     "output_type": "stream",
     "text": [
      "     64/100      17.9G     0.9222       0.67      2.028         25        640: 100%|██████████| 32/32 [00:07<00:00,  4.55it/s]\n",
      "                 Class     Images  Instances      Box(P          R      mAP50  mAP50-95): 100%|██████████| 4/4 [00:00<00:00,  9.38it/s]"
     ]
    },
    {
     "name": "stdout",
     "output_type": "stream",
     "text": [
      "                   all        101        135      0.976      0.825      0.935      0.869\n"
     ]
    },
    {
     "name": "stderr",
     "output_type": "stream",
     "text": [
      "\n"
     ]
    },
    {
     "name": "stdout",
     "output_type": "stream",
     "text": [
      "\n",
      "      Epoch    GPU_mem   box_loss   cls_loss   dfl_loss  Instances       Size\n"
     ]
    },
    {
     "name": "stderr",
     "output_type": "stream",
     "text": [
      "     65/100      17.9G     0.9285     0.6667      2.026         32        640: 100%|██████████| 32/32 [00:07<00:00,  4.55it/s]\n",
      "                 Class     Images  Instances      Box(P          R      mAP50  mAP50-95): 100%|██████████| 4/4 [00:00<00:00,  9.49it/s]"
     ]
    },
    {
     "name": "stdout",
     "output_type": "stream",
     "text": [
      "                   all        101        135      0.936      0.839      0.933      0.864\n"
     ]
    },
    {
     "name": "stderr",
     "output_type": "stream",
     "text": [
      "\n"
     ]
    },
    {
     "name": "stdout",
     "output_type": "stream",
     "text": [
      "\n",
      "      Epoch    GPU_mem   box_loss   cls_loss   dfl_loss  Instances       Size\n"
     ]
    },
    {
     "name": "stderr",
     "output_type": "stream",
     "text": [
      "     66/100      17.9G     0.8717     0.5786      2.011         23        640: 100%|██████████| 32/32 [00:07<00:00,  4.54it/s]\n",
      "                 Class     Images  Instances      Box(P          R      mAP50  mAP50-95): 100%|██████████| 4/4 [00:00<00:00,  9.44it/s]"
     ]
    },
    {
     "name": "stdout",
     "output_type": "stream",
     "text": [
      "                   all        101        135      0.923       0.88      0.946      0.892\n"
     ]
    },
    {
     "name": "stderr",
     "output_type": "stream",
     "text": [
      "\n"
     ]
    },
    {
     "name": "stdout",
     "output_type": "stream",
     "text": [
      "\n",
      "      Epoch    GPU_mem   box_loss   cls_loss   dfl_loss  Instances       Size\n"
     ]
    },
    {
     "name": "stderr",
     "output_type": "stream",
     "text": [
      "     67/100      17.9G     0.9153     0.6544      2.029         31        640: 100%|██████████| 32/32 [00:07<00:00,  4.55it/s]\n",
      "                 Class     Images  Instances      Box(P          R      mAP50  mAP50-95): 100%|██████████| 4/4 [00:00<00:00,  9.49it/s]"
     ]
    },
    {
     "name": "stdout",
     "output_type": "stream",
     "text": [
      "                   all        101        135      0.967       0.82      0.913      0.863\n"
     ]
    },
    {
     "name": "stderr",
     "output_type": "stream",
     "text": [
      "\n"
     ]
    },
    {
     "name": "stdout",
     "output_type": "stream",
     "text": [
      "\n",
      "      Epoch    GPU_mem   box_loss   cls_loss   dfl_loss  Instances       Size\n"
     ]
    },
    {
     "name": "stderr",
     "output_type": "stream",
     "text": [
      "     68/100      17.9G     0.8776     0.6478      1.986         28        640: 100%|██████████| 32/32 [00:07<00:00,  4.55it/s]\n",
      "                 Class     Images  Instances      Box(P          R      mAP50  mAP50-95): 100%|██████████| 4/4 [00:00<00:00,  9.47it/s]"
     ]
    },
    {
     "name": "stdout",
     "output_type": "stream",
     "text": [
      "                   all        101        135       0.89      0.837      0.919      0.863\n"
     ]
    },
    {
     "name": "stderr",
     "output_type": "stream",
     "text": [
      "\n"
     ]
    },
    {
     "name": "stdout",
     "output_type": "stream",
     "text": [
      "\n",
      "      Epoch    GPU_mem   box_loss   cls_loss   dfl_loss  Instances       Size\n"
     ]
    },
    {
     "name": "stderr",
     "output_type": "stream",
     "text": [
      "     69/100      17.9G     0.8723     0.6299      1.983         40        640: 100%|██████████| 32/32 [00:07<00:00,  4.55it/s]\n",
      "                 Class     Images  Instances      Box(P          R      mAP50  mAP50-95): 100%|██████████| 4/4 [00:00<00:00,  9.44it/s]"
     ]
    },
    {
     "name": "stdout",
     "output_type": "stream",
     "text": [
      "                   all        101        135      0.956      0.889       0.95       0.89\n"
     ]
    },
    {
     "name": "stderr",
     "output_type": "stream",
     "text": [
      "\n"
     ]
    },
    {
     "name": "stdout",
     "output_type": "stream",
     "text": [
      "\n",
      "      Epoch    GPU_mem   box_loss   cls_loss   dfl_loss  Instances       Size\n"
     ]
    },
    {
     "name": "stderr",
     "output_type": "stream",
     "text": [
      "     70/100      17.9G     0.8799     0.6203      2.004         29        640: 100%|██████████| 32/32 [00:07<00:00,  4.55it/s]\n",
      "                 Class     Images  Instances      Box(P          R      mAP50  mAP50-95): 100%|██████████| 4/4 [00:00<00:00,  9.48it/s]"
     ]
    },
    {
     "name": "stdout",
     "output_type": "stream",
     "text": [
      "                   all        101        135      0.956      0.831      0.931      0.876\n"
     ]
    },
    {
     "name": "stderr",
     "output_type": "stream",
     "text": [
      "\n"
     ]
    },
    {
     "name": "stdout",
     "output_type": "stream",
     "text": [
      "\n",
      "      Epoch    GPU_mem   box_loss   cls_loss   dfl_loss  Instances       Size\n"
     ]
    },
    {
     "name": "stderr",
     "output_type": "stream",
     "text": [
      "     71/100      17.9G     0.8779     0.5908      2.014         26        640: 100%|██████████| 32/32 [00:07<00:00,  4.55it/s]\n",
      "                 Class     Images  Instances      Box(P          R      mAP50  mAP50-95): 100%|██████████| 4/4 [00:00<00:00,  9.50it/s]"
     ]
    },
    {
     "name": "stdout",
     "output_type": "stream",
     "text": [
      "                   all        101        135      0.956      0.796      0.914      0.847\n"
     ]
    },
    {
     "name": "stderr",
     "output_type": "stream",
     "text": [
      "\n"
     ]
    },
    {
     "name": "stdout",
     "output_type": "stream",
     "text": [
      "\n",
      "      Epoch    GPU_mem   box_loss   cls_loss   dfl_loss  Instances       Size\n"
     ]
    },
    {
     "name": "stderr",
     "output_type": "stream",
     "text": [
      "     72/100      17.9G     0.8866     0.6449      1.992         31        640: 100%|██████████| 32/32 [00:07<00:00,  4.55it/s]\n",
      "                 Class     Images  Instances      Box(P          R      mAP50  mAP50-95): 100%|██████████| 4/4 [00:00<00:00,  9.46it/s]"
     ]
    },
    {
     "name": "stdout",
     "output_type": "stream",
     "text": [
      "                   all        101        135      0.946      0.802      0.928       0.86\n"
     ]
    },
    {
     "name": "stderr",
     "output_type": "stream",
     "text": [
      "\n"
     ]
    },
    {
     "name": "stdout",
     "output_type": "stream",
     "text": [
      "\n",
      "      Epoch    GPU_mem   box_loss   cls_loss   dfl_loss  Instances       Size\n"
     ]
    },
    {
     "name": "stderr",
     "output_type": "stream",
     "text": [
      "     73/100      17.9G     0.8614     0.5675      1.981         32        640: 100%|██████████| 32/32 [00:07<00:00,  4.55it/s]\n",
      "                 Class     Images  Instances      Box(P          R      mAP50  mAP50-95): 100%|██████████| 4/4 [00:00<00:00,  9.45it/s]"
     ]
    },
    {
     "name": "stdout",
     "output_type": "stream",
     "text": [
      "                   all        101        135      0.891      0.863      0.935      0.885\n"
     ]
    },
    {
     "name": "stderr",
     "output_type": "stream",
     "text": [
      "\n"
     ]
    },
    {
     "name": "stdout",
     "output_type": "stream",
     "text": [
      "\n",
      "      Epoch    GPU_mem   box_loss   cls_loss   dfl_loss  Instances       Size\n"
     ]
    },
    {
     "name": "stderr",
     "output_type": "stream",
     "text": [
      "     74/100      17.9G     0.8418     0.6092      1.995         35        640: 100%|██████████| 32/32 [00:07<00:00,  4.55it/s]\n",
      "                 Class     Images  Instances      Box(P          R      mAP50  mAP50-95): 100%|██████████| 4/4 [00:00<00:00,  9.48it/s]"
     ]
    },
    {
     "name": "stdout",
     "output_type": "stream",
     "text": [
      "                   all        101        135      0.942      0.843      0.946       0.89\n"
     ]
    },
    {
     "name": "stderr",
     "output_type": "stream",
     "text": [
      "\n"
     ]
    },
    {
     "name": "stdout",
     "output_type": "stream",
     "text": [
      "\n",
      "      Epoch    GPU_mem   box_loss   cls_loss   dfl_loss  Instances       Size\n"
     ]
    },
    {
     "name": "stderr",
     "output_type": "stream",
     "text": [
      "     75/100      17.9G     0.8481     0.5847      1.973         34        640: 100%|██████████| 32/32 [00:07<00:00,  4.56it/s]\n",
      "                 Class     Images  Instances      Box(P          R      mAP50  mAP50-95): 100%|██████████| 4/4 [00:00<00:00,  9.47it/s]"
     ]
    },
    {
     "name": "stdout",
     "output_type": "stream",
     "text": [
      "                   all        101        135      0.917       0.88      0.944      0.885\n"
     ]
    },
    {
     "name": "stderr",
     "output_type": "stream",
     "text": [
      "\n"
     ]
    },
    {
     "name": "stdout",
     "output_type": "stream",
     "text": [
      "\n",
      "      Epoch    GPU_mem   box_loss   cls_loss   dfl_loss  Instances       Size\n"
     ]
    },
    {
     "name": "stderr",
     "output_type": "stream",
     "text": [
      "     76/100      17.9G      0.874     0.6064      1.991         34        640: 100%|██████████| 32/32 [00:07<00:00,  4.56it/s]\n",
      "                 Class     Images  Instances      Box(P          R      mAP50  mAP50-95): 100%|██████████| 4/4 [00:00<00:00,  9.46it/s]"
     ]
    },
    {
     "name": "stdout",
     "output_type": "stream",
     "text": [
      "                   all        101        135      0.952      0.846      0.932      0.876\n"
     ]
    },
    {
     "name": "stderr",
     "output_type": "stream",
     "text": [
      "\n"
     ]
    },
    {
     "name": "stdout",
     "output_type": "stream",
     "text": [
      "\n",
      "      Epoch    GPU_mem   box_loss   cls_loss   dfl_loss  Instances       Size\n"
     ]
    },
    {
     "name": "stderr",
     "output_type": "stream",
     "text": [
      "     77/100      17.9G     0.8048     0.5434      1.947         30        640: 100%|██████████| 32/32 [00:07<00:00,  4.55it/s]\n",
      "                 Class     Images  Instances      Box(P          R      mAP50  mAP50-95): 100%|██████████| 4/4 [00:00<00:00,  9.51it/s]"
     ]
    },
    {
     "name": "stdout",
     "output_type": "stream",
     "text": [
      "                   all        101        135      0.962      0.837      0.936      0.875\n"
     ]
    },
    {
     "name": "stderr",
     "output_type": "stream",
     "text": [
      "\n"
     ]
    },
    {
     "name": "stdout",
     "output_type": "stream",
     "text": [
      "\n",
      "      Epoch    GPU_mem   box_loss   cls_loss   dfl_loss  Instances       Size\n"
     ]
    },
    {
     "name": "stderr",
     "output_type": "stream",
     "text": [
      "     78/100      17.9G     0.8294     0.5921      1.973         30        640: 100%|██████████| 32/32 [00:07<00:00,  4.55it/s]\n",
      "                 Class     Images  Instances      Box(P          R      mAP50  mAP50-95): 100%|██████████| 4/4 [00:00<00:00,  9.48it/s]"
     ]
    },
    {
     "name": "stdout",
     "output_type": "stream",
     "text": [
      "                   all        101        135      0.937      0.876      0.935      0.878\n"
     ]
    },
    {
     "name": "stderr",
     "output_type": "stream",
     "text": [
      "\n"
     ]
    },
    {
     "name": "stdout",
     "output_type": "stream",
     "text": [
      "\n",
      "      Epoch    GPU_mem   box_loss   cls_loss   dfl_loss  Instances       Size\n"
     ]
    },
    {
     "name": "stderr",
     "output_type": "stream",
     "text": [
      "     79/100      17.9G     0.8085     0.5654      1.937         34        640: 100%|██████████| 32/32 [00:07<00:00,  4.55it/s]\n",
      "                 Class     Images  Instances      Box(P          R      mAP50  mAP50-95): 100%|██████████| 4/4 [00:00<00:00,  9.48it/s]"
     ]
    },
    {
     "name": "stdout",
     "output_type": "stream",
     "text": [
      "                   all        101        135      0.955      0.861      0.936      0.869\n"
     ]
    },
    {
     "name": "stderr",
     "output_type": "stream",
     "text": [
      "\n"
     ]
    },
    {
     "name": "stdout",
     "output_type": "stream",
     "text": [
      "\n",
      "      Epoch    GPU_mem   box_loss   cls_loss   dfl_loss  Instances       Size\n"
     ]
    },
    {
     "name": "stderr",
     "output_type": "stream",
     "text": [
      "     80/100      17.9G     0.8212     0.5619      1.973         25        640: 100%|██████████| 32/32 [00:07<00:00,  4.54it/s]\n",
      "                 Class     Images  Instances      Box(P          R      mAP50  mAP50-95): 100%|██████████| 4/4 [00:00<00:00,  9.45it/s]"
     ]
    },
    {
     "name": "stdout",
     "output_type": "stream",
     "text": [
      "                   all        101        135      0.988      0.848      0.939      0.883\n"
     ]
    },
    {
     "name": "stderr",
     "output_type": "stream",
     "text": [
      "\n"
     ]
    },
    {
     "name": "stdout",
     "output_type": "stream",
     "text": [
      "\n",
      "      Epoch    GPU_mem   box_loss   cls_loss   dfl_loss  Instances       Size\n"
     ]
    },
    {
     "name": "stderr",
     "output_type": "stream",
     "text": [
      "     81/100      17.9G     0.7913     0.5198      1.987         29        640: 100%|██████████| 32/32 [00:07<00:00,  4.54it/s]\n",
      "                 Class     Images  Instances      Box(P          R      mAP50  mAP50-95): 100%|██████████| 4/4 [00:00<00:00,  9.48it/s]"
     ]
    },
    {
     "name": "stdout",
     "output_type": "stream",
     "text": [
      "                   all        101        135       0.95      0.852       0.93      0.876\n"
     ]
    },
    {
     "name": "stderr",
     "output_type": "stream",
     "text": [
      "\n"
     ]
    },
    {
     "name": "stdout",
     "output_type": "stream",
     "text": [
      "\n",
      "      Epoch    GPU_mem   box_loss   cls_loss   dfl_loss  Instances       Size\n"
     ]
    },
    {
     "name": "stderr",
     "output_type": "stream",
     "text": [
      "     82/100      17.9G     0.8176     0.5575      1.976         23        640: 100%|██████████| 32/32 [00:07<00:00,  4.55it/s]\n",
      "                 Class     Images  Instances      Box(P          R      mAP50  mAP50-95): 100%|██████████| 4/4 [00:00<00:00,  9.47it/s]"
     ]
    },
    {
     "name": "stdout",
     "output_type": "stream",
     "text": [
      "                   all        101        135      0.951      0.855      0.939      0.879\n"
     ]
    },
    {
     "name": "stderr",
     "output_type": "stream",
     "text": [
      "\n"
     ]
    },
    {
     "name": "stdout",
     "output_type": "stream",
     "text": [
      "\n",
      "      Epoch    GPU_mem   box_loss   cls_loss   dfl_loss  Instances       Size\n"
     ]
    },
    {
     "name": "stderr",
     "output_type": "stream",
     "text": [
      "     83/100      17.9G     0.8259     0.5305      1.987         35        640: 100%|██████████| 32/32 [00:07<00:00,  4.55it/s]\n",
      "                 Class     Images  Instances      Box(P          R      mAP50  mAP50-95): 100%|██████████| 4/4 [00:00<00:00,  9.47it/s]"
     ]
    },
    {
     "name": "stdout",
     "output_type": "stream",
     "text": [
      "                   all        101        135       0.98      0.839      0.939      0.891\n"
     ]
    },
    {
     "name": "stderr",
     "output_type": "stream",
     "text": [
      "\n"
     ]
    },
    {
     "name": "stdout",
     "output_type": "stream",
     "text": [
      "\n",
      "      Epoch    GPU_mem   box_loss   cls_loss   dfl_loss  Instances       Size\n"
     ]
    },
    {
     "name": "stderr",
     "output_type": "stream",
     "text": [
      "     84/100      17.9G     0.7898     0.5494      1.948         34        640: 100%|██████████| 32/32 [00:07<00:00,  4.55it/s]\n",
      "                 Class     Images  Instances      Box(P          R      mAP50  mAP50-95): 100%|██████████| 4/4 [00:00<00:00,  9.30it/s]"
     ]
    },
    {
     "name": "stdout",
     "output_type": "stream",
     "text": [
      "                   all        101        135      0.984      0.836      0.939      0.893\n"
     ]
    },
    {
     "name": "stderr",
     "output_type": "stream",
     "text": [
      "\n"
     ]
    },
    {
     "name": "stdout",
     "output_type": "stream",
     "text": [
      "\n",
      "      Epoch    GPU_mem   box_loss   cls_loss   dfl_loss  Instances       Size\n"
     ]
    },
    {
     "name": "stderr",
     "output_type": "stream",
     "text": [
      "     85/100      17.9G     0.7801     0.5333      1.946         29        640: 100%|██████████| 32/32 [00:07<00:00,  4.55it/s]\n",
      "                 Class     Images  Instances      Box(P          R      mAP50  mAP50-95): 100%|██████████| 4/4 [00:00<00:00,  9.47it/s]"
     ]
    },
    {
     "name": "stdout",
     "output_type": "stream",
     "text": [
      "                   all        101        135      0.931      0.885      0.931      0.886\n"
     ]
    },
    {
     "name": "stderr",
     "output_type": "stream",
     "text": [
      "\n"
     ]
    },
    {
     "name": "stdout",
     "output_type": "stream",
     "text": [
      "\n",
      "      Epoch    GPU_mem   box_loss   cls_loss   dfl_loss  Instances       Size\n"
     ]
    },
    {
     "name": "stderr",
     "output_type": "stream",
     "text": [
      "     86/100      17.9G     0.7693     0.5071      1.943         37        640: 100%|██████████| 32/32 [00:07<00:00,  4.55it/s]\n",
      "                 Class     Images  Instances      Box(P          R      mAP50  mAP50-95): 100%|██████████| 4/4 [00:00<00:00,  9.49it/s]"
     ]
    },
    {
     "name": "stdout",
     "output_type": "stream",
     "text": [
      "                   all        101        135      0.982      0.883      0.937      0.897\n"
     ]
    },
    {
     "name": "stderr",
     "output_type": "stream",
     "text": [
      "\n"
     ]
    },
    {
     "name": "stdout",
     "output_type": "stream",
     "text": [
      "\n",
      "      Epoch    GPU_mem   box_loss   cls_loss   dfl_loss  Instances       Size\n"
     ]
    },
    {
     "name": "stderr",
     "output_type": "stream",
     "text": [
      "     87/100      17.9G     0.7584     0.4943      1.928         32        640: 100%|██████████| 32/32 [00:07<00:00,  4.55it/s]\n",
      "                 Class     Images  Instances      Box(P          R      mAP50  mAP50-95): 100%|██████████| 4/4 [00:00<00:00,  9.47it/s]"
     ]
    },
    {
     "name": "stdout",
     "output_type": "stream",
     "text": [
      "                   all        101        135      0.978      0.873      0.939      0.885\n"
     ]
    },
    {
     "name": "stderr",
     "output_type": "stream",
     "text": [
      "\n"
     ]
    },
    {
     "name": "stdout",
     "output_type": "stream",
     "text": [
      "\n",
      "      Epoch    GPU_mem   box_loss   cls_loss   dfl_loss  Instances       Size\n"
     ]
    },
    {
     "name": "stderr",
     "output_type": "stream",
     "text": [
      "     88/100      17.9G     0.7991     0.5292      1.961         29        640: 100%|██████████| 32/32 [00:07<00:00,  4.55it/s]\n",
      "                 Class     Images  Instances      Box(P          R      mAP50  mAP50-95): 100%|██████████| 4/4 [00:00<00:00,  9.44it/s]"
     ]
    },
    {
     "name": "stdout",
     "output_type": "stream",
     "text": [
      "                   all        101        135      0.948      0.862      0.936       0.88\n"
     ]
    },
    {
     "name": "stderr",
     "output_type": "stream",
     "text": [
      "\n"
     ]
    },
    {
     "name": "stdout",
     "output_type": "stream",
     "text": [
      "\n",
      "      Epoch    GPU_mem   box_loss   cls_loss   dfl_loss  Instances       Size\n"
     ]
    },
    {
     "name": "stderr",
     "output_type": "stream",
     "text": [
      "     89/100      17.9G     0.7705     0.5033      1.939         34        640: 100%|██████████| 32/32 [00:07<00:00,  4.55it/s]\n",
      "                 Class     Images  Instances      Box(P          R      mAP50  mAP50-95): 100%|██████████| 4/4 [00:00<00:00,  9.46it/s]"
     ]
    },
    {
     "name": "stdout",
     "output_type": "stream",
     "text": [
      "                   all        101        135      0.977      0.832      0.932       0.88\n"
     ]
    },
    {
     "name": "stderr",
     "output_type": "stream",
     "text": [
      "\n"
     ]
    },
    {
     "name": "stdout",
     "output_type": "stream",
     "text": [
      "\n",
      "      Epoch    GPU_mem   box_loss   cls_loss   dfl_loss  Instances       Size\n"
     ]
    },
    {
     "name": "stderr",
     "output_type": "stream",
     "text": [
      "     90/100      17.9G     0.7934     0.5334      1.959         26        640: 100%|██████████| 32/32 [00:07<00:00,  4.55it/s]\n",
      "                 Class     Images  Instances      Box(P          R      mAP50  mAP50-95): 100%|██████████| 4/4 [00:00<00:00,  9.48it/s]"
     ]
    },
    {
     "name": "stdout",
     "output_type": "stream",
     "text": [
      "                   all        101        135      0.929       0.87      0.936      0.885\n"
     ]
    },
    {
     "name": "stderr",
     "output_type": "stream",
     "text": [
      "\n"
     ]
    },
    {
     "name": "stdout",
     "output_type": "stream",
     "text": [
      "Closing dataloader mosaic\n",
      "\n",
      "      Epoch    GPU_mem   box_loss   cls_loss   dfl_loss  Instances       Size\n"
     ]
    },
    {
     "name": "stderr",
     "output_type": "stream",
     "text": [
      "     91/100      17.9G     0.5403     0.3865      1.713         15        640: 100%|██████████| 32/32 [00:07<00:00,  4.18it/s]\n",
      "                 Class     Images  Instances      Box(P          R      mAP50  mAP50-95): 100%|██████████| 4/4 [00:00<00:00,  9.39it/s]"
     ]
    },
    {
     "name": "stdout",
     "output_type": "stream",
     "text": [
      "                   all        101        135      0.968       0.88       0.94      0.893\n"
     ]
    },
    {
     "name": "stderr",
     "output_type": "stream",
     "text": [
      "\n"
     ]
    },
    {
     "name": "stdout",
     "output_type": "stream",
     "text": [
      "\n",
      "      Epoch    GPU_mem   box_loss   cls_loss   dfl_loss  Instances       Size\n"
     ]
    },
    {
     "name": "stderr",
     "output_type": "stream",
     "text": [
      "     92/100      17.9G     0.5494     0.3444      1.687         13        640: 100%|██████████| 32/32 [00:07<00:00,  4.55it/s]\n",
      "                 Class     Images  Instances      Box(P          R      mAP50  mAP50-95): 100%|██████████| 4/4 [00:00<00:00,  9.45it/s]"
     ]
    },
    {
     "name": "stdout",
     "output_type": "stream",
     "text": [
      "                   all        101        135      0.963      0.883      0.937      0.897\n"
     ]
    },
    {
     "name": "stderr",
     "output_type": "stream",
     "text": [
      "\n"
     ]
    },
    {
     "name": "stdout",
     "output_type": "stream",
     "text": [
      "\n",
      "      Epoch    GPU_mem   box_loss   cls_loss   dfl_loss  Instances       Size\n"
     ]
    },
    {
     "name": "stderr",
     "output_type": "stream",
     "text": [
      "     93/100      17.9G     0.5198     0.3375      1.698         12        640: 100%|██████████| 32/32 [00:07<00:00,  4.55it/s]\n",
      "                 Class     Images  Instances      Box(P          R      mAP50  mAP50-95): 100%|██████████| 4/4 [00:00<00:00,  9.46it/s]"
     ]
    },
    {
     "name": "stdout",
     "output_type": "stream",
     "text": [
      "                   all        101        135      0.971      0.873       0.94      0.896\n"
     ]
    },
    {
     "name": "stderr",
     "output_type": "stream",
     "text": [
      "\n"
     ]
    },
    {
     "name": "stdout",
     "output_type": "stream",
     "text": [
      "\n",
      "      Epoch    GPU_mem   box_loss   cls_loss   dfl_loss  Instances       Size\n"
     ]
    },
    {
     "name": "stderr",
     "output_type": "stream",
     "text": [
      "     94/100      17.9G     0.5215     0.3422       1.67         16        640: 100%|██████████| 32/32 [00:07<00:00,  4.56it/s]\n",
      "                 Class     Images  Instances      Box(P          R      mAP50  mAP50-95): 100%|██████████| 4/4 [00:00<00:00,  9.47it/s]"
     ]
    },
    {
     "name": "stdout",
     "output_type": "stream",
     "text": [
      "                   all        101        135      0.949      0.865      0.941      0.889\n"
     ]
    },
    {
     "name": "stderr",
     "output_type": "stream",
     "text": [
      "\n"
     ]
    },
    {
     "name": "stdout",
     "output_type": "stream",
     "text": [
      "\n",
      "      Epoch    GPU_mem   box_loss   cls_loss   dfl_loss  Instances       Size\n"
     ]
    },
    {
     "name": "stderr",
     "output_type": "stream",
     "text": [
      "     95/100      17.9G      0.519     0.3551      1.676         15        640: 100%|██████████| 32/32 [00:07<00:00,  4.56it/s]\n",
      "                 Class     Images  Instances      Box(P          R      mAP50  mAP50-95): 100%|██████████| 4/4 [00:00<00:00,  9.50it/s]"
     ]
    },
    {
     "name": "stdout",
     "output_type": "stream",
     "text": [
      "                   all        101        135      0.934      0.875      0.936      0.887\n"
     ]
    },
    {
     "name": "stderr",
     "output_type": "stream",
     "text": [
      "\n"
     ]
    },
    {
     "name": "stdout",
     "output_type": "stream",
     "text": [
      "\n",
      "      Epoch    GPU_mem   box_loss   cls_loss   dfl_loss  Instances       Size\n"
     ]
    },
    {
     "name": "stderr",
     "output_type": "stream",
     "text": [
      "     96/100      17.9G     0.5217     0.3282      1.674         15        640: 100%|██████████| 32/32 [00:07<00:00,  4.56it/s]\n",
      "                 Class     Images  Instances      Box(P          R      mAP50  mAP50-95): 100%|██████████| 4/4 [00:00<00:00,  9.43it/s]"
     ]
    },
    {
     "name": "stdout",
     "output_type": "stream",
     "text": [
      "                   all        101        135      0.981      0.852      0.937       0.89\n"
     ]
    },
    {
     "name": "stderr",
     "output_type": "stream",
     "text": [
      "\n"
     ]
    },
    {
     "name": "stdout",
     "output_type": "stream",
     "text": [
      "\n",
      "      Epoch    GPU_mem   box_loss   cls_loss   dfl_loss  Instances       Size\n"
     ]
    },
    {
     "name": "stderr",
     "output_type": "stream",
     "text": [
      "     97/100      17.9G       0.49     0.3202      1.682         14        640: 100%|██████████| 32/32 [00:07<00:00,  4.56it/s]\n",
      "                 Class     Images  Instances      Box(P          R      mAP50  mAP50-95): 100%|██████████| 4/4 [00:00<00:00,  9.47it/s]"
     ]
    },
    {
     "name": "stdout",
     "output_type": "stream",
     "text": [
      "                   all        101        135      0.923      0.876      0.937      0.887\n"
     ]
    },
    {
     "name": "stderr",
     "output_type": "stream",
     "text": [
      "\n"
     ]
    },
    {
     "name": "stdout",
     "output_type": "stream",
     "text": [
      "\n",
      "      Epoch    GPU_mem   box_loss   cls_loss   dfl_loss  Instances       Size\n"
     ]
    },
    {
     "name": "stderr",
     "output_type": "stream",
     "text": [
      "     98/100      17.9G      0.499     0.2992      1.679         13        640: 100%|██████████| 32/32 [00:07<00:00,  4.56it/s]\n",
      "                 Class     Images  Instances      Box(P          R      mAP50  mAP50-95): 100%|██████████| 4/4 [00:00<00:00,  9.50it/s]"
     ]
    },
    {
     "name": "stdout",
     "output_type": "stream",
     "text": [
      "                   all        101        135      0.973      0.853      0.939      0.891\n"
     ]
    },
    {
     "name": "stderr",
     "output_type": "stream",
     "text": [
      "\n"
     ]
    },
    {
     "name": "stdout",
     "output_type": "stream",
     "text": [
      "\n",
      "      Epoch    GPU_mem   box_loss   cls_loss   dfl_loss  Instances       Size\n"
     ]
    },
    {
     "name": "stderr",
     "output_type": "stream",
     "text": [
      "     99/100      17.9G     0.5023     0.3215      1.693         13        640: 100%|██████████| 32/32 [00:07<00:00,  4.56it/s]\n",
      "                 Class     Images  Instances      Box(P          R      mAP50  mAP50-95): 100%|██████████| 4/4 [00:00<00:00,  9.46it/s]"
     ]
    },
    {
     "name": "stdout",
     "output_type": "stream",
     "text": [
      "                   all        101        135      0.952      0.873       0.94      0.891\n"
     ]
    },
    {
     "name": "stderr",
     "output_type": "stream",
     "text": [
      "\n"
     ]
    },
    {
     "name": "stdout",
     "output_type": "stream",
     "text": [
      "\n",
      "      Epoch    GPU_mem   box_loss   cls_loss   dfl_loss  Instances       Size\n"
     ]
    },
    {
     "name": "stderr",
     "output_type": "stream",
     "text": [
      "    100/100      17.9G     0.4872     0.3052      1.646         14        640: 100%|██████████| 32/32 [00:07<00:00,  4.55it/s]\n",
      "                 Class     Images  Instances      Box(P          R      mAP50  mAP50-95): 100%|██████████| 4/4 [00:00<00:00,  9.49it/s]"
     ]
    },
    {
     "name": "stdout",
     "output_type": "stream",
     "text": [
      "                   all        101        135      0.957       0.88      0.939      0.895\n"
     ]
    },
    {
     "name": "stderr",
     "output_type": "stream",
     "text": [
      "\n"
     ]
    },
    {
     "name": "stdout",
     "output_type": "stream",
     "text": [
      "\n",
      "100 epochs completed in 0.231 hours.\n",
      "Optimizer stripped from runs/v10x_baseline/weights/last.pt, 64.1MB\n",
      "Optimizer stripped from runs/v10x_baseline/weights/best.pt, 64.1MB\n",
      "\n",
      "Validating runs/v10x_baseline/weights/best.pt...\n",
      "Ultralytics 8.3.31 🚀 Python-3.8.20 torch-2.4.1+cu121 CUDA:0 (NVIDIA GeForce RTX 4090, 24184MiB)\n",
      "YOLOv10x summary (fused): 503 layers, 31,587,932 parameters, 0 gradients, 169.8 GFLOPs\n"
     ]
    },
    {
     "name": "stderr",
     "output_type": "stream",
     "text": [
      "                 Class     Images  Instances      Box(P          R      mAP50  mAP50-95): 100%|██████████| 4/4 [00:00<00:00,  7.65it/s]\n"
     ]
    },
    {
     "name": "stdout",
     "output_type": "stream",
     "text": [
      "                   all        101        135      0.962      0.884      0.937      0.897\n",
      "                 fruit         64         81      0.927      0.935      0.966       0.93\n",
      "                flower         37         54      0.998      0.833      0.908      0.864\n",
      "Speed: 0.1ms preprocess, 3.2ms inference, 0.0ms loss, 0.0ms postprocess per image\n",
      "Saving runs/v10x_baseline/predictions.json...\n",
      "Results saved to \u001b[1mruns/v10x_baseline\u001b[0m\n"
     ]
    }
   ],
   "source": [
    "# 모델 학습\n",
    "results = model.train(**train_params)"
   ]
  },
  {
   "cell_type": "code",
   "execution_count": 12,
   "metadata": {},
   "outputs": [],
   "source": [
    "from ultralytics import YOLO\n",
    "best_model = YOLO(f\"{train_params['project']}/{train_params['name']}/weights/best.pt\")\n",
    "\n",
    "# validation 파라미터 설정\n",
    "val_params = {\n",
    "    'data': train_params['data'],\n",
    "    'batch': train_params['batch'],\n",
    "    'conf': train_params['conf'],\n",
    "    'save_json': True,\n",
    "    'project': f\"{train_params['project']}/{train_params['name']}\",\n",
    "    'name': 'val_performance',\n",
    "    'split': 'val',                        # 'val', 'test', 'train'\n",
    "    'workers': 0,\n",
    "}"
   ]
  },
  {
   "cell_type": "code",
   "execution_count": null,
   "metadata": {},
   "outputs": [
    {
     "name": "stdout",
     "output_type": "stream",
     "text": [
      "Ultralytics 8.3.31 🚀 Python-3.8.20 torch-2.4.1+cu121 CUDA:0 (NVIDIA GeForce RTX 4090, 24184MiB)\n",
      "YOLOv10x summary (fused): 503 layers, 31,587,932 parameters, 0 gradients, 169.8 GFLOPs\n"
     ]
    },
    {
     "name": "stderr",
     "output_type": "stream",
     "text": [
      "\u001b[34m\u001b[1mval: \u001b[0mScanning /home/leedh/바탕화면/korean_melon/dataset/valid/labels.cache... 101 images, 0 backgrounds, 0 corrupt: 100%|██████████| 101/101 [00:00<?, ?it/s]\n",
      "                 Class     Images  Instances      Box(P          R      mAP50  mAP50-95): 100%|██████████| 7/7 [00:03<00:00,  2.08it/s]\n"
     ]
    },
    {
     "name": "stdout",
     "output_type": "stream",
     "text": [
      "                   all        101        135      0.963      0.883      0.937      0.897\n",
      "                 fruit         64         81      0.926      0.932      0.966       0.93\n",
      "                flower         37         54          1      0.833      0.908      0.864\n",
      "Speed: 0.1ms preprocess, 5.1ms inference, 0.0ms loss, 0.0ms postprocess per image\n",
      "Saving runs/v10x_baseline/val_performance/predictions.json...\n",
      "Results saved to \u001b[1mruns/v10x_baseline/val_performance\u001b[0m\n",
      "Run 1: Processing time: 5.245 ms, FPS: 190.66\n",
      "Ultralytics 8.3.31 🚀 Python-3.8.20 torch-2.4.1+cu121 CUDA:0 (NVIDIA GeForce RTX 4090, 24184MiB)\n"
     ]
    },
    {
     "name": "stderr",
     "output_type": "stream",
     "text": [
      "\u001b[34m\u001b[1mval: \u001b[0mScanning /home/leedh/바탕화면/korean_melon/dataset/valid/labels.cache... 101 images, 0 backgrounds, 0 corrupt: 100%|██████████| 101/101 [00:00<?, ?it/s]\n",
      "                 Class     Images  Instances      Box(P          R      mAP50  mAP50-95): 100%|██████████| 7/7 [00:03<00:00,  1.81it/s]\n"
     ]
    },
    {
     "name": "stdout",
     "output_type": "stream",
     "text": [
      "                   all        101        135      0.963      0.883      0.937      0.897\n",
      "                 fruit         64         81      0.926      0.932      0.966       0.93\n",
      "                flower         37         54          1      0.833      0.908      0.864\n",
      "Speed: 0.1ms preprocess, 5.1ms inference, 0.0ms loss, 0.0ms postprocess per image\n",
      "Results saved to \u001b[1mruns/v10x_baseline/val_performance2\u001b[0m\n",
      "Run 2: Processing time: 5.205 ms, FPS: 192.11\n",
      "Ultralytics 8.3.31 🚀 Python-3.8.20 torch-2.4.1+cu121 CUDA:0 (NVIDIA GeForce RTX 4090, 24184MiB)\n"
     ]
    },
    {
     "name": "stderr",
     "output_type": "stream",
     "text": [
      "\u001b[34m\u001b[1mval: \u001b[0mScanning /home/leedh/바탕화면/korean_melon/dataset/valid/labels.cache... 101 images, 0 backgrounds, 0 corrupt: 100%|██████████| 101/101 [00:00<?, ?it/s]\n",
      "                 Class     Images  Instances      Box(P          R      mAP50  mAP50-95): 100%|██████████| 7/7 [00:03<00:00,  2.07it/s]\n"
     ]
    },
    {
     "name": "stdout",
     "output_type": "stream",
     "text": [
      "                   all        101        135      0.963      0.883      0.937      0.897\n",
      "                 fruit         64         81      0.926      0.932      0.966       0.93\n",
      "                flower         37         54          1      0.833      0.908      0.864\n",
      "Speed: 0.1ms preprocess, 5.1ms inference, 0.0ms loss, 0.0ms postprocess per image\n",
      "Results saved to \u001b[1mruns/v10x_baseline/val_performance3\u001b[0m\n",
      "Run 3: Processing time: 5.205 ms, FPS: 192.14\n",
      "Ultralytics 8.3.31 🚀 Python-3.8.20 torch-2.4.1+cu121 CUDA:0 (NVIDIA GeForce RTX 4090, 24184MiB)\n"
     ]
    },
    {
     "name": "stderr",
     "output_type": "stream",
     "text": [
      "\u001b[34m\u001b[1mval: \u001b[0mScanning /home/leedh/바탕화면/korean_melon/dataset/valid/labels.cache... 101 images, 0 backgrounds, 0 corrupt: 100%|██████████| 101/101 [00:00<?, ?it/s]\n",
      "                 Class     Images  Instances      Box(P          R      mAP50  mAP50-95): 100%|██████████| 7/7 [00:04<00:00,  1.71it/s]\n"
     ]
    },
    {
     "name": "stdout",
     "output_type": "stream",
     "text": [
      "                   all        101        135      0.963      0.883      0.937      0.897\n",
      "                 fruit         64         81      0.926      0.932      0.966       0.93\n",
      "                flower         37         54          1      0.833      0.908      0.864\n",
      "Speed: 0.1ms preprocess, 5.1ms inference, 0.0ms loss, 0.0ms postprocess per image\n",
      "Results saved to \u001b[1mruns/v10x_baseline/val_performance4\u001b[0m\n",
      "Run 4: Processing time: 5.233 ms, FPS: 191.11\n",
      "Ultralytics 8.3.31 🚀 Python-3.8.20 torch-2.4.1+cu121 CUDA:0 (NVIDIA GeForce RTX 4090, 24184MiB)\n"
     ]
    },
    {
     "name": "stderr",
     "output_type": "stream",
     "text": [
      "\u001b[34m\u001b[1mval: \u001b[0mScanning /home/leedh/바탕화면/korean_melon/dataset/valid/labels.cache... 101 images, 0 backgrounds, 0 corrupt: 100%|██████████| 101/101 [00:00<?, ?it/s]\n",
      "                 Class     Images  Instances      Box(P          R      mAP50  mAP50-95): 100%|██████████| 7/7 [00:03<00:00,  1.84it/s]\n"
     ]
    },
    {
     "name": "stdout",
     "output_type": "stream",
     "text": [
      "                   all        101        135      0.963      0.883      0.937      0.897\n",
      "                 fruit         64         81      0.926      0.932      0.966       0.93\n",
      "                flower         37         54          1      0.833      0.908      0.864\n",
      "Speed: 0.1ms preprocess, 5.1ms inference, 0.0ms loss, 0.0ms postprocess per image\n",
      "Results saved to \u001b[1mruns/v10x_baseline/val_performance5\u001b[0m\n",
      "Run 5: Processing time: 5.261 ms, FPS: 190.07\n",
      "Ultralytics 8.3.31 🚀 Python-3.8.20 torch-2.4.1+cu121 CUDA:0 (NVIDIA GeForce RTX 4090, 24184MiB)\n"
     ]
    },
    {
     "name": "stderr",
     "output_type": "stream",
     "text": [
      "\u001b[34m\u001b[1mval: \u001b[0mScanning /home/leedh/바탕화면/korean_melon/dataset/valid/labels.cache... 101 images, 0 backgrounds, 0 corrupt: 100%|██████████| 101/101 [00:00<?, ?it/s]\n",
      "                 Class     Images  Instances      Box(P          R      mAP50  mAP50-95): 100%|██████████| 7/7 [00:03<00:00,  2.07it/s]\n"
     ]
    },
    {
     "name": "stdout",
     "output_type": "stream",
     "text": [
      "                   all        101        135      0.963      0.883      0.937      0.897\n",
      "                 fruit         64         81      0.926      0.932      0.966       0.93\n",
      "                flower         37         54          1      0.833      0.908      0.864\n",
      "Speed: 0.1ms preprocess, 5.1ms inference, 0.0ms loss, 0.0ms postprocess per image\n",
      "Results saved to \u001b[1mruns/v10x_baseline/val_performance6\u001b[0m\n",
      "Run 6: Processing time: 5.230 ms, FPS: 191.19\n",
      "Ultralytics 8.3.31 🚀 Python-3.8.20 torch-2.4.1+cu121 CUDA:0 (NVIDIA GeForce RTX 4090, 24184MiB)\n"
     ]
    },
    {
     "name": "stderr",
     "output_type": "stream",
     "text": [
      "\u001b[34m\u001b[1mval: \u001b[0mScanning /home/leedh/바탕화면/korean_melon/dataset/valid/labels.cache... 101 images, 0 backgrounds, 0 corrupt: 100%|██████████| 101/101 [00:00<?, ?it/s]\n",
      "                 Class     Images  Instances      Box(P          R      mAP50  mAP50-95): 100%|██████████| 7/7 [00:03<00:00,  2.07it/s]\n"
     ]
    },
    {
     "name": "stdout",
     "output_type": "stream",
     "text": [
      "                   all        101        135      0.963      0.883      0.937      0.897\n",
      "                 fruit         64         81      0.926      0.932      0.966       0.93\n",
      "                flower         37         54          1      0.833      0.908      0.864\n",
      "Speed: 0.1ms preprocess, 5.1ms inference, 0.0ms loss, 0.0ms postprocess per image\n",
      "Results saved to \u001b[1mruns/v10x_baseline/val_performance7\u001b[0m\n",
      "Run 7: Processing time: 5.202 ms, FPS: 192.22\n",
      "Ultralytics 8.3.31 🚀 Python-3.8.20 torch-2.4.1+cu121 CUDA:0 (NVIDIA GeForce RTX 4090, 24184MiB)\n"
     ]
    },
    {
     "name": "stderr",
     "output_type": "stream",
     "text": [
      "\u001b[34m\u001b[1mval: \u001b[0mScanning /home/leedh/바탕화면/korean_melon/dataset/valid/labels.cache... 101 images, 0 backgrounds, 0 corrupt: 100%|██████████| 101/101 [00:00<?, ?it/s]\n",
      "                 Class     Images  Instances      Box(P          R      mAP50  mAP50-95): 100%|██████████| 7/7 [00:03<00:00,  2.08it/s]\n"
     ]
    },
    {
     "name": "stdout",
     "output_type": "stream",
     "text": [
      "                   all        101        135      0.963      0.883      0.937      0.897\n",
      "                 fruit         64         81      0.926      0.932      0.966       0.93\n",
      "                flower         37         54          1      0.833      0.908      0.864\n",
      "Speed: 0.1ms preprocess, 5.1ms inference, 0.0ms loss, 0.0ms postprocess per image\n",
      "Results saved to \u001b[1mruns/v10x_baseline/val_performance8\u001b[0m\n",
      "Run 8: Processing time: 5.204 ms, FPS: 192.16\n",
      "Ultralytics 8.3.31 🚀 Python-3.8.20 torch-2.4.1+cu121 CUDA:0 (NVIDIA GeForce RTX 4090, 24184MiB)\n"
     ]
    },
    {
     "name": "stderr",
     "output_type": "stream",
     "text": [
      "\u001b[34m\u001b[1mval: \u001b[0mScanning /home/leedh/바탕화면/korean_melon/dataset/valid/labels.cache... 101 images, 0 backgrounds, 0 corrupt: 100%|██████████| 101/101 [00:00<?, ?it/s]\n",
      "                 Class     Images  Instances      Box(P          R      mAP50  mAP50-95): 100%|██████████| 7/7 [00:03<00:00,  2.08it/s]\n"
     ]
    },
    {
     "name": "stdout",
     "output_type": "stream",
     "text": [
      "                   all        101        135      0.963      0.883      0.937      0.897\n",
      "                 fruit         64         81      0.926      0.932      0.966       0.93\n",
      "                flower         37         54          1      0.833      0.908      0.864\n",
      "Speed: 0.1ms preprocess, 5.1ms inference, 0.0ms loss, 0.0ms postprocess per image\n",
      "Results saved to \u001b[1mruns/v10x_baseline/val_performance9\u001b[0m\n",
      "Run 9: Processing time: 5.207 ms, FPS: 192.06\n",
      "Ultralytics 8.3.31 🚀 Python-3.8.20 torch-2.4.1+cu121 CUDA:0 (NVIDIA GeForce RTX 4090, 24184MiB)\n"
     ]
    },
    {
     "name": "stderr",
     "output_type": "stream",
     "text": [
      "\u001b[34m\u001b[1mval: \u001b[0mScanning /home/leedh/바탕화면/korean_melon/dataset/valid/labels.cache... 101 images, 0 backgrounds, 0 corrupt: 100%|██████████| 101/101 [00:00<?, ?it/s]\n",
      "                 Class     Images  Instances      Box(P          R      mAP50  mAP50-95): 100%|██████████| 7/7 [00:03<00:00,  2.07it/s]\n"
     ]
    },
    {
     "name": "stdout",
     "output_type": "stream",
     "text": [
      "                   all        101        135      0.963      0.883      0.937      0.897\n",
      "                 fruit         64         81      0.926      0.932      0.966       0.93\n",
      "                flower         37         54          1      0.833      0.908      0.864\n",
      "Speed: 0.1ms preprocess, 5.1ms inference, 0.0ms loss, 0.0ms postprocess per image\n",
      "Results saved to \u001b[1mruns/v10x_baseline/val_performance10\u001b[0m\n",
      "Run 10: Processing time: 5.240 ms, FPS: 190.83\n",
      "Average processing time: 5.223 ms, Average FPS: 191.46\n"
     ]
    }
   ],
   "source": [
    "# validation dataset 성능 평가\n",
    "def check_val_results(val_params, num_runs=10):\n",
    "    process_times = []\n",
    "    n_fps = []\n",
    "    for i in range(num_runs):\n",
    "        val_results = best_model.val(**val_params)\n",
    "\n",
    "        process_time = sum(val_results.speed.values())\n",
    "        fps = 1000 / process_time\n",
    "\n",
    "        process_times.append(process_time)\n",
    "        n_fps.append(fps)\n",
    "\n",
    "        print(f\"Run {i+1}: Processing time: {process_time:.3f} ms, FPS: {fps:.2f}\")\n",
    "\n",
    "    average_process_time = sum(process_times) / num_runs\n",
    "    average_fps = sum(n_fps) / num_runs\n",
    "    print(f\"Average processing time: {average_process_time:.3f} ms, Average FPS: {average_fps:.2f}\")\n",
    "\n",
    "check_val_results(val_params, num_runs=10)"
   ]
  },
  {
   "cell_type": "code",
   "execution_count": 14,
   "metadata": {},
   "outputs": [
    {
     "name": "stdout",
     "output_type": "stream",
     "text": [
      "\n"
     ]
    },
    {
     "name": "stdout",
     "output_type": "stream",
     "text": [
      "image 1/101 /home/leedh/바탕화면/korean_melon/dataset/valid/images/V006_77_0_00_10_01_13_0_b08_20201020_0003_S01_1_jpg.rf.abaaed2999cf725602f3c2c6a43bbb4a.jpg: 480x640 1 fruit, 23.1ms\n",
      "image 2/101 /home/leedh/바탕화면/korean_melon/dataset/valid/images/V006_77_0_00_10_01_13_0_b08_20201020_0008_S01_1_jpg.rf.35faf5aea6be0571827a2dd1b33f27b3.jpg: 480x640 2 fruits, 5.6ms\n",
      "image 3/101 /home/leedh/바탕화면/korean_melon/dataset/valid/images/V006_77_0_00_10_01_13_0_b08_20201020_0025_S01_1_jpg.rf.0fe4486de4a87edc5f21a734b91cbab7.jpg: 480x640 2 fruits, 5.7ms\n",
      "image 4/101 /home/leedh/바탕화면/korean_melon/dataset/valid/images/V006_77_0_00_10_01_13_0_b08_20201020_0026_S01_1_jpg.rf.c3093450d663bf370222670e259b81e6.jpg: 480x640 2 fruits, 5.6ms\n",
      "image 5/101 /home/leedh/바탕화면/korean_melon/dataset/valid/images/V006_77_0_00_10_01_13_0_b08_20201020_0028_S01_1_jpg.rf.a884e50897a70f3ff4bce64620bbe2dd.jpg: 480x640 2 fruits, 5.6ms\n",
      "image 6/101 /home/leedh/바탕화면/korean_melon/dataset/valid/images/V006_77_0_00_10_01_13_0_b08_20201020_0029_S01_1_jpg.rf.661755d95515e3a9dcbf748572b93c63.jpg: 480x640 3 fruits, 5.6ms\n",
      "image 7/101 /home/leedh/바탕화면/korean_melon/dataset/valid/images/V006_77_0_00_10_01_13_0_b08_20201020_0041_S01_1_jpg.rf.23baeed7fa5e8935c4923e804f6cb5d2.jpg: 480x640 1 fruit, 5.6ms\n",
      "image 8/101 /home/leedh/바탕화면/korean_melon/dataset/valid/images/V006_77_0_00_10_01_13_0_b08_20201020_0042_S01_1_jpg.rf.763cf20bb479c47adea79268df9de556.jpg: 480x640 5 fruits, 5.6ms\n",
      "image 9/101 /home/leedh/바탕화면/korean_melon/dataset/valid/images/V006_77_0_00_10_01_13_0_b08_20201020_0049_S01_1_jpg.rf.50590d93dc8ef7079a42e6ecd5a70209.jpg: 480x640 2 fruits, 5.6ms\n",
      "image 10/101 /home/leedh/바탕화면/korean_melon/dataset/valid/images/V006_77_0_00_10_01_13_0_b08_20201020_0054_S01_1_jpg.rf.8483713739a8e7a556105a124e855a8f.jpg: 480x640 1 fruit, 5.6ms\n",
      "image 11/101 /home/leedh/바탕화면/korean_melon/dataset/valid/images/V006_77_0_00_10_01_13_0_b08_20201020_0056_S01_1_jpg.rf.63f91876fef119c2a5e709163e11642c.jpg: 480x640 1 fruit, 5.6ms\n",
      "image 12/101 /home/leedh/바탕화면/korean_melon/dataset/valid/images/V006_77_0_00_10_01_13_0_b08_20201020_0071_S01_1_jpg.rf.6a2ab2cd246874906c5b80a095567be1.jpg: 480x640 1 fruit, 5.6ms\n",
      "image 13/101 /home/leedh/바탕화면/korean_melon/dataset/valid/images/V006_77_0_00_10_01_13_0_b08_20201020_0075_S01_1_jpg.rf.3d00fe2f9607abbb04ffab91bc49b605.jpg: 480x640 3 fruits, 5.6ms\n",
      "image 14/101 /home/leedh/바탕화면/korean_melon/dataset/valid/images/V006_77_0_00_10_01_13_0_b08_20201020_0093_S01_1_jpg.rf.993aee4227a2db57fc1d12caf56c1d64.jpg: 480x640 1 fruit, 5.6ms\n",
      "image 15/101 /home/leedh/바탕화면/korean_melon/dataset/valid/images/V006_77_0_00_10_01_13_0_b09_20201020_0007_S01_1_jpg.rf.90309c086d8014957614bfdbf449d36c.jpg: 320x640 1 fruit, 22.7ms\n",
      "image 16/101 /home/leedh/바탕화면/korean_melon/dataset/valid/images/V006_77_0_00_10_01_13_0_b09_20201020_0011_S01_1_jpg.rf.40763be1a593b82f69bd061d89b1fef0.jpg: 320x640 2 fruits, 4.9ms\n",
      "image 17/101 /home/leedh/바탕화면/korean_melon/dataset/valid/images/V006_77_0_00_10_01_13_0_b09_20201020_0012_S01_1_jpg.rf.e6b731e50d435efcbfb3011532e55609.jpg: 320x640 1 fruit, 4.9ms\n",
      "image 18/101 /home/leedh/바탕화면/korean_melon/dataset/valid/images/V006_77_0_00_10_01_13_0_b09_20201020_0029_S01_1_jpg.rf.5e4d649ca4fbceb3edd4f886e1e9ae10.jpg: 320x640 2 fruits, 4.9ms\n",
      "image 19/101 /home/leedh/바탕화면/korean_melon/dataset/valid/images/V006_77_0_00_10_01_13_0_b09_20201020_0037_S01_1_jpg.rf.40500090d83605647516360a657931ea.jpg: 320x640 1 fruit, 4.9ms\n",
      "image 20/101 /home/leedh/바탕화면/korean_melon/dataset/valid/images/V006_77_0_00_10_01_13_0_b09_20201020_0047_S01_1_jpg.rf.6ac6e3d08b24d874744b4a9cc1ccf9c2.jpg: 320x640 1 fruit, 4.9ms\n",
      "image 21/101 /home/leedh/바탕화면/korean_melon/dataset/valid/images/V006_77_0_00_10_01_13_0_c34_20201020_0013_S01_1_jpg.rf.d489ddce8254654536df1bb731569dcd.jpg: 480x640 1 fruit, 5.9ms\n",
      "image 22/101 /home/leedh/바탕화면/korean_melon/dataset/valid/images/V006_77_0_00_10_01_13_0_c34_20201020_0020_S01_1_jpg.rf.2a818054b63492cd44a787869a95620e.jpg: 480x640 2 fruits, 5.6ms\n",
      "image 23/101 /home/leedh/바탕화면/korean_melon/dataset/valid/images/V006_77_0_00_10_01_13_0_c34_20201020_0022_S01_1_jpg.rf.b60dd88a130ac8766f4b9cb74c9ba156.jpg: 480x640 1 fruit, 5.6ms\n",
      "image 24/101 /home/leedh/바탕화면/korean_melon/dataset/valid/images/V006_77_0_00_10_01_13_0_c34_20201020_0030_S01_1_jpg.rf.4ba84bcb8972109c54d273cfa50902ec.jpg: 480x640 1 fruit, 5.6ms\n",
      "image 25/101 /home/leedh/바탕화면/korean_melon/dataset/valid/images/V006_77_0_00_10_01_13_0_c34_20201020_0051_S01_1_jpg.rf.696168b7023de4ae336249c404e083f3.jpg: 480x640 2 fruits, 5.7ms\n",
      "image 26/101 /home/leedh/바탕화면/korean_melon/dataset/valid/images/V006_77_0_00_10_01_13_0_c34_20201020_0054_S01_1_jpg.rf.02cb4c2c16b69544454b028f2a46132b.jpg: 480x640 1 fruit, 5.6ms\n",
      "image 27/101 /home/leedh/바탕화면/korean_melon/dataset/valid/images/V006_77_0_00_10_01_13_0_c34_20201020_0055_S01_1_jpg.rf.28e097980ad81a8a3972f13c8f46d9b0.jpg: 480x640 1 fruit, 5.6ms\n",
      "image 28/101 /home/leedh/바탕화면/korean_melon/dataset/valid/images/V006_77_0_00_10_01_13_0_c34_20201020_0057_S01_1_jpg.rf.68fe851488d08dd6bd5b630acd967960.jpg: 480x640 1 fruit, 5.6ms\n",
      "image 29/101 /home/leedh/바탕화면/korean_melon/dataset/valid/images/V006_77_0_00_10_01_13_0_c34_20201020_0059_S01_1_jpg.rf.13baa4951bb54d1bb361985065a83174.jpg: 480x640 2 fruits, 5.6ms\n",
      "image 30/101 /home/leedh/바탕화면/korean_melon/dataset/valid/images/V006_77_0_00_10_01_13_0_c34_20201020_0060_S01_1_jpg.rf.17908be7fb381d620b4164eb2ce8fe25.jpg: 480x640 2 fruits, 5.6ms\n",
      "image 31/101 /home/leedh/바탕화면/korean_melon/dataset/valid/images/V006_77_0_00_10_01_13_0_c35_20201020_0011_S01_1_jpg.rf.0cbd912ef1be7b279466486fabe4e1af.jpg: 480x640 3 fruits, 5.6ms\n",
      "image 32/101 /home/leedh/바탕화면/korean_melon/dataset/valid/images/V006_77_0_00_10_01_13_0_c35_20201020_0013_S01_1_jpg.rf.38b802fe5e35d66a5f76dedd60477da7.jpg: 480x640 2 fruits, 5.6ms\n",
      "image 33/101 /home/leedh/바탕화면/korean_melon/dataset/valid/images/V006_77_0_00_10_01_13_0_c35_20201020_0027_S01_1_jpg.rf.df77d38aeedf7197cf7c4a7d11c02e80.jpg: 480x640 4 fruits, 5.6ms\n",
      "image 34/101 /home/leedh/바탕화면/korean_melon/dataset/valid/images/V006_77_0_00_10_01_13_0_c35_20201020_0028_S01_1_jpg.rf.0332a0aa98e06fa642ebc3087faf7498.jpg: 480x640 3 fruits, 5.6ms\n",
      "image 35/101 /home/leedh/바탕화면/korean_melon/dataset/valid/images/V006_77_0_00_10_01_13_0_c35_20201020_0036_S01_1_jpg.rf.0720d9374c393de32c04d411822bc14f.jpg: 480x640 2 fruits, 5.6ms\n",
      "image 36/101 /home/leedh/바탕화면/korean_melon/dataset/valid/images/V006_77_0_00_10_01_13_0_c35_20201020_0038_S01_1_jpg.rf.0045898a31dc92be27932fad3423309b.jpg: 480x640 2 fruits, 5.6ms\n",
      "image 37/101 /home/leedh/바탕화면/korean_melon/dataset/valid/images/V006_77_0_00_10_01_13_0_c35_20201020_0041_S01_1_jpg.rf.931b0385ae684af5336d88ca0da2418e.jpg: 480x640 1 fruit, 5.6ms\n",
      "image 38/101 /home/leedh/바탕화면/korean_melon/dataset/valid/images/V006_77_0_00_10_01_13_0_c35_20201020_0051_S01_1_jpg.rf.300ce93842c36eab7d9ca6d30a6c0285.jpg: 480x640 2 fruits, 5.7ms\n",
      "image 39/101 /home/leedh/바탕화면/korean_melon/dataset/valid/images/V006_77_0_00_10_01_13_0_c35_20201020_0052_S01_1_jpg.rf.280c04bcc53085251ee7fd70ee6cc36a.jpg: 480x640 2 fruits, 5.6ms\n",
      "image 40/101 /home/leedh/바탕화면/korean_melon/dataset/valid/images/V006_77_0_00_10_01_13_0_c35_20201020_0064_S01_1_jpg.rf.341188bf8d74272ade185c5966a0e19f.jpg: 480x640 1 fruit, 5.6ms\n",
      "image 41/101 /home/leedh/바탕화면/korean_melon/dataset/valid/images/V006_77_0_00_10_01_13_0_c35_20201020_0066_S01_1_jpg.rf.0436300a7984ad16235bd609b73aff0b.jpg: 480x640 2 fruits, 5.6ms\n",
      "image 42/101 /home/leedh/바탕화면/korean_melon/dataset/valid/images/V006_77_0_00_10_01_13_0_c35_20201020_0069_S01_1_jpg.rf.e2d5ee06f5009283894660d27cfe9980.jpg: 480x640 1 fruit, 5.6ms\n",
      "image 43/101 /home/leedh/바탕화면/korean_melon/dataset/valid/images/V006_77_0_00_10_01_13_0_c35_20201020_0070_S01_1_jpg.rf.7fb4981c5a6383eb244ccde317905cc6.jpg: 480x640 2 fruits, 5.6ms\n",
      "image 44/101 /home/leedh/바탕화면/korean_melon/dataset/valid/images/V006_77_0_00_10_01_13_0_c35_20201020_0077_S01_1_jpg.rf.054761a49734dba030c0c57b989065fb.jpg: 480x640 2 fruits, 5.7ms\n",
      "image 45/101 /home/leedh/바탕화면/korean_melon/dataset/valid/images/V006_77_0_00_10_01_13_0_c35_20201020_0083_S01_1_jpg.rf.ea9e2fd460ab7dceee0dcb4776611368.jpg: 480x640 2 fruits, 5.7ms\n",
      "image 46/101 /home/leedh/바탕화면/korean_melon/dataset/valid/images/V006_77_0_00_10_01_13_0_c43_20201020_0000_S01_1_jpg.rf.40344a2a662df3c7e0baa89032ccee3f.jpg: 480x640 1 fruit, 5.6ms\n",
      "image 47/101 /home/leedh/바탕화면/korean_melon/dataset/valid/images/V006_77_0_00_10_01_13_0_c43_20201020_0002_S01_1_jpg.rf.b2a59c6e46a923d95d127a77b3d74f93.jpg: 480x640 1 fruit, 5.6ms\n",
      "image 48/101 /home/leedh/바탕화면/korean_melon/dataset/valid/images/V006_77_0_00_10_01_13_0_c43_20201020_0009_S01_1_jpg.rf.172ef14844a65b58946c19fbb6aa656e.jpg: 480x640 1 fruit, 5.6ms\n",
      "image 49/101 /home/leedh/바탕화면/korean_melon/dataset/valid/images/V006_77_0_00_10_01_13_0_c43_20201020_0020_S01_1_jpg.rf.820675c8a2c7b5d0b8b1730840fe74f5.jpg: 480x640 2 fruits, 5.6ms\n",
      "image 50/101 /home/leedh/바탕화면/korean_melon/dataset/valid/images/V006_77_0_00_10_01_13_0_c43_20201020_0021_S01_1_jpg.rf.bd3d1b46348caef377f229507ad1f8a8.jpg: 480x640 1 fruit, 5.6ms\n",
      "image 51/101 /home/leedh/바탕화면/korean_melon/dataset/valid/images/V006_77_0_00_10_01_13_0_c43_20201020_0032_S01_1_jpg.rf.91f2d00856d99551436ef1ddf2be9bee.jpg: 480x640 1 fruit, 5.6ms\n",
      "image 52/101 /home/leedh/바탕화면/korean_melon/dataset/valid/images/V006_77_0_00_10_01_13_0_c43_20201020_0037_S01_1_jpg.rf.a6fa10ce8f63c5a34b5ed0c361dc3c27.jpg: 480x640 1 fruit, 5.6ms\n",
      "image 53/101 /home/leedh/바탕화면/korean_melon/dataset/valid/images/V006_77_0_00_10_01_13_0_c43_20201020_0052_S01_1_jpg.rf.89f00e3fcf2f6db7436846e84002586c.jpg: 480x640 1 fruit, 5.6ms\n",
      "image 54/101 /home/leedh/바탕화면/korean_melon/dataset/valid/images/V006_77_0_00_10_01_13_0_c43_20201020_0055_S01_1_jpg.rf.3852a65e8d420aee65d0e1cd955b88c4.jpg: 480x640 1 fruit, 5.6ms\n",
      "image 55/101 /home/leedh/바탕화면/korean_melon/dataset/valid/images/V006_77_0_00_10_01_13_0_c43_20201020_0061_S01_1_jpg.rf.410bc2b3733667439f01465ff6d29905.jpg: 480x640 2 fruits, 5.6ms\n",
      "image 56/101 /home/leedh/바탕화면/korean_melon/dataset/valid/images/V006_77_0_00_10_01_13_0_c43_20201020_0082_S01_1_jpg.rf.60686936f9ee68457611b6c5c475714d.jpg: 480x640 1 fruit, 5.6ms\n",
      "image 57/101 /home/leedh/바탕화면/korean_melon/dataset/valid/images/V006_77_0_00_10_01_13_0_c43_20201020_0085_S01_1_jpg.rf.f109ef08ff42b39b4f1a1f6dc618e7aa.jpg: 480x640 1 fruit, 5.6ms\n",
      "image 58/101 /home/leedh/바탕화면/korean_melon/dataset/valid/images/V006_77_0_00_10_01_13_0_c43_20201020_0090_S01_1_jpg.rf.0e0b57f8bb1cce27252a5f157bce18d6.jpg: 480x640 1 fruit, 5.6ms\n",
      "image 59/101 /home/leedh/바탕화면/korean_melon/dataset/valid/images/V006_77_0_00_10_01_13_0_c43_20201020_0097_S01_1_jpg.rf.57cbef53d34bd215e6c51e0b50763a36.jpg: 480x640 1 fruit, 5.6ms\n",
      "image 60/101 /home/leedh/바탕화면/korean_melon/dataset/valid/images/V006_77_0_00_10_01_13_0_c43_20201020_0108_S01_1_jpg.rf.34ecfafe103e2b5d29149800b30cd737.jpg: 480x640 1 fruit, 5.6ms\n",
      "image 61/101 /home/leedh/바탕화면/korean_melon/dataset/valid/images/V006_77_0_00_10_01_13_0_c43_20201020_0134_S01_1_jpg.rf.09ac693235136d3b521987a4e92c1564.jpg: 480x640 1 fruit, 5.7ms\n",
      "image 62/101 /home/leedh/바탕화면/korean_melon/dataset/valid/images/V006_77_0_00_10_01_13_0_c43_20201020_0138_S01_1_jpg.rf.27a95d873fa51f240c1e46c7ca8a8ac1.jpg: 480x640 1 fruit, 5.6ms\n",
      "image 63/101 /home/leedh/바탕화면/korean_melon/dataset/valid/images/V006_77_0_00_10_01_13_0_c43_20201020_0142_S01_1_jpg.rf.0b977fd214f0143ff4c299af4cc00964.jpg: 480x640 2 fruits, 5.6ms\n",
      "image 64/101 /home/leedh/바탕화면/korean_melon/dataset/valid/images/V006_77_0_00_10_01_13_0_c43_20201020_0156_S01_1_jpg.rf.723c6a0d1fa11b641658a7c4e8b97cfd.jpg: 480x640 1 fruit, 5.6ms\n",
      "image 65/101 /home/leedh/바탕화면/korean_melon/dataset/valid/images/V006_77_0_00_10_02_13_0_b08_20201027_0003_S01_1_jpg.rf.54b87f8a238c2c214eac0eeb9ba5b0af.jpg: 480x640 2 flowers, 5.6ms\n",
      "image 66/101 /home/leedh/바탕화면/korean_melon/dataset/valid/images/V006_77_0_00_10_02_13_0_b08_20201027_0010_S01_1_jpg.rf.bd7d7a611404040bccd889f40b8e9359.jpg: 480x640 1 flower, 5.6ms\n",
      "image 67/101 /home/leedh/바탕화면/korean_melon/dataset/valid/images/V006_77_0_00_10_02_13_0_b08_20201027_0013_S01_1_jpg.rf.a17beb2041b4ba82f590fbd7e3b1c6c1.jpg: 480x640 1 fruit, 3 flowers, 5.6ms\n",
      "image 68/101 /home/leedh/바탕화면/korean_melon/dataset/valid/images/V006_77_0_00_10_02_13_0_b08_20201027_0019_S01_1_jpg.rf.64c03d413f7ac264c31777e5bfd51e98.jpg: 480x640 2 flowers, 5.6ms\n",
      "image 69/101 /home/leedh/바탕화면/korean_melon/dataset/valid/images/V006_77_0_00_10_02_13_0_b08_20201027_0021_S01_1_jpg.rf.bce1fa605811887b6f595a72027c6ac0.jpg: 480x640 2 flowers, 5.6ms\n",
      "image 70/101 /home/leedh/바탕화면/korean_melon/dataset/valid/images/V006_77_0_00_10_02_13_0_b08_20201027_0025_S01_1_jpg.rf.f77fb198c193b3dab34e6d1a4555e7f5.jpg: 480x640 1 flower, 5.7ms\n",
      "image 71/101 /home/leedh/바탕화면/korean_melon/dataset/valid/images/V006_77_0_00_10_02_13_0_b08_20201027_0027_S01_1_jpg.rf.148e80a109cfce081a9d321998de8c4d.jpg: 480x640 2 flowers, 5.6ms\n",
      "image 72/101 /home/leedh/바탕화면/korean_melon/dataset/valid/images/V006_77_0_00_10_02_13_0_b08_20201027_0028_S01_1_jpg.rf.f4e14376e317376b1125f80643b80053.jpg: 480x640 1 flower, 5.6ms\n",
      "image 73/101 /home/leedh/바탕화면/korean_melon/dataset/valid/images/V006_77_0_00_10_02_13_0_b08_20201027_0029_S01_1_jpg.rf.0416ab56c099d3d20144c2f9d9d52003.jpg: 480x640 1 flower, 5.6ms\n",
      "image 74/101 /home/leedh/바탕화면/korean_melon/dataset/valid/images/V006_77_0_00_10_02_13_0_b09_20201027_0001_S01_1_jpg.rf.1212b78d623b91890fd7bfa2b34819e0.jpg: 320x640 1 flower, 5.1ms\n",
      "image 75/101 /home/leedh/바탕화면/korean_melon/dataset/valid/images/V006_77_0_00_10_02_13_0_b09_20201027_0004_S01_1_jpg.rf.ef0212f559f9598389d69a1b8424063a.jpg: 320x640 1 flower, 4.9ms\n",
      "image 76/101 /home/leedh/바탕화면/korean_melon/dataset/valid/images/V006_77_0_00_10_02_13_0_b09_20201027_0006_S01_1_jpg.rf.00edf66d1acb7bc35ab77fbcc2467a7b.jpg: 320x640 1 flower, 4.9ms\n",
      "image 77/101 /home/leedh/바탕화면/korean_melon/dataset/valid/images/V006_77_0_00_10_02_13_0_b09_20201027_0016_S01_1_jpg.rf.c8b62c20c0520c405ca10d5581c87cac.jpg: 320x640 1 flower, 4.9ms\n",
      "image 78/101 /home/leedh/바탕화면/korean_melon/dataset/valid/images/V006_77_0_00_10_02_13_0_c35_20201027_0003_S01_1_jpg.rf.c5c3ba9de16bf59acb2f380b5ff428da.jpg: 480x640 1 flower, 5.9ms\n",
      "image 79/101 /home/leedh/바탕화면/korean_melon/dataset/valid/images/V006_77_0_00_10_02_13_0_c35_20201027_0004_S01_1_jpg.rf.686898f8522c4bd9f30c953563ab1112.jpg: 480x640 1 flower, 5.6ms\n",
      "image 80/101 /home/leedh/바탕화면/korean_melon/dataset/valid/images/V006_77_0_00_10_02_13_0_c35_20201027_0009_S01_1_jpg.rf.2737de604a98181dce2a8265a5b5997e.jpg: 480x640 2 flowers, 5.6ms\n",
      "image 81/101 /home/leedh/바탕화면/korean_melon/dataset/valid/images/V006_77_0_00_10_02_13_0_c35_20201027_0033_S01_1_jpg.rf.6d81623ace398e021078eb8676660573.jpg: 480x640 1 flower, 5.6ms\n",
      "image 82/101 /home/leedh/바탕화면/korean_melon/dataset/valid/images/V006_77_0_00_10_02_13_0_c35_20201027_0046_S01_1_jpg.rf.c0dc29ff0b95c270e5f43f9fd7844fb3.jpg: 480x640 2 flowers, 5.6ms\n",
      "image 83/101 /home/leedh/바탕화면/korean_melon/dataset/valid/images/V006_77_0_00_10_02_13_0_c35_20201027_0048_S01_1_jpg.rf.0ed547c82abea3e0ce5715ca5e4946d1.jpg: 480x640 3 flowers, 5.6ms\n",
      "image 84/101 /home/leedh/바탕화면/korean_melon/dataset/valid/images/V006_77_0_00_10_02_13_0_c35_20201027_0054_S01_1_jpg.rf.7c5df105e4a0c1e068fbb6f9bed3f8a3.jpg: 480x640 4 flowers, 5.6ms\n",
      "image 85/101 /home/leedh/바탕화면/korean_melon/dataset/valid/images/V006_77_0_00_10_02_13_0_c35_20201027_0056_S01_1_jpg.rf.b0f15a6b050ba623cc74e70d4335a6ca.jpg: 480x640 1 flower, 5.6ms\n",
      "image 86/101 /home/leedh/바탕화면/korean_melon/dataset/valid/images/V006_77_0_00_10_02_13_0_c35_20201027_0057_S01_1_jpg.rf.67166a07a2a6c9da895b10c014ea9aaf.jpg: 480x640 1 flower, 5.6ms\n",
      "image 87/101 /home/leedh/바탕화면/korean_melon/dataset/valid/images/V006_77_0_00_10_02_13_0_c35_20201027_0059_S01_1_jpg.rf.fb19f965df70d906fbf37f235fc31187.jpg: 480x640 1 flower, 5.6ms\n",
      "image 88/101 /home/leedh/바탕화면/korean_melon/dataset/valid/images/V006_77_0_00_10_02_13_0_c35_20201027_0069_S01_1_jpg.rf.fb8172fa203560ede31e2db904b21a27.jpg: 480x640 1 flower, 5.6ms\n",
      "image 89/101 /home/leedh/바탕화면/korean_melon/dataset/valid/images/V006_77_0_00_10_02_13_0_c43_20201027_0003_S01_1_jpg.rf.a98606eff7d39cbbe8a9dd46e8edfa63.jpg: 480x640 2 flowers, 5.6ms\n",
      "image 90/101 /home/leedh/바탕화면/korean_melon/dataset/valid/images/V006_77_0_00_10_02_13_0_c43_20201027_0013_S01_1_jpg.rf.8cb5bc82e738da3f7efdd9945f89eed0.jpg: 480x640 1 flower, 5.6ms\n",
      "image 91/101 /home/leedh/바탕화면/korean_melon/dataset/valid/images/V006_77_0_00_10_02_13_0_c43_20201027_0016_S01_1_jpg.rf.3381a404fc86b26e7119433b4100ff8b.jpg: 480x640 1 fruit, 2 flowers, 5.6ms\n",
      "image 92/101 /home/leedh/바탕화면/korean_melon/dataset/valid/images/V006_77_0_00_10_02_13_0_c43_20201027_0022_S01_1_jpg.rf.28d8216c25f7d104c2f43fa9331d3e4b.jpg: 480x640 1 fruit, 1 flower, 5.7ms\n",
      "image 93/101 /home/leedh/바탕화면/korean_melon/dataset/valid/images/V006_77_0_00_10_02_13_0_c43_20201027_0026_S01_1_jpg.rf.420af64a322ef09d0bfeca71e5afcf6f.jpg: 480x640 1 flower, 5.6ms\n",
      "image 94/101 /home/leedh/바탕화면/korean_melon/dataset/valid/images/V006_77_0_00_10_02_13_0_c43_20201027_0041_S01_1_jpg.rf.b136fff808078f38792014f33c07ba58.jpg: 480x640 1 flower, 5.6ms\n",
      "image 95/101 /home/leedh/바탕화면/korean_melon/dataset/valid/images/V006_77_0_00_10_02_13_0_c43_20201027_0043_S01_1_jpg.rf.8186198fbd2cda5de507ac20253a0b1e.jpg: 480x640 1 fruit, 2 flowers, 5.6ms\n",
      "image 96/101 /home/leedh/바탕화면/korean_melon/dataset/valid/images/V006_77_0_00_10_02_13_0_c43_20201027_0044_S01_1_jpg.rf.a0c662bacc19b5bf5aed4dec1a8092a2.jpg: 480x640 1 fruit, 1 flower, 5.6ms\n",
      "image 97/101 /home/leedh/바탕화면/korean_melon/dataset/valid/images/V006_77_0_00_10_02_13_0_c43_20201027_0050_S01_1_jpg.rf.9f87e22a6b474e13732afe7703946573.jpg: 480x640 1 flower, 5.6ms\n",
      "image 98/101 /home/leedh/바탕화면/korean_melon/dataset/valid/images/V006_77_0_00_10_02_13_0_c43_20201027_0051_S01_1_jpg.rf.eca4a63fd11e7b027a17152bead58cf6.jpg: 480x640 1 flower, 5.6ms\n",
      "image 99/101 /home/leedh/바탕화면/korean_melon/dataset/valid/images/V006_77_0_00_10_02_13_0_c43_20201027_0055_S01_1_jpg.rf.a808aa3322e921ce91c89aad61db9eb6.jpg: 480x640 2 flowers, 5.6ms\n",
      "image 100/101 /home/leedh/바탕화면/korean_melon/dataset/valid/images/V006_77_0_00_10_02_13_0_c43_20201027_0064_S01_1_jpg.rf.e49d145bcf55ed42fe2288250be66152.jpg: 480x640 1 fruit, 1 flower, 5.6ms\n",
      "image 101/101 /home/leedh/바탕화면/korean_melon/dataset/valid/images/V006_77_0_00_10_02_13_0_c43_20201027_0076_S01_1_jpg.rf.db38186beb748841cfa5f6612f157035.jpg: 480x640 1 flower, 5.6ms\n",
      "Speed: 1.2ms preprocess, 5.9ms inference, 0.2ms postprocess per image at shape (1, 3, 480, 640)\n",
      "Results saved to \u001b[1mruns/v10x_baseline/val_predict\u001b[0m\n"
     ]
    }
   ],
   "source": [
    "# 실제 validation에 대한 predict 결과 저장\n",
    "pred_results = best_model(\n",
    "    source='/home/leedh/바탕화면/korean_melon/dataset/valid/images',\n",
    "    conf=train_params['conf'],          # default: 0.25\n",
    "    save=True,\n",
    "    project=f\"{train_params['project']}/{train_params['name']}\",    # Name of the project directory where training outputs are saved\n",
    "    name='val_predict',                 # Name of the project\n",
    ")"
   ]
  },
  {
   "cell_type": "code",
   "execution_count": null,
   "metadata": {},
   "outputs": [],
   "source": []
  },
  {
   "cell_type": "code",
   "execution_count": null,
   "metadata": {},
   "outputs": [],
   "source": []
  },
  {
   "cell_type": "code",
   "execution_count": null,
   "metadata": {},
   "outputs": [],
   "source": []
  },
  {
   "cell_type": "code",
   "execution_count": null,
   "metadata": {},
   "outputs": [],
   "source": [
    "# 하이퍼파라미터 튜닝 할 때 쓰는 코드\n",
    "results = model.tune(\n",
    "    data='/home/leedh/바탕화면/data.yaml',\n",
    "    epochs=30,\n",
    "    iterations=300,\n",
    "    optimizer='AdamW',\n",
    ")"
   ]
  }
 ],
 "metadata": {
  "kernelspec": {
   "display_name": "yolov11",
   "language": "python",
   "name": "python3"
  },
  "language_info": {
   "codemirror_mode": {
    "name": "ipython",
    "version": 3
   },
   "file_extension": ".py",
   "mimetype": "text/x-python",
   "name": "python",
   "nbconvert_exporter": "python",
   "pygments_lexer": "ipython3",
   "version": "3.8.20"
  }
 },
 "nbformat": 4,
 "nbformat_minor": 2
}
