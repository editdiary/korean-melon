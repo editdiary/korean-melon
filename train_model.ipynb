{
 "cells": [
  {
   "cell_type": "code",
   "execution_count": 1,
   "metadata": {},
   "outputs": [
    {
     "name": "stdout",
     "output_type": "stream",
     "text": [
      "Python version: 3.8.20 (default, Oct  3 2024, 15:24:27) \n",
      "[GCC 11.2.0]\n",
      "PyTorch version: 2.4.1+cu121\n",
      "CUDA version: 12.1\n",
      "GPU available: True\n",
      "GPU name: NVIDIA GeForce RTX 4090\n"
     ]
    }
   ],
   "source": [
    "# GPU 사용 가능 여부 확인\n",
    "import sys\n",
    "import torch\n",
    "import random\n",
    "import numpy as np\n",
    "\n",
    "print(f\"Python version: {sys.version}\")\n",
    "print(f\"PyTorch version: {torch.__version__}\")\n",
    "print(f\"CUDA version: {torch.version.cuda}\")\n",
    "print(f\"GPU available: {torch.cuda.is_available()}\")\n",
    "print(f\"GPU name: {torch.cuda.get_device_name(0) if torch.cuda.is_available() else 'None'}\")"
   ]
  },
  {
   "cell_type": "code",
   "execution_count": 2,
   "metadata": {},
   "outputs": [],
   "source": [
    "# 모델 재현을 위한 랜덤시드 고정\n",
    "def set_random_seed(seed_value=42):\n",
    "    # Python의 기본 난수 시드 설정\n",
    "    random.seed(seed_value)\n",
    "    # NumPy 난수 시드 설정\n",
    "    np.random.seed(seed_value)\n",
    "    # PyTorch 난수 시드 설정 (CPU)\n",
    "    torch.manual_seed(seed_value)\n",
    "    # PyTorch 난수 시드 설정 (GPU)\n",
    "    torch.cuda.manual_seed(seed_value)\n",
    "    torch.cuda.manual_seed_all(seed_value)\n",
    "    # CuDNN 설정\n",
    "    torch.backends.cudnn.deterministic = True\n",
    "    torch.backends.cudnn.benchmark = False\n",
    "\n",
    "set_random_seed()\n",
    "\n",
    "# matplotlib default 설정\n",
    "import matplotlib.pyplot as plt\n",
    "plt.style.use('default')"
   ]
  },
  {
   "cell_type": "code",
   "execution_count": 3,
   "metadata": {},
   "outputs": [],
   "source": [
    "# 사전학습된 가중치 파일 불러오기\n",
    "from ultralytics import YOLO\n",
    "\n",
    "model = YOLO('./models/yolov10x.pt')"
   ]
  },
  {
   "cell_type": "code",
   "execution_count": null,
   "metadata": {},
   "outputs": [],
   "source": [
    "# train 파라미터 설정\n",
    "train_params = {\n",
    "    'data': './dataset/data.yaml',\n",
    "    'epochs': 100,\n",
    "    'imgsz': 640,\n",
    "    'batch': 16,\n",
    "    'project': './runs/PID2/CID0',\n",
    "    'name': 'v10x',\n",
    "    'seed': 42,\n",
    "    'optimizer': 'AdamW',           # default='auto' - Options include SGD, Adam, AdamW, NAdam, RAdam, RMSProp etc.\n",
    "    'lr0': 1e-4,\n",
    "    'lrf': 0.01,\n",
    "    'conf': 0.10,                   # default: 0.25\n",
    "    'save_json': True,\n",
    "    'workers': 4,                   # default: 8\n",
    "}"
   ]
  },
  {
   "cell_type": "code",
   "execution_count": 5,
   "metadata": {},
   "outputs": [
    {
     "name": "stdout",
     "output_type": "stream",
     "text": [
      "New https://pypi.org/project/ultralytics/8.3.34 available 😃 Update with 'pip install -U ultralytics'\n",
      "Ultralytics 8.3.31 🚀 Python-3.8.20 torch-2.4.1+cu121 CUDA:0 (NVIDIA GeForce RTX 4090, 24184MiB)\n",
      "\u001b[34m\u001b[1mengine/trainer: \u001b[0mtask=detect, mode=train, model=./models/yolov10x.pt, data=/home/leedh/바탕화면/korean_melon/dataset/data.yaml, epochs=100, time=None, patience=100, batch=16, imgsz=640, save=True, save_period=-1, cache=False, device=None, workers=4, project=./runs/PID2/CID0, name=v10x, exist_ok=False, pretrained=True, optimizer=AdamW, verbose=True, seed=42, deterministic=True, single_cls=False, rect=False, cos_lr=False, close_mosaic=10, resume=False, amp=True, fraction=1.0, profile=False, freeze=None, multi_scale=False, overlap_mask=True, mask_ratio=4, dropout=0.0, val=True, split=val, save_json=True, save_hybrid=False, conf=0.1, iou=0.7, max_det=300, half=False, dnn=False, plots=True, source=None, vid_stride=1, stream_buffer=False, visualize=False, augment=False, agnostic_nms=False, classes=None, retina_masks=False, embed=None, show=False, save_frames=False, save_txt=False, save_conf=False, save_crop=False, show_labels=True, show_conf=True, show_boxes=True, line_width=None, format=torchscript, keras=False, optimize=False, int8=False, dynamic=False, simplify=True, opset=None, workspace=4, nms=False, lr0=0.0001, lrf=0.01, momentum=0.937, weight_decay=0.0005, warmup_epochs=3.0, warmup_momentum=0.8, warmup_bias_lr=0.1, box=7.5, cls=0.5, dfl=1.5, pose=12.0, kobj=1.0, label_smoothing=0.0, nbs=64, hsv_h=0.015, hsv_s=0.7, hsv_v=0.4, degrees=0.0, translate=0.1, scale=0.5, shear=0.0, perspective=0.0, flipud=0.0, fliplr=0.5, bgr=0.0, mosaic=1.0, mixup=0.0, copy_paste=0.0, copy_paste_mode=flip, auto_augment=randaugment, erasing=0.4, crop_fraction=1.0, cfg=None, tracker=botsort.yaml, save_dir=runs/PID2/CID0/v10x\n",
      "Overriding model.yaml nc=80 with nc=2\n",
      "\n",
      "                   from  n    params  module                                       arguments                     \n",
      "  0                  -1  1      2320  ultralytics.nn.modules.conv.Conv             [3, 80, 3, 2]                 \n",
      "  1                  -1  1    115520  ultralytics.nn.modules.conv.Conv             [80, 160, 3, 2]               \n",
      "  2                  -1  3    436800  ultralytics.nn.modules.block.C2f             [160, 160, 3, True]           \n",
      "  3                  -1  1    461440  ultralytics.nn.modules.conv.Conv             [160, 320, 3, 2]              \n",
      "  4                  -1  6   3281920  ultralytics.nn.modules.block.C2f             [320, 320, 6, True]           \n",
      "  5                  -1  1    213120  ultralytics.nn.modules.block.SCDown          [320, 640, 3, 2]              \n",
      "  6                  -1  6   4604160  ultralytics.nn.modules.block.C2fCIB          [640, 640, 6, True]           \n",
      "  7                  -1  1    417920  ultralytics.nn.modules.block.SCDown          [640, 640, 3, 2]              \n",
      "  8                  -1  3   2712960  ultralytics.nn.modules.block.C2fCIB          [640, 640, 3, True]           \n",
      "  9                  -1  1   1025920  ultralytics.nn.modules.block.SPPF            [640, 640, 5]                 \n",
      " 10                  -1  1   1545920  ultralytics.nn.modules.block.PSA             [640, 640]                    \n",
      " 11                  -1  1         0  torch.nn.modules.upsampling.Upsample         [None, 2, 'nearest']          \n",
      " 12             [-1, 6]  1         0  ultralytics.nn.modules.conv.Concat           [1]                           \n",
      " 13                  -1  3   3122560  ultralytics.nn.modules.block.C2fCIB          [1280, 640, 3, True]          \n",
      " 14                  -1  1         0  torch.nn.modules.upsampling.Upsample         [None, 2, 'nearest']          \n",
      " 15             [-1, 4]  1         0  ultralytics.nn.modules.conv.Concat           [1]                           \n",
      " 16                  -1  3   1948800  ultralytics.nn.modules.block.C2f             [960, 320, 3]                 \n",
      " 17                  -1  1    922240  ultralytics.nn.modules.conv.Conv             [320, 320, 3, 2]              \n",
      " 18            [-1, 13]  1         0  ultralytics.nn.modules.conv.Concat           [1]                           \n",
      " 19                  -1  3   2917760  ultralytics.nn.modules.block.C2fCIB          [960, 640, 3, True]           \n",
      " 20                  -1  1    417920  ultralytics.nn.modules.block.SCDown          [640, 640, 3, 2]              \n",
      " 21            [-1, 10]  1         0  ultralytics.nn.modules.conv.Concat           [1]                           \n",
      " 22                  -1  3   3122560  ultralytics.nn.modules.block.C2fCIB          [1280, 640, 3, True]          \n",
      " 23        [16, 19, 22]  1   4388892  ultralytics.nn.modules.head.v10Detect        [2, [320, 640, 640]]          \n",
      "YOLOv10x summary: 688 layers, 31,658,732 parameters, 31,658,716 gradients, 171.0 GFLOPs\n",
      "\n",
      "Transferred 1123/1135 items from pretrained weights\n",
      "Freezing layer 'model.23.dfl.conv.weight'\n",
      "\u001b[34m\u001b[1mAMP: \u001b[0mrunning Automatic Mixed Precision (AMP) checks...\n",
      "\u001b[34m\u001b[1mAMP: \u001b[0mchecks passed ✅\n"
     ]
    },
    {
     "name": "stderr",
     "output_type": "stream",
     "text": [
      "\u001b[34m\u001b[1mtrain: \u001b[0mScanning /home/leedh/바탕화면/korean_melon/dataset/train/labels.cache... 516 images, 0 backgrounds, 0 corrupt: 100%|██████████| 516/516 [00:00<?, ?it/s]\n",
      "\u001b[34m\u001b[1mval: \u001b[0mScanning /home/leedh/바탕화면/korean_melon/dataset/valid/labels.cache... 103 images, 0 backgrounds, 0 corrupt: 100%|██████████| 103/103 [00:00<?, ?it/s]\n"
     ]
    },
    {
     "name": "stdout",
     "output_type": "stream",
     "text": [
      "Plotting labels to runs/PID2/CID0/v10x/labels.jpg... \n",
      "\u001b[34m\u001b[1moptimizer:\u001b[0m AdamW(lr=0.0001, momentum=0.937) with parameter groups 185 weight(decay=0.0), 198 weight(decay=0.0005), 197 bias(decay=0.0)\n",
      "Image sizes 640 train, 640 val\n",
      "Using 4 dataloader workers\n",
      "Logging results to \u001b[1mruns/PID2/CID0/v10x\u001b[0m\n",
      "Starting training for 100 epochs...\n",
      "\n",
      "      Epoch    GPU_mem   box_loss   cls_loss   dfl_loss  Instances       Size\n"
     ]
    },
    {
     "name": "stderr",
     "output_type": "stream",
     "text": [
      "      1/100      17.8G      1.172      4.743      2.308          8        640: 100%|██████████| 33/33 [00:07<00:00,  4.21it/s]\n",
      "                 Class     Images  Instances      Box(P          R      mAP50  mAP50-95): 100%|██████████| 4/4 [00:00<00:00,  8.97it/s]"
     ]
    },
    {
     "name": "stdout",
     "output_type": "stream",
     "text": [
      "                   all        103        139        0.5     0.0181      0.259      0.259\n"
     ]
    },
    {
     "name": "stderr",
     "output_type": "stream",
     "text": [
      "\n"
     ]
    },
    {
     "name": "stdout",
     "output_type": "stream",
     "text": [
      "\n",
      "      Epoch    GPU_mem   box_loss   cls_loss   dfl_loss  Instances       Size\n"
     ]
    },
    {
     "name": "stderr",
     "output_type": "stream",
     "text": [
      "      2/100      17.9G     0.9816      1.021       2.07         12        640: 100%|██████████| 33/33 [00:07<00:00,  4.53it/s]\n",
      "                 Class     Images  Instances      Box(P          R      mAP50  mAP50-95): 100%|██████████| 4/4 [00:00<00:00,  9.38it/s]"
     ]
    },
    {
     "name": "stdout",
     "output_type": "stream",
     "text": [
      "                   all        103        139      0.872      0.785      0.869      0.825\n"
     ]
    },
    {
     "name": "stderr",
     "output_type": "stream",
     "text": [
      "\n"
     ]
    },
    {
     "name": "stdout",
     "output_type": "stream",
     "text": [
      "\n",
      "      Epoch    GPU_mem   box_loss   cls_loss   dfl_loss  Instances       Size\n"
     ]
    },
    {
     "name": "stderr",
     "output_type": "stream",
     "text": [
      "      3/100      17.9G       1.02     0.8914      2.048         10        640: 100%|██████████| 33/33 [00:07<00:00,  4.61it/s]\n",
      "                 Class     Images  Instances      Box(P          R      mAP50  mAP50-95): 100%|██████████| 4/4 [00:00<00:00,  9.34it/s]"
     ]
    },
    {
     "name": "stdout",
     "output_type": "stream",
     "text": [
      "                   all        103        139      0.984      0.836      0.925      0.876\n"
     ]
    },
    {
     "name": "stderr",
     "output_type": "stream",
     "text": [
      "\n"
     ]
    },
    {
     "name": "stdout",
     "output_type": "stream",
     "text": [
      "\n",
      "      Epoch    GPU_mem   box_loss   cls_loss   dfl_loss  Instances       Size\n"
     ]
    },
    {
     "name": "stderr",
     "output_type": "stream",
     "text": [
      "      4/100      17.9G          1     0.9061      2.038         11        640: 100%|██████████| 33/33 [00:07<00:00,  4.60it/s]\n",
      "                 Class     Images  Instances      Box(P          R      mAP50  mAP50-95): 100%|██████████| 4/4 [00:00<00:00,  9.27it/s]"
     ]
    },
    {
     "name": "stdout",
     "output_type": "stream",
     "text": [
      "                   all        103        139       0.96      0.849      0.954      0.886\n"
     ]
    },
    {
     "name": "stderr",
     "output_type": "stream",
     "text": [
      "\n"
     ]
    },
    {
     "name": "stdout",
     "output_type": "stream",
     "text": [
      "\n",
      "      Epoch    GPU_mem   box_loss   cls_loss   dfl_loss  Instances       Size\n"
     ]
    },
    {
     "name": "stderr",
     "output_type": "stream",
     "text": [
      "      5/100      17.9G     0.9692      0.846      2.041         15        640: 100%|██████████| 33/33 [00:07<00:00,  4.62it/s]\n",
      "                 Class     Images  Instances      Box(P          R      mAP50  mAP50-95): 100%|██████████| 4/4 [00:00<00:00,  9.32it/s]"
     ]
    },
    {
     "name": "stdout",
     "output_type": "stream",
     "text": [
      "                   all        103        139      0.921      0.856      0.939      0.886\n"
     ]
    },
    {
     "name": "stderr",
     "output_type": "stream",
     "text": [
      "\n"
     ]
    },
    {
     "name": "stdout",
     "output_type": "stream",
     "text": [
      "\n",
      "      Epoch    GPU_mem   box_loss   cls_loss   dfl_loss  Instances       Size\n"
     ]
    },
    {
     "name": "stderr",
     "output_type": "stream",
     "text": [
      "      6/100      17.9G      0.935     0.8155      2.023         11        640: 100%|██████████| 33/33 [00:07<00:00,  4.62it/s]\n",
      "                 Class     Images  Instances      Box(P          R      mAP50  mAP50-95): 100%|██████████| 4/4 [00:00<00:00,  9.26it/s]"
     ]
    },
    {
     "name": "stdout",
     "output_type": "stream",
     "text": [
      "                   all        103        139      0.926      0.896      0.957      0.905\n"
     ]
    },
    {
     "name": "stderr",
     "output_type": "stream",
     "text": [
      "\n"
     ]
    },
    {
     "name": "stdout",
     "output_type": "stream",
     "text": [
      "\n",
      "      Epoch    GPU_mem   box_loss   cls_loss   dfl_loss  Instances       Size\n"
     ]
    },
    {
     "name": "stderr",
     "output_type": "stream",
     "text": [
      "      7/100      17.9G     0.8724     0.7522      1.996         11        640: 100%|██████████| 33/33 [00:07<00:00,  4.61it/s]\n",
      "                 Class     Images  Instances      Box(P          R      mAP50  mAP50-95): 100%|██████████| 4/4 [00:00<00:00,  9.28it/s]"
     ]
    },
    {
     "name": "stdout",
     "output_type": "stream",
     "text": [
      "                   all        103        139      0.901      0.858      0.928      0.872\n"
     ]
    },
    {
     "name": "stderr",
     "output_type": "stream",
     "text": [
      "\n"
     ]
    },
    {
     "name": "stdout",
     "output_type": "stream",
     "text": [
      "\n",
      "      Epoch    GPU_mem   box_loss   cls_loss   dfl_loss  Instances       Size\n"
     ]
    },
    {
     "name": "stderr",
     "output_type": "stream",
     "text": [
      "      8/100      17.9G     0.8745      0.703       1.98          5        640: 100%|██████████| 33/33 [00:07<00:00,  4.61it/s]\n",
      "                 Class     Images  Instances      Box(P          R      mAP50  mAP50-95): 100%|██████████| 4/4 [00:00<00:00,  9.29it/s]"
     ]
    },
    {
     "name": "stdout",
     "output_type": "stream",
     "text": [
      "                   all        103        139      0.949      0.877      0.945      0.896\n"
     ]
    },
    {
     "name": "stderr",
     "output_type": "stream",
     "text": [
      "\n"
     ]
    },
    {
     "name": "stdout",
     "output_type": "stream",
     "text": [
      "\n",
      "      Epoch    GPU_mem   box_loss   cls_loss   dfl_loss  Instances       Size\n"
     ]
    },
    {
     "name": "stderr",
     "output_type": "stream",
     "text": [
      "      9/100      17.9G     0.8395     0.7018      1.958         12        640: 100%|██████████| 33/33 [00:07<00:00,  4.62it/s]\n",
      "                 Class     Images  Instances      Box(P          R      mAP50  mAP50-95): 100%|██████████| 4/4 [00:00<00:00,  9.13it/s]"
     ]
    },
    {
     "name": "stdout",
     "output_type": "stream",
     "text": [
      "                   all        103        139      0.963      0.912      0.966      0.923\n"
     ]
    },
    {
     "name": "stderr",
     "output_type": "stream",
     "text": [
      "\n"
     ]
    },
    {
     "name": "stdout",
     "output_type": "stream",
     "text": [
      "\n",
      "      Epoch    GPU_mem   box_loss   cls_loss   dfl_loss  Instances       Size\n"
     ]
    },
    {
     "name": "stderr",
     "output_type": "stream",
     "text": [
      "     10/100      17.9G     0.8267     0.6743      1.955         11        640: 100%|██████████| 33/33 [00:07<00:00,  4.61it/s]\n",
      "                 Class     Images  Instances      Box(P          R      mAP50  mAP50-95): 100%|██████████| 4/4 [00:00<00:00,  9.08it/s]"
     ]
    },
    {
     "name": "stdout",
     "output_type": "stream",
     "text": [
      "                   all        103        139      0.931        0.9      0.959      0.907\n"
     ]
    },
    {
     "name": "stderr",
     "output_type": "stream",
     "text": [
      "\n"
     ]
    },
    {
     "name": "stdout",
     "output_type": "stream",
     "text": [
      "\n",
      "      Epoch    GPU_mem   box_loss   cls_loss   dfl_loss  Instances       Size\n"
     ]
    },
    {
     "name": "stderr",
     "output_type": "stream",
     "text": [
      "     11/100      17.9G     0.8172     0.6913      1.953          6        640: 100%|██████████| 33/33 [00:07<00:00,  4.62it/s]\n",
      "                 Class     Images  Instances      Box(P          R      mAP50  mAP50-95): 100%|██████████| 4/4 [00:00<00:00,  9.34it/s]"
     ]
    },
    {
     "name": "stdout",
     "output_type": "stream",
     "text": [
      "                   all        103        139      0.954       0.88      0.962      0.916\n"
     ]
    },
    {
     "name": "stderr",
     "output_type": "stream",
     "text": [
      "\n"
     ]
    },
    {
     "name": "stdout",
     "output_type": "stream",
     "text": [
      "\n",
      "      Epoch    GPU_mem   box_loss   cls_loss   dfl_loss  Instances       Size\n"
     ]
    },
    {
     "name": "stderr",
     "output_type": "stream",
     "text": [
      "     12/100      17.9G     0.8346     0.6607      1.984          7        640: 100%|██████████| 33/33 [00:07<00:00,  4.59it/s]\n",
      "                 Class     Images  Instances      Box(P          R      mAP50  mAP50-95): 100%|██████████| 4/4 [00:00<00:00,  9.30it/s]"
     ]
    },
    {
     "name": "stdout",
     "output_type": "stream",
     "text": [
      "                   all        103        139      0.932      0.889      0.956      0.904\n"
     ]
    },
    {
     "name": "stderr",
     "output_type": "stream",
     "text": [
      "\n"
     ]
    },
    {
     "name": "stdout",
     "output_type": "stream",
     "text": [
      "\n",
      "      Epoch    GPU_mem   box_loss   cls_loss   dfl_loss  Instances       Size\n"
     ]
    },
    {
     "name": "stderr",
     "output_type": "stream",
     "text": [
      "     13/100      17.9G     0.8396      0.672      1.992          9        640: 100%|██████████| 33/33 [00:07<00:00,  4.61it/s]\n",
      "                 Class     Images  Instances      Box(P          R      mAP50  mAP50-95): 100%|██████████| 4/4 [00:00<00:00,  9.30it/s]"
     ]
    },
    {
     "name": "stdout",
     "output_type": "stream",
     "text": [
      "                   all        103        139      0.955      0.908      0.953        0.9\n"
     ]
    },
    {
     "name": "stderr",
     "output_type": "stream",
     "text": [
      "\n"
     ]
    },
    {
     "name": "stdout",
     "output_type": "stream",
     "text": [
      "\n",
      "      Epoch    GPU_mem   box_loss   cls_loss   dfl_loss  Instances       Size\n"
     ]
    },
    {
     "name": "stderr",
     "output_type": "stream",
     "text": [
      "     14/100      17.9G     0.7996     0.6382      1.973         10        640: 100%|██████████| 33/33 [00:07<00:00,  4.62it/s]\n",
      "                 Class     Images  Instances      Box(P          R      mAP50  mAP50-95): 100%|██████████| 4/4 [00:00<00:00,  9.31it/s]"
     ]
    },
    {
     "name": "stdout",
     "output_type": "stream",
     "text": [
      "                   all        103        139      0.901      0.901       0.95      0.895\n"
     ]
    },
    {
     "name": "stderr",
     "output_type": "stream",
     "text": [
      "\n"
     ]
    },
    {
     "name": "stdout",
     "output_type": "stream",
     "text": [
      "\n",
      "      Epoch    GPU_mem   box_loss   cls_loss   dfl_loss  Instances       Size\n"
     ]
    },
    {
     "name": "stderr",
     "output_type": "stream",
     "text": [
      "     15/100      17.9G     0.8032     0.6621      1.946         12        640: 100%|██████████| 33/33 [00:07<00:00,  4.62it/s]\n",
      "                 Class     Images  Instances      Box(P          R      mAP50  mAP50-95): 100%|██████████| 4/4 [00:00<00:00,  9.30it/s]"
     ]
    },
    {
     "name": "stdout",
     "output_type": "stream",
     "text": [
      "                   all        103        139      0.968      0.919      0.968      0.923\n"
     ]
    },
    {
     "name": "stderr",
     "output_type": "stream",
     "text": [
      "\n"
     ]
    },
    {
     "name": "stdout",
     "output_type": "stream",
     "text": [
      "\n",
      "      Epoch    GPU_mem   box_loss   cls_loss   dfl_loss  Instances       Size\n"
     ]
    },
    {
     "name": "stderr",
     "output_type": "stream",
     "text": [
      "     16/100      17.9G     0.7844     0.6073      1.975         11        640: 100%|██████████| 33/33 [00:07<00:00,  4.59it/s]\n",
      "                 Class     Images  Instances      Box(P          R      mAP50  mAP50-95): 100%|██████████| 4/4 [00:00<00:00,  9.28it/s]"
     ]
    },
    {
     "name": "stdout",
     "output_type": "stream",
     "text": [
      "                   all        103        139      0.919       0.89      0.939      0.896\n"
     ]
    },
    {
     "name": "stderr",
     "output_type": "stream",
     "text": [
      "\n"
     ]
    },
    {
     "name": "stdout",
     "output_type": "stream",
     "text": [
      "\n",
      "      Epoch    GPU_mem   box_loss   cls_loss   dfl_loss  Instances       Size\n"
     ]
    },
    {
     "name": "stderr",
     "output_type": "stream",
     "text": [
      "     17/100      17.9G     0.7881     0.5666       1.97         10        640: 100%|██████████| 33/33 [00:07<00:00,  4.61it/s]\n",
      "                 Class     Images  Instances      Box(P          R      mAP50  mAP50-95): 100%|██████████| 4/4 [00:00<00:00,  9.28it/s]"
     ]
    },
    {
     "name": "stdout",
     "output_type": "stream",
     "text": [
      "                   all        103        139      0.934      0.917      0.963      0.914\n"
     ]
    },
    {
     "name": "stderr",
     "output_type": "stream",
     "text": [
      "\n"
     ]
    },
    {
     "name": "stdout",
     "output_type": "stream",
     "text": [
      "\n",
      "      Epoch    GPU_mem   box_loss   cls_loss   dfl_loss  Instances       Size\n"
     ]
    },
    {
     "name": "stderr",
     "output_type": "stream",
     "text": [
      "     18/100      17.9G     0.7847     0.5604      1.955         11        640: 100%|██████████| 33/33 [00:07<00:00,  4.62it/s]\n",
      "                 Class     Images  Instances      Box(P          R      mAP50  mAP50-95): 100%|██████████| 4/4 [00:00<00:00,  9.30it/s]"
     ]
    },
    {
     "name": "stdout",
     "output_type": "stream",
     "text": [
      "                   all        103        139       0.93      0.892       0.95      0.899\n"
     ]
    },
    {
     "name": "stderr",
     "output_type": "stream",
     "text": [
      "\n"
     ]
    },
    {
     "name": "stdout",
     "output_type": "stream",
     "text": [
      "\n",
      "      Epoch    GPU_mem   box_loss   cls_loss   dfl_loss  Instances       Size\n"
     ]
    },
    {
     "name": "stderr",
     "output_type": "stream",
     "text": [
      "     19/100      17.9G     0.8262     0.5795      1.988         14        640: 100%|██████████| 33/33 [00:07<00:00,  4.61it/s]\n",
      "                 Class     Images  Instances      Box(P          R      mAP50  mAP50-95): 100%|██████████| 4/4 [00:00<00:00,  9.32it/s]"
     ]
    },
    {
     "name": "stdout",
     "output_type": "stream",
     "text": [
      "                   all        103        139      0.947      0.871      0.952      0.906\n"
     ]
    },
    {
     "name": "stderr",
     "output_type": "stream",
     "text": [
      "\n"
     ]
    },
    {
     "name": "stdout",
     "output_type": "stream",
     "text": [
      "\n",
      "      Epoch    GPU_mem   box_loss   cls_loss   dfl_loss  Instances       Size\n"
     ]
    },
    {
     "name": "stderr",
     "output_type": "stream",
     "text": [
      "     20/100      17.9G     0.7723     0.5244      1.946         14        640: 100%|██████████| 33/33 [00:07<00:00,  4.59it/s]\n",
      "                 Class     Images  Instances      Box(P          R      mAP50  mAP50-95): 100%|██████████| 4/4 [00:00<00:00,  9.27it/s]"
     ]
    },
    {
     "name": "stdout",
     "output_type": "stream",
     "text": [
      "                   all        103        139      0.959      0.895      0.973      0.917\n"
     ]
    },
    {
     "name": "stderr",
     "output_type": "stream",
     "text": [
      "\n"
     ]
    },
    {
     "name": "stdout",
     "output_type": "stream",
     "text": [
      "\n",
      "      Epoch    GPU_mem   box_loss   cls_loss   dfl_loss  Instances       Size\n"
     ]
    },
    {
     "name": "stderr",
     "output_type": "stream",
     "text": [
      "     21/100      17.9G     0.7521     0.5462      1.939         14        640: 100%|██████████| 33/33 [00:07<00:00,  4.61it/s]\n",
      "                 Class     Images  Instances      Box(P          R      mAP50  mAP50-95): 100%|██████████| 4/4 [00:00<00:00,  9.28it/s]"
     ]
    },
    {
     "name": "stdout",
     "output_type": "stream",
     "text": [
      "                   all        103        139      0.917      0.913      0.958      0.906\n"
     ]
    },
    {
     "name": "stderr",
     "output_type": "stream",
     "text": [
      "\n"
     ]
    },
    {
     "name": "stdout",
     "output_type": "stream",
     "text": [
      "\n",
      "      Epoch    GPU_mem   box_loss   cls_loss   dfl_loss  Instances       Size\n"
     ]
    },
    {
     "name": "stderr",
     "output_type": "stream",
     "text": [
      "     22/100      17.9G     0.7648     0.5711      1.936         14        640: 100%|██████████| 33/33 [00:07<00:00,  4.62it/s]\n",
      "                 Class     Images  Instances      Box(P          R      mAP50  mAP50-95): 100%|██████████| 4/4 [00:00<00:00,  9.28it/s]"
     ]
    },
    {
     "name": "stdout",
     "output_type": "stream",
     "text": [
      "                   all        103        139      0.925      0.903      0.951      0.906\n"
     ]
    },
    {
     "name": "stderr",
     "output_type": "stream",
     "text": [
      "\n"
     ]
    },
    {
     "name": "stdout",
     "output_type": "stream",
     "text": [
      "\n",
      "      Epoch    GPU_mem   box_loss   cls_loss   dfl_loss  Instances       Size\n"
     ]
    },
    {
     "name": "stderr",
     "output_type": "stream",
     "text": [
      "     23/100      17.9G     0.7377     0.4824      1.911         12        640: 100%|██████████| 33/33 [00:07<00:00,  4.61it/s]\n",
      "                 Class     Images  Instances      Box(P          R      mAP50  mAP50-95): 100%|██████████| 4/4 [00:00<00:00,  9.33it/s]"
     ]
    },
    {
     "name": "stdout",
     "output_type": "stream",
     "text": [
      "                   all        103        139      0.961      0.917      0.961      0.919\n"
     ]
    },
    {
     "name": "stderr",
     "output_type": "stream",
     "text": [
      "\n"
     ]
    },
    {
     "name": "stdout",
     "output_type": "stream",
     "text": [
      "\n",
      "      Epoch    GPU_mem   box_loss   cls_loss   dfl_loss  Instances       Size\n"
     ]
    },
    {
     "name": "stderr",
     "output_type": "stream",
     "text": [
      "     24/100      17.9G     0.7769     0.5043      1.985          8        640: 100%|██████████| 33/33 [00:07<00:00,  4.59it/s]\n",
      "                 Class     Images  Instances      Box(P          R      mAP50  mAP50-95): 100%|██████████| 4/4 [00:00<00:00,  9.27it/s]"
     ]
    },
    {
     "name": "stdout",
     "output_type": "stream",
     "text": [
      "                   all        103        139      0.888      0.928      0.959      0.902\n"
     ]
    },
    {
     "name": "stderr",
     "output_type": "stream",
     "text": [
      "\n"
     ]
    },
    {
     "name": "stdout",
     "output_type": "stream",
     "text": [
      "\n",
      "      Epoch    GPU_mem   box_loss   cls_loss   dfl_loss  Instances       Size\n"
     ]
    },
    {
     "name": "stderr",
     "output_type": "stream",
     "text": [
      "     25/100      17.9G     0.7932     0.5401       1.95         17        640: 100%|██████████| 33/33 [00:07<00:00,  4.62it/s]\n",
      "                 Class     Images  Instances      Box(P          R      mAP50  mAP50-95): 100%|██████████| 4/4 [00:00<00:00,  9.33it/s]"
     ]
    },
    {
     "name": "stdout",
     "output_type": "stream",
     "text": [
      "                   all        103        139      0.985      0.875      0.966      0.919\n"
     ]
    },
    {
     "name": "stderr",
     "output_type": "stream",
     "text": [
      "\n"
     ]
    },
    {
     "name": "stdout",
     "output_type": "stream",
     "text": [
      "\n",
      "      Epoch    GPU_mem   box_loss   cls_loss   dfl_loss  Instances       Size\n"
     ]
    },
    {
     "name": "stderr",
     "output_type": "stream",
     "text": [
      "     26/100      17.9G     0.7308     0.5001      1.922         13        640: 100%|██████████| 33/33 [00:07<00:00,  4.61it/s]\n",
      "                 Class     Images  Instances      Box(P          R      mAP50  mAP50-95): 100%|██████████| 4/4 [00:00<00:00,  9.32it/s]"
     ]
    },
    {
     "name": "stdout",
     "output_type": "stream",
     "text": [
      "                   all        103        139      0.966      0.908       0.96      0.916\n"
     ]
    },
    {
     "name": "stderr",
     "output_type": "stream",
     "text": [
      "\n"
     ]
    },
    {
     "name": "stdout",
     "output_type": "stream",
     "text": [
      "\n",
      "      Epoch    GPU_mem   box_loss   cls_loss   dfl_loss  Instances       Size\n"
     ]
    },
    {
     "name": "stderr",
     "output_type": "stream",
     "text": [
      "     27/100      17.9G     0.7647     0.5178      1.936         13        640: 100%|██████████| 33/33 [00:07<00:00,  4.60it/s]\n",
      "                 Class     Images  Instances      Box(P          R      mAP50  mAP50-95): 100%|██████████| 4/4 [00:00<00:00,  9.31it/s]"
     ]
    },
    {
     "name": "stdout",
     "output_type": "stream",
     "text": [
      "                   all        103        139      0.935      0.895      0.955      0.911\n"
     ]
    },
    {
     "name": "stderr",
     "output_type": "stream",
     "text": [
      "\n"
     ]
    },
    {
     "name": "stdout",
     "output_type": "stream",
     "text": [
      "\n",
      "      Epoch    GPU_mem   box_loss   cls_loss   dfl_loss  Instances       Size\n"
     ]
    },
    {
     "name": "stderr",
     "output_type": "stream",
     "text": [
      "     28/100      17.9G     0.7328     0.4927      1.925         10        640: 100%|██████████| 33/33 [00:07<00:00,  4.59it/s]\n",
      "                 Class     Images  Instances      Box(P          R      mAP50  mAP50-95): 100%|██████████| 4/4 [00:00<00:00,  9.28it/s]"
     ]
    },
    {
     "name": "stdout",
     "output_type": "stream",
     "text": [
      "                   all        103        139      0.928      0.936      0.964      0.918\n"
     ]
    },
    {
     "name": "stderr",
     "output_type": "stream",
     "text": [
      "\n"
     ]
    },
    {
     "name": "stdout",
     "output_type": "stream",
     "text": [
      "\n",
      "      Epoch    GPU_mem   box_loss   cls_loss   dfl_loss  Instances       Size\n"
     ]
    },
    {
     "name": "stderr",
     "output_type": "stream",
     "text": [
      "     29/100      17.9G     0.7462     0.5085      1.936          9        640: 100%|██████████| 33/33 [00:07<00:00,  4.61it/s]\n",
      "                 Class     Images  Instances      Box(P          R      mAP50  mAP50-95): 100%|██████████| 4/4 [00:00<00:00,  9.34it/s]"
     ]
    },
    {
     "name": "stdout",
     "output_type": "stream",
     "text": [
      "                   all        103        139      0.943      0.924      0.962      0.918\n"
     ]
    },
    {
     "name": "stderr",
     "output_type": "stream",
     "text": [
      "\n"
     ]
    },
    {
     "name": "stdout",
     "output_type": "stream",
     "text": [
      "\n",
      "      Epoch    GPU_mem   box_loss   cls_loss   dfl_loss  Instances       Size\n"
     ]
    },
    {
     "name": "stderr",
     "output_type": "stream",
     "text": [
      "     30/100      17.9G     0.7255     0.4797      1.909         14        640: 100%|██████████| 33/33 [00:07<00:00,  4.61it/s]\n",
      "                 Class     Images  Instances      Box(P          R      mAP50  mAP50-95): 100%|██████████| 4/4 [00:00<00:00,  9.32it/s]"
     ]
    },
    {
     "name": "stdout",
     "output_type": "stream",
     "text": [
      "                   all        103        139       0.95      0.894      0.958      0.909\n"
     ]
    },
    {
     "name": "stderr",
     "output_type": "stream",
     "text": [
      "\n"
     ]
    },
    {
     "name": "stdout",
     "output_type": "stream",
     "text": [
      "\n",
      "      Epoch    GPU_mem   box_loss   cls_loss   dfl_loss  Instances       Size\n"
     ]
    },
    {
     "name": "stderr",
     "output_type": "stream",
     "text": [
      "     31/100      17.9G     0.6847     0.4856      1.886         14        640: 100%|██████████| 33/33 [00:07<00:00,  4.62it/s]\n",
      "                 Class     Images  Instances      Box(P          R      mAP50  mAP50-95): 100%|██████████| 4/4 [00:00<00:00,  9.34it/s]"
     ]
    },
    {
     "name": "stdout",
     "output_type": "stream",
     "text": [
      "                   all        103        139      0.952      0.916      0.961       0.92\n"
     ]
    },
    {
     "name": "stderr",
     "output_type": "stream",
     "text": [
      "\n"
     ]
    },
    {
     "name": "stdout",
     "output_type": "stream",
     "text": [
      "\n",
      "      Epoch    GPU_mem   box_loss   cls_loss   dfl_loss  Instances       Size\n"
     ]
    },
    {
     "name": "stderr",
     "output_type": "stream",
     "text": [
      "     32/100      17.9G     0.6777     0.4458      1.874          9        640: 100%|██████████| 33/33 [00:07<00:00,  4.60it/s]\n",
      "                 Class     Images  Instances      Box(P          R      mAP50  mAP50-95): 100%|██████████| 4/4 [00:00<00:00,  9.31it/s]"
     ]
    },
    {
     "name": "stdout",
     "output_type": "stream",
     "text": [
      "                   all        103        139      0.974      0.907      0.968      0.919\n"
     ]
    },
    {
     "name": "stderr",
     "output_type": "stream",
     "text": [
      "\n"
     ]
    },
    {
     "name": "stdout",
     "output_type": "stream",
     "text": [
      "\n",
      "      Epoch    GPU_mem   box_loss   cls_loss   dfl_loss  Instances       Size\n"
     ]
    },
    {
     "name": "stderr",
     "output_type": "stream",
     "text": [
      "     33/100      17.9G     0.6836     0.4451      1.899          9        640: 100%|██████████| 33/33 [00:07<00:00,  4.62it/s]\n",
      "                 Class     Images  Instances      Box(P          R      mAP50  mAP50-95): 100%|██████████| 4/4 [00:00<00:00,  9.32it/s]"
     ]
    },
    {
     "name": "stdout",
     "output_type": "stream",
     "text": [
      "                   all        103        139      0.942      0.879      0.932      0.877\n"
     ]
    },
    {
     "name": "stderr",
     "output_type": "stream",
     "text": [
      "\n"
     ]
    },
    {
     "name": "stdout",
     "output_type": "stream",
     "text": [
      "\n",
      "      Epoch    GPU_mem   box_loss   cls_loss   dfl_loss  Instances       Size\n"
     ]
    },
    {
     "name": "stderr",
     "output_type": "stream",
     "text": [
      "     34/100      17.9G     0.6751     0.4419      1.871         10        640: 100%|██████████| 33/33 [00:07<00:00,  4.61it/s]\n",
      "                 Class     Images  Instances      Box(P          R      mAP50  mAP50-95): 100%|██████████| 4/4 [00:00<00:00,  9.23it/s]"
     ]
    },
    {
     "name": "stdout",
     "output_type": "stream",
     "text": [
      "                   all        103        139      0.966      0.863      0.955      0.902\n"
     ]
    },
    {
     "name": "stderr",
     "output_type": "stream",
     "text": [
      "\n"
     ]
    },
    {
     "name": "stdout",
     "output_type": "stream",
     "text": [
      "\n",
      "      Epoch    GPU_mem   box_loss   cls_loss   dfl_loss  Instances       Size\n"
     ]
    },
    {
     "name": "stderr",
     "output_type": "stream",
     "text": [
      "     35/100      17.9G     0.7212     0.4933      1.922         13        640: 100%|██████████| 33/33 [00:07<00:00,  4.62it/s]\n",
      "                 Class     Images  Instances      Box(P          R      mAP50  mAP50-95): 100%|██████████| 4/4 [00:00<00:00,  9.26it/s]"
     ]
    },
    {
     "name": "stdout",
     "output_type": "stream",
     "text": [
      "                   all        103        139      0.943      0.875      0.956      0.906\n"
     ]
    },
    {
     "name": "stderr",
     "output_type": "stream",
     "text": [
      "\n"
     ]
    },
    {
     "name": "stdout",
     "output_type": "stream",
     "text": [
      "\n",
      "      Epoch    GPU_mem   box_loss   cls_loss   dfl_loss  Instances       Size\n"
     ]
    },
    {
     "name": "stderr",
     "output_type": "stream",
     "text": [
      "     36/100      17.9G     0.6724     0.4906      1.887          8        640: 100%|██████████| 33/33 [00:07<00:00,  4.60it/s]\n",
      "                 Class     Images  Instances      Box(P          R      mAP50  mAP50-95): 100%|██████████| 4/4 [00:00<00:00,  9.31it/s]"
     ]
    },
    {
     "name": "stdout",
     "output_type": "stream",
     "text": [
      "                   all        103        139      0.954      0.908       0.95      0.894\n"
     ]
    },
    {
     "name": "stderr",
     "output_type": "stream",
     "text": [
      "\n"
     ]
    },
    {
     "name": "stdout",
     "output_type": "stream",
     "text": [
      "\n",
      "      Epoch    GPU_mem   box_loss   cls_loss   dfl_loss  Instances       Size\n"
     ]
    },
    {
     "name": "stderr",
     "output_type": "stream",
     "text": [
      "     37/100      17.9G     0.6692     0.4675      1.881         12        640: 100%|██████████| 33/33 [00:07<00:00,  4.61it/s]\n",
      "                 Class     Images  Instances      Box(P          R      mAP50  mAP50-95): 100%|██████████| 4/4 [00:00<00:00,  9.32it/s]"
     ]
    },
    {
     "name": "stdout",
     "output_type": "stream",
     "text": [
      "                   all        103        139      0.938        0.9      0.959      0.914\n"
     ]
    },
    {
     "name": "stderr",
     "output_type": "stream",
     "text": [
      "\n"
     ]
    },
    {
     "name": "stdout",
     "output_type": "stream",
     "text": [
      "\n",
      "      Epoch    GPU_mem   box_loss   cls_loss   dfl_loss  Instances       Size\n"
     ]
    },
    {
     "name": "stderr",
     "output_type": "stream",
     "text": [
      "     38/100      17.9G     0.6789     0.4533      1.892          8        640: 100%|██████████| 33/33 [00:07<00:00,  4.61it/s]\n",
      "                 Class     Images  Instances      Box(P          R      mAP50  mAP50-95): 100%|██████████| 4/4 [00:00<00:00,  9.32it/s]"
     ]
    },
    {
     "name": "stdout",
     "output_type": "stream",
     "text": [
      "                   all        103        139      0.941      0.916      0.959       0.92\n"
     ]
    },
    {
     "name": "stderr",
     "output_type": "stream",
     "text": [
      "\n"
     ]
    },
    {
     "name": "stdout",
     "output_type": "stream",
     "text": [
      "\n",
      "      Epoch    GPU_mem   box_loss   cls_loss   dfl_loss  Instances       Size\n"
     ]
    },
    {
     "name": "stderr",
     "output_type": "stream",
     "text": [
      "     39/100      17.9G     0.6632       0.44      1.882          8        640: 100%|██████████| 33/33 [00:07<00:00,  4.61it/s]\n",
      "                 Class     Images  Instances      Box(P          R      mAP50  mAP50-95): 100%|██████████| 4/4 [00:00<00:00,  9.31it/s]"
     ]
    },
    {
     "name": "stdout",
     "output_type": "stream",
     "text": [
      "                   all        103        139      0.955      0.875      0.936        0.9\n"
     ]
    },
    {
     "name": "stderr",
     "output_type": "stream",
     "text": [
      "\n"
     ]
    },
    {
     "name": "stdout",
     "output_type": "stream",
     "text": [
      "\n",
      "      Epoch    GPU_mem   box_loss   cls_loss   dfl_loss  Instances       Size\n"
     ]
    },
    {
     "name": "stderr",
     "output_type": "stream",
     "text": [
      "     40/100      17.9G     0.6727     0.4638      1.881          7        640: 100%|██████████| 33/33 [00:07<00:00,  4.60it/s]\n",
      "                 Class     Images  Instances      Box(P          R      mAP50  mAP50-95): 100%|██████████| 4/4 [00:00<00:00,  9.32it/s]"
     ]
    },
    {
     "name": "stdout",
     "output_type": "stream",
     "text": [
      "                   all        103        139       0.94      0.909      0.962      0.918\n"
     ]
    },
    {
     "name": "stderr",
     "output_type": "stream",
     "text": [
      "\n"
     ]
    },
    {
     "name": "stdout",
     "output_type": "stream",
     "text": [
      "\n",
      "      Epoch    GPU_mem   box_loss   cls_loss   dfl_loss  Instances       Size\n"
     ]
    },
    {
     "name": "stderr",
     "output_type": "stream",
     "text": [
      "     41/100      17.9G     0.7388     0.4588      1.928         11        640: 100%|██████████| 33/33 [00:07<00:00,  4.61it/s]\n",
      "                 Class     Images  Instances      Box(P          R      mAP50  mAP50-95): 100%|██████████| 4/4 [00:00<00:00,  9.32it/s]"
     ]
    },
    {
     "name": "stdout",
     "output_type": "stream",
     "text": [
      "                   all        103        139      0.932      0.901       0.95      0.913\n"
     ]
    },
    {
     "name": "stderr",
     "output_type": "stream",
     "text": [
      "\n"
     ]
    },
    {
     "name": "stdout",
     "output_type": "stream",
     "text": [
      "\n",
      "      Epoch    GPU_mem   box_loss   cls_loss   dfl_loss  Instances       Size\n"
     ]
    },
    {
     "name": "stderr",
     "output_type": "stream",
     "text": [
      "     42/100      17.9G     0.6653     0.4294       1.88         15        640: 100%|██████████| 33/33 [00:07<00:00,  4.61it/s]\n",
      "                 Class     Images  Instances      Box(P          R      mAP50  mAP50-95): 100%|██████████| 4/4 [00:00<00:00,  9.32it/s]"
     ]
    },
    {
     "name": "stdout",
     "output_type": "stream",
     "text": [
      "                   all        103        139       0.93      0.912      0.948      0.912\n"
     ]
    },
    {
     "name": "stderr",
     "output_type": "stream",
     "text": [
      "\n"
     ]
    },
    {
     "name": "stdout",
     "output_type": "stream",
     "text": [
      "\n",
      "      Epoch    GPU_mem   box_loss   cls_loss   dfl_loss  Instances       Size\n"
     ]
    },
    {
     "name": "stderr",
     "output_type": "stream",
     "text": [
      "     43/100      17.9G     0.6654     0.4129      1.865          8        640: 100%|██████████| 33/33 [00:07<00:00,  4.61it/s]\n",
      "                 Class     Images  Instances      Box(P          R      mAP50  mAP50-95): 100%|██████████| 4/4 [00:00<00:00,  9.32it/s]"
     ]
    },
    {
     "name": "stdout",
     "output_type": "stream",
     "text": [
      "                   all        103        139      0.948      0.891      0.944      0.907\n"
     ]
    },
    {
     "name": "stderr",
     "output_type": "stream",
     "text": [
      "\n"
     ]
    },
    {
     "name": "stdout",
     "output_type": "stream",
     "text": [
      "\n",
      "      Epoch    GPU_mem   box_loss   cls_loss   dfl_loss  Instances       Size\n"
     ]
    },
    {
     "name": "stderr",
     "output_type": "stream",
     "text": [
      "     44/100      17.9G     0.6631     0.3968      1.874          9        640: 100%|██████████| 33/33 [00:07<00:00,  4.60it/s]\n",
      "                 Class     Images  Instances      Box(P          R      mAP50  mAP50-95): 100%|██████████| 4/4 [00:00<00:00,  9.29it/s]"
     ]
    },
    {
     "name": "stdout",
     "output_type": "stream",
     "text": [
      "                   all        103        139      0.959      0.913      0.959      0.916\n"
     ]
    },
    {
     "name": "stderr",
     "output_type": "stream",
     "text": [
      "\n"
     ]
    },
    {
     "name": "stdout",
     "output_type": "stream",
     "text": [
      "\n",
      "      Epoch    GPU_mem   box_loss   cls_loss   dfl_loss  Instances       Size\n"
     ]
    },
    {
     "name": "stderr",
     "output_type": "stream",
     "text": [
      "     45/100      17.9G     0.6498     0.4244      1.872         14        640: 100%|██████████| 33/33 [00:07<00:00,  4.62it/s]\n",
      "                 Class     Images  Instances      Box(P          R      mAP50  mAP50-95): 100%|██████████| 4/4 [00:00<00:00,  9.37it/s]"
     ]
    },
    {
     "name": "stdout",
     "output_type": "stream",
     "text": [
      "                   all        103        139      0.953       0.89      0.942        0.9\n"
     ]
    },
    {
     "name": "stderr",
     "output_type": "stream",
     "text": [
      "\n"
     ]
    },
    {
     "name": "stdout",
     "output_type": "stream",
     "text": [
      "\n",
      "      Epoch    GPU_mem   box_loss   cls_loss   dfl_loss  Instances       Size\n"
     ]
    },
    {
     "name": "stderr",
     "output_type": "stream",
     "text": [
      "     46/100      17.9G     0.6322     0.3925      1.857         11        640: 100%|██████████| 33/33 [00:07<00:00,  4.62it/s]\n",
      "                 Class     Images  Instances      Box(P          R      mAP50  mAP50-95): 100%|██████████| 4/4 [00:00<00:00,  9.30it/s]"
     ]
    },
    {
     "name": "stdout",
     "output_type": "stream",
     "text": [
      "                   all        103        139      0.956      0.892      0.949      0.897\n"
     ]
    },
    {
     "name": "stderr",
     "output_type": "stream",
     "text": [
      "\n"
     ]
    },
    {
     "name": "stdout",
     "output_type": "stream",
     "text": [
      "\n",
      "      Epoch    GPU_mem   box_loss   cls_loss   dfl_loss  Instances       Size\n"
     ]
    },
    {
     "name": "stderr",
     "output_type": "stream",
     "text": [
      "     47/100      17.9G     0.6387     0.4247      1.874         11        640: 100%|██████████| 33/33 [00:07<00:00,  4.61it/s]\n",
      "                 Class     Images  Instances      Box(P          R      mAP50  mAP50-95): 100%|██████████| 4/4 [00:00<00:00,  9.32it/s]"
     ]
    },
    {
     "name": "stdout",
     "output_type": "stream",
     "text": [
      "                   all        103        139      0.953      0.909      0.952      0.908\n"
     ]
    },
    {
     "name": "stderr",
     "output_type": "stream",
     "text": [
      "\n"
     ]
    },
    {
     "name": "stdout",
     "output_type": "stream",
     "text": [
      "\n",
      "      Epoch    GPU_mem   box_loss   cls_loss   dfl_loss  Instances       Size\n"
     ]
    },
    {
     "name": "stderr",
     "output_type": "stream",
     "text": [
      "     48/100      17.9G     0.6436     0.3887      1.867         10        640: 100%|██████████| 33/33 [00:07<00:00,  4.60it/s]\n",
      "                 Class     Images  Instances      Box(P          R      mAP50  mAP50-95): 100%|██████████| 4/4 [00:00<00:00,  9.32it/s]"
     ]
    },
    {
     "name": "stdout",
     "output_type": "stream",
     "text": [
      "                   all        103        139      0.968      0.901      0.956      0.909\n"
     ]
    },
    {
     "name": "stderr",
     "output_type": "stream",
     "text": [
      "\n"
     ]
    },
    {
     "name": "stdout",
     "output_type": "stream",
     "text": [
      "\n",
      "      Epoch    GPU_mem   box_loss   cls_loss   dfl_loss  Instances       Size\n"
     ]
    },
    {
     "name": "stderr",
     "output_type": "stream",
     "text": [
      "     49/100      17.9G     0.6522     0.4183      1.871         11        640: 100%|██████████| 33/33 [00:07<00:00,  4.61it/s]\n",
      "                 Class     Images  Instances      Box(P          R      mAP50  mAP50-95): 100%|██████████| 4/4 [00:00<00:00,  9.36it/s]"
     ]
    },
    {
     "name": "stdout",
     "output_type": "stream",
     "text": [
      "                   all        103        139      0.921      0.942      0.964      0.917\n"
     ]
    },
    {
     "name": "stderr",
     "output_type": "stream",
     "text": [
      "\n"
     ]
    },
    {
     "name": "stdout",
     "output_type": "stream",
     "text": [
      "\n",
      "      Epoch    GPU_mem   box_loss   cls_loss   dfl_loss  Instances       Size\n"
     ]
    },
    {
     "name": "stderr",
     "output_type": "stream",
     "text": [
      "     50/100      17.9G      0.619     0.3924      1.866         15        640: 100%|██████████| 33/33 [00:07<00:00,  4.61it/s]\n",
      "                 Class     Images  Instances      Box(P          R      mAP50  mAP50-95): 100%|██████████| 4/4 [00:00<00:00,  9.30it/s]"
     ]
    },
    {
     "name": "stdout",
     "output_type": "stream",
     "text": [
      "                   all        103        139      0.939      0.952      0.968      0.916\n"
     ]
    },
    {
     "name": "stderr",
     "output_type": "stream",
     "text": [
      "\n"
     ]
    },
    {
     "name": "stdout",
     "output_type": "stream",
     "text": [
      "\n",
      "      Epoch    GPU_mem   box_loss   cls_loss   dfl_loss  Instances       Size\n"
     ]
    },
    {
     "name": "stderr",
     "output_type": "stream",
     "text": [
      "     51/100      17.9G     0.6325     0.4205      1.866         12        640: 100%|██████████| 33/33 [00:07<00:00,  4.61it/s]\n",
      "                 Class     Images  Instances      Box(P          R      mAP50  mAP50-95): 100%|██████████| 4/4 [00:00<00:00,  9.32it/s]"
     ]
    },
    {
     "name": "stdout",
     "output_type": "stream",
     "text": [
      "                   all        103        139      0.965      0.917      0.962       0.91\n"
     ]
    },
    {
     "name": "stderr",
     "output_type": "stream",
     "text": [
      "\n"
     ]
    },
    {
     "name": "stdout",
     "output_type": "stream",
     "text": [
      "\n",
      "      Epoch    GPU_mem   box_loss   cls_loss   dfl_loss  Instances       Size\n"
     ]
    },
    {
     "name": "stderr",
     "output_type": "stream",
     "text": [
      "     52/100      17.9G     0.6005      0.372       1.86         14        640: 100%|██████████| 33/33 [00:07<00:00,  4.60it/s]\n",
      "                 Class     Images  Instances      Box(P          R      mAP50  mAP50-95): 100%|██████████| 4/4 [00:00<00:00,  9.27it/s]"
     ]
    },
    {
     "name": "stdout",
     "output_type": "stream",
     "text": [
      "                   all        103        139      0.945      0.891      0.944      0.902\n"
     ]
    },
    {
     "name": "stderr",
     "output_type": "stream",
     "text": [
      "\n"
     ]
    },
    {
     "name": "stdout",
     "output_type": "stream",
     "text": [
      "\n",
      "      Epoch    GPU_mem   box_loss   cls_loss   dfl_loss  Instances       Size\n"
     ]
    },
    {
     "name": "stderr",
     "output_type": "stream",
     "text": [
      "     53/100      17.9G     0.6409     0.4196      1.853         14        640: 100%|██████████| 33/33 [00:07<00:00,  4.61it/s]\n",
      "                 Class     Images  Instances      Box(P          R      mAP50  mAP50-95): 100%|██████████| 4/4 [00:00<00:00,  9.33it/s]"
     ]
    },
    {
     "name": "stdout",
     "output_type": "stream",
     "text": [
      "                   all        103        139      0.954      0.914      0.952      0.909\n"
     ]
    },
    {
     "name": "stderr",
     "output_type": "stream",
     "text": [
      "\n"
     ]
    },
    {
     "name": "stdout",
     "output_type": "stream",
     "text": [
      "\n",
      "      Epoch    GPU_mem   box_loss   cls_loss   dfl_loss  Instances       Size\n"
     ]
    },
    {
     "name": "stderr",
     "output_type": "stream",
     "text": [
      "     54/100      17.9G     0.6131      0.381      1.851         10        640: 100%|██████████| 33/33 [00:07<00:00,  4.62it/s]\n",
      "                 Class     Images  Instances      Box(P          R      mAP50  mAP50-95): 100%|██████████| 4/4 [00:00<00:00,  9.35it/s]"
     ]
    },
    {
     "name": "stdout",
     "output_type": "stream",
     "text": [
      "                   all        103        139      0.925      0.931      0.959      0.915\n"
     ]
    },
    {
     "name": "stderr",
     "output_type": "stream",
     "text": [
      "\n"
     ]
    },
    {
     "name": "stdout",
     "output_type": "stream",
     "text": [
      "\n",
      "      Epoch    GPU_mem   box_loss   cls_loss   dfl_loss  Instances       Size\n"
     ]
    },
    {
     "name": "stderr",
     "output_type": "stream",
     "text": [
      "     55/100      17.9G     0.6329     0.3794      1.857         12        640: 100%|██████████| 33/33 [00:07<00:00,  4.61it/s]\n",
      "                 Class     Images  Instances      Box(P          R      mAP50  mAP50-95): 100%|██████████| 4/4 [00:00<00:00,  9.29it/s]"
     ]
    },
    {
     "name": "stdout",
     "output_type": "stream",
     "text": [
      "                   all        103        139       0.94      0.913      0.952      0.905\n"
     ]
    },
    {
     "name": "stderr",
     "output_type": "stream",
     "text": [
      "\n"
     ]
    },
    {
     "name": "stdout",
     "output_type": "stream",
     "text": [
      "\n",
      "      Epoch    GPU_mem   box_loss   cls_loss   dfl_loss  Instances       Size\n"
     ]
    },
    {
     "name": "stderr",
     "output_type": "stream",
     "text": [
      "     56/100      17.9G     0.6515     0.4037      1.916          8        640: 100%|██████████| 33/33 [00:07<00:00,  4.60it/s]\n",
      "                 Class     Images  Instances      Box(P          R      mAP50  mAP50-95): 100%|██████████| 4/4 [00:00<00:00,  9.34it/s]"
     ]
    },
    {
     "name": "stdout",
     "output_type": "stream",
     "text": [
      "                   all        103        139      0.948      0.857      0.929      0.889\n"
     ]
    },
    {
     "name": "stderr",
     "output_type": "stream",
     "text": [
      "\n"
     ]
    },
    {
     "name": "stdout",
     "output_type": "stream",
     "text": [
      "\n",
      "      Epoch    GPU_mem   box_loss   cls_loss   dfl_loss  Instances       Size\n"
     ]
    },
    {
     "name": "stderr",
     "output_type": "stream",
     "text": [
      "     57/100      17.9G     0.6137     0.3813      1.876         12        640: 100%|██████████| 33/33 [00:07<00:00,  4.61it/s]\n",
      "                 Class     Images  Instances      Box(P          R      mAP50  mAP50-95): 100%|██████████| 4/4 [00:00<00:00,  9.28it/s]"
     ]
    },
    {
     "name": "stdout",
     "output_type": "stream",
     "text": [
      "                   all        103        139      0.974      0.863      0.935      0.898\n"
     ]
    },
    {
     "name": "stderr",
     "output_type": "stream",
     "text": [
      "\n"
     ]
    },
    {
     "name": "stdout",
     "output_type": "stream",
     "text": [
      "\n",
      "      Epoch    GPU_mem   box_loss   cls_loss   dfl_loss  Instances       Size\n"
     ]
    },
    {
     "name": "stderr",
     "output_type": "stream",
     "text": [
      "     58/100      17.9G     0.5912      0.368      1.838         12        640: 100%|██████████| 33/33 [00:07<00:00,  4.62it/s]\n",
      "                 Class     Images  Instances      Box(P          R      mAP50  mAP50-95): 100%|██████████| 4/4 [00:00<00:00,  9.32it/s]"
     ]
    },
    {
     "name": "stdout",
     "output_type": "stream",
     "text": [
      "                   all        103        139       0.94      0.915      0.965      0.916\n"
     ]
    },
    {
     "name": "stderr",
     "output_type": "stream",
     "text": [
      "\n"
     ]
    },
    {
     "name": "stdout",
     "output_type": "stream",
     "text": [
      "\n",
      "      Epoch    GPU_mem   box_loss   cls_loss   dfl_loss  Instances       Size\n"
     ]
    },
    {
     "name": "stderr",
     "output_type": "stream",
     "text": [
      "     59/100      17.9G     0.6197     0.3792      1.876          7        640: 100%|██████████| 33/33 [00:07<00:00,  4.62it/s]\n",
      "                 Class     Images  Instances      Box(P          R      mAP50  mAP50-95): 100%|██████████| 4/4 [00:00<00:00,  9.32it/s]"
     ]
    },
    {
     "name": "stdout",
     "output_type": "stream",
     "text": [
      "                   all        103        139      0.924      0.912      0.956      0.911\n"
     ]
    },
    {
     "name": "stderr",
     "output_type": "stream",
     "text": [
      "\n"
     ]
    },
    {
     "name": "stdout",
     "output_type": "stream",
     "text": [
      "\n",
      "      Epoch    GPU_mem   box_loss   cls_loss   dfl_loss  Instances       Size\n"
     ]
    },
    {
     "name": "stderr",
     "output_type": "stream",
     "text": [
      "     60/100      17.9G     0.5781     0.3799      1.841          5        640: 100%|██████████| 33/33 [00:07<00:00,  4.60it/s]\n",
      "                 Class     Images  Instances      Box(P          R      mAP50  mAP50-95): 100%|██████████| 4/4 [00:00<00:00,  9.30it/s]"
     ]
    },
    {
     "name": "stdout",
     "output_type": "stream",
     "text": [
      "                   all        103        139      0.936       0.91      0.947      0.901\n"
     ]
    },
    {
     "name": "stderr",
     "output_type": "stream",
     "text": [
      "\n"
     ]
    },
    {
     "name": "stdout",
     "output_type": "stream",
     "text": [
      "\n",
      "      Epoch    GPU_mem   box_loss   cls_loss   dfl_loss  Instances       Size\n"
     ]
    },
    {
     "name": "stderr",
     "output_type": "stream",
     "text": [
      "     61/100      17.9G     0.6081     0.3883      1.864          6        640: 100%|██████████| 33/33 [00:07<00:00,  4.60it/s]\n",
      "                 Class     Images  Instances      Box(P          R      mAP50  mAP50-95): 100%|██████████| 4/4 [00:00<00:00,  9.31it/s]"
     ]
    },
    {
     "name": "stdout",
     "output_type": "stream",
     "text": [
      "                   all        103        139      0.896      0.928      0.952      0.901\n"
     ]
    },
    {
     "name": "stderr",
     "output_type": "stream",
     "text": [
      "\n"
     ]
    },
    {
     "name": "stdout",
     "output_type": "stream",
     "text": [
      "\n",
      "      Epoch    GPU_mem   box_loss   cls_loss   dfl_loss  Instances       Size\n"
     ]
    },
    {
     "name": "stderr",
     "output_type": "stream",
     "text": [
      "     62/100      17.9G     0.5867     0.3513      1.862          7        640: 100%|██████████| 33/33 [00:07<00:00,  4.61it/s]\n",
      "                 Class     Images  Instances      Box(P          R      mAP50  mAP50-95): 100%|██████████| 4/4 [00:00<00:00,  9.33it/s]"
     ]
    },
    {
     "name": "stdout",
     "output_type": "stream",
     "text": [
      "                   all        103        139      0.924      0.904      0.944      0.899\n"
     ]
    },
    {
     "name": "stderr",
     "output_type": "stream",
     "text": [
      "\n"
     ]
    },
    {
     "name": "stdout",
     "output_type": "stream",
     "text": [
      "\n",
      "      Epoch    GPU_mem   box_loss   cls_loss   dfl_loss  Instances       Size\n"
     ]
    },
    {
     "name": "stderr",
     "output_type": "stream",
     "text": [
      "     63/100      17.9G     0.6138      0.396      1.878          6        640: 100%|██████████| 33/33 [00:07<00:00,  4.61it/s]\n",
      "                 Class     Images  Instances      Box(P          R      mAP50  mAP50-95): 100%|██████████| 4/4 [00:00<00:00,  9.29it/s]"
     ]
    },
    {
     "name": "stdout",
     "output_type": "stream",
     "text": [
      "                   all        103        139      0.931      0.902      0.946      0.904\n"
     ]
    },
    {
     "name": "stderr",
     "output_type": "stream",
     "text": [
      "\n"
     ]
    },
    {
     "name": "stdout",
     "output_type": "stream",
     "text": [
      "\n",
      "      Epoch    GPU_mem   box_loss   cls_loss   dfl_loss  Instances       Size\n"
     ]
    },
    {
     "name": "stderr",
     "output_type": "stream",
     "text": [
      "     64/100      17.9G     0.6265      0.416      1.882         13        640: 100%|██████████| 33/33 [00:07<00:00,  4.60it/s]\n",
      "                 Class     Images  Instances      Box(P          R      mAP50  mAP50-95): 100%|██████████| 4/4 [00:00<00:00,  9.32it/s]"
     ]
    },
    {
     "name": "stdout",
     "output_type": "stream",
     "text": [
      "                   all        103        139      0.941      0.896      0.942      0.899\n"
     ]
    },
    {
     "name": "stderr",
     "output_type": "stream",
     "text": [
      "\n"
     ]
    },
    {
     "name": "stdout",
     "output_type": "stream",
     "text": [
      "\n",
      "      Epoch    GPU_mem   box_loss   cls_loss   dfl_loss  Instances       Size\n"
     ]
    },
    {
     "name": "stderr",
     "output_type": "stream",
     "text": [
      "     65/100      17.9G     0.5836     0.3852       1.85          6        640: 100%|██████████| 33/33 [00:07<00:00,  4.61it/s]\n",
      "                 Class     Images  Instances      Box(P          R      mAP50  mAP50-95): 100%|██████████| 4/4 [00:00<00:00,  9.35it/s]"
     ]
    },
    {
     "name": "stdout",
     "output_type": "stream",
     "text": [
      "                   all        103        139      0.951      0.906       0.95      0.901\n"
     ]
    },
    {
     "name": "stderr",
     "output_type": "stream",
     "text": [
      "\n"
     ]
    },
    {
     "name": "stdout",
     "output_type": "stream",
     "text": [
      "\n",
      "      Epoch    GPU_mem   box_loss   cls_loss   dfl_loss  Instances       Size\n"
     ]
    },
    {
     "name": "stderr",
     "output_type": "stream",
     "text": [
      "     66/100      17.9G     0.5954     0.3819      1.866         16        640: 100%|██████████| 33/33 [00:07<00:00,  4.60it/s]\n",
      "                 Class     Images  Instances      Box(P          R      mAP50  mAP50-95): 100%|██████████| 4/4 [00:00<00:00,  9.31it/s]"
     ]
    },
    {
     "name": "stdout",
     "output_type": "stream",
     "text": [
      "                   all        103        139      0.964      0.912      0.963       0.91\n"
     ]
    },
    {
     "name": "stderr",
     "output_type": "stream",
     "text": [
      "\n"
     ]
    },
    {
     "name": "stdout",
     "output_type": "stream",
     "text": [
      "\n",
      "      Epoch    GPU_mem   box_loss   cls_loss   dfl_loss  Instances       Size\n"
     ]
    },
    {
     "name": "stderr",
     "output_type": "stream",
     "text": [
      "     67/100      17.9G     0.5709      0.352      1.837          7        640: 100%|██████████| 33/33 [00:07<00:00,  4.61it/s]\n",
      "                 Class     Images  Instances      Box(P          R      mAP50  mAP50-95): 100%|██████████| 4/4 [00:00<00:00,  9.32it/s]"
     ]
    },
    {
     "name": "stdout",
     "output_type": "stream",
     "text": [
      "                   all        103        139      0.962      0.916      0.958      0.913\n"
     ]
    },
    {
     "name": "stderr",
     "output_type": "stream",
     "text": [
      "\n"
     ]
    },
    {
     "name": "stdout",
     "output_type": "stream",
     "text": [
      "\n",
      "      Epoch    GPU_mem   box_loss   cls_loss   dfl_loss  Instances       Size\n"
     ]
    },
    {
     "name": "stderr",
     "output_type": "stream",
     "text": [
      "     68/100      17.9G     0.5792     0.3752       1.82          8        640: 100%|██████████| 33/33 [00:07<00:00,  4.61it/s]\n",
      "                 Class     Images  Instances      Box(P          R      mAP50  mAP50-95): 100%|██████████| 4/4 [00:00<00:00,  9.31it/s]"
     ]
    },
    {
     "name": "stdout",
     "output_type": "stream",
     "text": [
      "                   all        103        139       0.94      0.943      0.966      0.923\n"
     ]
    },
    {
     "name": "stderr",
     "output_type": "stream",
     "text": [
      "\n"
     ]
    },
    {
     "name": "stdout",
     "output_type": "stream",
     "text": [
      "\n",
      "      Epoch    GPU_mem   box_loss   cls_loss   dfl_loss  Instances       Size\n"
     ]
    },
    {
     "name": "stderr",
     "output_type": "stream",
     "text": [
      "     69/100      17.9G      0.588     0.3517      1.856          9        640: 100%|██████████| 33/33 [00:07<00:00,  4.61it/s]\n",
      "                 Class     Images  Instances      Box(P          R      mAP50  mAP50-95): 100%|██████████| 4/4 [00:00<00:00,  9.32it/s]"
     ]
    },
    {
     "name": "stdout",
     "output_type": "stream",
     "text": [
      "                   all        103        139      0.965       0.89      0.954      0.913\n"
     ]
    },
    {
     "name": "stderr",
     "output_type": "stream",
     "text": [
      "\n"
     ]
    },
    {
     "name": "stdout",
     "output_type": "stream",
     "text": [
      "\n",
      "      Epoch    GPU_mem   box_loss   cls_loss   dfl_loss  Instances       Size\n"
     ]
    },
    {
     "name": "stderr",
     "output_type": "stream",
     "text": [
      "     70/100      17.9G     0.5536     0.3258      1.849          6        640: 100%|██████████| 33/33 [00:07<00:00,  4.62it/s]\n",
      "                 Class     Images  Instances      Box(P          R      mAP50  mAP50-95): 100%|██████████| 4/4 [00:00<00:00,  9.30it/s]"
     ]
    },
    {
     "name": "stdout",
     "output_type": "stream",
     "text": [
      "                   all        103        139      0.929      0.936      0.961      0.912\n"
     ]
    },
    {
     "name": "stderr",
     "output_type": "stream",
     "text": [
      "\n"
     ]
    },
    {
     "name": "stdout",
     "output_type": "stream",
     "text": [
      "\n",
      "      Epoch    GPU_mem   box_loss   cls_loss   dfl_loss  Instances       Size\n"
     ]
    },
    {
     "name": "stderr",
     "output_type": "stream",
     "text": [
      "     71/100      17.9G     0.5561     0.3312      1.816          9        640: 100%|██████████| 33/33 [00:07<00:00,  4.61it/s]\n",
      "                 Class     Images  Instances      Box(P          R      mAP50  mAP50-95): 100%|██████████| 4/4 [00:00<00:00,  9.33it/s]"
     ]
    },
    {
     "name": "stdout",
     "output_type": "stream",
     "text": [
      "                   all        103        139      0.946      0.909      0.953      0.917\n"
     ]
    },
    {
     "name": "stderr",
     "output_type": "stream",
     "text": [
      "\n"
     ]
    },
    {
     "name": "stdout",
     "output_type": "stream",
     "text": [
      "\n",
      "      Epoch    GPU_mem   box_loss   cls_loss   dfl_loss  Instances       Size\n"
     ]
    },
    {
     "name": "stderr",
     "output_type": "stream",
     "text": [
      "     72/100      17.9G     0.5522     0.3506      1.826          9        640: 100%|██████████| 33/33 [00:07<00:00,  4.60it/s]\n",
      "                 Class     Images  Instances      Box(P          R      mAP50  mAP50-95): 100%|██████████| 4/4 [00:00<00:00,  9.12it/s]"
     ]
    },
    {
     "name": "stdout",
     "output_type": "stream",
     "text": [
      "                   all        103        139      0.974      0.894      0.959      0.921\n"
     ]
    },
    {
     "name": "stderr",
     "output_type": "stream",
     "text": [
      "\n"
     ]
    },
    {
     "name": "stdout",
     "output_type": "stream",
     "text": [
      "\n",
      "      Epoch    GPU_mem   box_loss   cls_loss   dfl_loss  Instances       Size\n"
     ]
    },
    {
     "name": "stderr",
     "output_type": "stream",
     "text": [
      "     73/100      17.9G     0.5697     0.3533      1.852          9        640: 100%|██████████| 33/33 [00:07<00:00,  4.61it/s]\n",
      "                 Class     Images  Instances      Box(P          R      mAP50  mAP50-95): 100%|██████████| 4/4 [00:00<00:00,  9.29it/s]"
     ]
    },
    {
     "name": "stdout",
     "output_type": "stream",
     "text": [
      "                   all        103        139      0.974      0.893      0.947      0.914\n"
     ]
    },
    {
     "name": "stderr",
     "output_type": "stream",
     "text": [
      "\n"
     ]
    },
    {
     "name": "stdout",
     "output_type": "stream",
     "text": [
      "\n",
      "      Epoch    GPU_mem   box_loss   cls_loss   dfl_loss  Instances       Size\n"
     ]
    },
    {
     "name": "stderr",
     "output_type": "stream",
     "text": [
      "     74/100      17.9G     0.5767     0.3826      1.844          6        640: 100%|██████████| 33/33 [00:07<00:00,  4.62it/s]\n",
      "                 Class     Images  Instances      Box(P          R      mAP50  mAP50-95): 100%|██████████| 4/4 [00:00<00:00,  9.30it/s]"
     ]
    },
    {
     "name": "stdout",
     "output_type": "stream",
     "text": [
      "                   all        103        139       0.96      0.901       0.95      0.912\n"
     ]
    },
    {
     "name": "stderr",
     "output_type": "stream",
     "text": [
      "\n"
     ]
    },
    {
     "name": "stdout",
     "output_type": "stream",
     "text": [
      "\n",
      "      Epoch    GPU_mem   box_loss   cls_loss   dfl_loss  Instances       Size\n"
     ]
    },
    {
     "name": "stderr",
     "output_type": "stream",
     "text": [
      "     75/100      17.9G     0.5374     0.3244      1.835         13        640: 100%|██████████| 33/33 [00:07<00:00,  4.61it/s]\n",
      "                 Class     Images  Instances      Box(P          R      mAP50  mAP50-95): 100%|██████████| 4/4 [00:00<00:00,  9.35it/s]"
     ]
    },
    {
     "name": "stdout",
     "output_type": "stream",
     "text": [
      "                   all        103        139      0.944      0.914      0.949      0.908\n"
     ]
    },
    {
     "name": "stderr",
     "output_type": "stream",
     "text": [
      "\n"
     ]
    },
    {
     "name": "stdout",
     "output_type": "stream",
     "text": [
      "\n",
      "      Epoch    GPU_mem   box_loss   cls_loss   dfl_loss  Instances       Size\n"
     ]
    },
    {
     "name": "stderr",
     "output_type": "stream",
     "text": [
      "     76/100      17.9G     0.5216     0.3118       1.81          7        640: 100%|██████████| 33/33 [00:07<00:00,  4.60it/s]\n",
      "                 Class     Images  Instances      Box(P          R      mAP50  mAP50-95): 100%|██████████| 4/4 [00:00<00:00,  9.31it/s]"
     ]
    },
    {
     "name": "stdout",
     "output_type": "stream",
     "text": [
      "                   all        103        139      0.967       0.89       0.95      0.907\n"
     ]
    },
    {
     "name": "stderr",
     "output_type": "stream",
     "text": [
      "\n"
     ]
    },
    {
     "name": "stdout",
     "output_type": "stream",
     "text": [
      "\n",
      "      Epoch    GPU_mem   box_loss   cls_loss   dfl_loss  Instances       Size\n"
     ]
    },
    {
     "name": "stderr",
     "output_type": "stream",
     "text": [
      "     77/100      17.9G     0.5722      0.354      1.833         13        640: 100%|██████████| 33/33 [00:07<00:00,  4.62it/s]\n",
      "                 Class     Images  Instances      Box(P          R      mAP50  mAP50-95): 100%|██████████| 4/4 [00:00<00:00,  9.33it/s]"
     ]
    },
    {
     "name": "stdout",
     "output_type": "stream",
     "text": [
      "                   all        103        139      0.948      0.925      0.955      0.912\n"
     ]
    },
    {
     "name": "stderr",
     "output_type": "stream",
     "text": [
      "\n"
     ]
    },
    {
     "name": "stdout",
     "output_type": "stream",
     "text": [
      "\n",
      "      Epoch    GPU_mem   box_loss   cls_loss   dfl_loss  Instances       Size\n"
     ]
    },
    {
     "name": "stderr",
     "output_type": "stream",
     "text": [
      "     78/100      17.9G     0.5135     0.3134      1.785         14        640: 100%|██████████| 33/33 [00:07<00:00,  4.61it/s]\n",
      "                 Class     Images  Instances      Box(P          R      mAP50  mAP50-95): 100%|██████████| 4/4 [00:00<00:00,  9.18it/s]"
     ]
    },
    {
     "name": "stdout",
     "output_type": "stream",
     "text": [
      "                   all        103        139      0.951      0.917      0.953      0.917\n"
     ]
    },
    {
     "name": "stderr",
     "output_type": "stream",
     "text": [
      "\n"
     ]
    },
    {
     "name": "stdout",
     "output_type": "stream",
     "text": [
      "\n",
      "      Epoch    GPU_mem   box_loss   cls_loss   dfl_loss  Instances       Size\n"
     ]
    },
    {
     "name": "stderr",
     "output_type": "stream",
     "text": [
      "     79/100      17.9G     0.5212     0.3266      1.807         12        640: 100%|██████████| 33/33 [00:07<00:00,  4.62it/s]\n",
      "                 Class     Images  Instances      Box(P          R      mAP50  mAP50-95): 100%|██████████| 4/4 [00:00<00:00,  9.32it/s]"
     ]
    },
    {
     "name": "stdout",
     "output_type": "stream",
     "text": [
      "                   all        103        139      0.955      0.923      0.952      0.916\n"
     ]
    },
    {
     "name": "stderr",
     "output_type": "stream",
     "text": [
      "\n"
     ]
    },
    {
     "name": "stdout",
     "output_type": "stream",
     "text": [
      "\n",
      "      Epoch    GPU_mem   box_loss   cls_loss   dfl_loss  Instances       Size\n"
     ]
    },
    {
     "name": "stderr",
     "output_type": "stream",
     "text": [
      "     80/100      17.9G     0.5252     0.3228      1.817         11        640: 100%|██████████| 33/33 [00:07<00:00,  4.60it/s]\n",
      "                 Class     Images  Instances      Box(P          R      mAP50  mAP50-95): 100%|██████████| 4/4 [00:00<00:00,  9.24it/s]"
     ]
    },
    {
     "name": "stdout",
     "output_type": "stream",
     "text": [
      "                   all        103        139      0.953      0.921      0.955      0.922\n"
     ]
    },
    {
     "name": "stderr",
     "output_type": "stream",
     "text": [
      "\n"
     ]
    },
    {
     "name": "stdout",
     "output_type": "stream",
     "text": [
      "\n",
      "      Epoch    GPU_mem   box_loss   cls_loss   dfl_loss  Instances       Size\n"
     ]
    },
    {
     "name": "stderr",
     "output_type": "stream",
     "text": [
      "     81/100      17.9G     0.5414     0.3208      1.831          9        640: 100%|██████████| 33/33 [00:07<00:00,  4.61it/s]\n",
      "                 Class     Images  Instances      Box(P          R      mAP50  mAP50-95): 100%|██████████| 4/4 [00:00<00:00,  9.28it/s]"
     ]
    },
    {
     "name": "stdout",
     "output_type": "stream",
     "text": [
      "                   all        103        139      0.974      0.907      0.963      0.927\n"
     ]
    },
    {
     "name": "stderr",
     "output_type": "stream",
     "text": [
      "\n"
     ]
    },
    {
     "name": "stdout",
     "output_type": "stream",
     "text": [
      "\n",
      "      Epoch    GPU_mem   box_loss   cls_loss   dfl_loss  Instances       Size\n"
     ]
    },
    {
     "name": "stderr",
     "output_type": "stream",
     "text": [
      "     82/100      17.9G     0.5534     0.3158      1.861          5        640: 100%|██████████| 33/33 [00:07<00:00,  4.61it/s]\n",
      "                 Class     Images  Instances      Box(P          R      mAP50  mAP50-95): 100%|██████████| 4/4 [00:00<00:00,  9.31it/s]"
     ]
    },
    {
     "name": "stdout",
     "output_type": "stream",
     "text": [
      "                   all        103        139      0.987      0.883      0.952      0.919\n"
     ]
    },
    {
     "name": "stderr",
     "output_type": "stream",
     "text": [
      "\n"
     ]
    },
    {
     "name": "stdout",
     "output_type": "stream",
     "text": [
      "\n",
      "      Epoch    GPU_mem   box_loss   cls_loss   dfl_loss  Instances       Size\n"
     ]
    },
    {
     "name": "stderr",
     "output_type": "stream",
     "text": [
      "     83/100      17.9G     0.5201     0.3082      1.811          8        640: 100%|██████████| 33/33 [00:07<00:00,  4.62it/s]\n",
      "                 Class     Images  Instances      Box(P          R      mAP50  mAP50-95): 100%|██████████| 4/4 [00:00<00:00,  9.33it/s]"
     ]
    },
    {
     "name": "stdout",
     "output_type": "stream",
     "text": [
      "                   all        103        139      0.964      0.894      0.951      0.918\n"
     ]
    },
    {
     "name": "stderr",
     "output_type": "stream",
     "text": [
      "\n"
     ]
    },
    {
     "name": "stdout",
     "output_type": "stream",
     "text": [
      "\n",
      "      Epoch    GPU_mem   box_loss   cls_loss   dfl_loss  Instances       Size\n"
     ]
    },
    {
     "name": "stderr",
     "output_type": "stream",
     "text": [
      "     84/100      17.9G     0.5365     0.3188      1.814         13        640: 100%|██████████| 33/33 [00:07<00:00,  4.60it/s]\n",
      "                 Class     Images  Instances      Box(P          R      mAP50  mAP50-95): 100%|██████████| 4/4 [00:00<00:00,  9.22it/s]"
     ]
    },
    {
     "name": "stdout",
     "output_type": "stream",
     "text": [
      "                   all        103        139      0.947      0.923      0.958       0.92\n"
     ]
    },
    {
     "name": "stderr",
     "output_type": "stream",
     "text": [
      "\n"
     ]
    },
    {
     "name": "stdout",
     "output_type": "stream",
     "text": [
      "\n",
      "      Epoch    GPU_mem   box_loss   cls_loss   dfl_loss  Instances       Size\n"
     ]
    },
    {
     "name": "stderr",
     "output_type": "stream",
     "text": [
      "     85/100      17.9G     0.5371     0.3309      1.817          9        640: 100%|██████████| 33/33 [00:07<00:00,  4.62it/s]\n",
      "                 Class     Images  Instances      Box(P          R      mAP50  mAP50-95): 100%|██████████| 4/4 [00:00<00:00,  9.33it/s]"
     ]
    },
    {
     "name": "stdout",
     "output_type": "stream",
     "text": [
      "                   all        103        139      0.956      0.927      0.963      0.926\n"
     ]
    },
    {
     "name": "stderr",
     "output_type": "stream",
     "text": [
      "\n"
     ]
    },
    {
     "name": "stdout",
     "output_type": "stream",
     "text": [
      "\n",
      "      Epoch    GPU_mem   box_loss   cls_loss   dfl_loss  Instances       Size\n"
     ]
    },
    {
     "name": "stderr",
     "output_type": "stream",
     "text": [
      "     86/100      17.9G     0.5477     0.3078      1.834          7        640: 100%|██████████| 33/33 [00:07<00:00,  4.61it/s]\n",
      "                 Class     Images  Instances      Box(P          R      mAP50  mAP50-95): 100%|██████████| 4/4 [00:00<00:00,  9.28it/s]"
     ]
    },
    {
     "name": "stdout",
     "output_type": "stream",
     "text": [
      "                   all        103        139      0.963      0.918      0.962      0.926\n"
     ]
    },
    {
     "name": "stderr",
     "output_type": "stream",
     "text": [
      "\n"
     ]
    },
    {
     "name": "stdout",
     "output_type": "stream",
     "text": [
      "\n",
      "      Epoch    GPU_mem   box_loss   cls_loss   dfl_loss  Instances       Size\n"
     ]
    },
    {
     "name": "stderr",
     "output_type": "stream",
     "text": [
      "     87/100      17.9G     0.4885     0.2853       1.78         11        640: 100%|██████████| 33/33 [00:07<00:00,  4.61it/s]\n",
      "                 Class     Images  Instances      Box(P          R      mAP50  mAP50-95): 100%|██████████| 4/4 [00:00<00:00,  9.32it/s]"
     ]
    },
    {
     "name": "stdout",
     "output_type": "stream",
     "text": [
      "                   all        103        139      0.948      0.931      0.957      0.923\n"
     ]
    },
    {
     "name": "stderr",
     "output_type": "stream",
     "text": [
      "\n"
     ]
    },
    {
     "name": "stdout",
     "output_type": "stream",
     "text": [
      "\n",
      "      Epoch    GPU_mem   box_loss   cls_loss   dfl_loss  Instances       Size\n"
     ]
    },
    {
     "name": "stderr",
     "output_type": "stream",
     "text": [
      "     88/100      17.9G     0.4904     0.2875      1.798         12        640: 100%|██████████| 33/33 [00:07<00:00,  4.60it/s]\n",
      "                 Class     Images  Instances      Box(P          R      mAP50  mAP50-95): 100%|██████████| 4/4 [00:00<00:00,  9.24it/s]"
     ]
    },
    {
     "name": "stdout",
     "output_type": "stream",
     "text": [
      "                   all        103        139      0.959      0.925      0.962      0.926\n"
     ]
    },
    {
     "name": "stderr",
     "output_type": "stream",
     "text": [
      "\n"
     ]
    },
    {
     "name": "stdout",
     "output_type": "stream",
     "text": [
      "\n",
      "      Epoch    GPU_mem   box_loss   cls_loss   dfl_loss  Instances       Size\n"
     ]
    },
    {
     "name": "stderr",
     "output_type": "stream",
     "text": [
      "     89/100      17.9G     0.5131     0.2958      1.802          9        640: 100%|██████████| 33/33 [00:07<00:00,  4.62it/s]\n",
      "                 Class     Images  Instances      Box(P          R      mAP50  mAP50-95): 100%|██████████| 4/4 [00:00<00:00,  9.32it/s]"
     ]
    },
    {
     "name": "stdout",
     "output_type": "stream",
     "text": [
      "                   all        103        139      0.958      0.927      0.957      0.921\n"
     ]
    },
    {
     "name": "stderr",
     "output_type": "stream",
     "text": [
      "\n"
     ]
    },
    {
     "name": "stdout",
     "output_type": "stream",
     "text": [
      "\n",
      "      Epoch    GPU_mem   box_loss   cls_loss   dfl_loss  Instances       Size\n"
     ]
    },
    {
     "name": "stderr",
     "output_type": "stream",
     "text": [
      "     90/100      17.9G     0.5055     0.3138      1.825          6        640: 100%|██████████| 33/33 [00:07<00:00,  4.61it/s]\n",
      "                 Class     Images  Instances      Box(P          R      mAP50  mAP50-95): 100%|██████████| 4/4 [00:00<00:00,  9.35it/s]"
     ]
    },
    {
     "name": "stdout",
     "output_type": "stream",
     "text": [
      "                   all        103        139      0.933      0.925      0.954      0.919\n"
     ]
    },
    {
     "name": "stderr",
     "output_type": "stream",
     "text": [
      "\n"
     ]
    },
    {
     "name": "stdout",
     "output_type": "stream",
     "text": [
      "Closing dataloader mosaic\n",
      "\n",
      "      Epoch    GPU_mem   box_loss   cls_loss   dfl_loss  Instances       Size\n"
     ]
    },
    {
     "name": "stderr",
     "output_type": "stream",
     "text": [
      "     91/100      17.9G     0.3164     0.1934      1.586          4        640: 100%|██████████| 33/33 [00:07<00:00,  4.16it/s]\n",
      "                 Class     Images  Instances      Box(P          R      mAP50  mAP50-95): 100%|██████████| 4/4 [00:00<00:00,  9.28it/s]"
     ]
    },
    {
     "name": "stdout",
     "output_type": "stream",
     "text": [
      "                   all        103        139      0.953      0.934      0.961      0.921\n"
     ]
    },
    {
     "name": "stderr",
     "output_type": "stream",
     "text": [
      "\n"
     ]
    },
    {
     "name": "stdout",
     "output_type": "stream",
     "text": [
      "\n",
      "      Epoch    GPU_mem   box_loss   cls_loss   dfl_loss  Instances       Size\n"
     ]
    },
    {
     "name": "stderr",
     "output_type": "stream",
     "text": [
      "     92/100      17.9G     0.3008     0.1783      1.577          5        640: 100%|██████████| 33/33 [00:07<00:00,  4.60it/s]\n",
      "                 Class     Images  Instances      Box(P          R      mAP50  mAP50-95): 100%|██████████| 4/4 [00:00<00:00,  9.29it/s]"
     ]
    },
    {
     "name": "stdout",
     "output_type": "stream",
     "text": [
      "                   all        103        139       0.96      0.921      0.963      0.925\n"
     ]
    },
    {
     "name": "stderr",
     "output_type": "stream",
     "text": [
      "\n"
     ]
    },
    {
     "name": "stdout",
     "output_type": "stream",
     "text": [
      "\n",
      "      Epoch    GPU_mem   box_loss   cls_loss   dfl_loss  Instances       Size\n"
     ]
    },
    {
     "name": "stderr",
     "output_type": "stream",
     "text": [
      "     93/100      17.9G      0.302     0.1893      1.576          4        640: 100%|██████████| 33/33 [00:07<00:00,  4.62it/s]\n",
      "                 Class     Images  Instances      Box(P          R      mAP50  mAP50-95): 100%|██████████| 4/4 [00:00<00:00,  9.32it/s]"
     ]
    },
    {
     "name": "stdout",
     "output_type": "stream",
     "text": [
      "                   all        103        139      0.954       0.93      0.962      0.927\n"
     ]
    },
    {
     "name": "stderr",
     "output_type": "stream",
     "text": [
      "\n"
     ]
    },
    {
     "name": "stdout",
     "output_type": "stream",
     "text": [
      "\n",
      "      Epoch    GPU_mem   box_loss   cls_loss   dfl_loss  Instances       Size\n"
     ]
    },
    {
     "name": "stderr",
     "output_type": "stream",
     "text": [
      "     94/100      17.9G     0.3028      0.183      1.593          4        640: 100%|██████████| 33/33 [00:07<00:00,  4.61it/s]\n",
      "                 Class     Images  Instances      Box(P          R      mAP50  mAP50-95): 100%|██████████| 4/4 [00:00<00:00,  9.29it/s]"
     ]
    },
    {
     "name": "stdout",
     "output_type": "stream",
     "text": [
      "                   all        103        139      0.964      0.921      0.963      0.928\n"
     ]
    },
    {
     "name": "stderr",
     "output_type": "stream",
     "text": [
      "\n"
     ]
    },
    {
     "name": "stdout",
     "output_type": "stream",
     "text": [
      "\n",
      "      Epoch    GPU_mem   box_loss   cls_loss   dfl_loss  Instances       Size\n"
     ]
    },
    {
     "name": "stderr",
     "output_type": "stream",
     "text": [
      "     95/100      17.9G     0.2924     0.1862      1.558          5        640: 100%|██████████| 33/33 [00:07<00:00,  4.62it/s]\n",
      "                 Class     Images  Instances      Box(P          R      mAP50  mAP50-95): 100%|██████████| 4/4 [00:00<00:00,  9.33it/s]"
     ]
    },
    {
     "name": "stdout",
     "output_type": "stream",
     "text": [
      "                   all        103        139      0.967      0.938      0.964      0.931\n"
     ]
    },
    {
     "name": "stderr",
     "output_type": "stream",
     "text": [
      "\n"
     ]
    },
    {
     "name": "stdout",
     "output_type": "stream",
     "text": [
      "\n",
      "      Epoch    GPU_mem   box_loss   cls_loss   dfl_loss  Instances       Size\n"
     ]
    },
    {
     "name": "stderr",
     "output_type": "stream",
     "text": [
      "     96/100      17.9G     0.2999     0.1936      1.579          6        640: 100%|██████████| 33/33 [00:07<00:00,  4.60it/s]\n",
      "                 Class     Images  Instances      Box(P          R      mAP50  mAP50-95): 100%|██████████| 4/4 [00:00<00:00,  9.30it/s]"
     ]
    },
    {
     "name": "stdout",
     "output_type": "stream",
     "text": [
      "                   all        103        139      0.948      0.946      0.964      0.928\n"
     ]
    },
    {
     "name": "stderr",
     "output_type": "stream",
     "text": [
      "\n"
     ]
    },
    {
     "name": "stdout",
     "output_type": "stream",
     "text": [
      "\n",
      "      Epoch    GPU_mem   box_loss   cls_loss   dfl_loss  Instances       Size\n"
     ]
    },
    {
     "name": "stderr",
     "output_type": "stream",
     "text": [
      "     97/100      17.9G     0.2763     0.1647      1.564          4        640: 100%|██████████| 33/33 [00:07<00:00,  4.62it/s]\n",
      "                 Class     Images  Instances      Box(P          R      mAP50  mAP50-95): 100%|██████████| 4/4 [00:00<00:00,  9.34it/s]"
     ]
    },
    {
     "name": "stdout",
     "output_type": "stream",
     "text": [
      "                   all        103        139      0.952      0.939      0.965       0.93\n"
     ]
    },
    {
     "name": "stderr",
     "output_type": "stream",
     "text": [
      "\n"
     ]
    },
    {
     "name": "stdout",
     "output_type": "stream",
     "text": [
      "\n",
      "      Epoch    GPU_mem   box_loss   cls_loss   dfl_loss  Instances       Size\n"
     ]
    },
    {
     "name": "stderr",
     "output_type": "stream",
     "text": [
      "     98/100      17.9G     0.2789     0.1703      1.573          5        640: 100%|██████████| 33/33 [00:07<00:00,  4.60it/s]\n",
      "                 Class     Images  Instances      Box(P          R      mAP50  mAP50-95): 100%|██████████| 4/4 [00:00<00:00,  8.96it/s]"
     ]
    },
    {
     "name": "stdout",
     "output_type": "stream",
     "text": [
      "                   all        103        139      0.957      0.944      0.965      0.928\n"
     ]
    },
    {
     "name": "stderr",
     "output_type": "stream",
     "text": [
      "\n"
     ]
    },
    {
     "name": "stdout",
     "output_type": "stream",
     "text": [
      "\n",
      "      Epoch    GPU_mem   box_loss   cls_loss   dfl_loss  Instances       Size\n"
     ]
    },
    {
     "name": "stderr",
     "output_type": "stream",
     "text": [
      "     99/100      17.9G     0.2745     0.1812      1.562          4        640: 100%|██████████| 33/33 [00:07<00:00,  4.61it/s]\n",
      "                 Class     Images  Instances      Box(P          R      mAP50  mAP50-95): 100%|██████████| 4/4 [00:00<00:00,  9.33it/s]"
     ]
    },
    {
     "name": "stdout",
     "output_type": "stream",
     "text": [
      "                   all        103        139      0.957      0.945      0.964      0.927\n"
     ]
    },
    {
     "name": "stderr",
     "output_type": "stream",
     "text": [
      "\n"
     ]
    },
    {
     "name": "stdout",
     "output_type": "stream",
     "text": [
      "\n",
      "      Epoch    GPU_mem   box_loss   cls_loss   dfl_loss  Instances       Size\n"
     ]
    },
    {
     "name": "stderr",
     "output_type": "stream",
     "text": [
      "    100/100      17.9G     0.2705     0.1587      1.582          4        640: 100%|██████████| 33/33 [00:07<00:00,  4.60it/s]\n",
      "                 Class     Images  Instances      Box(P          R      mAP50  mAP50-95): 100%|██████████| 4/4 [00:00<00:00,  9.33it/s]"
     ]
    },
    {
     "name": "stdout",
     "output_type": "stream",
     "text": [
      "                   all        103        139      0.954      0.946      0.964      0.927\n"
     ]
    },
    {
     "name": "stderr",
     "output_type": "stream",
     "text": [
      "\n"
     ]
    },
    {
     "name": "stdout",
     "output_type": "stream",
     "text": [
      "\n",
      "100 epochs completed in 0.234 hours.\n",
      "Optimizer stripped from runs/PID2/CID0/v10x/weights/last.pt, 64.1MB\n",
      "Optimizer stripped from runs/PID2/CID0/v10x/weights/best.pt, 64.1MB\n",
      "\n",
      "Validating runs/PID2/CID0/v10x/weights/best.pt...\n",
      "Ultralytics 8.3.31 🚀 Python-3.8.20 torch-2.4.1+cu121 CUDA:0 (NVIDIA GeForce RTX 4090, 24184MiB)\n",
      "YOLOv10x summary (fused): 503 layers, 31,587,932 parameters, 0 gradients, 169.8 GFLOPs\n"
     ]
    },
    {
     "name": "stderr",
     "output_type": "stream",
     "text": [
      "                 Class     Images  Instances      Box(P          R      mAP50  mAP50-95): 100%|██████████| 4/4 [00:00<00:00,  8.41it/s]\n"
     ]
    },
    {
     "name": "stdout",
     "output_type": "stream",
     "text": [
      "                   all        103        139      0.967      0.937      0.964       0.93\n",
      "                 fruit         65         83      0.974      0.988      0.991      0.962\n",
      "                flower         38         56      0.961      0.886      0.937      0.899\n",
      "Speed: 0.1ms preprocess, 3.1ms inference, 0.0ms loss, 0.0ms postprocess per image\n",
      "Saving runs/PID2/CID0/v10x/predictions.json...\n",
      "Results saved to \u001b[1mruns/PID2/CID0/v10x\u001b[0m\n"
     ]
    }
   ],
   "source": [
    "# 모델 학습\n",
    "results = model.train(**train_params)"
   ]
  },
  {
   "cell_type": "markdown",
   "metadata": {},
   "source": [
    "# Validation set"
   ]
  },
  {
   "cell_type": "code",
   "execution_count": 6,
   "metadata": {},
   "outputs": [],
   "source": [
    "from ultralytics import YOLO\n",
    "best_model = YOLO(f\"{train_params['project']}/{train_params['name']}/weights/best.pt\")\n",
    "\n",
    "# validation 파라미터 설정\n",
    "val_params = {\n",
    "    'data': train_params['data'],\n",
    "    'batch': train_params['batch'],\n",
    "    'conf': train_params['conf'],\n",
    "    'save_json': True,\n",
    "    'project': f\"{train_params['project']}/{train_params['name']}\",\n",
    "    'name': 'val_performance',\n",
    "    'split': 'val',                        # 'val', 'test', 'train'\n",
    "    'workers': 0,\n",
    "}"
   ]
  },
  {
   "cell_type": "code",
   "execution_count": 7,
   "metadata": {},
   "outputs": [
    {
     "name": "stdout",
     "output_type": "stream",
     "text": [
      "Ultralytics 8.3.31 🚀 Python-3.8.20 torch-2.4.1+cu121 CUDA:0 (NVIDIA GeForce RTX 4090, 24184MiB)\n",
      "YOLOv10x summary (fused): 503 layers, 31,587,932 parameters, 0 gradients, 169.8 GFLOPs\n"
     ]
    },
    {
     "name": "stderr",
     "output_type": "stream",
     "text": [
      "\u001b[34m\u001b[1mval: \u001b[0mScanning /home/leedh/바탕화면/korean_melon/dataset/valid/labels.cache... 103 images, 0 backgrounds, 0 corrupt: 100%|██████████| 103/103 [00:00<?, ?it/s]\n",
      "                 Class     Images  Instances      Box(P          R      mAP50  mAP50-95): 100%|██████████| 7/7 [00:04<00:00,  1.71it/s]\n"
     ]
    },
    {
     "name": "stdout",
     "output_type": "stream",
     "text": [
      "                   all        103        139      0.968      0.938      0.964       0.93\n",
      "                 fruit         65         83      0.974      0.988      0.991      0.962\n",
      "                flower         38         56      0.961      0.887      0.937      0.898\n",
      "Speed: 0.1ms preprocess, 5.1ms inference, 0.0ms loss, 0.0ms postprocess per image\n",
      "Saving runs/PID2/CID0/v10x/val_performance/predictions.json...\n",
      "Results saved to \u001b[1mruns/PID2/CID0/v10x/val_performance\u001b[0m\n"
     ]
    }
   ],
   "source": [
    "# 모델 학습\n",
    "val_results = best_model.val(**val_params)"
   ]
  },
  {
   "cell_type": "code",
   "execution_count": null,
   "metadata": {},
   "outputs": [
    {
     "name": "stdout",
     "output_type": "stream",
     "text": [
      "\n"
     ]
    },
    {
     "name": "stdout",
     "output_type": "stream",
     "text": [
      "image 1/103 /home/leedh/바탕화면/korean_melon/dataset/valid/images/V006_77_0_00_10_01_13_0_b08_20201020_0003_S01_1_jpg.rf.abaaed2999cf725602f3c2c6a43bbb4a.jpg: 480x640 1 fruit, 22.5ms\n",
      "image 2/103 /home/leedh/바탕화면/korean_melon/dataset/valid/images/V006_77_0_00_10_01_13_0_b08_20201020_0008_S01_1_jpg.rf.35faf5aea6be0571827a2dd1b33f27b3.jpg: 480x640 1 fruit, 5.7ms\n",
      "image 3/103 /home/leedh/바탕화면/korean_melon/dataset/valid/images/V006_77_0_00_10_01_13_0_b08_20201020_0025_S01_1_jpg.rf.0fe4486de4a87edc5f21a734b91cbab7.jpg: 480x640 2 fruits, 5.6ms\n",
      "image 4/103 /home/leedh/바탕화면/korean_melon/dataset/valid/images/V006_77_0_00_10_01_13_0_b08_20201020_0026_S01_1_jpg.rf.c3093450d663bf370222670e259b81e6.jpg: 480x640 2 fruits, 5.6ms\n",
      "image 5/103 /home/leedh/바탕화면/korean_melon/dataset/valid/images/V006_77_0_00_10_01_13_0_b08_20201020_0028_S01_1_jpg.rf.a884e50897a70f3ff4bce64620bbe2dd.jpg: 480x640 2 fruits, 5.6ms\n",
      "image 6/103 /home/leedh/바탕화면/korean_melon/dataset/valid/images/V006_77_0_00_10_01_13_0_b08_20201020_0029_S01_1_jpg.rf.661755d95515e3a9dcbf748572b93c63.jpg: 480x640 1 fruit, 5.6ms\n",
      "image 7/103 /home/leedh/바탕화면/korean_melon/dataset/valid/images/V006_77_0_00_10_01_13_0_b08_20201020_0041_S01_1_jpg.rf.23baeed7fa5e8935c4923e804f6cb5d2.jpg: 480x640 1 fruit, 5.6ms\n",
      "image 8/103 /home/leedh/바탕화면/korean_melon/dataset/valid/images/V006_77_0_00_10_01_13_0_b08_20201020_0042_S01_1_jpg.rf.763cf20bb479c47adea79268df9de556.jpg: 480x640 3 fruits, 5.6ms\n",
      "image 9/103 /home/leedh/바탕화면/korean_melon/dataset/valid/images/V006_77_0_00_10_01_13_0_b08_20201020_0049_S01_1_jpg.rf.50590d93dc8ef7079a42e6ecd5a70209.jpg: 480x640 2 fruits, 5.6ms\n",
      "image 10/103 /home/leedh/바탕화면/korean_melon/dataset/valid/images/V006_77_0_00_10_01_13_0_b08_20201020_0054_S01_1_jpg.rf.8483713739a8e7a556105a124e855a8f.jpg: 480x640 1 fruit, 5.6ms\n",
      "image 11/103 /home/leedh/바탕화면/korean_melon/dataset/valid/images/V006_77_0_00_10_01_13_0_b08_20201020_0056_S01_1_jpg.rf.63f91876fef119c2a5e709163e11642c.jpg: 480x640 1 fruit, 5.6ms\n",
      "image 12/103 /home/leedh/바탕화면/korean_melon/dataset/valid/images/V006_77_0_00_10_01_13_0_b08_20201020_0071_S01_1_jpg.rf.6a2ab2cd246874906c5b80a095567be1.jpg: 480x640 1 fruit, 5.6ms\n",
      "image 13/103 /home/leedh/바탕화면/korean_melon/dataset/valid/images/V006_77_0_00_10_01_13_0_b08_20201020_0075_S01_1_jpg.rf.3d00fe2f9607abbb04ffab91bc49b605.jpg: 480x640 3 fruits, 5.6ms\n",
      "image 14/103 /home/leedh/바탕화면/korean_melon/dataset/valid/images/V006_77_0_00_10_01_13_0_b08_20201020_0093_S01_1_jpg.rf.993aee4227a2db57fc1d12caf56c1d64.jpg: 480x640 1 fruit, 5.6ms\n",
      "image 15/103 /home/leedh/바탕화면/korean_melon/dataset/valid/images/V006_77_0_00_10_01_13_0_b09_20201020_0007_S01_1_jpg.rf.90309c086d8014957614bfdbf449d36c.jpg: 320x640 1 fruit, 22.2ms\n",
      "image 16/103 /home/leedh/바탕화면/korean_melon/dataset/valid/images/V006_77_0_00_10_01_13_0_b09_20201020_0011_S01_1_jpg.rf.40763be1a593b82f69bd061d89b1fef0.jpg: 320x640 2 fruits, 4.9ms\n",
      "image 17/103 /home/leedh/바탕화면/korean_melon/dataset/valid/images/V006_77_0_00_10_01_13_0_b09_20201020_0012_S01_1_jpg.rf.e6b731e50d435efcbfb3011532e55609.jpg: 320x640 1 fruit, 4.9ms\n",
      "image 18/103 /home/leedh/바탕화면/korean_melon/dataset/valid/images/V006_77_0_00_10_01_13_0_b09_20201020_0029_S01_1_jpg.rf.5e4d649ca4fbceb3edd4f886e1e9ae10.jpg: 320x640 2 fruits, 4.9ms\n",
      "image 19/103 /home/leedh/바탕화면/korean_melon/dataset/valid/images/V006_77_0_00_10_01_13_0_b09_20201020_0037_S01_1_jpg.rf.40500090d83605647516360a657931ea.jpg: 320x640 1 fruit, 4.9ms\n",
      "image 20/103 /home/leedh/바탕화면/korean_melon/dataset/valid/images/V006_77_0_00_10_01_13_0_b09_20201020_0047_S01_1_jpg.rf.6ac6e3d08b24d874744b4a9cc1ccf9c2.jpg: 320x640 2 fruits, 4.9ms\n",
      "image 21/103 /home/leedh/바탕화면/korean_melon/dataset/valid/images/V006_77_0_00_10_01_13_0_c34_20201020_0013_S01_1_jpg.rf.d489ddce8254654536df1bb731569dcd.jpg: 480x640 1 fruit, 5.9ms\n",
      "image 22/103 /home/leedh/바탕화면/korean_melon/dataset/valid/images/V006_77_0_00_10_01_13_0_c34_20201020_0020_S01_1_jpg.rf.2a818054b63492cd44a787869a95620e.jpg: 480x640 2 fruits, 5.6ms\n",
      "image 23/103 /home/leedh/바탕화면/korean_melon/dataset/valid/images/V006_77_0_00_10_01_13_0_c34_20201020_0022_S01_1_jpg.rf.b60dd88a130ac8766f4b9cb74c9ba156.jpg: 480x640 1 fruit, 5.6ms\n",
      "image 24/103 /home/leedh/바탕화면/korean_melon/dataset/valid/images/V006_77_0_00_10_01_13_0_c34_20201020_0030_S01_1_jpg.rf.4ba84bcb8972109c54d273cfa50902ec.jpg: 480x640 1 fruit, 5.6ms\n",
      "image 25/103 /home/leedh/바탕화면/korean_melon/dataset/valid/images/V006_77_0_00_10_01_13_0_c34_20201020_0051_S01_1_jpg.rf.696168b7023de4ae336249c404e083f3.jpg: 480x640 1 fruit, 5.6ms\n",
      "image 26/103 /home/leedh/바탕화면/korean_melon/dataset/valid/images/V006_77_0_00_10_01_13_0_c34_20201020_0054_S01_1_jpg.rf.02cb4c2c16b69544454b028f2a46132b.jpg: 480x640 1 fruit, 5.6ms\n",
      "image 27/103 /home/leedh/바탕화면/korean_melon/dataset/valid/images/V006_77_0_00_10_01_13_0_c34_20201020_0055_S01_1_jpg.rf.28e097980ad81a8a3972f13c8f46d9b0.jpg: 480x640 1 fruit, 5.6ms\n",
      "image 28/103 /home/leedh/바탕화면/korean_melon/dataset/valid/images/V006_77_0_00_10_01_13_0_c34_20201020_0057_S01_1_jpg.rf.68fe851488d08dd6bd5b630acd967960.jpg: 480x640 1 fruit, 5.6ms\n",
      "image 29/103 /home/leedh/바탕화면/korean_melon/dataset/valid/images/V006_77_0_00_10_01_13_0_c34_20201020_0059_S01_1_jpg.rf.13baa4951bb54d1bb361985065a83174.jpg: 480x640 2 fruits, 5.6ms\n",
      "image 30/103 /home/leedh/바탕화면/korean_melon/dataset/valid/images/V006_77_0_00_10_01_13_0_c34_20201020_0060_S01_1_jpg.rf.17908be7fb381d620b4164eb2ce8fe25.jpg: 480x640 2 fruits, 5.6ms\n",
      "image 31/103 /home/leedh/바탕화면/korean_melon/dataset/valid/images/V006_77_0_00_10_01_13_0_c35_20201020_0011_S01_1_jpg.rf.0cbd912ef1be7b279466486fabe4e1af.jpg: 480x640 1 fruit, 5.6ms\n",
      "image 32/103 /home/leedh/바탕화면/korean_melon/dataset/valid/images/V006_77_0_00_10_01_13_0_c35_20201020_0013_S01_1_jpg.rf.38b802fe5e35d66a5f76dedd60477da7.jpg: 480x640 1 fruit, 5.6ms\n",
      "image 33/103 /home/leedh/바탕화면/korean_melon/dataset/valid/images/V006_77_0_00_10_01_13_0_c35_20201020_0027_S01_1_jpg.rf.df77d38aeedf7197cf7c4a7d11c02e80.jpg: 480x640 3 fruits, 5.6ms\n",
      "image 34/103 /home/leedh/바탕화면/korean_melon/dataset/valid/images/V006_77_0_00_10_01_13_0_c35_20201020_0028_S01_1_jpg.rf.0332a0aa98e06fa642ebc3087faf7498.jpg: 480x640 2 fruits, 5.6ms\n",
      "image 35/103 /home/leedh/바탕화면/korean_melon/dataset/valid/images/V006_77_0_00_10_01_13_0_c35_20201020_0036_S01_1_jpg.rf.0720d9374c393de32c04d411822bc14f.jpg: 480x640 1 fruit, 5.6ms\n",
      "image 36/103 /home/leedh/바탕화면/korean_melon/dataset/valid/images/V006_77_0_00_10_01_13_0_c35_20201020_0038_S01_1_jpg.rf.0045898a31dc92be27932fad3423309b.jpg: 480x640 1 fruit, 5.6ms\n",
      "image 37/103 /home/leedh/바탕화면/korean_melon/dataset/valid/images/V006_77_0_00_10_01_13_0_c35_20201020_0041_S01_1_jpg.rf.931b0385ae684af5336d88ca0da2418e.jpg: 480x640 2 fruits, 5.6ms\n",
      "image 38/103 /home/leedh/바탕화면/korean_melon/dataset/valid/images/V006_77_0_00_10_01_13_0_c35_20201020_0051_S01_1_jpg.rf.300ce93842c36eab7d9ca6d30a6c0285.jpg: 480x640 1 fruit, 5.6ms\n",
      "image 39/103 /home/leedh/바탕화면/korean_melon/dataset/valid/images/V006_77_0_00_10_01_13_0_c35_20201020_0052_S01_1_jpg.rf.280c04bcc53085251ee7fd70ee6cc36a.jpg: 480x640 1 fruit, 5.6ms\n",
      "image 40/103 /home/leedh/바탕화면/korean_melon/dataset/valid/images/V006_77_0_00_10_01_13_0_c35_20201020_0064_S01_1_jpg.rf.341188bf8d74272ade185c5966a0e19f.jpg: 480x640 1 fruit, 5.6ms\n",
      "image 41/103 /home/leedh/바탕화면/korean_melon/dataset/valid/images/V006_77_0_00_10_01_13_0_c35_20201020_0066_S01_1_jpg.rf.0436300a7984ad16235bd609b73aff0b.jpg: 480x640 4 fruits, 5.6ms\n",
      "image 42/103 /home/leedh/바탕화면/korean_melon/dataset/valid/images/V006_77_0_00_10_01_13_0_c35_20201020_0069_S01_1_jpg.rf.e2d5ee06f5009283894660d27cfe9980.jpg: 480x640 1 fruit, 5.6ms\n",
      "image 43/103 /home/leedh/바탕화면/korean_melon/dataset/valid/images/V006_77_0_00_10_01_13_0_c35_20201020_0070_S01_1_jpg.rf.7fb4981c5a6383eb244ccde317905cc6.jpg: 480x640 2 fruits, 5.6ms\n",
      "image 44/103 /home/leedh/바탕화면/korean_melon/dataset/valid/images/V006_77_0_00_10_01_13_0_c35_20201020_0077_S01_1_jpg.rf.054761a49734dba030c0c57b989065fb.jpg: 480x640 1 fruit, 5.6ms\n",
      "image 45/103 /home/leedh/바탕화면/korean_melon/dataset/valid/images/V006_77_0_00_10_01_13_0_c35_20201020_0083_S01_1_jpg.rf.ea9e2fd460ab7dceee0dcb4776611368.jpg: 480x640 2 fruits, 5.6ms\n",
      "image 46/103 /home/leedh/바탕화면/korean_melon/dataset/valid/images/V006_77_0_00_10_01_13_0_c43_20201020_0000_S01_1_jpg.rf.40344a2a662df3c7e0baa89032ccee3f.jpg: 480x640 1 fruit, 5.6ms\n",
      "image 47/103 /home/leedh/바탕화면/korean_melon/dataset/valid/images/V006_77_0_00_10_01_13_0_c43_20201020_0002_S01_1_jpg.rf.b2a59c6e46a923d95d127a77b3d74f93.jpg: 480x640 1 fruit, 5.6ms\n",
      "image 48/103 /home/leedh/바탕화면/korean_melon/dataset/valid/images/V006_77_0_00_10_01_13_0_c43_20201020_0005_S01_1_jpg.rf.d334031f312ca7840470068049258e5c.jpg: 480x640 3 fruits, 5.6ms\n",
      "image 49/103 /home/leedh/바탕화면/korean_melon/dataset/valid/images/V006_77_0_00_10_01_13_0_c43_20201020_0009_S01_1_jpg.rf.172ef14844a65b58946c19fbb6aa656e.jpg: 480x640 1 fruit, 5.6ms\n",
      "image 50/103 /home/leedh/바탕화면/korean_melon/dataset/valid/images/V006_77_0_00_10_01_13_0_c43_20201020_0020_S01_1_jpg.rf.820675c8a2c7b5d0b8b1730840fe74f5.jpg: 480x640 2 fruits, 5.6ms\n",
      "image 51/103 /home/leedh/바탕화면/korean_melon/dataset/valid/images/V006_77_0_00_10_01_13_0_c43_20201020_0021_S01_1_jpg.rf.bd3d1b46348caef377f229507ad1f8a8.jpg: 480x640 1 fruit, 5.6ms\n",
      "image 52/103 /home/leedh/바탕화면/korean_melon/dataset/valid/images/V006_77_0_00_10_01_13_0_c43_20201020_0032_S01_1_jpg.rf.91f2d00856d99551436ef1ddf2be9bee.jpg: 480x640 1 fruit, 5.6ms\n",
      "image 53/103 /home/leedh/바탕화면/korean_melon/dataset/valid/images/V006_77_0_00_10_01_13_0_c43_20201020_0037_S01_1_jpg.rf.a6fa10ce8f63c5a34b5ed0c361dc3c27.jpg: 480x640 1 fruit, 5.6ms\n",
      "image 54/103 /home/leedh/바탕화면/korean_melon/dataset/valid/images/V006_77_0_00_10_01_13_0_c43_20201020_0052_S01_1_jpg.rf.89f00e3fcf2f6db7436846e84002586c.jpg: 480x640 1 fruit, 5.6ms\n",
      "image 55/103 /home/leedh/바탕화면/korean_melon/dataset/valid/images/V006_77_0_00_10_01_13_0_c43_20201020_0055_S01_1_jpg.rf.3852a65e8d420aee65d0e1cd955b88c4.jpg: 480x640 1 fruit, 5.6ms\n",
      "image 56/103 /home/leedh/바탕화면/korean_melon/dataset/valid/images/V006_77_0_00_10_01_13_0_c43_20201020_0061_S01_1_jpg.rf.410bc2b3733667439f01465ff6d29905.jpg: 480x640 1 fruit, 5.6ms\n",
      "image 57/103 /home/leedh/바탕화면/korean_melon/dataset/valid/images/V006_77_0_00_10_01_13_0_c43_20201020_0082_S01_1_jpg.rf.60686936f9ee68457611b6c5c475714d.jpg: 480x640 1 fruit, 5.6ms\n",
      "image 58/103 /home/leedh/바탕화면/korean_melon/dataset/valid/images/V006_77_0_00_10_01_13_0_c43_20201020_0085_S01_1_jpg.rf.f109ef08ff42b39b4f1a1f6dc618e7aa.jpg: 480x640 1 fruit, 5.6ms\n",
      "image 59/103 /home/leedh/바탕화면/korean_melon/dataset/valid/images/V006_77_0_00_10_01_13_0_c43_20201020_0090_S01_1_jpg.rf.0e0b57f8bb1cce27252a5f157bce18d6.jpg: 480x640 1 fruit, 5.6ms\n",
      "image 60/103 /home/leedh/바탕화면/korean_melon/dataset/valid/images/V006_77_0_00_10_01_13_0_c43_20201020_0097_S01_1_jpg.rf.57cbef53d34bd215e6c51e0b50763a36.jpg: 480x640 1 fruit, 5.6ms\n",
      "image 61/103 /home/leedh/바탕화면/korean_melon/dataset/valid/images/V006_77_0_00_10_01_13_0_c43_20201020_0108_S01_1_jpg.rf.34ecfafe103e2b5d29149800b30cd737.jpg: 480x640 1 fruit, 5.6ms\n",
      "image 62/103 /home/leedh/바탕화면/korean_melon/dataset/valid/images/V006_77_0_00_10_01_13_0_c43_20201020_0134_S01_1_jpg.rf.09ac693235136d3b521987a4e92c1564.jpg: 480x640 1 fruit, 5.7ms\n",
      "image 63/103 /home/leedh/바탕화면/korean_melon/dataset/valid/images/V006_77_0_00_10_01_13_0_c43_20201020_0138_S01_1_jpg.rf.27a95d873fa51f240c1e46c7ca8a8ac1.jpg: 480x640 1 fruit, 5.6ms\n",
      "image 64/103 /home/leedh/바탕화면/korean_melon/dataset/valid/images/V006_77_0_00_10_01_13_0_c43_20201020_0142_S01_1_jpg.rf.0b977fd214f0143ff4c299af4cc00964.jpg: 480x640 2 fruits, 5.6ms\n",
      "image 65/103 /home/leedh/바탕화면/korean_melon/dataset/valid/images/V006_77_0_00_10_01_13_0_c43_20201020_0156_S01_1_jpg.rf.723c6a0d1fa11b641658a7c4e8b97cfd.jpg: 480x640 1 fruit, 5.6ms\n",
      "image 66/103 /home/leedh/바탕화면/korean_melon/dataset/valid/images/V006_77_0_00_10_02_13_0_b08_20201027_0003_S01_1_jpg.rf.54b87f8a238c2c214eac0eeb9ba5b0af.jpg: 480x640 2 flowers, 5.6ms\n",
      "image 67/103 /home/leedh/바탕화면/korean_melon/dataset/valid/images/V006_77_0_00_10_02_13_0_b08_20201027_0010_S01_1_jpg.rf.bd7d7a611404040bccd889f40b8e9359.jpg: 480x640 2 flowers, 5.6ms\n",
      "image 68/103 /home/leedh/바탕화면/korean_melon/dataset/valid/images/V006_77_0_00_10_02_13_0_b08_20201027_0013_S01_1_jpg.rf.a17beb2041b4ba82f590fbd7e3b1c6c1.jpg: 480x640 3 flowers, 5.6ms\n",
      "image 69/103 /home/leedh/바탕화면/korean_melon/dataset/valid/images/V006_77_0_00_10_02_13_0_b08_20201027_0019_S01_1_jpg.rf.64c03d413f7ac264c31777e5bfd51e98.jpg: 480x640 2 flowers, 5.6ms\n",
      "image 70/103 /home/leedh/바탕화면/korean_melon/dataset/valid/images/V006_77_0_00_10_02_13_0_b08_20201027_0021_S01_1_jpg.rf.bce1fa605811887b6f595a72027c6ac0.jpg: 480x640 2 flowers, 5.6ms\n",
      "image 71/103 /home/leedh/바탕화면/korean_melon/dataset/valid/images/V006_77_0_00_10_02_13_0_b08_20201027_0025_S01_1_jpg.rf.f77fb198c193b3dab34e6d1a4555e7f5.jpg: 480x640 1 flower, 5.6ms\n",
      "image 72/103 /home/leedh/바탕화면/korean_melon/dataset/valid/images/V006_77_0_00_10_02_13_0_b08_20201027_0027_S01_1_jpg.rf.148e80a109cfce081a9d321998de8c4d.jpg: 480x640 3 flowers, 5.6ms\n",
      "image 73/103 /home/leedh/바탕화면/korean_melon/dataset/valid/images/V006_77_0_00_10_02_13_0_b08_20201027_0028_S01_1_jpg.rf.f4e14376e317376b1125f80643b80053.jpg: 480x640 1 flower, 5.6ms\n",
      "image 74/103 /home/leedh/바탕화면/korean_melon/dataset/valid/images/V006_77_0_00_10_02_13_0_b08_20201027_0029_S01_1_jpg.rf.0416ab56c099d3d20144c2f9d9d52003.jpg: 480x640 1 flower, 5.6ms\n",
      "image 75/103 /home/leedh/바탕화면/korean_melon/dataset/valid/images/V006_77_0_00_10_02_13_0_b09_20201027_0001_S01_1_jpg.rf.1212b78d623b91890fd7bfa2b34819e0.jpg: 320x640 1 flower, 5.1ms\n",
      "image 76/103 /home/leedh/바탕화면/korean_melon/dataset/valid/images/V006_77_0_00_10_02_13_0_b09_20201027_0004_S01_1_jpg.rf.ef0212f559f9598389d69a1b8424063a.jpg: 320x640 1 flower, 4.9ms\n",
      "image 77/103 /home/leedh/바탕화면/korean_melon/dataset/valid/images/V006_77_0_00_10_02_13_0_b09_20201027_0006_S01_1_jpg.rf.00edf66d1acb7bc35ab77fbcc2467a7b.jpg: 320x640 1 flower, 4.9ms\n",
      "image 78/103 /home/leedh/바탕화면/korean_melon/dataset/valid/images/V006_77_0_00_10_02_13_0_b09_20201027_0016_S01_1_jpg.rf.c8b62c20c0520c405ca10d5581c87cac.jpg: 320x640 1 flower, 4.9ms\n",
      "image 79/103 /home/leedh/바탕화면/korean_melon/dataset/valid/images/V006_77_0_00_10_02_13_0_b09_20201027_0029_S01_1_jpg.rf.39183f38b722748e0a799975ccd3c728.jpg: 320x640 2 flowers, 4.9ms\n",
      "image 80/103 /home/leedh/바탕화면/korean_melon/dataset/valid/images/V006_77_0_00_10_02_13_0_c35_20201027_0003_S01_1_jpg.rf.c5c3ba9de16bf59acb2f380b5ff428da.jpg: 480x640 2 flowers, 5.8ms\n",
      "image 81/103 /home/leedh/바탕화면/korean_melon/dataset/valid/images/V006_77_0_00_10_02_13_0_c35_20201027_0004_S01_1_jpg.rf.686898f8522c4bd9f30c953563ab1112.jpg: 480x640 1 flower, 5.6ms\n",
      "image 82/103 /home/leedh/바탕화면/korean_melon/dataset/valid/images/V006_77_0_00_10_02_13_0_c35_20201027_0009_S01_1_jpg.rf.2737de604a98181dce2a8265a5b5997e.jpg: 480x640 1 flower, 5.6ms\n",
      "image 83/103 /home/leedh/바탕화면/korean_melon/dataset/valid/images/V006_77_0_00_10_02_13_0_c35_20201027_0033_S01_1_jpg.rf.6d81623ace398e021078eb8676660573.jpg: 480x640 1 flower, 5.6ms\n",
      "image 84/103 /home/leedh/바탕화면/korean_melon/dataset/valid/images/V006_77_0_00_10_02_13_0_c35_20201027_0046_S01_1_jpg.rf.c0dc29ff0b95c270e5f43f9fd7844fb3.jpg: 480x640 1 flower, 5.6ms\n",
      "image 85/103 /home/leedh/바탕화면/korean_melon/dataset/valid/images/V006_77_0_00_10_02_13_0_c35_20201027_0048_S01_1_jpg.rf.0ed547c82abea3e0ce5715ca5e4946d1.jpg: 480x640 2 flowers, 5.6ms\n",
      "image 86/103 /home/leedh/바탕화면/korean_melon/dataset/valid/images/V006_77_0_00_10_02_13_0_c35_20201027_0054_S01_1_jpg.rf.7c5df105e4a0c1e068fbb6f9bed3f8a3.jpg: 480x640 1 flower, 5.6ms\n",
      "image 87/103 /home/leedh/바탕화면/korean_melon/dataset/valid/images/V006_77_0_00_10_02_13_0_c35_20201027_0056_S01_1_jpg.rf.b0f15a6b050ba623cc74e70d4335a6ca.jpg: 480x640 1 flower, 5.6ms\n",
      "image 88/103 /home/leedh/바탕화면/korean_melon/dataset/valid/images/V006_77_0_00_10_02_13_0_c35_20201027_0057_S01_1_jpg.rf.67166a07a2a6c9da895b10c014ea9aaf.jpg: 480x640 1 flower, 5.6ms\n",
      "image 89/103 /home/leedh/바탕화면/korean_melon/dataset/valid/images/V006_77_0_00_10_02_13_0_c35_20201027_0059_S01_1_jpg.rf.fb19f965df70d906fbf37f235fc31187.jpg: 480x640 1 flower, 5.6ms\n",
      "image 90/103 /home/leedh/바탕화면/korean_melon/dataset/valid/images/V006_77_0_00_10_02_13_0_c35_20201027_0069_S01_1_jpg.rf.fb8172fa203560ede31e2db904b21a27.jpg: 480x640 1 flower, 5.6ms\n",
      "image 91/103 /home/leedh/바탕화면/korean_melon/dataset/valid/images/V006_77_0_00_10_02_13_0_c43_20201027_0003_S01_1_jpg.rf.a98606eff7d39cbbe8a9dd46e8edfa63.jpg: 480x640 2 flowers, 5.6ms\n",
      "image 92/103 /home/leedh/바탕화면/korean_melon/dataset/valid/images/V006_77_0_00_10_02_13_0_c43_20201027_0013_S01_1_jpg.rf.8cb5bc82e738da3f7efdd9945f89eed0.jpg: 480x640 2 flowers, 5.6ms\n",
      "image 93/103 /home/leedh/바탕화면/korean_melon/dataset/valid/images/V006_77_0_00_10_02_13_0_c43_20201027_0016_S01_1_jpg.rf.3381a404fc86b26e7119433b4100ff8b.jpg: 480x640 2 flowers, 5.6ms\n",
      "image 94/103 /home/leedh/바탕화면/korean_melon/dataset/valid/images/V006_77_0_00_10_02_13_0_c43_20201027_0022_S01_1_jpg.rf.28d8216c25f7d104c2f43fa9331d3e4b.jpg: 480x640 1 flower, 5.6ms\n",
      "image 95/103 /home/leedh/바탕화면/korean_melon/dataset/valid/images/V006_77_0_00_10_02_13_0_c43_20201027_0026_S01_1_jpg.rf.420af64a322ef09d0bfeca71e5afcf6f.jpg: 480x640 1 flower, 5.6ms\n",
      "image 96/103 /home/leedh/바탕화면/korean_melon/dataset/valid/images/V006_77_0_00_10_02_13_0_c43_20201027_0041_S01_1_jpg.rf.b136fff808078f38792014f33c07ba58.jpg: 480x640 2 flowers, 5.6ms\n",
      "image 97/103 /home/leedh/바탕화면/korean_melon/dataset/valid/images/V006_77_0_00_10_02_13_0_c43_20201027_0043_S01_1_jpg.rf.8186198fbd2cda5de507ac20253a0b1e.jpg: 480x640 2 flowers, 5.6ms\n",
      "image 98/103 /home/leedh/바탕화면/korean_melon/dataset/valid/images/V006_77_0_00_10_02_13_0_c43_20201027_0044_S01_1_jpg.rf.a0c662bacc19b5bf5aed4dec1a8092a2.jpg: 480x640 1 flower, 5.6ms\n",
      "image 99/103 /home/leedh/바탕화면/korean_melon/dataset/valid/images/V006_77_0_00_10_02_13_0_c43_20201027_0050_S01_1_jpg.rf.9f87e22a6b474e13732afe7703946573.jpg: 480x640 1 flower, 5.6ms\n",
      "image 100/103 /home/leedh/바탕화면/korean_melon/dataset/valid/images/V006_77_0_00_10_02_13_0_c43_20201027_0051_S01_1_jpg.rf.eca4a63fd11e7b027a17152bead58cf6.jpg: 480x640 1 flower, 5.6ms\n",
      "image 101/103 /home/leedh/바탕화면/korean_melon/dataset/valid/images/V006_77_0_00_10_02_13_0_c43_20201027_0055_S01_1_jpg.rf.a808aa3322e921ce91c89aad61db9eb6.jpg: 480x640 3 flowers, 5.6ms\n",
      "image 102/103 /home/leedh/바탕화면/korean_melon/dataset/valid/images/V006_77_0_00_10_02_13_0_c43_20201027_0064_S01_1_jpg.rf.e49d145bcf55ed42fe2288250be66152.jpg: 480x640 1 flower, 5.6ms\n",
      "image 103/103 /home/leedh/바탕화면/korean_melon/dataset/valid/images/V006_77_0_00_10_02_13_0_c43_20201027_0076_S01_1_jpg.rf.db38186beb748841cfa5f6612f157035.jpg: 480x640 1 flower, 5.6ms\n",
      "Speed: 1.2ms preprocess, 5.9ms inference, 0.2ms postprocess per image at shape (1, 3, 480, 640)\n",
      "Results saved to \u001b[1mruns/PID2/CID0/v10x/val_predict\u001b[0m\n"
     ]
    }
   ],
   "source": [
    "# 실제 validation에 대한 predict 결과 저장\n",
    "pred_results = best_model(\n",
    "    source='./dataset/valid/images',\n",
    "    conf=train_params['conf'],          # default: 0.25\n",
    "    save=True,\n",
    "    project=f\"{train_params['project']}/{train_params['name']}\",    # Name of the project directory where training outputs are saved\n",
    "    name='val_predict',                 # Name of the project\n",
    ")"
   ]
  },
  {
   "cell_type": "markdown",
   "metadata": {},
   "source": [
    "# Test set"
   ]
  },
  {
   "cell_type": "code",
   "execution_count": 4,
   "metadata": {},
   "outputs": [],
   "source": [
    "from ultralytics import YOLO\n",
    "best_model = YOLO(f\"{train_params['project']}/{train_params['name']}/weights/best.pt\")\n",
    "\n",
    "# test 파라미터 설정\n",
    "test_params = {\n",
    "    'data': train_params['data'],\n",
    "    'batch': train_params['batch'],\n",
    "    'conf': train_params['conf'],\n",
    "    'save_json': True,\n",
    "    'project': f\"{train_params['project']}/{train_params['name']}\",\n",
    "    'name': 'test_performance',\n",
    "    'split': 'test',                        # 'val', 'test', 'train'\n",
    "    'workers': 0,\n",
    "}"
   ]
  },
  {
   "cell_type": "code",
   "execution_count": 10,
   "metadata": {},
   "outputs": [
    {
     "name": "stdout",
     "output_type": "stream",
     "text": [
      "Ultralytics 8.3.31 🚀 Python-3.8.20 torch-2.4.1+cu121 CUDA:0 (NVIDIA GeForce RTX 4090, 24184MiB)\n",
      "YOLOv10x summary (fused): 503 layers, 31,587,932 parameters, 0 gradients, 169.8 GFLOPs\n"
     ]
    },
    {
     "name": "stderr",
     "output_type": "stream",
     "text": [
      "\u001b[34m\u001b[1mval: \u001b[0mScanning /home/leedh/바탕화면/korean_melon/dataset/test/labels.cache... 70 images, 0 backgrounds, 0 corrupt: 100%|██████████| 70/70 [00:00<?, ?it/s]\n",
      "                 Class     Images  Instances      Box(P          R      mAP50  mAP50-95): 100%|██████████| 5/5 [00:02<00:00,  2.28it/s]\n"
     ]
    },
    {
     "name": "stdout",
     "output_type": "stream",
     "text": [
      "                   all         70        138      0.971       0.85       0.92      0.869\n",
      "                 fruit         46         97      0.943      0.845      0.913      0.845\n",
      "                flower         24         41          1      0.854      0.927      0.893\n",
      "Speed: 0.1ms preprocess, 5.3ms inference, 0.0ms loss, 0.0ms postprocess per image\n",
      "Saving runs/PID2/CID0/v10x/test_performance/predictions.json...\n",
      "Results saved to \u001b[1mruns/PID2/CID0/v10x/test_performance\u001b[0m\n",
      "Run 1: Preprocess time: 0.110 ms, Inference time: 5.333 ms,\n",
      "Postprocess time: 0.031 ms, Total process time: 5.475 ms, FPS: 182.65\n",
      "Ultralytics 8.3.31 🚀 Python-3.8.20 torch-2.4.1+cu121 CUDA:0 (NVIDIA GeForce RTX 4090, 24184MiB)\n"
     ]
    },
    {
     "name": "stderr",
     "output_type": "stream",
     "text": [
      "\u001b[34m\u001b[1mval: \u001b[0mScanning /home/leedh/바탕화면/korean_melon/dataset/test/labels.cache... 70 images, 0 backgrounds, 0 corrupt: 100%|██████████| 70/70 [00:00<?, ?it/s]\n",
      "                 Class     Images  Instances      Box(P          R      mAP50  mAP50-95): 100%|██████████| 5/5 [00:02<00:00,  2.27it/s]\n"
     ]
    },
    {
     "name": "stdout",
     "output_type": "stream",
     "text": [
      "                   all         70        138      0.971       0.85       0.92      0.869\n",
      "                 fruit         46         97      0.943      0.845      0.913      0.845\n",
      "                flower         24         41          1      0.854      0.927      0.893\n",
      "Speed: 0.1ms preprocess, 5.3ms inference, 0.0ms loss, 0.0ms postprocess per image\n",
      "Saving runs/PID2/CID0/v10x/test_performance2/predictions.json...\n",
      "Results saved to \u001b[1mruns/PID2/CID0/v10x/test_performance2\u001b[0m\n",
      "Run 2: Preprocess time: 0.111 ms, Inference time: 5.288 ms,\n",
      "Postprocess time: 0.032 ms, Total process time: 5.431 ms, FPS: 184.13\n",
      "Ultralytics 8.3.31 🚀 Python-3.8.20 torch-2.4.1+cu121 CUDA:0 (NVIDIA GeForce RTX 4090, 24184MiB)\n"
     ]
    },
    {
     "name": "stderr",
     "output_type": "stream",
     "text": [
      "\u001b[34m\u001b[1mval: \u001b[0mScanning /home/leedh/바탕화면/korean_melon/dataset/test/labels.cache... 70 images, 0 backgrounds, 0 corrupt: 100%|██████████| 70/70 [00:00<?, ?it/s]\n",
      "                 Class     Images  Instances      Box(P          R      mAP50  mAP50-95): 100%|██████████| 5/5 [00:02<00:00,  2.08it/s]\n"
     ]
    },
    {
     "name": "stdout",
     "output_type": "stream",
     "text": [
      "                   all         70        138      0.971       0.85       0.92      0.869\n",
      "                 fruit         46         97      0.943      0.845      0.913      0.845\n",
      "                flower         24         41          1      0.854      0.927      0.893\n",
      "Speed: 0.1ms preprocess, 5.3ms inference, 0.0ms loss, 0.0ms postprocess per image\n",
      "Saving runs/PID2/CID0/v10x/test_performance3/predictions.json...\n",
      "Results saved to \u001b[1mruns/PID2/CID0/v10x/test_performance3\u001b[0m\n",
      "Run 3: Preprocess time: 0.110 ms, Inference time: 5.284 ms,\n",
      "Postprocess time: 0.032 ms, Total process time: 5.426 ms, FPS: 184.31\n",
      "Ultralytics 8.3.31 🚀 Python-3.8.20 torch-2.4.1+cu121 CUDA:0 (NVIDIA GeForce RTX 4090, 24184MiB)\n"
     ]
    },
    {
     "name": "stderr",
     "output_type": "stream",
     "text": [
      "\u001b[34m\u001b[1mval: \u001b[0mScanning /home/leedh/바탕화면/korean_melon/dataset/test/labels.cache... 70 images, 0 backgrounds, 0 corrupt: 100%|██████████| 70/70 [00:00<?, ?it/s]\n",
      "                 Class     Images  Instances      Box(P          R      mAP50  mAP50-95): 100%|██████████| 5/5 [00:02<00:00,  2.07it/s]\n"
     ]
    },
    {
     "name": "stdout",
     "output_type": "stream",
     "text": [
      "                   all         70        138      0.971       0.85       0.92      0.869\n",
      "                 fruit         46         97      0.943      0.845      0.913      0.845\n",
      "                flower         24         41          1      0.854      0.927      0.893\n",
      "Speed: 0.1ms preprocess, 5.2ms inference, 0.0ms loss, 0.0ms postprocess per image\n",
      "Saving runs/PID2/CID0/v10x/test_performance4/predictions.json...\n",
      "Results saved to \u001b[1mruns/PID2/CID0/v10x/test_performance4\u001b[0m\n",
      "Run 4: Preprocess time: 0.111 ms, Inference time: 5.247 ms,\n",
      "Postprocess time: 0.034 ms, Total process time: 5.393 ms, FPS: 185.44\n",
      "Ultralytics 8.3.31 🚀 Python-3.8.20 torch-2.4.1+cu121 CUDA:0 (NVIDIA GeForce RTX 4090, 24184MiB)\n"
     ]
    },
    {
     "name": "stderr",
     "output_type": "stream",
     "text": [
      "\u001b[34m\u001b[1mval: \u001b[0mScanning /home/leedh/바탕화면/korean_melon/dataset/test/labels.cache... 70 images, 0 backgrounds, 0 corrupt: 100%|██████████| 70/70 [00:00<?, ?it/s]\n",
      "                 Class     Images  Instances      Box(P          R      mAP50  mAP50-95): 100%|██████████| 5/5 [00:02<00:00,  2.08it/s]\n"
     ]
    },
    {
     "name": "stdout",
     "output_type": "stream",
     "text": [
      "                   all         70        138      0.971       0.85       0.92      0.869\n",
      "                 fruit         46         97      0.943      0.845      0.913      0.845\n",
      "                flower         24         41          1      0.854      0.927      0.893\n",
      "Speed: 0.1ms preprocess, 5.2ms inference, 0.0ms loss, 0.0ms postprocess per image\n",
      "Saving runs/PID2/CID0/v10x/test_performance5/predictions.json...\n",
      "Results saved to \u001b[1mruns/PID2/CID0/v10x/test_performance5\u001b[0m\n",
      "Run 5: Preprocess time: 0.110 ms, Inference time: 5.243 ms,\n",
      "Postprocess time: 0.031 ms, Total process time: 5.385 ms, FPS: 185.70\n",
      "Ultralytics 8.3.31 🚀 Python-3.8.20 torch-2.4.1+cu121 CUDA:0 (NVIDIA GeForce RTX 4090, 24184MiB)\n"
     ]
    },
    {
     "name": "stderr",
     "output_type": "stream",
     "text": [
      "\u001b[34m\u001b[1mval: \u001b[0mScanning /home/leedh/바탕화면/korean_melon/dataset/test/labels.cache... 70 images, 0 backgrounds, 0 corrupt: 100%|██████████| 70/70 [00:00<?, ?it/s]\n",
      "                 Class     Images  Instances      Box(P          R      mAP50  mAP50-95): 100%|██████████| 5/5 [00:02<00:00,  2.08it/s]\n"
     ]
    },
    {
     "name": "stdout",
     "output_type": "stream",
     "text": [
      "                   all         70        138      0.971       0.85       0.92      0.869\n",
      "                 fruit         46         97      0.943      0.845      0.913      0.845\n",
      "                flower         24         41          1      0.854      0.927      0.893\n",
      "Speed: 0.1ms preprocess, 5.2ms inference, 0.0ms loss, 0.0ms postprocess per image\n",
      "Saving runs/PID2/CID0/v10x/test_performance6/predictions.json...\n",
      "Results saved to \u001b[1mruns/PID2/CID0/v10x/test_performance6\u001b[0m\n",
      "Run 6: Preprocess time: 0.110 ms, Inference time: 5.247 ms,\n",
      "Postprocess time: 0.032 ms, Total process time: 5.389 ms, FPS: 185.55\n",
      "Ultralytics 8.3.31 🚀 Python-3.8.20 torch-2.4.1+cu121 CUDA:0 (NVIDIA GeForce RTX 4090, 24184MiB)\n"
     ]
    },
    {
     "name": "stderr",
     "output_type": "stream",
     "text": [
      "\u001b[34m\u001b[1mval: \u001b[0mScanning /home/leedh/바탕화면/korean_melon/dataset/test/labels.cache... 70 images, 0 backgrounds, 0 corrupt: 100%|██████████| 70/70 [00:00<?, ?it/s]\n",
      "                 Class     Images  Instances      Box(P          R      mAP50  mAP50-95): 100%|██████████| 5/5 [00:02<00:00,  2.07it/s]\n"
     ]
    },
    {
     "name": "stdout",
     "output_type": "stream",
     "text": [
      "                   all         70        138      0.971       0.85       0.92      0.869\n",
      "                 fruit         46         97      0.943      0.845      0.913      0.845\n",
      "                flower         24         41          1      0.854      0.927      0.893\n",
      "Speed: 0.1ms preprocess, 5.2ms inference, 0.0ms loss, 0.0ms postprocess per image\n",
      "Saving runs/PID2/CID0/v10x/test_performance7/predictions.json...\n",
      "Results saved to \u001b[1mruns/PID2/CID0/v10x/test_performance7\u001b[0m\n",
      "Run 7: Preprocess time: 0.110 ms, Inference time: 5.246 ms,\n",
      "Postprocess time: 0.031 ms, Total process time: 5.387 ms, FPS: 185.64\n",
      "Ultralytics 8.3.31 🚀 Python-3.8.20 torch-2.4.1+cu121 CUDA:0 (NVIDIA GeForce RTX 4090, 24184MiB)\n"
     ]
    },
    {
     "name": "stderr",
     "output_type": "stream",
     "text": [
      "\u001b[34m\u001b[1mval: \u001b[0mScanning /home/leedh/바탕화면/korean_melon/dataset/test/labels.cache... 70 images, 0 backgrounds, 0 corrupt: 100%|██████████| 70/70 [00:00<?, ?it/s]\n",
      "                 Class     Images  Instances      Box(P          R      mAP50  mAP50-95): 100%|██████████| 5/5 [00:02<00:00,  1.75it/s]\n"
     ]
    },
    {
     "name": "stdout",
     "output_type": "stream",
     "text": [
      "                   all         70        138      0.971       0.85       0.92      0.869\n",
      "                 fruit         46         97      0.943      0.845      0.913      0.845\n",
      "                flower         24         41          1      0.854      0.927      0.893\n",
      "Speed: 0.1ms preprocess, 5.2ms inference, 0.0ms loss, 0.0ms postprocess per image\n",
      "Saving runs/PID2/CID0/v10x/test_performance8/predictions.json...\n",
      "Results saved to \u001b[1mruns/PID2/CID0/v10x/test_performance8\u001b[0m\n",
      "Run 8: Preprocess time: 0.110 ms, Inference time: 5.245 ms,\n",
      "Postprocess time: 0.029 ms, Total process time: 5.385 ms, FPS: 185.70\n",
      "Ultralytics 8.3.31 🚀 Python-3.8.20 torch-2.4.1+cu121 CUDA:0 (NVIDIA GeForce RTX 4090, 24184MiB)\n"
     ]
    },
    {
     "name": "stderr",
     "output_type": "stream",
     "text": [
      "\u001b[34m\u001b[1mval: \u001b[0mScanning /home/leedh/바탕화면/korean_melon/dataset/test/labels.cache... 70 images, 0 backgrounds, 0 corrupt: 100%|██████████| 70/70 [00:00<?, ?it/s]\n",
      "                 Class     Images  Instances      Box(P          R      mAP50  mAP50-95): 100%|██████████| 5/5 [00:02<00:00,  2.07it/s]\n"
     ]
    },
    {
     "name": "stdout",
     "output_type": "stream",
     "text": [
      "                   all         70        138      0.971       0.85       0.92      0.869\n",
      "                 fruit         46         97      0.943      0.845      0.913      0.845\n",
      "                flower         24         41          1      0.854      0.927      0.893\n",
      "Speed: 0.1ms preprocess, 5.2ms inference, 0.0ms loss, 0.0ms postprocess per image\n",
      "Saving runs/PID2/CID0/v10x/test_performance9/predictions.json...\n",
      "Results saved to \u001b[1mruns/PID2/CID0/v10x/test_performance9\u001b[0m\n",
      "Run 9: Preprocess time: 0.110 ms, Inference time: 5.245 ms,\n",
      "Postprocess time: 0.033 ms, Total process time: 5.388 ms, FPS: 185.59\n",
      "Ultralytics 8.3.31 🚀 Python-3.8.20 torch-2.4.1+cu121 CUDA:0 (NVIDIA GeForce RTX 4090, 24184MiB)\n"
     ]
    },
    {
     "name": "stderr",
     "output_type": "stream",
     "text": [
      "\u001b[34m\u001b[1mval: \u001b[0mScanning /home/leedh/바탕화면/korean_melon/dataset/test/labels.cache... 70 images, 0 backgrounds, 0 corrupt: 100%|██████████| 70/70 [00:00<?, ?it/s]\n",
      "                 Class     Images  Instances      Box(P          R      mAP50  mAP50-95): 100%|██████████| 5/5 [00:02<00:00,  2.04it/s]\n"
     ]
    },
    {
     "name": "stdout",
     "output_type": "stream",
     "text": [
      "                   all         70        138      0.971       0.85       0.92      0.869\n",
      "                 fruit         46         97      0.943      0.845      0.913      0.845\n",
      "                flower         24         41          1      0.854      0.927      0.893\n",
      "Speed: 0.1ms preprocess, 5.3ms inference, 0.0ms loss, 0.0ms postprocess per image\n",
      "Saving runs/PID2/CID0/v10x/test_performance10/predictions.json...\n",
      "Results saved to \u001b[1mruns/PID2/CID0/v10x/test_performance10\u001b[0m\n",
      "Run 10: Preprocess time: 0.111 ms, Inference time: 5.317 ms,\n",
      "Postprocess time: 0.032 ms, Total process time: 5.459 ms, FPS: 183.17\n",
      "<<< Average time >>>\n",
      "Preprocess: 0.110 ms, Inference: 5.270 ms, Postprocess: 0.032, Total: 5.412, FPS: 184.78\n"
     ]
    }
   ],
   "source": [
    "# validation dataset 성능 평가\n",
    "def check_val_results(test_params, num_runs=10):\n",
    "    preprocess_times, inference_times, postprocess_times, total_times = [], [], [], []\n",
    "    for i in range(num_runs):\n",
    "        test_results = best_model.val(**test_params)\n",
    "\n",
    "        preprocess_time = test_results.speed['preprocess']\n",
    "        inference_time = test_results.speed['inference']\n",
    "        postprocess_time = test_results.speed['postprocess']\n",
    "\n",
    "        total_time = sum(test_results.speed.values())\n",
    "        fps = 1000 / total_time\n",
    "\n",
    "        preprocess_times.append(preprocess_time)\n",
    "        inference_times.append(inference_time)\n",
    "        postprocess_times.append(postprocess_time)\n",
    "        total_times.append(total_time)\n",
    "\n",
    "        print(f\"Run {i+1}: Preprocess time: {preprocess_time:.3f} ms, Inference time: {inference_time:.3f} ms,\\nPostprocess time: {postprocess_time:.3f} ms, Total process time: {total_time:.3f} ms, FPS: {fps:.2f}\")\n",
    "\n",
    "    average_preprocess_time = sum(preprocess_times) / num_runs\n",
    "    average_inference_time = sum(inference_times) / num_runs\n",
    "    average_postprocess_time = sum(postprocess_times) / num_runs\n",
    "    average_total_time = sum(total_times) / num_runs\n",
    "    average_fps = 1000 / average_total_time\n",
    "    print(f\"<<< Average time >>>\\nPreprocess: {average_preprocess_time:.3f} ms, Inference: {average_inference_time:.3f} ms, Postprocess: {average_postprocess_time:.3f}, Total: {average_total_time:.3f}, FPS: {average_fps:.2f}\")\n",
    "\n",
    "check_val_results(test_params, num_runs=10)"
   ]
  },
  {
   "cell_type": "code",
   "execution_count": null,
   "metadata": {},
   "outputs": [
    {
     "name": "stdout",
     "output_type": "stream",
     "text": [
      "\n"
     ]
    },
    {
     "name": "stdout",
     "output_type": "stream",
     "text": [
      "image 1/70 /home/leedh/바탕화면/korean_melon/dataset/test/images/V006_77_0_00_10_01_13_0_b08_20201020_0004_S01_1_jpg.rf.3f5164cdcbb425ab7d37cc4135958d40.jpg: 480x640 2 fruits, 5.9ms\n",
      "image 2/70 /home/leedh/바탕화면/korean_melon/dataset/test/images/V006_77_0_00_10_01_13_0_b08_20201020_0006_S01_1_jpg.rf.66bacb01479f85cd427384b2d5a312dd.jpg: 480x640 1 fruit, 5.7ms\n",
      "image 3/70 /home/leedh/바탕화면/korean_melon/dataset/test/images/V006_77_0_00_10_01_13_0_b08_20201020_0019_S01_1_jpg.rf.9c853d8e9fcf40cd7123948c6c55ac96.jpg: 480x640 2 fruits, 5.6ms\n",
      "image 4/70 /home/leedh/바탕화면/korean_melon/dataset/test/images/V006_77_0_00_10_01_13_0_b08_20201020_0027_S01_1_jpg.rf.975e4577856056e18cd5f480f74e313b.jpg: 480x640 2 fruits, 5.6ms\n",
      "image 5/70 /home/leedh/바탕화면/korean_melon/dataset/test/images/V006_77_0_00_10_01_13_0_b08_20201020_0030_S01_1_jpg.rf.0390179a9da1858c906699ee1b85534c.jpg: 480x640 2 fruits, 5.6ms\n",
      "image 6/70 /home/leedh/바탕화면/korean_melon/dataset/test/images/V006_77_0_00_10_01_13_0_b08_20201020_0032_S01_1_jpg.rf.b73c4209464c21ca078f9da3c0b583ca.jpg: 480x640 2 fruits, 5.6ms\n",
      "image 7/70 /home/leedh/바탕화면/korean_melon/dataset/test/images/V006_77_0_00_10_01_13_0_b08_20201020_0035_S01_1_jpg.rf.57c03aaf589cdd42def115f72b8259b7.jpg: 480x640 2 fruits, 5.6ms\n",
      "image 8/70 /home/leedh/바탕화면/korean_melon/dataset/test/images/V006_77_0_00_10_01_13_0_b08_20201020_0043_S01_1_jpg.rf.4fe92baa630e8f2abf09d5b1bd6b6d37.jpg: 480x640 3 fruits, 5.6ms\n",
      "image 9/70 /home/leedh/바탕화면/korean_melon/dataset/test/images/V006_77_0_00_10_01_13_0_b08_20201020_0044_S01_1_jpg.rf.a779f4810c6ee5918e0e0abefb95edac.jpg: 480x640 3 fruits, 5.7ms\n",
      "image 10/70 /home/leedh/바탕화면/korean_melon/dataset/test/images/V006_77_0_00_10_01_13_0_b08_20201020_0047_S01_1_jpg.rf.1b03036b781941f37f2c167a40bd0459.jpg: 480x640 2 fruits, 5.6ms\n",
      "image 11/70 /home/leedh/바탕화면/korean_melon/dataset/test/images/V006_77_0_00_10_01_13_0_b08_20201020_0061_S01_1_jpg.rf.fc120548a18faad712d1b2c46f731f5b.jpg: 480x640 1 fruit, 5.6ms\n",
      "image 12/70 /home/leedh/바탕화면/korean_melon/dataset/test/images/V006_77_0_00_10_01_13_0_b08_20201020_0069_S01_1_jpg.rf.1d281e65437f838ddcbead4f93e56d94.jpg: 640x480 2 fruits, 27.7ms\n",
      "image 13/70 /home/leedh/바탕화면/korean_melon/dataset/test/images/V006_77_0_00_10_01_13_0_b08_20201020_0076_S01_1_jpg.rf.783077b5ae971077625ce24685150cd1.jpg: 480x640 3 fruits, 5.9ms\n",
      "image 14/70 /home/leedh/바탕화면/korean_melon/dataset/test/images/V006_77_0_00_10_01_13_0_b08_20201020_0078_S01_1_jpg.rf.9fe262b37dd010c5f039921753b10ff0.jpg: 480x640 2 fruits, 5.6ms\n",
      "image 15/70 /home/leedh/바탕화면/korean_melon/dataset/test/images/V006_77_0_00_10_01_13_0_b08_20201020_0090_S01_1_jpg.rf.edc05940227b025ce5beb429f68e9c54.jpg: 480x640 2 fruits, 5.6ms\n",
      "image 16/70 /home/leedh/바탕화면/korean_melon/dataset/test/images/V006_77_0_00_10_01_13_0_b09_20201020_0036_S01_1_jpg.rf.881f52fc41df42104f0cfd43a1bc8224.jpg: 320x640 4 fruits, 5.1ms\n",
      "image 17/70 /home/leedh/바탕화면/korean_melon/dataset/test/images/V006_77_0_00_10_01_13_0_b09_20201020_0041_S01_1_jpg.rf.d38f353daaab758c4fc41012d545208d.jpg: 320x640 5 fruits, 4.9ms\n",
      "image 18/70 /home/leedh/바탕화면/korean_melon/dataset/test/images/V006_77_0_00_10_01_13_0_b09_20201020_0042_S01_1_jpg.rf.a7c52f6680d930d1d6e983db150d7649.jpg: 320x640 2 fruits, 4.9ms\n",
      "image 19/70 /home/leedh/바탕화면/korean_melon/dataset/test/images/V006_77_0_00_10_01_13_0_b09_20201020_0043_S01_1_jpg.rf.d7c0bdb8d3b31387560d8b92f5838e37.jpg: 320x640 2 fruits, 4.9ms\n",
      "image 20/70 /home/leedh/바탕화면/korean_melon/dataset/test/images/V006_77_0_00_10_01_13_0_b09_20201020_0045_S01_1_jpg.rf.f46b74fa699b929d1e117e64a01457ad.jpg: 320x640 2 fruits, 4.9ms\n",
      "image 21/70 /home/leedh/바탕화면/korean_melon/dataset/test/images/V006_77_0_00_10_01_13_0_b09_20201020_0052_S01_1_jpg.rf.5ec10625df5b7f0b997889b066ba8cb3.jpg: 320x640 2 fruits, 4.9ms\n",
      "image 22/70 /home/leedh/바탕화면/korean_melon/dataset/test/images/V006_77_0_00_10_01_13_0_c34_20201020_0002_S01_1_jpg.rf.d0e2314a3a076603f16f89cafc981ffd.jpg: 480x640 2 fruits, 5.9ms\n",
      "image 23/70 /home/leedh/바탕화면/korean_melon/dataset/test/images/V006_77_0_00_10_01_13_0_c34_20201020_0011_S01_1_jpg.rf.614db17c7d38410a5b867f25c04249a3.jpg: 480x640 3 fruits, 5.6ms\n",
      "image 24/70 /home/leedh/바탕화면/korean_melon/dataset/test/images/V006_77_0_00_10_01_13_0_c34_20201020_0014_S01_1_jpg.rf.9bba062c4eaa45bf23e6ba3d4bae310f.jpg: 480x640 1 fruit, 5.7ms\n",
      "image 25/70 /home/leedh/바탕화면/korean_melon/dataset/test/images/V006_77_0_00_10_01_13_0_c34_20201020_0021_S01_1_jpg.rf.510f9226bbc5ede08891b17b37e2e0c9.jpg: 480x640 4 fruits, 5.6ms\n",
      "image 26/70 /home/leedh/바탕화면/korean_melon/dataset/test/images/V006_77_0_00_10_01_13_0_c34_20201020_0061_S01_1_jpg.rf.90bc1ba5573743a9a77b95baeea38ad9.jpg: 480x640 1 fruit, 5.6ms\n",
      "image 27/70 /home/leedh/바탕화면/korean_melon/dataset/test/images/V006_77_0_00_10_01_13_0_c35_20201020_0024_S01_1_jpg.rf.ad1665b7bd780fa9a79c040623bac873.jpg: 480x640 1 fruit, 5.6ms\n",
      "image 28/70 /home/leedh/바탕화면/korean_melon/dataset/test/images/V006_77_0_00_10_01_13_0_c35_20201020_0025_S01_1_jpg.rf.d9e7e3318690574188dd6446c76e045e.jpg: 480x640 1 fruit, 5.6ms\n",
      "image 29/70 /home/leedh/바탕화면/korean_melon/dataset/test/images/V006_77_0_00_10_01_13_0_c35_20201020_0029_S01_1_jpg.rf.2726e43b05d5ab52c9fab0aa620bd917.jpg: 480x640 2 fruits, 5.6ms\n",
      "image 30/70 /home/leedh/바탕화면/korean_melon/dataset/test/images/V006_77_0_00_10_01_13_0_c35_20201020_0032_S01_1_jpg.rf.4b8dca6d5fdcf1444d8e25a6b9544342.jpg: 480x640 2 fruits, 5.6ms\n",
      "image 31/70 /home/leedh/바탕화면/korean_melon/dataset/test/images/V006_77_0_00_10_01_13_0_c35_20201020_0043_S01_1_jpg.rf.f85c6e997150705bc11fb700605e0593.jpg: 480x640 4 fruits, 5.6ms\n",
      "image 32/70 /home/leedh/바탕화면/korean_melon/dataset/test/images/V006_77_0_00_10_01_13_0_c35_20201020_0058_S01_1_jpg.rf.83e6009b4cd693af76ecca0ee333d7f5.jpg: 480x640 2 fruits, 5.6ms\n",
      "image 33/70 /home/leedh/바탕화면/korean_melon/dataset/test/images/V006_77_0_00_10_01_13_0_c35_20201020_0060_S01_1_jpg.rf.699103ec4a6afc8e14dd27506929c91a.jpg: 480x640 1 fruit, 5.6ms\n",
      "image 34/70 /home/leedh/바탕화면/korean_melon/dataset/test/images/V006_77_0_00_10_01_13_0_c35_20201020_0085_S01_1_jpg.rf.58328fb6baf1fb06a5e5b39f4988eec8.jpg: 480x640 1 fruit, 5.6ms\n",
      "image 35/70 /home/leedh/바탕화면/korean_melon/dataset/test/images/V006_77_0_00_10_01_13_0_c43_20201020_0003_S01_1_jpg.rf.68d91714f196850e29c1ba7bcfe0ea1b.jpg: 480x640 2 fruits, 5.6ms\n",
      "image 36/70 /home/leedh/바탕화면/korean_melon/dataset/test/images/V006_77_0_00_10_01_13_0_c43_20201020_0045_S01_1_jpg.rf.e705ca815b0e9dd4c420836c9e3d0154.jpg: 480x640 1 fruit, 5.6ms\n",
      "image 37/70 /home/leedh/바탕화면/korean_melon/dataset/test/images/V006_77_0_00_10_01_13_0_c43_20201020_0050_S01_1_jpg.rf.d7b1e6ff42fc9f6efa633edd5020fd6e.jpg: 480x640 2 fruits, 5.6ms\n",
      "image 38/70 /home/leedh/바탕화면/korean_melon/dataset/test/images/V006_77_0_00_10_01_13_0_c43_20201020_0076_S01_1_jpg.rf.bef277608c1b0e09045f6de62f69de59.jpg: 480x640 1 fruit, 5.6ms\n",
      "image 39/70 /home/leedh/바탕화면/korean_melon/dataset/test/images/V006_77_0_00_10_01_13_0_c43_20201020_0088_S01_1_jpg.rf.146b35a49dd28f610257b560c0b3b075.jpg: 480x640 2 fruits, 5.6ms\n",
      "image 40/70 /home/leedh/바탕화면/korean_melon/dataset/test/images/V006_77_0_00_10_01_13_0_c43_20201020_0095_S01_1_jpg.rf.9e40ba7ffd845ae95967ea7bb6f1afe2.jpg: 480x640 1 fruit, 5.6ms\n",
      "image 41/70 /home/leedh/바탕화면/korean_melon/dataset/test/images/V006_77_0_00_10_01_13_0_c43_20201020_0099_S01_1_jpg.rf.c6528569e55690854cd81837e9db2517.jpg: 480x640 1 fruit, 5.6ms\n",
      "image 42/70 /home/leedh/바탕화면/korean_melon/dataset/test/images/V006_77_0_00_10_01_13_0_c43_20201020_0106_S01_1_jpg.rf.55b29f5a1d5b043173f7c12c1e5de252.jpg: 480x640 2 fruits, 5.7ms\n",
      "image 43/70 /home/leedh/바탕화면/korean_melon/dataset/test/images/V006_77_0_00_10_01_13_0_c43_20201020_0107_S01_1_jpg.rf.3dedc45d7dc3f4e542ce4bd351cb637a.jpg: 480x640 4 fruits, 5.6ms\n",
      "image 44/70 /home/leedh/바탕화면/korean_melon/dataset/test/images/V006_77_0_00_10_01_13_0_c43_20201020_0127_S01_1_jpg.rf.320c3a6d4b3800770a4e18e8313eabe2.jpg: 480x640 2 fruits, 5.6ms\n",
      "image 45/70 /home/leedh/바탕화면/korean_melon/dataset/test/images/V006_77_0_00_10_01_13_0_c43_20201020_0131_S01_1_jpg.rf.03a1a640827e1364281b92d3214cd404.jpg: 480x640 1 fruit, 5.6ms\n",
      "image 46/70 /home/leedh/바탕화면/korean_melon/dataset/test/images/V006_77_0_00_10_01_13_0_c43_20201020_0150_S01_1_jpg.rf.38ccca923226f555557ab8e4b84dd538.jpg: 480x640 1 fruit, 5.6ms\n",
      "image 47/70 /home/leedh/바탕화면/korean_melon/dataset/test/images/V006_77_0_00_10_02_13_0_b08_20201027_0014_S01_1_jpg.rf.52521e28fe705ca473d497810c962a59.jpg: 480x640 2 flowers, 5.6ms\n",
      "image 48/70 /home/leedh/바탕화면/korean_melon/dataset/test/images/V006_77_0_00_10_02_13_0_b08_20201027_0024_S01_1_jpg.rf.b88fa6013a6b97950bfcdc547229e36c.jpg: 480x640 2 flowers, 5.6ms\n",
      "image 49/70 /home/leedh/바탕화면/korean_melon/dataset/test/images/V006_77_0_00_10_02_13_0_b08_20201027_0033_S01_1_jpg.rf.3649f0ae2fe7e902ecc9031d7570916d.jpg: 480x640 1 flower, 5.6ms\n",
      "image 50/70 /home/leedh/바탕화면/korean_melon/dataset/test/images/V006_77_0_00_10_02_13_0_b09_20201027_0003_S01_1_jpg.rf.ccf851a0d7041cb014764498edba9859.jpg: 320x640 2 flowers, 5.1ms\n",
      "image 51/70 /home/leedh/바탕화면/korean_melon/dataset/test/images/V006_77_0_00_10_02_13_0_c35_20201027_0008_S01_1_jpg.rf.51db2ca103972cf9856ce282ef8a6042.jpg: 480x640 1 flower, 5.9ms\n",
      "image 52/70 /home/leedh/바탕화면/korean_melon/dataset/test/images/V006_77_0_00_10_02_13_0_c35_20201027_0011_S01_1_jpg.rf.873b59f0361d5f36efacff9da9e6ca4a.jpg: 480x640 2 flowers, 5.6ms\n",
      "image 53/70 /home/leedh/바탕화면/korean_melon/dataset/test/images/V006_77_0_00_10_02_13_0_c35_20201027_0013_S01_1_jpg.rf.808a604a85783253cbd967a154883c1f.jpg: 480x640 1 flower, 5.7ms\n",
      "image 54/70 /home/leedh/바탕화면/korean_melon/dataset/test/images/V006_77_0_00_10_02_13_0_c35_20201027_0016_S01_1_jpg.rf.f44d55ba8b64a8a6cef15a4cbb88ee03.jpg: 480x640 2 flowers, 5.6ms\n",
      "image 55/70 /home/leedh/바탕화면/korean_melon/dataset/test/images/V006_77_0_00_10_02_13_0_c35_20201027_0027_S01_1_jpg.rf.e772afc8244a3bb9f396f4c3882a46b9.jpg: 480x640 1 flower, 5.6ms\n",
      "image 56/70 /home/leedh/바탕화면/korean_melon/dataset/test/images/V006_77_0_00_10_02_13_0_c35_20201027_0037_S01_1_jpg.rf.34e33bab625c088a316e3e20f42080ee.jpg: 480x640 2 flowers, 5.6ms\n",
      "image 57/70 /home/leedh/바탕화면/korean_melon/dataset/test/images/V006_77_0_00_10_02_13_0_c35_20201027_0038_S01_1_jpg.rf.89b0701a1ea0f1bc2dff0dc2130e1dc9.jpg: 480x640 1 flower, 5.6ms\n",
      "image 58/70 /home/leedh/바탕화면/korean_melon/dataset/test/images/V006_77_0_00_10_02_13_0_c35_20201027_0042_S01_1_jpg.rf.1102ea93787902a62774ac7f87a88b0b.jpg: 480x640 1 flower, 5.6ms\n",
      "image 59/70 /home/leedh/바탕화면/korean_melon/dataset/test/images/V006_77_0_00_10_02_13_0_c35_20201027_0050_S01_1_jpg.rf.a535479397c3c51063511399c5abe29c.jpg: 480x640 1 flower, 5.6ms\n",
      "image 60/70 /home/leedh/바탕화면/korean_melon/dataset/test/images/V006_77_0_00_10_02_13_0_c35_20201027_0051_S01_1_jpg.rf.d0812e468e859f82f7d3e19d07ed8767.jpg: 480x640 2 flowers, 5.6ms\n",
      "image 61/70 /home/leedh/바탕화면/korean_melon/dataset/test/images/V006_77_0_00_10_02_13_0_c35_20201027_0060_S01_1_jpg.rf.0450968a717860f9d63dbaabf9aa85b3.jpg: 480x640 1 flower, 5.6ms\n",
      "image 62/70 /home/leedh/바탕화면/korean_melon/dataset/test/images/V006_77_0_00_10_02_13_0_c35_20201027_0066_S01_1_jpg.rf.e5c3b7ce8296d5658ac98351336f5b89.jpg: 480x640 2 flowers, 5.6ms\n",
      "image 63/70 /home/leedh/바탕화면/korean_melon/dataset/test/images/V006_77_0_00_10_02_13_0_c43_20201027_0004_S01_1_jpg.rf.b83c366b8f8e03c65509b1dc1c9528f6.jpg: 480x640 1 flower, 5.6ms\n",
      "image 64/70 /home/leedh/바탕화면/korean_melon/dataset/test/images/V006_77_0_00_10_02_13_0_c43_20201027_0023_S01_1_jpg.rf.0907a66414a2c48cd6cc972a43ca85d3.jpg: 480x640 2 flowers, 5.6ms\n",
      "image 65/70 /home/leedh/바탕화면/korean_melon/dataset/test/images/V006_77_0_00_10_02_13_0_c43_20201027_0034_S01_1_jpg.rf.bca39b9e35e9750ce0941c1d0ec235d9.jpg: 480x640 1 flower, 5.6ms\n",
      "image 66/70 /home/leedh/바탕화면/korean_melon/dataset/test/images/V006_77_0_00_10_02_13_0_c43_20201027_0053_S01_1_jpg.rf.69e8d73073290caf1510925fe6c41a50.jpg: 480x640 1 flower, 5.6ms\n",
      "image 67/70 /home/leedh/바탕화면/korean_melon/dataset/test/images/V006_77_0_00_10_02_13_0_c43_20201027_0054_S01_1_jpg.rf.fcd4426481ba1bf872c77fbdad558731.jpg: 480x640 1 flower, 5.6ms\n",
      "image 68/70 /home/leedh/바탕화면/korean_melon/dataset/test/images/V006_77_0_00_10_02_13_0_c43_20201027_0062_S01_1_jpg.rf.ea3d26d861a301863d6ece280b0ae7d2.jpg: 480x640 3 flowers, 5.6ms\n",
      "image 69/70 /home/leedh/바탕화면/korean_melon/dataset/test/images/V006_77_0_00_10_02_13_0_c43_20201027_0065_S01_1_jpg.rf.d50b35bb15ec2e112f804928094b7fc6.jpg: 480x640 2 flowers, 5.7ms\n",
      "image 70/70 /home/leedh/바탕화면/korean_melon/dataset/test/images/V006_77_0_00_10_02_13_0_c43_20201027_0071_S01_1_jpg.rf.4a25f92385cd08f0e6e4c21e06c14cea.jpg: 480x640 2 flowers, 5.6ms\n",
      "Speed: 1.2ms preprocess, 5.9ms inference, 0.2ms postprocess per image at shape (1, 3, 480, 640)\n",
      "Results saved to \u001b[1mruns/PID2/CID0/v10x/test_predict\u001b[0m\n"
     ]
    }
   ],
   "source": [
    "# 실제 validation에 대한 predict 결과 저장\n",
    "pred_results = best_model(\n",
    "    source='./dataset/test/images',\n",
    "    conf=train_params['conf'],          # default: 0.25\n",
    "    save=True,\n",
    "    project=f\"{train_params['project']}/{train_params['name']}\",    # Name of the project directory where training outputs are saved\n",
    "    name='test_predict',                 # Name of the project\n",
    ")"
   ]
  }
 ],
 "metadata": {
  "kernelspec": {
   "display_name": "yolov11",
   "language": "python",
   "name": "python3"
  },
  "language_info": {
   "codemirror_mode": {
    "name": "ipython",
    "version": 3
   },
   "file_extension": ".py",
   "mimetype": "text/x-python",
   "name": "python",
   "nbconvert_exporter": "python",
   "pygments_lexer": "ipython3",
   "version": "3.8.20"
  }
 },
 "nbformat": 4,
 "nbformat_minor": 2
}
