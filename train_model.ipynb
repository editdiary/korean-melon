{
 "cells": [
  {
   "cell_type": "code",
   "execution_count": 1,
   "metadata": {},
   "outputs": [
    {
     "name": "stdout",
     "output_type": "stream",
     "text": [
      "PyTorch version: 2.4.1+cu121\n",
      "CUDA version: 12.1\n",
      "GPU available: True\n",
      "GPU name: NVIDIA GeForce RTX 4090\n"
     ]
    }
   ],
   "source": [
    "# GPU 사용 가능 여부 확인\n",
    "import torch\n",
    "import random\n",
    "import numpy as np\n",
    "\n",
    "print(f\"PyTorch version: {torch.__version__}\")\n",
    "print(f\"CUDA version: {torch.version.cuda}\")\n",
    "print(f\"GPU available: {torch.cuda.is_available()}\")\n",
    "print(f\"GPU name: {torch.cuda.get_device_name(0) if torch.cuda.is_available() else 'None'}\")"
   ]
  },
  {
   "cell_type": "code",
   "execution_count": 2,
   "metadata": {},
   "outputs": [],
   "source": [
    "# 모델 재현을 위한 랜덤시드 고정\n",
    "def set_random_seed(seed_value=42):\n",
    "    # Python의 기본 난수 시드 설정\n",
    "    random.seed(seed_value)\n",
    "    # NumPy 난수 시드 설정\n",
    "    np.random.seed(seed_value)\n",
    "    # PyTorch 난수 시드 설정 (CPU)\n",
    "    torch.manual_seed(seed_value)\n",
    "    # PyTorch 난수 시드 설정 (GPU)\n",
    "    torch.cuda.manual_seed(seed_value)\n",
    "    torch.cuda.manual_seed_all(seed_value)\n",
    "    # CuDNN 설정\n",
    "    torch.backends.cudnn.deterministic = True\n",
    "    torch.backends.cudnn.benchmark = False\n",
    "\n",
    "set_random_seed()"
   ]
  },
  {
   "cell_type": "code",
   "execution_count": null,
   "metadata": {},
   "outputs": [],
   "source": [
    "# 사전학습된 가중치 파일 불러오기\n",
    "from ultralytics import YOLO\n",
    "\n",
    "model = YOLO('./models/yolov10s.pt')"
   ]
  },
  {
   "cell_type": "code",
   "execution_count": null,
   "metadata": {},
   "outputs": [],
   "source": [
    "# train 파라미터 설정\n",
    "train_params = {\n",
    "    'data': 'data.yaml',            # 데이터셋 설정 파일\n",
    "    #'cfg': 'custom_params.yaml',   # 커스텀 파라미터 파일\n",
    "    'epochs': 100,\n",
    "    'imgsz': 640,\n",
    "    'batch': 32,\n",
    "    'project': './runs',            # 결과가 저장될 폴더 이름\n",
    "    'name': 'temp',                 # 결과가 저장될 하위 폴더 이름\n",
    "    'seed': 42,\n",
    "    #'optimizer': 'adam',           # default='auto' - Options include SGD, Adam, AdamW, NAdam, RAdam, RMSProp etc.\n",
    "    'lr0': 0.01,\n",
    "    'lrf': 0.01,\n",
    "    'conf': 0.05,\n",
    "    'save_json': True,\n",
    "}"
   ]
  },
  {
   "cell_type": "code",
   "execution_count": 5,
   "metadata": {},
   "outputs": [
    {
     "name": "stdout",
     "output_type": "stream",
     "text": [
      "Ultralytics 8.3.31 🚀 Python-3.8.20 torch-2.4.1+cu121 CUDA:0 (NVIDIA GeForce RTX 4090, 24184MiB)\n",
      "\u001b[34m\u001b[1mengine/trainer: \u001b[0mtask=detect, mode=train, model=./models/yolov10b.pt, data=/home/leedh/바탕화면/korean_melon/dataset/data.yaml, epochs=100, time=None, patience=100, batch=32, imgsz=640, save=True, save_period=-1, cache=False, device=None, workers=8, project=./runs, name=v10b_baseline, exist_ok=False, pretrained=True, optimizer=auto, verbose=True, seed=42, deterministic=True, single_cls=False, rect=False, cos_lr=False, close_mosaic=10, resume=False, amp=True, fraction=1.0, profile=False, freeze=None, multi_scale=False, overlap_mask=True, mask_ratio=4, dropout=0.0, val=True, split=val, save_json=True, save_hybrid=False, conf=0.05, iou=0.7, max_det=300, half=False, dnn=False, plots=True, source=None, vid_stride=1, stream_buffer=False, visualize=False, augment=False, agnostic_nms=False, classes=None, retina_masks=False, embed=None, show=False, save_frames=False, save_txt=False, save_conf=False, save_crop=False, show_labels=True, show_conf=True, show_boxes=True, line_width=None, format=torchscript, keras=False, optimize=False, int8=False, dynamic=False, simplify=True, opset=None, workspace=4, nms=False, lr0=0.01, lrf=0.01, momentum=0.937, weight_decay=0.0005, warmup_epochs=3.0, warmup_momentum=0.8, warmup_bias_lr=0.1, box=7.5, cls=0.5, dfl=1.5, pose=12.0, kobj=1.0, label_smoothing=0.0, nbs=64, hsv_h=0.015, hsv_s=0.7, hsv_v=0.4, degrees=0.0, translate=0.1, scale=0.5, shear=0.0, perspective=0.0, flipud=0.0, fliplr=0.5, bgr=0.0, mosaic=1.0, mixup=0.0, copy_paste=0.0, copy_paste_mode=flip, auto_augment=randaugment, erasing=0.4, crop_fraction=1.0, cfg=None, tracker=botsort.yaml, save_dir=runs/v10b_baseline\n",
      "Overriding model.yaml nc=80 with nc=2\n",
      "WARNING ⚠️ no model scale passed. Assuming scale='b'.\n",
      "\n",
      "                   from  n    params  module                                       arguments                     \n",
      "  0                  -1  1      1856  ultralytics.nn.modules.conv.Conv             [3, 64, 3, 2]                 \n",
      "  1                  -1  1     73984  ultralytics.nn.modules.conv.Conv             [64, 128, 3, 2]               \n",
      "  2                  -1  2    197632  ultralytics.nn.modules.block.C2f             [128, 128, 2, True]           \n",
      "  3                  -1  1    295424  ultralytics.nn.modules.conv.Conv             [128, 256, 3, 2]              \n",
      "  4                  -1  4   1444864  ultralytics.nn.modules.block.C2f             [256, 256, 4, True]           \n",
      "  5                  -1  1    137728  ultralytics.nn.modules.block.SCDown          [256, 512, 3, 2]              \n",
      "  6                  -1  4   5773312  ultralytics.nn.modules.block.C2f             [512, 512, 4, True]           \n",
      "  7                  -1  1    268800  ultralytics.nn.modules.block.SCDown          [512, 512, 3, 2]              \n",
      "  8                  -1  2   1338368  ultralytics.nn.modules.block.C2fCIB          [512, 512, 2, True]           \n",
      "  9                  -1  1    656896  ultralytics.nn.modules.block.SPPF            [512, 512, 5]                 \n",
      " 10                  -1  1    990976  ultralytics.nn.modules.block.PSA             [512, 512]                    \n",
      " 11                  -1  1         0  torch.nn.modules.upsampling.Upsample         [None, 2, 'nearest']          \n",
      " 12             [-1, 6]  1         0  ultralytics.nn.modules.conv.Concat           [1]                           \n",
      " 13                  -1  2   1600512  ultralytics.nn.modules.block.C2fCIB          [1024, 512, 2, True]          \n",
      " 14                  -1  1         0  torch.nn.modules.upsampling.Upsample         [None, 2, 'nearest']          \n",
      " 15             [-1, 4]  1         0  ultralytics.nn.modules.conv.Concat           [1]                           \n",
      " 16                  -1  2    919552  ultralytics.nn.modules.block.C2f             [768, 256, 2]                 \n",
      " 17                  -1  1    590336  ultralytics.nn.modules.conv.Conv             [256, 256, 3, 2]              \n",
      " 18            [-1, 13]  1         0  ultralytics.nn.modules.conv.Concat           [1]                           \n",
      " 19                  -1  2   1469440  ultralytics.nn.modules.block.C2fCIB          [768, 512, 2, True]           \n",
      " 20                  -1  1    268800  ultralytics.nn.modules.block.SCDown          [512, 512, 3, 2]              \n",
      " 21            [-1, 10]  1         0  ultralytics.nn.modules.conv.Concat           [1]                           \n",
      " 22                  -1  2   1600512  ultralytics.nn.modules.block.C2fCIB          [1024, 512, 2, True]          \n",
      " 23        [16, 19, 22]  1   2825116  ultralytics.nn.modules.head.v10Detect        [2, [256, 512, 512]]          \n",
      "YOLOv10b summary: 518 layers, 20,454,108 parameters, 20,454,092 gradients, 98.7 GFLOPs\n",
      "\n",
      "Transferred 823/835 items from pretrained weights\n",
      "Freezing layer 'model.23.dfl.conv.weight'\n",
      "\u001b[34m\u001b[1mAMP: \u001b[0mrunning Automatic Mixed Precision (AMP) checks...\n",
      "\u001b[34m\u001b[1mAMP: \u001b[0mchecks passed ✅\n"
     ]
    },
    {
     "name": "stderr",
     "output_type": "stream",
     "text": [
      "\u001b[34m\u001b[1mtrain: \u001b[0mScanning /home/leedh/바탕화면/korean_melon/dataset/train/labels.cache... 508 images, 0 backgrounds, 0 corrupt: 100%|██████████| 508/508 [00:00<?, ?it/s]\n",
      "\u001b[34m\u001b[1mval: \u001b[0mScanning /home/leedh/바탕화면/korean_melon/dataset/valid/labels.cache... 101 images, 0 backgrounds, 0 corrupt: 100%|██████████| 101/101 [00:00<?, ?it/s]\n"
     ]
    },
    {
     "name": "stdout",
     "output_type": "stream",
     "text": [
      "Plotting labels to runs/v10b_baseline/labels.jpg... \n",
      "\u001b[34m\u001b[1moptimizer:\u001b[0m 'optimizer=auto' found, ignoring 'lr0=0.01' and 'momentum=0.937' and determining best 'optimizer', 'lr0' and 'momentum' automatically... \n",
      "\u001b[34m\u001b[1moptimizer:\u001b[0m AdamW(lr=0.001667, momentum=0.9) with parameter groups 135 weight(decay=0.0), 148 weight(decay=0.0005), 147 bias(decay=0.0)\n",
      "Image sizes 640 train, 640 val\n",
      "Using 8 dataloader workers\n",
      "Logging results to \u001b[1mruns/v10b_baseline\u001b[0m\n",
      "Starting training for 100 epochs...\n",
      "\n",
      "      Epoch    GPU_mem   box_loss   cls_loss   dfl_loss  Instances       Size\n"
     ]
    },
    {
     "name": "stderr",
     "output_type": "stream",
     "text": [
      "      1/100      22.9G      1.401      7.616       2.54         75        640: 100%|██████████| 16/16 [00:06<00:00,  2.64it/s]\n",
      "                 Class     Images  Instances      Box(P          R      mAP50  mAP50-95): 100%|██████████| 2/2 [00:00<00:00,  3.33it/s]"
     ]
    },
    {
     "name": "stdout",
     "output_type": "stream",
     "text": [
      "                   all        101        135      0.739       0.47       0.55      0.466\n"
     ]
    },
    {
     "name": "stderr",
     "output_type": "stream",
     "text": [
      "\n"
     ]
    },
    {
     "name": "stdout",
     "output_type": "stream",
     "text": [
      "\n",
      "      Epoch    GPU_mem   box_loss   cls_loss   dfl_loss  Instances       Size\n"
     ]
    },
    {
     "name": "stderr",
     "output_type": "stream",
     "text": [
      "      2/100        23G      1.547      3.441      2.414         76        640: 100%|██████████| 16/16 [00:04<00:00,  3.60it/s]\n",
      "                 Class     Images  Instances      Box(P          R      mAP50  mAP50-95): 100%|██████████| 2/2 [00:00<00:00,  3.49it/s]"
     ]
    },
    {
     "name": "stdout",
     "output_type": "stream",
     "text": [
      "                   all        101        135    0.00104    0.00926   0.000528   0.000106\n"
     ]
    },
    {
     "name": "stderr",
     "output_type": "stream",
     "text": [
      "\n"
     ]
    },
    {
     "name": "stdout",
     "output_type": "stream",
     "text": [
      "\n",
      "      Epoch    GPU_mem   box_loss   cls_loss   dfl_loss  Instances       Size\n"
     ]
    },
    {
     "name": "stderr",
     "output_type": "stream",
     "text": [
      "      3/100      23.1G      1.665       2.47      2.471         79        640: 100%|██████████| 16/16 [00:04<00:00,  3.60it/s]\n",
      "                 Class     Images  Instances      Box(P          R      mAP50  mAP50-95): 100%|██████████| 2/2 [00:00<00:00,  3.87it/s]"
     ]
    },
    {
     "name": "stdout",
     "output_type": "stream",
     "text": [
      "                   all        101        135    0.00104    0.00926   0.000528   0.000106\n"
     ]
    },
    {
     "name": "stderr",
     "output_type": "stream",
     "text": [
      "\n"
     ]
    },
    {
     "name": "stdout",
     "output_type": "stream",
     "text": [
      "\n",
      "      Epoch    GPU_mem   box_loss   cls_loss   dfl_loss  Instances       Size\n"
     ]
    },
    {
     "name": "stderr",
     "output_type": "stream",
     "text": [
      "      4/100        23G      1.797      2.082      2.525         64        640: 100%|██████████| 16/16 [00:04<00:00,  3.68it/s]\n",
      "                 Class     Images  Instances      Box(P          R      mAP50  mAP50-95): 100%|██████████| 2/2 [00:00<00:00,  3.76it/s]"
     ]
    },
    {
     "name": "stdout",
     "output_type": "stream",
     "text": [
      "                   all        101        135    0.00144     0.0185   0.000369   0.000145\n"
     ]
    },
    {
     "name": "stderr",
     "output_type": "stream",
     "text": [
      "\n"
     ]
    },
    {
     "name": "stdout",
     "output_type": "stream",
     "text": [
      "\n",
      "      Epoch    GPU_mem   box_loss   cls_loss   dfl_loss  Instances       Size\n"
     ]
    },
    {
     "name": "stderr",
     "output_type": "stream",
     "text": [
      "      5/100        23G      1.777      2.076      2.522         60        640: 100%|██████████| 16/16 [00:04<00:00,  3.69it/s]\n",
      "                 Class     Images  Instances      Box(P          R      mAP50  mAP50-95): 100%|██████████| 2/2 [00:00<00:00,  3.83it/s]"
     ]
    },
    {
     "name": "stdout",
     "output_type": "stream",
     "text": [
      "                   all        101        135    0.00144     0.0185   0.000369   0.000145\n"
     ]
    },
    {
     "name": "stderr",
     "output_type": "stream",
     "text": [
      "\n"
     ]
    },
    {
     "name": "stdout",
     "output_type": "stream",
     "text": [
      "\n",
      "      Epoch    GPU_mem   box_loss   cls_loss   dfl_loss  Instances       Size\n"
     ]
    },
    {
     "name": "stderr",
     "output_type": "stream",
     "text": [
      "      6/100        23G      1.743      1.929      2.492         78        640: 100%|██████████| 16/16 [00:04<00:00,  3.69it/s]\n",
      "                 Class     Images  Instances      Box(P          R      mAP50  mAP50-95): 100%|██████████| 2/2 [00:00<00:00,  3.85it/s]"
     ]
    },
    {
     "name": "stdout",
     "output_type": "stream",
     "text": [
      "                   all        101        135    0.00144     0.0185   0.000369   0.000145\n"
     ]
    },
    {
     "name": "stderr",
     "output_type": "stream",
     "text": [
      "\n"
     ]
    },
    {
     "name": "stdout",
     "output_type": "stream",
     "text": [
      "\n",
      "      Epoch    GPU_mem   box_loss   cls_loss   dfl_loss  Instances       Size\n"
     ]
    },
    {
     "name": "stderr",
     "output_type": "stream",
     "text": [
      "      7/100      23.1G      1.791      1.983      2.549         73        640: 100%|██████████| 16/16 [00:04<00:00,  3.69it/s]\n",
      "                 Class     Images  Instances      Box(P          R      mAP50  mAP50-95): 100%|██████████| 2/2 [00:00<00:00,  3.86it/s]"
     ]
    },
    {
     "name": "stdout",
     "output_type": "stream",
     "text": [
      "                   all        101        135    0.00144     0.0185   0.000369   0.000145\n"
     ]
    },
    {
     "name": "stderr",
     "output_type": "stream",
     "text": [
      "\n"
     ]
    },
    {
     "name": "stdout",
     "output_type": "stream",
     "text": [
      "\n",
      "      Epoch    GPU_mem   box_loss   cls_loss   dfl_loss  Instances       Size\n"
     ]
    },
    {
     "name": "stderr",
     "output_type": "stream",
     "text": [
      "      8/100      23.1G      1.673      1.911      2.467         88        640: 100%|██████████| 16/16 [00:04<00:00,  3.70it/s]\n",
      "                 Class     Images  Instances      Box(P          R      mAP50  mAP50-95): 100%|██████████| 2/2 [00:00<00:00,  3.82it/s]"
     ]
    },
    {
     "name": "stdout",
     "output_type": "stream",
     "text": [
      "                   all        101        135       0.05     0.0247     0.0264     0.0124\n"
     ]
    },
    {
     "name": "stderr",
     "output_type": "stream",
     "text": [
      "\n"
     ]
    },
    {
     "name": "stdout",
     "output_type": "stream",
     "text": [
      "\n",
      "      Epoch    GPU_mem   box_loss   cls_loss   dfl_loss  Instances       Size\n"
     ]
    },
    {
     "name": "stderr",
     "output_type": "stream",
     "text": [
      "      9/100        23G      1.659       1.88      2.489         72        640: 100%|██████████| 16/16 [00:04<00:00,  3.69it/s]\n",
      "                 Class     Images  Instances      Box(P          R      mAP50  mAP50-95): 100%|██████████| 2/2 [00:00<00:00,  3.79it/s]"
     ]
    },
    {
     "name": "stdout",
     "output_type": "stream",
     "text": [
      "                   all        101        135      0.236      0.132      0.147     0.0765\n"
     ]
    },
    {
     "name": "stderr",
     "output_type": "stream",
     "text": [
      "\n"
     ]
    },
    {
     "name": "stdout",
     "output_type": "stream",
     "text": [
      "\n",
      "      Epoch    GPU_mem   box_loss   cls_loss   dfl_loss  Instances       Size\n"
     ]
    },
    {
     "name": "stderr",
     "output_type": "stream",
     "text": [
      "     10/100        23G      1.631      1.703      2.438         76        640: 100%|██████████| 16/16 [00:04<00:00,  3.69it/s]\n",
      "                 Class     Images  Instances      Box(P          R      mAP50  mAP50-95): 100%|██████████| 2/2 [00:00<00:00,  3.62it/s]"
     ]
    },
    {
     "name": "stdout",
     "output_type": "stream",
     "text": [
      "                   all        101        135      0.328      0.307       0.29      0.202\n"
     ]
    },
    {
     "name": "stderr",
     "output_type": "stream",
     "text": [
      "\n"
     ]
    },
    {
     "name": "stdout",
     "output_type": "stream",
     "text": [
      "\n",
      "      Epoch    GPU_mem   box_loss   cls_loss   dfl_loss  Instances       Size\n"
     ]
    },
    {
     "name": "stderr",
     "output_type": "stream",
     "text": [
      "     11/100        23G      1.581      1.595      2.413         65        640: 100%|██████████| 16/16 [00:04<00:00,  3.69it/s]\n",
      "                 Class     Images  Instances      Box(P          R      mAP50  mAP50-95): 100%|██████████| 2/2 [00:00<00:00,  3.57it/s]"
     ]
    },
    {
     "name": "stdout",
     "output_type": "stream",
     "text": [
      "                   all        101        135      0.492      0.333      0.324      0.244\n"
     ]
    },
    {
     "name": "stderr",
     "output_type": "stream",
     "text": [
      "\n"
     ]
    },
    {
     "name": "stdout",
     "output_type": "stream",
     "text": [
      "\n",
      "      Epoch    GPU_mem   box_loss   cls_loss   dfl_loss  Instances       Size\n"
     ]
    },
    {
     "name": "stderr",
     "output_type": "stream",
     "text": [
      "     12/100        23G       1.56      1.586      2.411         74        640: 100%|██████████| 16/16 [00:04<00:00,  3.70it/s]\n",
      "                 Class     Images  Instances      Box(P          R      mAP50  mAP50-95): 100%|██████████| 2/2 [00:00<00:00,  3.67it/s]"
     ]
    },
    {
     "name": "stdout",
     "output_type": "stream",
     "text": [
      "                   all        101        135      0.447      0.241      0.293      0.214\n"
     ]
    },
    {
     "name": "stderr",
     "output_type": "stream",
     "text": [
      "\n"
     ]
    },
    {
     "name": "stdout",
     "output_type": "stream",
     "text": [
      "\n",
      "      Epoch    GPU_mem   box_loss   cls_loss   dfl_loss  Instances       Size\n"
     ]
    },
    {
     "name": "stderr",
     "output_type": "stream",
     "text": [
      "     13/100        23G      1.536      1.574      2.385         64        640: 100%|██████████| 16/16 [00:04<00:00,  3.69it/s]\n",
      "                 Class     Images  Instances      Box(P          R      mAP50  mAP50-95): 100%|██████████| 2/2 [00:00<00:00,  3.63it/s]"
     ]
    },
    {
     "name": "stdout",
     "output_type": "stream",
     "text": [
      "                   all        101        135      0.583      0.593      0.576       0.46\n"
     ]
    },
    {
     "name": "stderr",
     "output_type": "stream",
     "text": [
      "\n"
     ]
    },
    {
     "name": "stdout",
     "output_type": "stream",
     "text": [
      "\n",
      "      Epoch    GPU_mem   box_loss   cls_loss   dfl_loss  Instances       Size\n"
     ]
    },
    {
     "name": "stderr",
     "output_type": "stream",
     "text": [
      "     14/100        23G      1.401      1.491      2.297         76        640: 100%|██████████| 16/16 [00:04<00:00,  3.69it/s]\n",
      "                 Class     Images  Instances      Box(P          R      mAP50  mAP50-95): 100%|██████████| 2/2 [00:00<00:00,  3.61it/s]"
     ]
    },
    {
     "name": "stdout",
     "output_type": "stream",
     "text": [
      "                   all        101        135      0.787      0.685      0.731      0.611\n"
     ]
    },
    {
     "name": "stderr",
     "output_type": "stream",
     "text": [
      "\n"
     ]
    },
    {
     "name": "stdout",
     "output_type": "stream",
     "text": [
      "\n",
      "      Epoch    GPU_mem   box_loss   cls_loss   dfl_loss  Instances       Size\n"
     ]
    },
    {
     "name": "stderr",
     "output_type": "stream",
     "text": [
      "     15/100      23.1G      1.344      1.332      2.214         82        640: 100%|██████████| 16/16 [00:04<00:00,  3.69it/s]\n",
      "                 Class     Images  Instances      Box(P          R      mAP50  mAP50-95): 100%|██████████| 2/2 [00:00<00:00,  3.62it/s]"
     ]
    },
    {
     "name": "stdout",
     "output_type": "stream",
     "text": [
      "                   all        101        135      0.776      0.644      0.721      0.615\n"
     ]
    },
    {
     "name": "stderr",
     "output_type": "stream",
     "text": [
      "\n"
     ]
    },
    {
     "name": "stdout",
     "output_type": "stream",
     "text": [
      "\n",
      "      Epoch    GPU_mem   box_loss   cls_loss   dfl_loss  Instances       Size\n"
     ]
    },
    {
     "name": "stderr",
     "output_type": "stream",
     "text": [
      "     16/100      23.1G      1.396      1.395      2.287         75        640: 100%|██████████| 16/16 [00:04<00:00,  3.70it/s]\n",
      "                 Class     Images  Instances      Box(P          R      mAP50  mAP50-95): 100%|██████████| 2/2 [00:00<00:00,  3.61it/s]"
     ]
    },
    {
     "name": "stdout",
     "output_type": "stream",
     "text": [
      "                   all        101        135      0.714      0.618      0.686      0.562\n"
     ]
    },
    {
     "name": "stderr",
     "output_type": "stream",
     "text": [
      "\n"
     ]
    },
    {
     "name": "stdout",
     "output_type": "stream",
     "text": [
      "\n",
      "      Epoch    GPU_mem   box_loss   cls_loss   dfl_loss  Instances       Size\n"
     ]
    },
    {
     "name": "stderr",
     "output_type": "stream",
     "text": [
      "     17/100        23G      1.419      1.347      2.286         75        640: 100%|██████████| 16/16 [00:04<00:00,  3.69it/s]\n",
      "                 Class     Images  Instances      Box(P          R      mAP50  mAP50-95): 100%|██████████| 2/2 [00:00<00:00,  3.63it/s]"
     ]
    },
    {
     "name": "stdout",
     "output_type": "stream",
     "text": [
      "                   all        101        135      0.738      0.519      0.623      0.524\n"
     ]
    },
    {
     "name": "stderr",
     "output_type": "stream",
     "text": [
      "\n"
     ]
    },
    {
     "name": "stdout",
     "output_type": "stream",
     "text": [
      "\n",
      "      Epoch    GPU_mem   box_loss   cls_loss   dfl_loss  Instances       Size\n"
     ]
    },
    {
     "name": "stderr",
     "output_type": "stream",
     "text": [
      "     18/100        23G      1.435      1.361      2.304         77        640: 100%|██████████| 16/16 [00:04<00:00,  3.70it/s]\n",
      "                 Class     Images  Instances      Box(P          R      mAP50  mAP50-95): 100%|██████████| 2/2 [00:00<00:00,  3.60it/s]"
     ]
    },
    {
     "name": "stdout",
     "output_type": "stream",
     "text": [
      "                   all        101        135       0.86      0.638      0.749      0.635\n"
     ]
    },
    {
     "name": "stderr",
     "output_type": "stream",
     "text": [
      "\n"
     ]
    },
    {
     "name": "stdout",
     "output_type": "stream",
     "text": [
      "\n",
      "      Epoch    GPU_mem   box_loss   cls_loss   dfl_loss  Instances       Size\n"
     ]
    },
    {
     "name": "stderr",
     "output_type": "stream",
     "text": [
      "     19/100      23.1G      1.362      1.397      2.261         79        640: 100%|██████████| 16/16 [00:04<00:00,  3.69it/s]\n",
      "                 Class     Images  Instances      Box(P          R      mAP50  mAP50-95): 100%|██████████| 2/2 [00:00<00:00,  3.63it/s]"
     ]
    },
    {
     "name": "stdout",
     "output_type": "stream",
     "text": [
      "                   all        101        135      0.854      0.628      0.786      0.703\n"
     ]
    },
    {
     "name": "stderr",
     "output_type": "stream",
     "text": [
      "\n"
     ]
    },
    {
     "name": "stdout",
     "output_type": "stream",
     "text": [
      "\n",
      "      Epoch    GPU_mem   box_loss   cls_loss   dfl_loss  Instances       Size\n"
     ]
    },
    {
     "name": "stderr",
     "output_type": "stream",
     "text": [
      "     20/100      23.1G      1.305      1.246      2.201         74        640: 100%|██████████| 16/16 [00:04<00:00,  3.69it/s]\n",
      "                 Class     Images  Instances      Box(P          R      mAP50  mAP50-95): 100%|██████████| 2/2 [00:00<00:00,  3.59it/s]"
     ]
    },
    {
     "name": "stdout",
     "output_type": "stream",
     "text": [
      "                   all        101        135       0.72      0.695      0.742      0.645\n"
     ]
    },
    {
     "name": "stderr",
     "output_type": "stream",
     "text": [
      "\n"
     ]
    },
    {
     "name": "stdout",
     "output_type": "stream",
     "text": [
      "\n",
      "      Epoch    GPU_mem   box_loss   cls_loss   dfl_loss  Instances       Size\n"
     ]
    },
    {
     "name": "stderr",
     "output_type": "stream",
     "text": [
      "     21/100        23G      1.369      1.308      2.284         67        640: 100%|██████████| 16/16 [00:04<00:00,  3.70it/s]\n",
      "                 Class     Images  Instances      Box(P          R      mAP50  mAP50-95): 100%|██████████| 2/2 [00:00<00:00,  3.56it/s]"
     ]
    },
    {
     "name": "stdout",
     "output_type": "stream",
     "text": [
      "                   all        101        135      0.839      0.713      0.807      0.692\n"
     ]
    },
    {
     "name": "stderr",
     "output_type": "stream",
     "text": [
      "\n"
     ]
    },
    {
     "name": "stdout",
     "output_type": "stream",
     "text": [
      "\n",
      "      Epoch    GPU_mem   box_loss   cls_loss   dfl_loss  Instances       Size\n"
     ]
    },
    {
     "name": "stderr",
     "output_type": "stream",
     "text": [
      "     22/100      23.1G      1.284      1.239      2.207         79        640: 100%|██████████| 16/16 [00:04<00:00,  3.69it/s]\n",
      "                 Class     Images  Instances      Box(P          R      mAP50  mAP50-95): 100%|██████████| 2/2 [00:00<00:00,  3.61it/s]"
     ]
    },
    {
     "name": "stdout",
     "output_type": "stream",
     "text": [
      "                   all        101        135      0.734      0.728      0.801      0.681\n"
     ]
    },
    {
     "name": "stderr",
     "output_type": "stream",
     "text": [
      "\n"
     ]
    },
    {
     "name": "stdout",
     "output_type": "stream",
     "text": [
      "\n",
      "      Epoch    GPU_mem   box_loss   cls_loss   dfl_loss  Instances       Size\n"
     ]
    },
    {
     "name": "stderr",
     "output_type": "stream",
     "text": [
      "     23/100      23.1G      1.338      1.302      2.246         67        640: 100%|██████████| 16/16 [00:04<00:00,  3.69it/s]\n",
      "                 Class     Images  Instances      Box(P          R      mAP50  mAP50-95): 100%|██████████| 2/2 [00:00<00:00,  3.60it/s]"
     ]
    },
    {
     "name": "stdout",
     "output_type": "stream",
     "text": [
      "                   all        101        135      0.818      0.704      0.798      0.683\n"
     ]
    },
    {
     "name": "stderr",
     "output_type": "stream",
     "text": [
      "\n"
     ]
    },
    {
     "name": "stdout",
     "output_type": "stream",
     "text": [
      "\n",
      "      Epoch    GPU_mem   box_loss   cls_loss   dfl_loss  Instances       Size\n"
     ]
    },
    {
     "name": "stderr",
     "output_type": "stream",
     "text": [
      "     24/100      23.1G      1.292      1.188      2.212         73        640: 100%|██████████| 16/16 [00:04<00:00,  3.69it/s]\n",
      "                 Class     Images  Instances      Box(P          R      mAP50  mAP50-95): 100%|██████████| 2/2 [00:00<00:00,  3.60it/s]"
     ]
    },
    {
     "name": "stdout",
     "output_type": "stream",
     "text": [
      "                   all        101        135      0.731      0.575      0.685      0.588\n"
     ]
    },
    {
     "name": "stderr",
     "output_type": "stream",
     "text": [
      "\n"
     ]
    },
    {
     "name": "stdout",
     "output_type": "stream",
     "text": [
      "\n",
      "      Epoch    GPU_mem   box_loss   cls_loss   dfl_loss  Instances       Size\n"
     ]
    },
    {
     "name": "stderr",
     "output_type": "stream",
     "text": [
      "     25/100        23G      1.273      1.156      2.175         90        640: 100%|██████████| 16/16 [00:04<00:00,  3.68it/s]\n",
      "                 Class     Images  Instances      Box(P          R      mAP50  mAP50-95): 100%|██████████| 2/2 [00:00<00:00,  3.65it/s]"
     ]
    },
    {
     "name": "stdout",
     "output_type": "stream",
     "text": [
      "                   all        101        135      0.932      0.706      0.878      0.791\n"
     ]
    },
    {
     "name": "stderr",
     "output_type": "stream",
     "text": [
      "\n"
     ]
    },
    {
     "name": "stdout",
     "output_type": "stream",
     "text": [
      "\n",
      "      Epoch    GPU_mem   box_loss   cls_loss   dfl_loss  Instances       Size\n"
     ]
    },
    {
     "name": "stderr",
     "output_type": "stream",
     "text": [
      "     26/100        23G      1.243      1.116      2.165         75        640: 100%|██████████| 16/16 [00:04<00:00,  3.69it/s]\n",
      "                 Class     Images  Instances      Box(P          R      mAP50  mAP50-95): 100%|██████████| 2/2 [00:00<00:00,  3.56it/s]"
     ]
    },
    {
     "name": "stdout",
     "output_type": "stream",
     "text": [
      "                   all        101        135      0.733      0.783       0.82      0.727\n"
     ]
    },
    {
     "name": "stderr",
     "output_type": "stream",
     "text": [
      "\n"
     ]
    },
    {
     "name": "stdout",
     "output_type": "stream",
     "text": [
      "\n",
      "      Epoch    GPU_mem   box_loss   cls_loss   dfl_loss  Instances       Size\n"
     ]
    },
    {
     "name": "stderr",
     "output_type": "stream",
     "text": [
      "     27/100      23.1G      1.247      1.106      2.205         62        640: 100%|██████████| 16/16 [00:04<00:00,  3.69it/s]\n",
      "                 Class     Images  Instances      Box(P          R      mAP50  mAP50-95): 100%|██████████| 2/2 [00:00<00:00,  3.62it/s]"
     ]
    },
    {
     "name": "stdout",
     "output_type": "stream",
     "text": [
      "                   all        101        135      0.887       0.71      0.828      0.695\n"
     ]
    },
    {
     "name": "stderr",
     "output_type": "stream",
     "text": [
      "\n"
     ]
    },
    {
     "name": "stdout",
     "output_type": "stream",
     "text": [
      "\n",
      "      Epoch    GPU_mem   box_loss   cls_loss   dfl_loss  Instances       Size\n"
     ]
    },
    {
     "name": "stderr",
     "output_type": "stream",
     "text": [
      "     28/100        23G      1.264      1.188      2.203         75        640: 100%|██████████| 16/16 [00:04<00:00,  3.69it/s]\n",
      "                 Class     Images  Instances      Box(P          R      mAP50  mAP50-95): 100%|██████████| 2/2 [00:00<00:00,  3.60it/s]"
     ]
    },
    {
     "name": "stdout",
     "output_type": "stream",
     "text": [
      "                   all        101        135      0.819       0.79      0.854      0.762\n"
     ]
    },
    {
     "name": "stderr",
     "output_type": "stream",
     "text": [
      "\n"
     ]
    },
    {
     "name": "stdout",
     "output_type": "stream",
     "text": [
      "\n",
      "      Epoch    GPU_mem   box_loss   cls_loss   dfl_loss  Instances       Size\n"
     ]
    },
    {
     "name": "stderr",
     "output_type": "stream",
     "text": [
      "     29/100      23.1G      1.241      1.118      2.178         66        640: 100%|██████████| 16/16 [00:04<00:00,  3.69it/s]\n",
      "                 Class     Images  Instances      Box(P          R      mAP50  mAP50-95): 100%|██████████| 2/2 [00:00<00:00,  3.59it/s]"
     ]
    },
    {
     "name": "stdout",
     "output_type": "stream",
     "text": [
      "                   all        101        135      0.831      0.679      0.823      0.744\n"
     ]
    },
    {
     "name": "stderr",
     "output_type": "stream",
     "text": [
      "\n"
     ]
    },
    {
     "name": "stdout",
     "output_type": "stream",
     "text": [
      "\n",
      "      Epoch    GPU_mem   box_loss   cls_loss   dfl_loss  Instances       Size\n"
     ]
    },
    {
     "name": "stderr",
     "output_type": "stream",
     "text": [
      "     30/100      23.1G      1.172      1.006      2.126         61        640: 100%|██████████| 16/16 [00:04<00:00,  3.69it/s]\n",
      "                 Class     Images  Instances      Box(P          R      mAP50  mAP50-95): 100%|██████████| 2/2 [00:00<00:00,  3.58it/s]"
     ]
    },
    {
     "name": "stdout",
     "output_type": "stream",
     "text": [
      "                   all        101        135      0.868      0.734      0.864      0.789\n"
     ]
    },
    {
     "name": "stderr",
     "output_type": "stream",
     "text": [
      "\n"
     ]
    },
    {
     "name": "stdout",
     "output_type": "stream",
     "text": [
      "\n",
      "      Epoch    GPU_mem   box_loss   cls_loss   dfl_loss  Instances       Size\n"
     ]
    },
    {
     "name": "stderr",
     "output_type": "stream",
     "text": [
      "     31/100        23G      1.215      1.096      2.165         72        640: 100%|██████████| 16/16 [00:04<00:00,  3.69it/s]\n",
      "                 Class     Images  Instances      Box(P          R      mAP50  mAP50-95): 100%|██████████| 2/2 [00:00<00:00,  3.59it/s]"
     ]
    },
    {
     "name": "stdout",
     "output_type": "stream",
     "text": [
      "                   all        101        135      0.838      0.756       0.87      0.803\n"
     ]
    },
    {
     "name": "stderr",
     "output_type": "stream",
     "text": [
      "\n"
     ]
    },
    {
     "name": "stdout",
     "output_type": "stream",
     "text": [
      "\n",
      "      Epoch    GPU_mem   box_loss   cls_loss   dfl_loss  Instances       Size\n"
     ]
    },
    {
     "name": "stderr",
     "output_type": "stream",
     "text": [
      "     32/100        23G      1.122      1.085      2.114         72        640: 100%|██████████| 16/16 [00:04<00:00,  3.69it/s]\n",
      "                 Class     Images  Instances      Box(P          R      mAP50  mAP50-95): 100%|██████████| 2/2 [00:00<00:00,  3.63it/s]"
     ]
    },
    {
     "name": "stdout",
     "output_type": "stream",
     "text": [
      "                   all        101        135       0.84      0.753       0.84      0.752\n"
     ]
    },
    {
     "name": "stderr",
     "output_type": "stream",
     "text": [
      "\n"
     ]
    },
    {
     "name": "stdout",
     "output_type": "stream",
     "text": [
      "\n",
      "      Epoch    GPU_mem   box_loss   cls_loss   dfl_loss  Instances       Size\n"
     ]
    },
    {
     "name": "stderr",
     "output_type": "stream",
     "text": [
      "     33/100        23G       1.15      1.005      2.109         85        640: 100%|██████████| 16/16 [00:04<00:00,  3.69it/s]\n",
      "                 Class     Images  Instances      Box(P          R      mAP50  mAP50-95): 100%|██████████| 2/2 [00:00<00:00,  3.59it/s]"
     ]
    },
    {
     "name": "stdout",
     "output_type": "stream",
     "text": [
      "                   all        101        135      0.878      0.806      0.915      0.805\n"
     ]
    },
    {
     "name": "stderr",
     "output_type": "stream",
     "text": [
      "\n"
     ]
    },
    {
     "name": "stdout",
     "output_type": "stream",
     "text": [
      "\n",
      "      Epoch    GPU_mem   box_loss   cls_loss   dfl_loss  Instances       Size\n"
     ]
    },
    {
     "name": "stderr",
     "output_type": "stream",
     "text": [
      "     34/100      23.1G      1.199      1.016      2.137         81        640: 100%|██████████| 16/16 [00:04<00:00,  3.68it/s]\n",
      "                 Class     Images  Instances      Box(P          R      mAP50  mAP50-95): 100%|██████████| 2/2 [00:00<00:00,  3.62it/s]"
     ]
    },
    {
     "name": "stdout",
     "output_type": "stream",
     "text": [
      "                   all        101        135      0.746      0.806      0.853      0.764\n"
     ]
    },
    {
     "name": "stderr",
     "output_type": "stream",
     "text": [
      "\n"
     ]
    },
    {
     "name": "stdout",
     "output_type": "stream",
     "text": [
      "\n",
      "      Epoch    GPU_mem   box_loss   cls_loss   dfl_loss  Instances       Size\n"
     ]
    },
    {
     "name": "stderr",
     "output_type": "stream",
     "text": [
      "     35/100      23.1G      1.197      1.073      2.186         74        640: 100%|██████████| 16/16 [00:04<00:00,  3.68it/s]\n",
      "                 Class     Images  Instances      Box(P          R      mAP50  mAP50-95): 100%|██████████| 2/2 [00:00<00:00,  3.59it/s]"
     ]
    },
    {
     "name": "stdout",
     "output_type": "stream",
     "text": [
      "                   all        101        135      0.694      0.785      0.861      0.784\n"
     ]
    },
    {
     "name": "stderr",
     "output_type": "stream",
     "text": [
      "\n"
     ]
    },
    {
     "name": "stdout",
     "output_type": "stream",
     "text": [
      "\n",
      "      Epoch    GPU_mem   box_loss   cls_loss   dfl_loss  Instances       Size\n"
     ]
    },
    {
     "name": "stderr",
     "output_type": "stream",
     "text": [
      "     36/100      23.1G      1.142     0.9964      2.127         68        640: 100%|██████████| 16/16 [00:04<00:00,  3.68it/s]\n",
      "                 Class     Images  Instances      Box(P          R      mAP50  mAP50-95): 100%|██████████| 2/2 [00:00<00:00,  3.59it/s]"
     ]
    },
    {
     "name": "stdout",
     "output_type": "stream",
     "text": [
      "                   all        101        135      0.869      0.763      0.887      0.822\n"
     ]
    },
    {
     "name": "stderr",
     "output_type": "stream",
     "text": [
      "\n"
     ]
    },
    {
     "name": "stdout",
     "output_type": "stream",
     "text": [
      "\n",
      "      Epoch    GPU_mem   box_loss   cls_loss   dfl_loss  Instances       Size\n"
     ]
    },
    {
     "name": "stderr",
     "output_type": "stream",
     "text": [
      "     37/100        23G       1.14      1.025      2.151         65        640: 100%|██████████| 16/16 [00:04<00:00,  3.69it/s]\n",
      "                 Class     Images  Instances      Box(P          R      mAP50  mAP50-95): 100%|██████████| 2/2 [00:00<00:00,  3.54it/s]"
     ]
    },
    {
     "name": "stdout",
     "output_type": "stream",
     "text": [
      "                   all        101        135      0.843      0.669      0.836      0.759\n"
     ]
    },
    {
     "name": "stderr",
     "output_type": "stream",
     "text": [
      "\n"
     ]
    },
    {
     "name": "stdout",
     "output_type": "stream",
     "text": [
      "\n",
      "      Epoch    GPU_mem   box_loss   cls_loss   dfl_loss  Instances       Size\n"
     ]
    },
    {
     "name": "stderr",
     "output_type": "stream",
     "text": [
      "     38/100        23G      1.094     0.9727      2.087         61        640: 100%|██████████| 16/16 [00:04<00:00,  3.67it/s]\n",
      "                 Class     Images  Instances      Box(P          R      mAP50  mAP50-95): 100%|██████████| 2/2 [00:00<00:00,  3.63it/s]"
     ]
    },
    {
     "name": "stdout",
     "output_type": "stream",
     "text": [
      "                   all        101        135      0.872      0.727      0.848      0.777\n"
     ]
    },
    {
     "name": "stderr",
     "output_type": "stream",
     "text": [
      "\n"
     ]
    },
    {
     "name": "stdout",
     "output_type": "stream",
     "text": [
      "\n",
      "      Epoch    GPU_mem   box_loss   cls_loss   dfl_loss  Instances       Size\n"
     ]
    },
    {
     "name": "stderr",
     "output_type": "stream",
     "text": [
      "     39/100        23G      1.126     0.9877      2.108         79        640: 100%|██████████| 16/16 [00:04<00:00,  3.70it/s]\n",
      "                 Class     Images  Instances      Box(P          R      mAP50  mAP50-95): 100%|██████████| 2/2 [00:00<00:00,  3.58it/s]"
     ]
    },
    {
     "name": "stdout",
     "output_type": "stream",
     "text": [
      "                   all        101        135      0.807      0.701      0.825      0.744\n"
     ]
    },
    {
     "name": "stderr",
     "output_type": "stream",
     "text": [
      "\n"
     ]
    },
    {
     "name": "stdout",
     "output_type": "stream",
     "text": [
      "\n",
      "      Epoch    GPU_mem   box_loss   cls_loss   dfl_loss  Instances       Size\n"
     ]
    },
    {
     "name": "stderr",
     "output_type": "stream",
     "text": [
      "     40/100      23.1G       1.08     0.9926      2.081         72        640: 100%|██████████| 16/16 [00:04<00:00,  3.68it/s]\n",
      "                 Class     Images  Instances      Box(P          R      mAP50  mAP50-95): 100%|██████████| 2/2 [00:00<00:00,  3.59it/s]"
     ]
    },
    {
     "name": "stdout",
     "output_type": "stream",
     "text": [
      "                   all        101        135      0.875      0.797      0.889      0.825\n"
     ]
    },
    {
     "name": "stderr",
     "output_type": "stream",
     "text": [
      "\n"
     ]
    },
    {
     "name": "stdout",
     "output_type": "stream",
     "text": [
      "\n",
      "      Epoch    GPU_mem   box_loss   cls_loss   dfl_loss  Instances       Size\n"
     ]
    },
    {
     "name": "stderr",
     "output_type": "stream",
     "text": [
      "     41/100        23G      1.074     0.8968      2.099         78        640: 100%|██████████| 16/16 [00:04<00:00,  3.39it/s]\n",
      "                 Class     Images  Instances      Box(P          R      mAP50  mAP50-95): 100%|██████████| 2/2 [00:00<00:00,  2.59it/s]"
     ]
    },
    {
     "name": "stdout",
     "output_type": "stream",
     "text": [
      "                   all        101        135      0.864      0.834      0.906      0.812\n"
     ]
    },
    {
     "name": "stderr",
     "output_type": "stream",
     "text": [
      "\n"
     ]
    },
    {
     "name": "stdout",
     "output_type": "stream",
     "text": [
      "\n",
      "      Epoch    GPU_mem   box_loss   cls_loss   dfl_loss  Instances       Size\n"
     ]
    },
    {
     "name": "stderr",
     "output_type": "stream",
     "text": [
      "     42/100      23.1G      1.075     0.8859      2.069         75        640: 100%|██████████| 16/16 [00:04<00:00,  3.44it/s]\n",
      "                 Class     Images  Instances      Box(P          R      mAP50  mAP50-95): 100%|██████████| 2/2 [00:00<00:00,  3.61it/s]"
     ]
    },
    {
     "name": "stdout",
     "output_type": "stream",
     "text": [
      "                   all        101        135      0.886      0.784        0.9      0.806\n"
     ]
    },
    {
     "name": "stderr",
     "output_type": "stream",
     "text": [
      "\n"
     ]
    },
    {
     "name": "stdout",
     "output_type": "stream",
     "text": [
      "\n",
      "      Epoch    GPU_mem   box_loss   cls_loss   dfl_loss  Instances       Size\n"
     ]
    },
    {
     "name": "stderr",
     "output_type": "stream",
     "text": [
      "     43/100      23.1G       1.07     0.8665      2.073         75        640: 100%|██████████| 16/16 [00:04<00:00,  3.69it/s]\n",
      "                 Class     Images  Instances      Box(P          R      mAP50  mAP50-95): 100%|██████████| 2/2 [00:00<00:00,  3.06it/s]"
     ]
    },
    {
     "name": "stdout",
     "output_type": "stream",
     "text": [
      "                   all        101        135      0.883      0.832      0.915      0.843\n"
     ]
    },
    {
     "name": "stderr",
     "output_type": "stream",
     "text": [
      "\n"
     ]
    },
    {
     "name": "stdout",
     "output_type": "stream",
     "text": [
      "\n",
      "      Epoch    GPU_mem   box_loss   cls_loss   dfl_loss  Instances       Size\n"
     ]
    },
    {
     "name": "stderr",
     "output_type": "stream",
     "text": [
      "     44/100        22G      1.065     0.8709      2.061         74        640: 100%|██████████| 16/16 [00:05<00:00,  2.87it/s]\n",
      "                 Class     Images  Instances      Box(P          R      mAP50  mAP50-95): 100%|██████████| 2/2 [00:00<00:00,  3.63it/s]"
     ]
    },
    {
     "name": "stdout",
     "output_type": "stream",
     "text": [
      "                   all        101        135      0.907      0.836       0.92      0.848\n"
     ]
    },
    {
     "name": "stderr",
     "output_type": "stream",
     "text": [
      "\n"
     ]
    },
    {
     "name": "stdout",
     "output_type": "stream",
     "text": [
      "\n",
      "      Epoch    GPU_mem   box_loss   cls_loss   dfl_loss  Instances       Size\n"
     ]
    },
    {
     "name": "stderr",
     "output_type": "stream",
     "text": [
      "     45/100        22G       1.02     0.8296      2.063         77        640: 100%|██████████| 16/16 [00:04<00:00,  3.50it/s]\n",
      "                 Class     Images  Instances      Box(P          R      mAP50  mAP50-95): 100%|██████████| 2/2 [00:00<00:00,  3.65it/s]"
     ]
    },
    {
     "name": "stdout",
     "output_type": "stream",
     "text": [
      "                   all        101        135      0.934      0.801       0.91      0.823\n"
     ]
    },
    {
     "name": "stderr",
     "output_type": "stream",
     "text": [
      "\n"
     ]
    },
    {
     "name": "stdout",
     "output_type": "stream",
     "text": [
      "\n",
      "      Epoch    GPU_mem   box_loss   cls_loss   dfl_loss  Instances       Size\n"
     ]
    },
    {
     "name": "stderr",
     "output_type": "stream",
     "text": [
      "     46/100        22G      1.046      0.873      2.062         74        640: 100%|██████████| 16/16 [00:04<00:00,  3.50it/s]\n",
      "                 Class     Images  Instances      Box(P          R      mAP50  mAP50-95): 100%|██████████| 2/2 [00:00<00:00,  3.62it/s]"
     ]
    },
    {
     "name": "stdout",
     "output_type": "stream",
     "text": [
      "                   all        101        135       0.97      0.849      0.927       0.85\n"
     ]
    },
    {
     "name": "stderr",
     "output_type": "stream",
     "text": [
      "\n"
     ]
    },
    {
     "name": "stdout",
     "output_type": "stream",
     "text": [
      "\n",
      "      Epoch    GPU_mem   box_loss   cls_loss   dfl_loss  Instances       Size\n"
     ]
    },
    {
     "name": "stderr",
     "output_type": "stream",
     "text": [
      "     47/100        22G       1.03      0.827      2.096         80        640: 100%|██████████| 16/16 [00:04<00:00,  3.49it/s]\n",
      "                 Class     Images  Instances      Box(P          R      mAP50  mAP50-95): 100%|██████████| 2/2 [00:00<00:00,  7.11it/s]"
     ]
    },
    {
     "name": "stdout",
     "output_type": "stream",
     "text": [
      "                   all        101        135       0.89      0.812      0.903       0.83\n"
     ]
    },
    {
     "name": "stderr",
     "output_type": "stream",
     "text": [
      "\n"
     ]
    },
    {
     "name": "stdout",
     "output_type": "stream",
     "text": [
      "\n",
      "      Epoch    GPU_mem   box_loss   cls_loss   dfl_loss  Instances       Size\n"
     ]
    },
    {
     "name": "stderr",
     "output_type": "stream",
     "text": [
      "     48/100        23G      1.018      0.788      2.062         73        640: 100%|██████████| 16/16 [00:04<00:00,  3.65it/s]\n",
      "                 Class     Images  Instances      Box(P          R      mAP50  mAP50-95): 100%|██████████| 2/2 [00:00<00:00,  3.62it/s]"
     ]
    },
    {
     "name": "stdout",
     "output_type": "stream",
     "text": [
      "                   all        101        135       0.95       0.79      0.901      0.826\n"
     ]
    },
    {
     "name": "stderr",
     "output_type": "stream",
     "text": [
      "\n"
     ]
    },
    {
     "name": "stdout",
     "output_type": "stream",
     "text": [
      "\n",
      "      Epoch    GPU_mem   box_loss   cls_loss   dfl_loss  Instances       Size\n"
     ]
    },
    {
     "name": "stderr",
     "output_type": "stream",
     "text": [
      "     49/100        23G      1.014     0.7845      2.065         80        640: 100%|██████████| 16/16 [00:04<00:00,  3.69it/s]\n",
      "                 Class     Images  Instances      Box(P          R      mAP50  mAP50-95): 100%|██████████| 2/2 [00:00<00:00,  3.61it/s]"
     ]
    },
    {
     "name": "stdout",
     "output_type": "stream",
     "text": [
      "                   all        101        135      0.907      0.808      0.918      0.851\n"
     ]
    },
    {
     "name": "stderr",
     "output_type": "stream",
     "text": [
      "\n"
     ]
    },
    {
     "name": "stdout",
     "output_type": "stream",
     "text": [
      "\n",
      "      Epoch    GPU_mem   box_loss   cls_loss   dfl_loss  Instances       Size\n"
     ]
    },
    {
     "name": "stderr",
     "output_type": "stream",
     "text": [
      "     50/100        23G      1.046     0.8087      2.064         71        640: 100%|██████████| 16/16 [00:04<00:00,  3.63it/s]\n",
      "                 Class     Images  Instances      Box(P          R      mAP50  mAP50-95): 100%|██████████| 2/2 [00:00<00:00,  3.50it/s]"
     ]
    },
    {
     "name": "stdout",
     "output_type": "stream",
     "text": [
      "                   all        101        135       0.92      0.815      0.908      0.835\n"
     ]
    },
    {
     "name": "stderr",
     "output_type": "stream",
     "text": [
      "\n"
     ]
    },
    {
     "name": "stdout",
     "output_type": "stream",
     "text": [
      "\n",
      "      Epoch    GPU_mem   box_loss   cls_loss   dfl_loss  Instances       Size\n"
     ]
    },
    {
     "name": "stderr",
     "output_type": "stream",
     "text": [
      "     51/100      23.1G      1.017     0.7826      2.041         72        640: 100%|██████████| 16/16 [00:05<00:00,  2.94it/s]\n",
      "                 Class     Images  Instances      Box(P          R      mAP50  mAP50-95): 100%|██████████| 2/2 [00:00<00:00,  3.39it/s]"
     ]
    },
    {
     "name": "stdout",
     "output_type": "stream",
     "text": [
      "                   all        101        135      0.898      0.824      0.912      0.839\n"
     ]
    },
    {
     "name": "stderr",
     "output_type": "stream",
     "text": [
      "\n"
     ]
    },
    {
     "name": "stdout",
     "output_type": "stream",
     "text": [
      "\n",
      "      Epoch    GPU_mem   box_loss   cls_loss   dfl_loss  Instances       Size\n"
     ]
    },
    {
     "name": "stderr",
     "output_type": "stream",
     "text": [
      "     52/100        23G      1.012     0.8166      2.064         74        640: 100%|██████████| 16/16 [00:04<00:00,  3.69it/s]\n",
      "                 Class     Images  Instances      Box(P          R      mAP50  mAP50-95): 100%|██████████| 2/2 [00:00<00:00,  3.62it/s]"
     ]
    },
    {
     "name": "stdout",
     "output_type": "stream",
     "text": [
      "                   all        101        135      0.905      0.836      0.925      0.861\n"
     ]
    },
    {
     "name": "stderr",
     "output_type": "stream",
     "text": [
      "\n"
     ]
    },
    {
     "name": "stdout",
     "output_type": "stream",
     "text": [
      "\n",
      "      Epoch    GPU_mem   box_loss   cls_loss   dfl_loss  Instances       Size\n"
     ]
    },
    {
     "name": "stderr",
     "output_type": "stream",
     "text": [
      "     53/100      23.1G      0.951     0.7583      2.009         74        640: 100%|██████████| 16/16 [00:04<00:00,  3.69it/s]\n",
      "                 Class     Images  Instances      Box(P          R      mAP50  mAP50-95): 100%|██████████| 2/2 [00:00<00:00,  3.56it/s]"
     ]
    },
    {
     "name": "stdout",
     "output_type": "stream",
     "text": [
      "                   all        101        135      0.878      0.787      0.904      0.831\n"
     ]
    },
    {
     "name": "stderr",
     "output_type": "stream",
     "text": [
      "\n"
     ]
    },
    {
     "name": "stdout",
     "output_type": "stream",
     "text": [
      "\n",
      "      Epoch    GPU_mem   box_loss   cls_loss   dfl_loss  Instances       Size\n"
     ]
    },
    {
     "name": "stderr",
     "output_type": "stream",
     "text": [
      "     54/100      23.1G     0.9765     0.7559      2.028         77        640: 100%|██████████| 16/16 [00:04<00:00,  3.68it/s]\n",
      "                 Class     Images  Instances      Box(P          R      mAP50  mAP50-95): 100%|██████████| 2/2 [00:00<00:00,  3.60it/s]"
     ]
    },
    {
     "name": "stdout",
     "output_type": "stream",
     "text": [
      "                   all        101        135      0.923        0.8      0.903       0.84\n"
     ]
    },
    {
     "name": "stderr",
     "output_type": "stream",
     "text": [
      "\n"
     ]
    },
    {
     "name": "stdout",
     "output_type": "stream",
     "text": [
      "\n",
      "      Epoch    GPU_mem   box_loss   cls_loss   dfl_loss  Instances       Size\n"
     ]
    },
    {
     "name": "stderr",
     "output_type": "stream",
     "text": [
      "     55/100      23.1G     0.9355     0.7192      2.007         70        640: 100%|██████████| 16/16 [00:04<00:00,  3.69it/s]\n",
      "                 Class     Images  Instances      Box(P          R      mAP50  mAP50-95): 100%|██████████| 2/2 [00:00<00:00,  3.59it/s]"
     ]
    },
    {
     "name": "stdout",
     "output_type": "stream",
     "text": [
      "                   all        101        135      0.931      0.846       0.93      0.869\n"
     ]
    },
    {
     "name": "stderr",
     "output_type": "stream",
     "text": [
      "\n"
     ]
    },
    {
     "name": "stdout",
     "output_type": "stream",
     "text": [
      "\n",
      "      Epoch    GPU_mem   box_loss   cls_loss   dfl_loss  Instances       Size\n"
     ]
    },
    {
     "name": "stderr",
     "output_type": "stream",
     "text": [
      "     56/100      23.1G     0.9862     0.7569      2.047         74        640: 100%|██████████| 16/16 [00:04<00:00,  3.69it/s]\n",
      "                 Class     Images  Instances      Box(P          R      mAP50  mAP50-95): 100%|██████████| 2/2 [00:00<00:00,  3.59it/s]"
     ]
    },
    {
     "name": "stdout",
     "output_type": "stream",
     "text": [
      "                   all        101        135      0.951      0.818      0.921      0.854\n"
     ]
    },
    {
     "name": "stderr",
     "output_type": "stream",
     "text": [
      "\n"
     ]
    },
    {
     "name": "stdout",
     "output_type": "stream",
     "text": [
      "\n",
      "      Epoch    GPU_mem   box_loss   cls_loss   dfl_loss  Instances       Size\n"
     ]
    },
    {
     "name": "stderr",
     "output_type": "stream",
     "text": [
      "     57/100        23G     0.9087     0.7143      1.994         70        640: 100%|██████████| 16/16 [00:04<00:00,  3.69it/s]\n",
      "                 Class     Images  Instances      Box(P          R      mAP50  mAP50-95): 100%|██████████| 2/2 [00:00<00:00,  3.60it/s]"
     ]
    },
    {
     "name": "stdout",
     "output_type": "stream",
     "text": [
      "                   all        101        135      0.922       0.82      0.933      0.872\n"
     ]
    },
    {
     "name": "stderr",
     "output_type": "stream",
     "text": [
      "\n"
     ]
    },
    {
     "name": "stdout",
     "output_type": "stream",
     "text": [
      "\n",
      "      Epoch    GPU_mem   box_loss   cls_loss   dfl_loss  Instances       Size\n"
     ]
    },
    {
     "name": "stderr",
     "output_type": "stream",
     "text": [
      "     58/100        23G       0.97      0.748      2.006         66        640: 100%|██████████| 16/16 [00:04<00:00,  3.69it/s]\n",
      "                 Class     Images  Instances      Box(P          R      mAP50  mAP50-95): 100%|██████████| 2/2 [00:00<00:00,  3.54it/s]"
     ]
    },
    {
     "name": "stdout",
     "output_type": "stream",
     "text": [
      "                   all        101        135      0.887      0.845      0.906      0.843\n"
     ]
    },
    {
     "name": "stderr",
     "output_type": "stream",
     "text": [
      "\n"
     ]
    },
    {
     "name": "stdout",
     "output_type": "stream",
     "text": [
      "\n",
      "      Epoch    GPU_mem   box_loss   cls_loss   dfl_loss  Instances       Size\n"
     ]
    },
    {
     "name": "stderr",
     "output_type": "stream",
     "text": [
      "     59/100      23.1G     0.9325     0.7583      2.021         73        640: 100%|██████████| 16/16 [00:04<00:00,  3.69it/s]\n",
      "                 Class     Images  Instances      Box(P          R      mAP50  mAP50-95): 100%|██████████| 2/2 [00:00<00:00,  3.64it/s]"
     ]
    },
    {
     "name": "stdout",
     "output_type": "stream",
     "text": [
      "                   all        101        135       0.92      0.824        0.9      0.852\n"
     ]
    },
    {
     "name": "stderr",
     "output_type": "stream",
     "text": [
      "\n"
     ]
    },
    {
     "name": "stdout",
     "output_type": "stream",
     "text": [
      "\n",
      "      Epoch    GPU_mem   box_loss   cls_loss   dfl_loss  Instances       Size\n"
     ]
    },
    {
     "name": "stderr",
     "output_type": "stream",
     "text": [
      "     60/100        23G     0.9006     0.7358      1.954         66        640: 100%|██████████| 16/16 [00:04<00:00,  3.69it/s]\n",
      "                 Class     Images  Instances      Box(P          R      mAP50  mAP50-95): 100%|██████████| 2/2 [00:00<00:00,  3.59it/s]"
     ]
    },
    {
     "name": "stdout",
     "output_type": "stream",
     "text": [
      "                   all        101        135      0.922      0.889      0.942      0.883\n"
     ]
    },
    {
     "name": "stderr",
     "output_type": "stream",
     "text": [
      "\n"
     ]
    },
    {
     "name": "stdout",
     "output_type": "stream",
     "text": [
      "\n",
      "      Epoch    GPU_mem   box_loss   cls_loss   dfl_loss  Instances       Size\n"
     ]
    },
    {
     "name": "stderr",
     "output_type": "stream",
     "text": [
      "     61/100        23G     0.9287     0.7201      2.004         78        640: 100%|██████████| 16/16 [00:04<00:00,  3.69it/s]\n",
      "                 Class     Images  Instances      Box(P          R      mAP50  mAP50-95): 100%|██████████| 2/2 [00:00<00:00,  3.62it/s]"
     ]
    },
    {
     "name": "stdout",
     "output_type": "stream",
     "text": [
      "                   all        101        135      0.849       0.79      0.892      0.836\n"
     ]
    },
    {
     "name": "stderr",
     "output_type": "stream",
     "text": [
      "\n"
     ]
    },
    {
     "name": "stdout",
     "output_type": "stream",
     "text": [
      "\n",
      "      Epoch    GPU_mem   box_loss   cls_loss   dfl_loss  Instances       Size\n"
     ]
    },
    {
     "name": "stderr",
     "output_type": "stream",
     "text": [
      "     62/100      23.1G     0.9149     0.6945      1.989         68        640: 100%|██████████| 16/16 [00:04<00:00,  3.69it/s]\n",
      "                 Class     Images  Instances      Box(P          R      mAP50  mAP50-95): 100%|██████████| 2/2 [00:00<00:00,  3.62it/s]"
     ]
    },
    {
     "name": "stdout",
     "output_type": "stream",
     "text": [
      "                   all        101        135      0.884      0.855      0.916      0.861\n"
     ]
    },
    {
     "name": "stderr",
     "output_type": "stream",
     "text": [
      "\n"
     ]
    },
    {
     "name": "stdout",
     "output_type": "stream",
     "text": [
      "\n",
      "      Epoch    GPU_mem   box_loss   cls_loss   dfl_loss  Instances       Size\n"
     ]
    },
    {
     "name": "stderr",
     "output_type": "stream",
     "text": [
      "     63/100        23G     0.8869     0.6642      1.969         70        640: 100%|██████████| 16/16 [00:04<00:00,  3.69it/s]\n",
      "                 Class     Images  Instances      Box(P          R      mAP50  mAP50-95): 100%|██████████| 2/2 [00:00<00:00,  3.62it/s]"
     ]
    },
    {
     "name": "stdout",
     "output_type": "stream",
     "text": [
      "                   all        101        135      0.885      0.832      0.908      0.846\n"
     ]
    },
    {
     "name": "stderr",
     "output_type": "stream",
     "text": [
      "\n"
     ]
    },
    {
     "name": "stdout",
     "output_type": "stream",
     "text": [
      "\n",
      "      Epoch    GPU_mem   box_loss   cls_loss   dfl_loss  Instances       Size\n"
     ]
    },
    {
     "name": "stderr",
     "output_type": "stream",
     "text": [
      "     64/100        23G     0.9208     0.6809      1.994         67        640: 100%|██████████| 16/16 [00:04<00:00,  3.69it/s]\n",
      "                 Class     Images  Instances      Box(P          R      mAP50  mAP50-95): 100%|██████████| 2/2 [00:00<00:00,  3.63it/s]"
     ]
    },
    {
     "name": "stdout",
     "output_type": "stream",
     "text": [
      "                   all        101        135      0.917      0.818      0.912      0.839\n"
     ]
    },
    {
     "name": "stderr",
     "output_type": "stream",
     "text": [
      "\n"
     ]
    },
    {
     "name": "stdout",
     "output_type": "stream",
     "text": [
      "\n",
      "      Epoch    GPU_mem   box_loss   cls_loss   dfl_loss  Instances       Size\n"
     ]
    },
    {
     "name": "stderr",
     "output_type": "stream",
     "text": [
      "     65/100        23G     0.9065     0.6711      1.979         71        640: 100%|██████████| 16/16 [00:04<00:00,  3.70it/s]\n",
      "                 Class     Images  Instances      Box(P          R      mAP50  mAP50-95): 100%|██████████| 2/2 [00:00<00:00,  3.61it/s]"
     ]
    },
    {
     "name": "stdout",
     "output_type": "stream",
     "text": [
      "                   all        101        135      0.939      0.835       0.92      0.853\n"
     ]
    },
    {
     "name": "stderr",
     "output_type": "stream",
     "text": [
      "\n"
     ]
    },
    {
     "name": "stdout",
     "output_type": "stream",
     "text": [
      "\n",
      "      Epoch    GPU_mem   box_loss   cls_loss   dfl_loss  Instances       Size\n"
     ]
    },
    {
     "name": "stderr",
     "output_type": "stream",
     "text": [
      "     66/100        23G     0.8832     0.6833      1.966         69        640: 100%|██████████| 16/16 [00:04<00:00,  3.69it/s]\n",
      "                 Class     Images  Instances      Box(P          R      mAP50  mAP50-95): 100%|██████████| 2/2 [00:00<00:00,  3.62it/s]"
     ]
    },
    {
     "name": "stdout",
     "output_type": "stream",
     "text": [
      "                   all        101        135      0.896       0.84      0.926       0.85\n"
     ]
    },
    {
     "name": "stderr",
     "output_type": "stream",
     "text": [
      "\n"
     ]
    },
    {
     "name": "stdout",
     "output_type": "stream",
     "text": [
      "\n",
      "      Epoch    GPU_mem   box_loss   cls_loss   dfl_loss  Instances       Size\n"
     ]
    },
    {
     "name": "stderr",
     "output_type": "stream",
     "text": [
      "     67/100        23G     0.8686     0.6364      1.967         81        640: 100%|██████████| 16/16 [00:04<00:00,  3.69it/s]\n",
      "                 Class     Images  Instances      Box(P          R      mAP50  mAP50-95): 100%|██████████| 2/2 [00:00<00:00,  3.63it/s]"
     ]
    },
    {
     "name": "stdout",
     "output_type": "stream",
     "text": [
      "                   all        101        135       0.89      0.839      0.923      0.853\n"
     ]
    },
    {
     "name": "stderr",
     "output_type": "stream",
     "text": [
      "\n"
     ]
    },
    {
     "name": "stdout",
     "output_type": "stream",
     "text": [
      "\n",
      "      Epoch    GPU_mem   box_loss   cls_loss   dfl_loss  Instances       Size\n"
     ]
    },
    {
     "name": "stderr",
     "output_type": "stream",
     "text": [
      "     68/100        23G     0.8864     0.6401      1.965         78        640: 100%|██████████| 16/16 [00:04<00:00,  3.69it/s]\n",
      "                 Class     Images  Instances      Box(P          R      mAP50  mAP50-95): 100%|██████████| 2/2 [00:00<00:00,  3.62it/s]"
     ]
    },
    {
     "name": "stdout",
     "output_type": "stream",
     "text": [
      "                   all        101        135      0.961      0.806      0.925      0.865\n"
     ]
    },
    {
     "name": "stderr",
     "output_type": "stream",
     "text": [
      "\n"
     ]
    },
    {
     "name": "stdout",
     "output_type": "stream",
     "text": [
      "\n",
      "      Epoch    GPU_mem   box_loss   cls_loss   dfl_loss  Instances       Size\n"
     ]
    },
    {
     "name": "stderr",
     "output_type": "stream",
     "text": [
      "     69/100        23G     0.8566      0.651      1.962         78        640: 100%|██████████| 16/16 [00:04<00:00,  3.69it/s]\n",
      "                 Class     Images  Instances      Box(P          R      mAP50  mAP50-95): 100%|██████████| 2/2 [00:00<00:00,  3.65it/s]"
     ]
    },
    {
     "name": "stdout",
     "output_type": "stream",
     "text": [
      "                   all        101        135       0.95      0.849      0.925      0.871\n"
     ]
    },
    {
     "name": "stderr",
     "output_type": "stream",
     "text": [
      "\n"
     ]
    },
    {
     "name": "stdout",
     "output_type": "stream",
     "text": [
      "\n",
      "      Epoch    GPU_mem   box_loss   cls_loss   dfl_loss  Instances       Size\n"
     ]
    },
    {
     "name": "stderr",
     "output_type": "stream",
     "text": [
      "     70/100        23G      0.857     0.6631      1.957         69        640: 100%|██████████| 16/16 [00:04<00:00,  3.70it/s]\n",
      "                 Class     Images  Instances      Box(P          R      mAP50  mAP50-95): 100%|██████████| 2/2 [00:00<00:00,  3.60it/s]"
     ]
    },
    {
     "name": "stdout",
     "output_type": "stream",
     "text": [
      "                   all        101        135      0.951      0.827      0.935      0.883\n"
     ]
    },
    {
     "name": "stderr",
     "output_type": "stream",
     "text": [
      "\n"
     ]
    },
    {
     "name": "stdout",
     "output_type": "stream",
     "text": [
      "\n",
      "      Epoch    GPU_mem   box_loss   cls_loss   dfl_loss  Instances       Size\n"
     ]
    },
    {
     "name": "stderr",
     "output_type": "stream",
     "text": [
      "     71/100        23G     0.8598     0.6542      2.008         76        640: 100%|██████████| 16/16 [00:04<00:00,  3.70it/s]\n",
      "                 Class     Images  Instances      Box(P          R      mAP50  mAP50-95): 100%|██████████| 2/2 [00:00<00:00,  3.65it/s]"
     ]
    },
    {
     "name": "stdout",
     "output_type": "stream",
     "text": [
      "                   all        101        135      0.949       0.84      0.926      0.875\n"
     ]
    },
    {
     "name": "stderr",
     "output_type": "stream",
     "text": [
      "\n"
     ]
    },
    {
     "name": "stdout",
     "output_type": "stream",
     "text": [
      "\n",
      "      Epoch    GPU_mem   box_loss   cls_loss   dfl_loss  Instances       Size\n"
     ]
    },
    {
     "name": "stderr",
     "output_type": "stream",
     "text": [
      "     72/100        23G     0.8221     0.5789      1.937         67        640: 100%|██████████| 16/16 [00:04<00:00,  3.69it/s]\n",
      "                 Class     Images  Instances      Box(P          R      mAP50  mAP50-95): 100%|██████████| 2/2 [00:00<00:00,  3.60it/s]"
     ]
    },
    {
     "name": "stdout",
     "output_type": "stream",
     "text": [
      "                   all        101        135      0.929      0.861      0.941      0.882\n"
     ]
    },
    {
     "name": "stderr",
     "output_type": "stream",
     "text": [
      "\n"
     ]
    },
    {
     "name": "stdout",
     "output_type": "stream",
     "text": [
      "\n",
      "      Epoch    GPU_mem   box_loss   cls_loss   dfl_loss  Instances       Size\n"
     ]
    },
    {
     "name": "stderr",
     "output_type": "stream",
     "text": [
      "     73/100        23G     0.8251     0.6196      1.944         75        640: 100%|██████████| 16/16 [00:04<00:00,  3.69it/s]\n",
      "                 Class     Images  Instances      Box(P          R      mAP50  mAP50-95): 100%|██████████| 2/2 [00:00<00:00,  3.63it/s]"
     ]
    },
    {
     "name": "stdout",
     "output_type": "stream",
     "text": [
      "                   all        101        135      0.945      0.851      0.937      0.888\n"
     ]
    },
    {
     "name": "stderr",
     "output_type": "stream",
     "text": [
      "\n"
     ]
    },
    {
     "name": "stdout",
     "output_type": "stream",
     "text": [
      "\n",
      "      Epoch    GPU_mem   box_loss   cls_loss   dfl_loss  Instances       Size\n"
     ]
    },
    {
     "name": "stderr",
     "output_type": "stream",
     "text": [
      "     74/100        23G     0.7867     0.6015       1.93         76        640: 100%|██████████| 16/16 [00:04<00:00,  3.69it/s]\n",
      "                 Class     Images  Instances      Box(P          R      mAP50  mAP50-95): 100%|██████████| 2/2 [00:00<00:00,  3.61it/s]"
     ]
    },
    {
     "name": "stdout",
     "output_type": "stream",
     "text": [
      "                   all        101        135      0.928      0.892      0.939      0.884\n"
     ]
    },
    {
     "name": "stderr",
     "output_type": "stream",
     "text": [
      "\n"
     ]
    },
    {
     "name": "stdout",
     "output_type": "stream",
     "text": [
      "\n",
      "      Epoch    GPU_mem   box_loss   cls_loss   dfl_loss  Instances       Size\n"
     ]
    },
    {
     "name": "stderr",
     "output_type": "stream",
     "text": [
      "     75/100        23G     0.8025     0.5961      1.926         72        640: 100%|██████████| 16/16 [00:04<00:00,  3.70it/s]\n",
      "                 Class     Images  Instances      Box(P          R      mAP50  mAP50-95): 100%|██████████| 2/2 [00:00<00:00,  3.65it/s]"
     ]
    },
    {
     "name": "stdout",
     "output_type": "stream",
     "text": [
      "                   all        101        135      0.913      0.838      0.924      0.867\n"
     ]
    },
    {
     "name": "stderr",
     "output_type": "stream",
     "text": [
      "\n"
     ]
    },
    {
     "name": "stdout",
     "output_type": "stream",
     "text": [
      "\n",
      "      Epoch    GPU_mem   box_loss   cls_loss   dfl_loss  Instances       Size\n"
     ]
    },
    {
     "name": "stderr",
     "output_type": "stream",
     "text": [
      "     76/100        23G     0.7954     0.5833      1.926         85        640: 100%|██████████| 16/16 [00:04<00:00,  3.68it/s]\n",
      "                 Class     Images  Instances      Box(P          R      mAP50  mAP50-95): 100%|██████████| 2/2 [00:00<00:00,  3.63it/s]"
     ]
    },
    {
     "name": "stdout",
     "output_type": "stream",
     "text": [
      "                   all        101        135       0.95      0.827      0.936      0.888\n"
     ]
    },
    {
     "name": "stderr",
     "output_type": "stream",
     "text": [
      "\n"
     ]
    },
    {
     "name": "stdout",
     "output_type": "stream",
     "text": [
      "\n",
      "      Epoch    GPU_mem   box_loss   cls_loss   dfl_loss  Instances       Size\n"
     ]
    },
    {
     "name": "stderr",
     "output_type": "stream",
     "text": [
      "     77/100        23G     0.8218     0.5751      1.955         73        640: 100%|██████████| 16/16 [00:04<00:00,  3.69it/s]\n",
      "                 Class     Images  Instances      Box(P          R      mAP50  mAP50-95): 100%|██████████| 2/2 [00:00<00:00,  3.63it/s]"
     ]
    },
    {
     "name": "stdout",
     "output_type": "stream",
     "text": [
      "                   all        101        135      0.973      0.861      0.939      0.897\n"
     ]
    },
    {
     "name": "stderr",
     "output_type": "stream",
     "text": [
      "\n"
     ]
    },
    {
     "name": "stdout",
     "output_type": "stream",
     "text": [
      "\n",
      "      Epoch    GPU_mem   box_loss   cls_loss   dfl_loss  Instances       Size\n"
     ]
    },
    {
     "name": "stderr",
     "output_type": "stream",
     "text": [
      "     78/100      23.1G     0.7954     0.5703      1.942         72        640: 100%|██████████| 16/16 [00:04<00:00,  3.70it/s]\n",
      "                 Class     Images  Instances      Box(P          R      mAP50  mAP50-95): 100%|██████████| 2/2 [00:00<00:00,  3.61it/s]"
     ]
    },
    {
     "name": "stdout",
     "output_type": "stream",
     "text": [
      "                   all        101        135      0.932      0.826      0.933      0.884\n"
     ]
    },
    {
     "name": "stderr",
     "output_type": "stream",
     "text": [
      "\n"
     ]
    },
    {
     "name": "stdout",
     "output_type": "stream",
     "text": [
      "\n",
      "      Epoch    GPU_mem   box_loss   cls_loss   dfl_loss  Instances       Size\n"
     ]
    },
    {
     "name": "stderr",
     "output_type": "stream",
     "text": [
      "     79/100      23.1G       0.77     0.5392      1.888         86        640: 100%|██████████| 16/16 [00:04<00:00,  3.69it/s]\n",
      "                 Class     Images  Instances      Box(P          R      mAP50  mAP50-95): 100%|██████████| 2/2 [00:00<00:00,  3.63it/s]"
     ]
    },
    {
     "name": "stdout",
     "output_type": "stream",
     "text": [
      "                   all        101        135      0.941      0.857      0.933      0.887\n"
     ]
    },
    {
     "name": "stderr",
     "output_type": "stream",
     "text": [
      "\n"
     ]
    },
    {
     "name": "stdout",
     "output_type": "stream",
     "text": [
      "\n",
      "      Epoch    GPU_mem   box_loss   cls_loss   dfl_loss  Instances       Size\n"
     ]
    },
    {
     "name": "stderr",
     "output_type": "stream",
     "text": [
      "     80/100      23.1G     0.7643     0.5483      1.898         68        640: 100%|██████████| 16/16 [00:04<00:00,  3.69it/s]\n",
      "                 Class     Images  Instances      Box(P          R      mAP50  mAP50-95): 100%|██████████| 2/2 [00:00<00:00,  3.64it/s]"
     ]
    },
    {
     "name": "stdout",
     "output_type": "stream",
     "text": [
      "                   all        101        135      0.911      0.873      0.931      0.882\n"
     ]
    },
    {
     "name": "stderr",
     "output_type": "stream",
     "text": [
      "\n"
     ]
    },
    {
     "name": "stdout",
     "output_type": "stream",
     "text": [
      "\n",
      "      Epoch    GPU_mem   box_loss   cls_loss   dfl_loss  Instances       Size\n"
     ]
    },
    {
     "name": "stderr",
     "output_type": "stream",
     "text": [
      "     81/100      23.1G     0.7728     0.5882      1.924         72        640: 100%|██████████| 16/16 [00:04<00:00,  3.69it/s]\n",
      "                 Class     Images  Instances      Box(P          R      mAP50  mAP50-95): 100%|██████████| 2/2 [00:00<00:00,  3.61it/s]"
     ]
    },
    {
     "name": "stdout",
     "output_type": "stream",
     "text": [
      "                   all        101        135      0.859      0.906      0.939       0.89\n"
     ]
    },
    {
     "name": "stderr",
     "output_type": "stream",
     "text": [
      "\n"
     ]
    },
    {
     "name": "stdout",
     "output_type": "stream",
     "text": [
      "\n",
      "      Epoch    GPU_mem   box_loss   cls_loss   dfl_loss  Instances       Size\n"
     ]
    },
    {
     "name": "stderr",
     "output_type": "stream",
     "text": [
      "     82/100      23.1G      0.764     0.5526      1.932         83        640: 100%|██████████| 16/16 [00:04<00:00,  3.69it/s]\n",
      "                 Class     Images  Instances      Box(P          R      mAP50  mAP50-95): 100%|██████████| 2/2 [00:00<00:00,  3.62it/s]"
     ]
    },
    {
     "name": "stdout",
     "output_type": "stream",
     "text": [
      "                   all        101        135      0.933       0.88       0.95      0.903\n"
     ]
    },
    {
     "name": "stderr",
     "output_type": "stream",
     "text": [
      "\n"
     ]
    },
    {
     "name": "stdout",
     "output_type": "stream",
     "text": [
      "\n",
      "      Epoch    GPU_mem   box_loss   cls_loss   dfl_loss  Instances       Size\n"
     ]
    },
    {
     "name": "stderr",
     "output_type": "stream",
     "text": [
      "     83/100        23G     0.7481     0.5656      1.903         86        640: 100%|██████████| 16/16 [00:04<00:00,  3.69it/s]\n",
      "                 Class     Images  Instances      Box(P          R      mAP50  mAP50-95): 100%|██████████| 2/2 [00:00<00:00,  3.62it/s]"
     ]
    },
    {
     "name": "stdout",
     "output_type": "stream",
     "text": [
      "                   all        101        135      0.906      0.856      0.938      0.894\n"
     ]
    },
    {
     "name": "stderr",
     "output_type": "stream",
     "text": [
      "\n"
     ]
    },
    {
     "name": "stdout",
     "output_type": "stream",
     "text": [
      "\n",
      "      Epoch    GPU_mem   box_loss   cls_loss   dfl_loss  Instances       Size\n"
     ]
    },
    {
     "name": "stderr",
     "output_type": "stream",
     "text": [
      "     84/100      23.1G     0.7695     0.5212      1.924         73        640: 100%|██████████| 16/16 [00:04<00:00,  3.69it/s]\n",
      "                 Class     Images  Instances      Box(P          R      mAP50  mAP50-95): 100%|██████████| 2/2 [00:00<00:00,  3.64it/s]"
     ]
    },
    {
     "name": "stdout",
     "output_type": "stream",
     "text": [
      "                   all        101        135      0.903      0.863      0.928      0.883\n"
     ]
    },
    {
     "name": "stderr",
     "output_type": "stream",
     "text": [
      "\n"
     ]
    },
    {
     "name": "stdout",
     "output_type": "stream",
     "text": [
      "\n",
      "      Epoch    GPU_mem   box_loss   cls_loss   dfl_loss  Instances       Size\n"
     ]
    },
    {
     "name": "stderr",
     "output_type": "stream",
     "text": [
      "     85/100        23G     0.7292     0.5511      1.909         73        640: 100%|██████████| 16/16 [00:04<00:00,  3.69it/s]\n",
      "                 Class     Images  Instances      Box(P          R      mAP50  mAP50-95): 100%|██████████| 2/2 [00:00<00:00,  3.63it/s]"
     ]
    },
    {
     "name": "stdout",
     "output_type": "stream",
     "text": [
      "                   all        101        135      0.929      0.844      0.939      0.884\n"
     ]
    },
    {
     "name": "stderr",
     "output_type": "stream",
     "text": [
      "\n"
     ]
    },
    {
     "name": "stdout",
     "output_type": "stream",
     "text": [
      "\n",
      "      Epoch    GPU_mem   box_loss   cls_loss   dfl_loss  Instances       Size\n"
     ]
    },
    {
     "name": "stderr",
     "output_type": "stream",
     "text": [
      "     86/100        23G     0.7616     0.5355      1.915         69        640: 100%|██████████| 16/16 [00:04<00:00,  3.69it/s]\n",
      "                 Class     Images  Instances      Box(P          R      mAP50  mAP50-95): 100%|██████████| 2/2 [00:00<00:00,  3.64it/s]"
     ]
    },
    {
     "name": "stdout",
     "output_type": "stream",
     "text": [
      "                   all        101        135      0.937      0.881      0.948      0.894\n"
     ]
    },
    {
     "name": "stderr",
     "output_type": "stream",
     "text": [
      "\n"
     ]
    },
    {
     "name": "stdout",
     "output_type": "stream",
     "text": [
      "\n",
      "      Epoch    GPU_mem   box_loss   cls_loss   dfl_loss  Instances       Size\n"
     ]
    },
    {
     "name": "stderr",
     "output_type": "stream",
     "text": [
      "     87/100      23.1G     0.7507     0.5415       1.92         79        640: 100%|██████████| 16/16 [00:04<00:00,  3.70it/s]\n",
      "                 Class     Images  Instances      Box(P          R      mAP50  mAP50-95): 100%|██████████| 2/2 [00:00<00:00,  3.62it/s]"
     ]
    },
    {
     "name": "stdout",
     "output_type": "stream",
     "text": [
      "                   all        101        135      0.971      0.867      0.949      0.904\n"
     ]
    },
    {
     "name": "stderr",
     "output_type": "stream",
     "text": [
      "\n"
     ]
    },
    {
     "name": "stdout",
     "output_type": "stream",
     "text": [
      "\n",
      "      Epoch    GPU_mem   box_loss   cls_loss   dfl_loss  Instances       Size\n"
     ]
    },
    {
     "name": "stderr",
     "output_type": "stream",
     "text": [
      "     88/100      23.1G     0.7652     0.5108      1.926         79        640: 100%|██████████| 16/16 [00:04<00:00,  3.70it/s]\n",
      "                 Class     Images  Instances      Box(P          R      mAP50  mAP50-95): 100%|██████████| 2/2 [00:00<00:00,  3.62it/s]"
     ]
    },
    {
     "name": "stdout",
     "output_type": "stream",
     "text": [
      "                   all        101        135      0.949      0.859      0.946      0.894\n"
     ]
    },
    {
     "name": "stderr",
     "output_type": "stream",
     "text": [
      "\n"
     ]
    },
    {
     "name": "stdout",
     "output_type": "stream",
     "text": [
      "\n",
      "      Epoch    GPU_mem   box_loss   cls_loss   dfl_loss  Instances       Size\n"
     ]
    },
    {
     "name": "stderr",
     "output_type": "stream",
     "text": [
      "     89/100        23G     0.7413     0.5017      1.912         85        640: 100%|██████████| 16/16 [00:04<00:00,  3.69it/s]\n",
      "                 Class     Images  Instances      Box(P          R      mAP50  mAP50-95): 100%|██████████| 2/2 [00:00<00:00,  3.60it/s]"
     ]
    },
    {
     "name": "stdout",
     "output_type": "stream",
     "text": [
      "                   all        101        135      0.974      0.833      0.949      0.897\n"
     ]
    },
    {
     "name": "stderr",
     "output_type": "stream",
     "text": [
      "\n"
     ]
    },
    {
     "name": "stdout",
     "output_type": "stream",
     "text": [
      "\n",
      "      Epoch    GPU_mem   box_loss   cls_loss   dfl_loss  Instances       Size\n"
     ]
    },
    {
     "name": "stderr",
     "output_type": "stream",
     "text": [
      "     90/100        23G     0.7038     0.4668      1.886         79        640: 100%|██████████| 16/16 [00:04<00:00,  3.69it/s]\n",
      "                 Class     Images  Instances      Box(P          R      mAP50  mAP50-95): 100%|██████████| 2/2 [00:00<00:00,  3.53it/s]"
     ]
    },
    {
     "name": "stdout",
     "output_type": "stream",
     "text": [
      "                   all        101        135        0.9      0.867      0.942      0.893\n"
     ]
    },
    {
     "name": "stderr",
     "output_type": "stream",
     "text": [
      "\n"
     ]
    },
    {
     "name": "stdout",
     "output_type": "stream",
     "text": [
      "Closing dataloader mosaic\n",
      "\n",
      "      Epoch    GPU_mem   box_loss   cls_loss   dfl_loss  Instances       Size\n"
     ]
    },
    {
     "name": "stderr",
     "output_type": "stream",
     "text": [
      "     91/100        23G     0.4808     0.4339      1.661         35        640: 100%|██████████| 16/16 [00:06<00:00,  2.50it/s]\n",
      "                 Class     Images  Instances      Box(P          R      mAP50  mAP50-95): 100%|██████████| 2/2 [00:00<00:00,  3.57it/s]"
     ]
    },
    {
     "name": "stdout",
     "output_type": "stream",
     "text": [
      "                   all        101        135      0.974      0.832      0.939        0.9\n"
     ]
    },
    {
     "name": "stderr",
     "output_type": "stream",
     "text": [
      "\n"
     ]
    },
    {
     "name": "stdout",
     "output_type": "stream",
     "text": [
      "\n",
      "      Epoch    GPU_mem   box_loss   cls_loss   dfl_loss  Instances       Size\n"
     ]
    },
    {
     "name": "stderr",
     "output_type": "stream",
     "text": [
      "     92/100        23G     0.4842     0.3754      1.635         35        640: 100%|██████████| 16/16 [00:04<00:00,  3.69it/s]\n",
      "                 Class     Images  Instances      Box(P          R      mAP50  mAP50-95): 100%|██████████| 2/2 [00:00<00:00,  3.58it/s]"
     ]
    },
    {
     "name": "stdout",
     "output_type": "stream",
     "text": [
      "                   all        101        135      0.934      0.875      0.942      0.903\n"
     ]
    },
    {
     "name": "stderr",
     "output_type": "stream",
     "text": [
      "\n"
     ]
    },
    {
     "name": "stdout",
     "output_type": "stream",
     "text": [
      "\n",
      "      Epoch    GPU_mem   box_loss   cls_loss   dfl_loss  Instances       Size\n"
     ]
    },
    {
     "name": "stderr",
     "output_type": "stream",
     "text": [
      "     93/100        23G     0.4802     0.3522      1.647         33        640: 100%|██████████| 16/16 [00:04<00:00,  3.69it/s]\n",
      "                 Class     Images  Instances      Box(P          R      mAP50  mAP50-95): 100%|██████████| 2/2 [00:00<00:00,  3.57it/s]"
     ]
    },
    {
     "name": "stdout",
     "output_type": "stream",
     "text": [
      "                   all        101        135      0.955      0.885      0.949      0.902\n"
     ]
    },
    {
     "name": "stderr",
     "output_type": "stream",
     "text": [
      "\n"
     ]
    },
    {
     "name": "stdout",
     "output_type": "stream",
     "text": [
      "\n",
      "      Epoch    GPU_mem   box_loss   cls_loss   dfl_loss  Instances       Size\n"
     ]
    },
    {
     "name": "stderr",
     "output_type": "stream",
     "text": [
      "     94/100        23G     0.4358     0.3315      1.614         33        640: 100%|██████████| 16/16 [00:04<00:00,  3.69it/s]\n",
      "                 Class     Images  Instances      Box(P          R      mAP50  mAP50-95): 100%|██████████| 2/2 [00:00<00:00,  3.59it/s]"
     ]
    },
    {
     "name": "stdout",
     "output_type": "stream",
     "text": [
      "                   all        101        135       0.93      0.838      0.931      0.889\n"
     ]
    },
    {
     "name": "stderr",
     "output_type": "stream",
     "text": [
      "\n"
     ]
    },
    {
     "name": "stdout",
     "output_type": "stream",
     "text": [
      "\n",
      "      Epoch    GPU_mem   box_loss   cls_loss   dfl_loss  Instances       Size\n"
     ]
    },
    {
     "name": "stderr",
     "output_type": "stream",
     "text": [
      "     95/100        23G      0.456     0.3395      1.636         33        640: 100%|██████████| 16/16 [00:04<00:00,  3.69it/s]\n",
      "                 Class     Images  Instances      Box(P          R      mAP50  mAP50-95): 100%|██████████| 2/2 [00:00<00:00,  3.61it/s]"
     ]
    },
    {
     "name": "stdout",
     "output_type": "stream",
     "text": [
      "                   all        101        135      0.946      0.859       0.93      0.885\n"
     ]
    },
    {
     "name": "stderr",
     "output_type": "stream",
     "text": [
      "\n"
     ]
    },
    {
     "name": "stdout",
     "output_type": "stream",
     "text": [
      "\n",
      "      Epoch    GPU_mem   box_loss   cls_loss   dfl_loss  Instances       Size\n"
     ]
    },
    {
     "name": "stderr",
     "output_type": "stream",
     "text": [
      "     96/100        23G     0.4498     0.3334      1.661         31        640: 100%|██████████| 16/16 [00:04<00:00,  3.70it/s]\n",
      "                 Class     Images  Instances      Box(P          R      mAP50  mAP50-95): 100%|██████████| 2/2 [00:00<00:00,  3.60it/s]"
     ]
    },
    {
     "name": "stdout",
     "output_type": "stream",
     "text": [
      "                   all        101        135      0.938      0.864      0.931       0.89\n"
     ]
    },
    {
     "name": "stderr",
     "output_type": "stream",
     "text": [
      "\n"
     ]
    },
    {
     "name": "stdout",
     "output_type": "stream",
     "text": [
      "\n",
      "      Epoch    GPU_mem   box_loss   cls_loss   dfl_loss  Instances       Size\n"
     ]
    },
    {
     "name": "stderr",
     "output_type": "stream",
     "text": [
      "     97/100        23G     0.4289     0.3314      1.639         34        640: 100%|██████████| 16/16 [00:04<00:00,  3.70it/s]\n",
      "                 Class     Images  Instances      Box(P          R      mAP50  mAP50-95): 100%|██████████| 2/2 [00:00<00:00,  3.61it/s]"
     ]
    },
    {
     "name": "stdout",
     "output_type": "stream",
     "text": [
      "                   all        101        135      0.961      0.862      0.933      0.886\n"
     ]
    },
    {
     "name": "stderr",
     "output_type": "stream",
     "text": [
      "\n"
     ]
    },
    {
     "name": "stdout",
     "output_type": "stream",
     "text": [
      "\n",
      "      Epoch    GPU_mem   box_loss   cls_loss   dfl_loss  Instances       Size\n"
     ]
    },
    {
     "name": "stderr",
     "output_type": "stream",
     "text": [
      "     98/100        23G     0.4254     0.3212      1.645         32        640: 100%|██████████| 16/16 [00:04<00:00,  3.69it/s]\n",
      "                 Class     Images  Instances      Box(P          R      mAP50  mAP50-95): 100%|██████████| 2/2 [00:00<00:00,  3.62it/s]"
     ]
    },
    {
     "name": "stdout",
     "output_type": "stream",
     "text": [
      "                   all        101        135      0.936      0.858      0.937       0.89\n"
     ]
    },
    {
     "name": "stderr",
     "output_type": "stream",
     "text": [
      "\n"
     ]
    },
    {
     "name": "stdout",
     "output_type": "stream",
     "text": [
      "\n",
      "      Epoch    GPU_mem   box_loss   cls_loss   dfl_loss  Instances       Size\n"
     ]
    },
    {
     "name": "stderr",
     "output_type": "stream",
     "text": [
      "     99/100        23G     0.4307     0.3013       1.62         39        640: 100%|██████████| 16/16 [00:04<00:00,  3.69it/s]\n",
      "                 Class     Images  Instances      Box(P          R      mAP50  mAP50-95): 100%|██████████| 2/2 [00:00<00:00,  3.61it/s]"
     ]
    },
    {
     "name": "stdout",
     "output_type": "stream",
     "text": [
      "                   all        101        135      0.907      0.882      0.937      0.893\n"
     ]
    },
    {
     "name": "stderr",
     "output_type": "stream",
     "text": [
      "\n"
     ]
    },
    {
     "name": "stdout",
     "output_type": "stream",
     "text": [
      "\n",
      "      Epoch    GPU_mem   box_loss   cls_loss   dfl_loss  Instances       Size\n"
     ]
    },
    {
     "name": "stderr",
     "output_type": "stream",
     "text": [
      "    100/100        23G     0.3995     0.3045      1.611         32        640: 100%|██████████| 16/16 [00:04<00:00,  3.69it/s]\n",
      "                 Class     Images  Instances      Box(P          R      mAP50  mAP50-95): 100%|██████████| 2/2 [00:00<00:00,  3.61it/s]"
     ]
    },
    {
     "name": "stdout",
     "output_type": "stream",
     "text": [
      "                   all        101        135       0.94      0.855       0.93      0.892\n"
     ]
    },
    {
     "name": "stderr",
     "output_type": "stream",
     "text": [
      "\n"
     ]
    },
    {
     "name": "stdout",
     "output_type": "stream",
     "text": [
      "\n",
      "100 epochs completed in 0.151 hours.\n",
      "Optimizer stripped from runs/v10b_baseline/weights/last.pt, 41.4MB\n",
      "Optimizer stripped from runs/v10b_baseline/weights/best.pt, 41.4MB\n",
      "\n",
      "Validating runs/v10b_baseline/weights/best.pt...\n",
      "Ultralytics 8.3.31 🚀 Python-3.8.20 torch-2.4.1+cu121 CUDA:0 (NVIDIA GeForce RTX 4090, 24184MiB)\n",
      "YOLOv10b summary (fused): 383 layers, 20,414,236 parameters, 0 gradients, 97.9 GFLOPs\n"
     ]
    },
    {
     "name": "stderr",
     "output_type": "stream",
     "text": [
      "                 Class     Images  Instances      Box(P          R      mAP50  mAP50-95): 100%|██████████| 2/2 [00:00<00:00,  6.54it/s]\n"
     ]
    },
    {
     "name": "stdout",
     "output_type": "stream",
     "text": [
      "                   all        101        135      0.971      0.867      0.953      0.906\n",
      "                 fruit         64         81      0.987      0.951      0.986      0.944\n",
      "                flower         37         54      0.955      0.783       0.92      0.868\n",
      "Speed: 0.1ms preprocess, 2.1ms inference, 0.0ms loss, 0.0ms postprocess per image\n",
      "Saving runs/v10b_baseline/predictions.json...\n",
      "Results saved to \u001b[1mruns/v10b_baseline\u001b[0m\n"
     ]
    }
   ],
   "source": [
    "# 모델 학습\n",
    "results = model.train(**train_params)"
   ]
  },
  {
   "cell_type": "code",
   "execution_count": 6,
   "metadata": {},
   "outputs": [],
   "source": [
    "from ultralytics import YOLO\n",
    "best_model = YOLO(f\"{train_params['project']}/{train_params['name']}/weights/best.pt\")\n",
    "\n",
    "# validation 파라미터 설정\n",
    "val_params = {\n",
    "    'data': train_params['data'],\n",
    "    'batch': train_params['batch'],\n",
    "    'conf': train_params['conf'],\n",
    "    'save_json': True,\n",
    "    'project': f\"{train_params['project']}/{train_params['name']}\",\n",
    "    'name': 'val_performance',\n",
    "    'split': 'val',                        # 'val', 'test', 'train'\n",
    "}"
   ]
  },
  {
   "cell_type": "code",
   "execution_count": 7,
   "metadata": {},
   "outputs": [
    {
     "name": "stdout",
     "output_type": "stream",
     "text": [
      "Ultralytics 8.3.31 🚀 Python-3.8.20 torch-2.4.1+cu121 CUDA:0 (NVIDIA GeForce RTX 4090, 24184MiB)\n",
      "YOLOv10b summary (fused): 383 layers, 20,414,236 parameters, 0 gradients, 97.9 GFLOPs\n"
     ]
    },
    {
     "name": "stderr",
     "output_type": "stream",
     "text": [
      "\u001b[34m\u001b[1mval: \u001b[0mScanning /home/leedh/바탕화면/korean_melon/dataset/valid/labels.cache... 101 images, 0 backgrounds, 0 corrupt: 100%|██████████| 101/101 [00:00<?, ?it/s]\n",
      "                 Class     Images  Instances      Box(P          R      mAP50  mAP50-95): 100%|██████████| 4/4 [00:01<00:00,  2.30it/s]\n"
     ]
    },
    {
     "name": "stdout",
     "output_type": "stream",
     "text": [
      "                   all        101        135      0.971      0.867      0.949      0.904\n",
      "                 fruit         64         81      0.987      0.951      0.986      0.944\n",
      "                flower         37         54      0.955      0.783      0.912      0.864\n",
      "Speed: 0.2ms preprocess, 5.0ms inference, 0.0ms loss, 0.0ms postprocess per image\n",
      "Saving runs/v10b_baseline/val_performance/predictions.json...\n",
      "Results saved to \u001b[1mruns/v10b_baseline/val_performance\u001b[0m\n",
      "Average processing time: 5.226 ms, Average FPS: 191.35\n"
     ]
    }
   ],
   "source": [
    "# validation dataset 성능 평가\n",
    "def check_val_results(val_params, num_runs=10):\n",
    "    process_times = []\n",
    "    n_fps = []\n",
    "    for _ in range(num_runs):\n",
    "        val_results = best_model.val(**val_params)\n",
    "        process_times.append(sum(val_results.speed.values()))\n",
    "        n_fps.append(1000 / process_times[-1])\n",
    "\n",
    "    average_process_time = sum(process_times) / num_runs\n",
    "    average_fps = sum(n_fps) / num_runs\n",
    "    print(f\"Average processing time: {average_process_time:.3f} ms, Average FPS: {average_fps:.2f}\")\n",
    "\n",
    "check_val_results(val_params, num_runs=1)"
   ]
  },
  {
   "cell_type": "code",
   "execution_count": null,
   "metadata": {},
   "outputs": [
    {
     "name": "stdout",
     "output_type": "stream",
     "text": [
      "\n"
     ]
    },
    {
     "name": "stdout",
     "output_type": "stream",
     "text": [
      "image 1/101 /home/leedh/바탕화면/korean_melon/dataset/valid/images/V006_77_0_00_10_01_13_0_b08_20201020_0003_S01_1_jpg.rf.abaaed2999cf725602f3c2c6a43bbb4a.jpg: 480x640 1 fruit, 21.8ms\n",
      "image 2/101 /home/leedh/바탕화면/korean_melon/dataset/valid/images/V006_77_0_00_10_01_13_0_b08_20201020_0008_S01_1_jpg.rf.35faf5aea6be0571827a2dd1b33f27b3.jpg: 480x640 1 fruit, 4.0ms\n",
      "image 3/101 /home/leedh/바탕화면/korean_melon/dataset/valid/images/V006_77_0_00_10_01_13_0_b08_20201020_0025_S01_1_jpg.rf.0fe4486de4a87edc5f21a734b91cbab7.jpg: 480x640 2 fruits, 4.0ms\n",
      "image 4/101 /home/leedh/바탕화면/korean_melon/dataset/valid/images/V006_77_0_00_10_01_13_0_b08_20201020_0026_S01_1_jpg.rf.c3093450d663bf370222670e259b81e6.jpg: 480x640 2 fruits, 4.0ms\n",
      "image 5/101 /home/leedh/바탕화면/korean_melon/dataset/valid/images/V006_77_0_00_10_01_13_0_b08_20201020_0028_S01_1_jpg.rf.a884e50897a70f3ff4bce64620bbe2dd.jpg: 480x640 3 fruits, 4.0ms\n",
      "image 6/101 /home/leedh/바탕화면/korean_melon/dataset/valid/images/V006_77_0_00_10_01_13_0_b08_20201020_0029_S01_1_jpg.rf.661755d95515e3a9dcbf748572b93c63.jpg: 480x640 1 fruit, 4.0ms\n",
      "image 7/101 /home/leedh/바탕화면/korean_melon/dataset/valid/images/V006_77_0_00_10_01_13_0_b08_20201020_0041_S01_1_jpg.rf.23baeed7fa5e8935c4923e804f6cb5d2.jpg: 480x640 2 fruits, 4.0ms\n",
      "image 8/101 /home/leedh/바탕화면/korean_melon/dataset/valid/images/V006_77_0_00_10_01_13_0_b08_20201020_0042_S01_1_jpg.rf.763cf20bb479c47adea79268df9de556.jpg: 480x640 8 fruits, 4.0ms\n",
      "image 9/101 /home/leedh/바탕화면/korean_melon/dataset/valid/images/V006_77_0_00_10_01_13_0_b08_20201020_0049_S01_1_jpg.rf.50590d93dc8ef7079a42e6ecd5a70209.jpg: 480x640 2 fruits, 4.0ms\n",
      "image 10/101 /home/leedh/바탕화면/korean_melon/dataset/valid/images/V006_77_0_00_10_01_13_0_b08_20201020_0054_S01_1_jpg.rf.8483713739a8e7a556105a124e855a8f.jpg: 480x640 1 fruit, 4.0ms\n",
      "image 11/101 /home/leedh/바탕화면/korean_melon/dataset/valid/images/V006_77_0_00_10_01_13_0_b08_20201020_0056_S01_1_jpg.rf.63f91876fef119c2a5e709163e11642c.jpg: 480x640 1 fruit, 4.0ms\n",
      "image 12/101 /home/leedh/바탕화면/korean_melon/dataset/valid/images/V006_77_0_00_10_01_13_0_b08_20201020_0071_S01_1_jpg.rf.6a2ab2cd246874906c5b80a095567be1.jpg: 480x640 1 fruit, 4.0ms\n",
      "image 13/101 /home/leedh/바탕화면/korean_melon/dataset/valid/images/V006_77_0_00_10_01_13_0_b08_20201020_0075_S01_1_jpg.rf.3d00fe2f9607abbb04ffab91bc49b605.jpg: 480x640 4 fruits, 4.0ms\n",
      "image 14/101 /home/leedh/바탕화면/korean_melon/dataset/valid/images/V006_77_0_00_10_01_13_0_b08_20201020_0093_S01_1_jpg.rf.993aee4227a2db57fc1d12caf56c1d64.jpg: 480x640 1 fruit, 3.9ms\n",
      "image 15/101 /home/leedh/바탕화면/korean_melon/dataset/valid/images/V006_77_0_00_10_01_13_0_b09_20201020_0007_S01_1_jpg.rf.90309c086d8014957614bfdbf449d36c.jpg: 320x640 1 fruit, 21.3ms\n",
      "image 16/101 /home/leedh/바탕화면/korean_melon/dataset/valid/images/V006_77_0_00_10_01_13_0_b09_20201020_0011_S01_1_jpg.rf.40763be1a593b82f69bd061d89b1fef0.jpg: 320x640 3 fruits, 3.4ms\n",
      "image 17/101 /home/leedh/바탕화면/korean_melon/dataset/valid/images/V006_77_0_00_10_01_13_0_b09_20201020_0012_S01_1_jpg.rf.e6b731e50d435efcbfb3011532e55609.jpg: 320x640 1 fruit, 3.7ms\n",
      "image 18/101 /home/leedh/바탕화면/korean_melon/dataset/valid/images/V006_77_0_00_10_01_13_0_b09_20201020_0029_S01_1_jpg.rf.5e4d649ca4fbceb3edd4f886e1e9ae10.jpg: 320x640 2 fruits, 3.8ms\n",
      "image 19/101 /home/leedh/바탕화면/korean_melon/dataset/valid/images/V006_77_0_00_10_01_13_0_b09_20201020_0037_S01_1_jpg.rf.40500090d83605647516360a657931ea.jpg: 320x640 1 fruit, 3.8ms\n",
      "image 20/101 /home/leedh/바탕화면/korean_melon/dataset/valid/images/V006_77_0_00_10_01_13_0_b09_20201020_0047_S01_1_jpg.rf.6ac6e3d08b24d874744b4a9cc1ccf9c2.jpg: 320x640 3 fruits, 3.5ms\n",
      "image 21/101 /home/leedh/바탕화면/korean_melon/dataset/valid/images/V006_77_0_00_10_01_13_0_c34_20201020_0013_S01_1_jpg.rf.d489ddce8254654536df1bb731569dcd.jpg: 480x640 1 fruit, 4.3ms\n",
      "image 22/101 /home/leedh/바탕화면/korean_melon/dataset/valid/images/V006_77_0_00_10_01_13_0_c34_20201020_0020_S01_1_jpg.rf.2a818054b63492cd44a787869a95620e.jpg: 480x640 3 fruits, 4.0ms\n",
      "image 23/101 /home/leedh/바탕화면/korean_melon/dataset/valid/images/V006_77_0_00_10_01_13_0_c34_20201020_0022_S01_1_jpg.rf.b60dd88a130ac8766f4b9cb74c9ba156.jpg: 480x640 2 fruits, 4.0ms\n",
      "image 24/101 /home/leedh/바탕화면/korean_melon/dataset/valid/images/V006_77_0_00_10_01_13_0_c34_20201020_0030_S01_1_jpg.rf.4ba84bcb8972109c54d273cfa50902ec.jpg: 480x640 1 fruit, 4.0ms\n",
      "image 25/101 /home/leedh/바탕화면/korean_melon/dataset/valid/images/V006_77_0_00_10_01_13_0_c34_20201020_0051_S01_1_jpg.rf.696168b7023de4ae336249c404e083f3.jpg: 480x640 1 fruit, 4.0ms\n",
      "image 26/101 /home/leedh/바탕화면/korean_melon/dataset/valid/images/V006_77_0_00_10_01_13_0_c34_20201020_0054_S01_1_jpg.rf.02cb4c2c16b69544454b028f2a46132b.jpg: 480x640 3 fruits, 4.0ms\n",
      "image 27/101 /home/leedh/바탕화면/korean_melon/dataset/valid/images/V006_77_0_00_10_01_13_0_c34_20201020_0055_S01_1_jpg.rf.28e097980ad81a8a3972f13c8f46d9b0.jpg: 480x640 2 fruits, 4.0ms\n",
      "image 28/101 /home/leedh/바탕화면/korean_melon/dataset/valid/images/V006_77_0_00_10_01_13_0_c34_20201020_0057_S01_1_jpg.rf.68fe851488d08dd6bd5b630acd967960.jpg: 480x640 1 fruit, 4.0ms\n",
      "image 29/101 /home/leedh/바탕화면/korean_melon/dataset/valid/images/V006_77_0_00_10_01_13_0_c34_20201020_0059_S01_1_jpg.rf.13baa4951bb54d1bb361985065a83174.jpg: 480x640 2 fruits, 4.0ms\n",
      "image 30/101 /home/leedh/바탕화면/korean_melon/dataset/valid/images/V006_77_0_00_10_01_13_0_c34_20201020_0060_S01_1_jpg.rf.17908be7fb381d620b4164eb2ce8fe25.jpg: 480x640 2 fruits, 4.0ms\n",
      "image 31/101 /home/leedh/바탕화면/korean_melon/dataset/valid/images/V006_77_0_00_10_01_13_0_c35_20201020_0011_S01_1_jpg.rf.0cbd912ef1be7b279466486fabe4e1af.jpg: 480x640 3 fruits, 4.0ms\n",
      "image 32/101 /home/leedh/바탕화면/korean_melon/dataset/valid/images/V006_77_0_00_10_01_13_0_c35_20201020_0013_S01_1_jpg.rf.38b802fe5e35d66a5f76dedd60477da7.jpg: 480x640 1 fruit, 4.0ms\n",
      "image 33/101 /home/leedh/바탕화면/korean_melon/dataset/valid/images/V006_77_0_00_10_01_13_0_c35_20201020_0027_S01_1_jpg.rf.df77d38aeedf7197cf7c4a7d11c02e80.jpg: 480x640 4 fruits, 4.0ms\n",
      "image 34/101 /home/leedh/바탕화면/korean_melon/dataset/valid/images/V006_77_0_00_10_01_13_0_c35_20201020_0028_S01_1_jpg.rf.0332a0aa98e06fa642ebc3087faf7498.jpg: 480x640 3 fruits, 4.0ms\n",
      "image 35/101 /home/leedh/바탕화면/korean_melon/dataset/valid/images/V006_77_0_00_10_01_13_0_c35_20201020_0036_S01_1_jpg.rf.0720d9374c393de32c04d411822bc14f.jpg: 480x640 1 fruit, 4.0ms\n",
      "image 36/101 /home/leedh/바탕화면/korean_melon/dataset/valid/images/V006_77_0_00_10_01_13_0_c35_20201020_0038_S01_1_jpg.rf.0045898a31dc92be27932fad3423309b.jpg: 480x640 2 fruits, 4.0ms\n",
      "image 37/101 /home/leedh/바탕화면/korean_melon/dataset/valid/images/V006_77_0_00_10_01_13_0_c35_20201020_0041_S01_1_jpg.rf.931b0385ae684af5336d88ca0da2418e.jpg: 480x640 1 fruit, 4.0ms\n",
      "image 38/101 /home/leedh/바탕화면/korean_melon/dataset/valid/images/V006_77_0_00_10_01_13_0_c35_20201020_0051_S01_1_jpg.rf.300ce93842c36eab7d9ca6d30a6c0285.jpg: 480x640 2 fruits, 4.0ms\n",
      "image 39/101 /home/leedh/바탕화면/korean_melon/dataset/valid/images/V006_77_0_00_10_01_13_0_c35_20201020_0052_S01_1_jpg.rf.280c04bcc53085251ee7fd70ee6cc36a.jpg: 480x640 3 fruits, 4.0ms\n",
      "image 40/101 /home/leedh/바탕화면/korean_melon/dataset/valid/images/V006_77_0_00_10_01_13_0_c35_20201020_0064_S01_1_jpg.rf.341188bf8d74272ade185c5966a0e19f.jpg: 480x640 1 fruit, 4.0ms\n",
      "image 41/101 /home/leedh/바탕화면/korean_melon/dataset/valid/images/V006_77_0_00_10_01_13_0_c35_20201020_0066_S01_1_jpg.rf.0436300a7984ad16235bd609b73aff0b.jpg: 480x640 3 fruits, 4.0ms\n",
      "image 42/101 /home/leedh/바탕화면/korean_melon/dataset/valid/images/V006_77_0_00_10_01_13_0_c35_20201020_0069_S01_1_jpg.rf.e2d5ee06f5009283894660d27cfe9980.jpg: 480x640 1 fruit, 4.0ms\n",
      "image 43/101 /home/leedh/바탕화면/korean_melon/dataset/valid/images/V006_77_0_00_10_01_13_0_c35_20201020_0070_S01_1_jpg.rf.7fb4981c5a6383eb244ccde317905cc6.jpg: 480x640 3 fruits, 4.0ms\n",
      "image 44/101 /home/leedh/바탕화면/korean_melon/dataset/valid/images/V006_77_0_00_10_01_13_0_c35_20201020_0077_S01_1_jpg.rf.054761a49734dba030c0c57b989065fb.jpg: 480x640 2 fruits, 4.0ms\n",
      "image 45/101 /home/leedh/바탕화면/korean_melon/dataset/valid/images/V006_77_0_00_10_01_13_0_c35_20201020_0083_S01_1_jpg.rf.ea9e2fd460ab7dceee0dcb4776611368.jpg: 480x640 2 fruits, 4.0ms\n",
      "image 46/101 /home/leedh/바탕화면/korean_melon/dataset/valid/images/V006_77_0_00_10_01_13_0_c43_20201020_0000_S01_1_jpg.rf.40344a2a662df3c7e0baa89032ccee3f.jpg: 480x640 2 fruits, 3.9ms\n",
      "image 47/101 /home/leedh/바탕화면/korean_melon/dataset/valid/images/V006_77_0_00_10_01_13_0_c43_20201020_0002_S01_1_jpg.rf.b2a59c6e46a923d95d127a77b3d74f93.jpg: 480x640 2 fruits, 4.0ms\n",
      "image 48/101 /home/leedh/바탕화면/korean_melon/dataset/valid/images/V006_77_0_00_10_01_13_0_c43_20201020_0009_S01_1_jpg.rf.172ef14844a65b58946c19fbb6aa656e.jpg: 480x640 1 fruit, 4.0ms\n",
      "image 49/101 /home/leedh/바탕화면/korean_melon/dataset/valid/images/V006_77_0_00_10_01_13_0_c43_20201020_0020_S01_1_jpg.rf.820675c8a2c7b5d0b8b1730840fe74f5.jpg: 480x640 1 fruit, 4.0ms\n",
      "image 50/101 /home/leedh/바탕화면/korean_melon/dataset/valid/images/V006_77_0_00_10_01_13_0_c43_20201020_0021_S01_1_jpg.rf.bd3d1b46348caef377f229507ad1f8a8.jpg: 480x640 1 fruit, 4.0ms\n",
      "image 51/101 /home/leedh/바탕화면/korean_melon/dataset/valid/images/V006_77_0_00_10_01_13_0_c43_20201020_0032_S01_1_jpg.rf.91f2d00856d99551436ef1ddf2be9bee.jpg: 480x640 1 fruit, 4.0ms\n",
      "image 52/101 /home/leedh/바탕화면/korean_melon/dataset/valid/images/V006_77_0_00_10_01_13_0_c43_20201020_0037_S01_1_jpg.rf.a6fa10ce8f63c5a34b5ed0c361dc3c27.jpg: 480x640 1 fruit, 4.0ms\n",
      "image 53/101 /home/leedh/바탕화면/korean_melon/dataset/valid/images/V006_77_0_00_10_01_13_0_c43_20201020_0052_S01_1_jpg.rf.89f00e3fcf2f6db7436846e84002586c.jpg: 480x640 1 fruit, 4.0ms\n",
      "image 54/101 /home/leedh/바탕화면/korean_melon/dataset/valid/images/V006_77_0_00_10_01_13_0_c43_20201020_0055_S01_1_jpg.rf.3852a65e8d420aee65d0e1cd955b88c4.jpg: 480x640 1 fruit, 4.0ms\n",
      "image 55/101 /home/leedh/바탕화면/korean_melon/dataset/valid/images/V006_77_0_00_10_01_13_0_c43_20201020_0061_S01_1_jpg.rf.410bc2b3733667439f01465ff6d29905.jpg: 480x640 1 fruit, 4.0ms\n",
      "image 56/101 /home/leedh/바탕화면/korean_melon/dataset/valid/images/V006_77_0_00_10_01_13_0_c43_20201020_0082_S01_1_jpg.rf.60686936f9ee68457611b6c5c475714d.jpg: 480x640 1 fruit, 4.0ms\n",
      "image 57/101 /home/leedh/바탕화면/korean_melon/dataset/valid/images/V006_77_0_00_10_01_13_0_c43_20201020_0085_S01_1_jpg.rf.f109ef08ff42b39b4f1a1f6dc618e7aa.jpg: 480x640 1 fruit, 4.0ms\n",
      "image 58/101 /home/leedh/바탕화면/korean_melon/dataset/valid/images/V006_77_0_00_10_01_13_0_c43_20201020_0090_S01_1_jpg.rf.0e0b57f8bb1cce27252a5f157bce18d6.jpg: 480x640 1 fruit, 4.0ms\n",
      "image 59/101 /home/leedh/바탕화면/korean_melon/dataset/valid/images/V006_77_0_00_10_01_13_0_c43_20201020_0097_S01_1_jpg.rf.57cbef53d34bd215e6c51e0b50763a36.jpg: 480x640 2 fruits, 4.0ms\n",
      "image 60/101 /home/leedh/바탕화면/korean_melon/dataset/valid/images/V006_77_0_00_10_01_13_0_c43_20201020_0108_S01_1_jpg.rf.34ecfafe103e2b5d29149800b30cd737.jpg: 480x640 1 fruit, 4.0ms\n",
      "image 61/101 /home/leedh/바탕화면/korean_melon/dataset/valid/images/V006_77_0_00_10_01_13_0_c43_20201020_0134_S01_1_jpg.rf.09ac693235136d3b521987a4e92c1564.jpg: 480x640 1 fruit, 4.0ms\n",
      "image 62/101 /home/leedh/바탕화면/korean_melon/dataset/valid/images/V006_77_0_00_10_01_13_0_c43_20201020_0138_S01_1_jpg.rf.27a95d873fa51f240c1e46c7ca8a8ac1.jpg: 480x640 4 fruits, 4.0ms\n",
      "image 63/101 /home/leedh/바탕화면/korean_melon/dataset/valid/images/V006_77_0_00_10_01_13_0_c43_20201020_0142_S01_1_jpg.rf.0b977fd214f0143ff4c299af4cc00964.jpg: 480x640 3 fruits, 4.0ms\n",
      "image 64/101 /home/leedh/바탕화면/korean_melon/dataset/valid/images/V006_77_0_00_10_01_13_0_c43_20201020_0156_S01_1_jpg.rf.723c6a0d1fa11b641658a7c4e8b97cfd.jpg: 480x640 1 fruit, 4.0ms\n",
      "image 65/101 /home/leedh/바탕화면/korean_melon/dataset/valid/images/V006_77_0_00_10_02_13_0_b08_20201027_0003_S01_1_jpg.rf.54b87f8a238c2c214eac0eeb9ba5b0af.jpg: 480x640 4 flowers, 4.0ms\n",
      "image 66/101 /home/leedh/바탕화면/korean_melon/dataset/valid/images/V006_77_0_00_10_02_13_0_b08_20201027_0010_S01_1_jpg.rf.bd7d7a611404040bccd889f40b8e9359.jpg: 480x640 2 flowers, 4.0ms\n",
      "image 67/101 /home/leedh/바탕화면/korean_melon/dataset/valid/images/V006_77_0_00_10_02_13_0_b08_20201027_0013_S01_1_jpg.rf.a17beb2041b4ba82f590fbd7e3b1c6c1.jpg: 480x640 2 flowers, 4.0ms\n",
      "image 68/101 /home/leedh/바탕화면/korean_melon/dataset/valid/images/V006_77_0_00_10_02_13_0_b08_20201027_0019_S01_1_jpg.rf.64c03d413f7ac264c31777e5bfd51e98.jpg: 480x640 2 flowers, 4.0ms\n",
      "image 69/101 /home/leedh/바탕화면/korean_melon/dataset/valid/images/V006_77_0_00_10_02_13_0_b08_20201027_0021_S01_1_jpg.rf.bce1fa605811887b6f595a72027c6ac0.jpg: 480x640 2 flowers, 4.0ms\n",
      "image 70/101 /home/leedh/바탕화면/korean_melon/dataset/valid/images/V006_77_0_00_10_02_13_0_b08_20201027_0025_S01_1_jpg.rf.f77fb198c193b3dab34e6d1a4555e7f5.jpg: 480x640 1 flower, 4.0ms\n",
      "image 71/101 /home/leedh/바탕화면/korean_melon/dataset/valid/images/V006_77_0_00_10_02_13_0_b08_20201027_0027_S01_1_jpg.rf.148e80a109cfce081a9d321998de8c4d.jpg: 480x640 3 flowers, 4.0ms\n",
      "image 72/101 /home/leedh/바탕화면/korean_melon/dataset/valid/images/V006_77_0_00_10_02_13_0_b08_20201027_0028_S01_1_jpg.rf.f4e14376e317376b1125f80643b80053.jpg: 480x640 1 flower, 4.0ms\n",
      "image 73/101 /home/leedh/바탕화면/korean_melon/dataset/valid/images/V006_77_0_00_10_02_13_0_b08_20201027_0029_S01_1_jpg.rf.0416ab56c099d3d20144c2f9d9d52003.jpg: 480x640 1 flower, 4.0ms\n",
      "image 74/101 /home/leedh/바탕화면/korean_melon/dataset/valid/images/V006_77_0_00_10_02_13_0_b09_20201027_0001_S01_1_jpg.rf.1212b78d623b91890fd7bfa2b34819e0.jpg: 320x640 1 flower, 3.6ms\n",
      "image 75/101 /home/leedh/바탕화면/korean_melon/dataset/valid/images/V006_77_0_00_10_02_13_0_b09_20201027_0004_S01_1_jpg.rf.ef0212f559f9598389d69a1b8424063a.jpg: 320x640 1 flower, 3.6ms\n",
      "image 76/101 /home/leedh/바탕화면/korean_melon/dataset/valid/images/V006_77_0_00_10_02_13_0_b09_20201027_0006_S01_1_jpg.rf.00edf66d1acb7bc35ab77fbcc2467a7b.jpg: 320x640 1 flower, 3.7ms\n",
      "image 77/101 /home/leedh/바탕화면/korean_melon/dataset/valid/images/V006_77_0_00_10_02_13_0_b09_20201027_0016_S01_1_jpg.rf.c8b62c20c0520c405ca10d5581c87cac.jpg: 320x640 1 flower, 3.7ms\n",
      "image 78/101 /home/leedh/바탕화면/korean_melon/dataset/valid/images/V006_77_0_00_10_02_13_0_c35_20201027_0003_S01_1_jpg.rf.c5c3ba9de16bf59acb2f380b5ff428da.jpg: 480x640 1 flower, 4.3ms\n",
      "image 79/101 /home/leedh/바탕화면/korean_melon/dataset/valid/images/V006_77_0_00_10_02_13_0_c35_20201027_0004_S01_1_jpg.rf.686898f8522c4bd9f30c953563ab1112.jpg: 480x640 1 flower, 4.0ms\n",
      "image 80/101 /home/leedh/바탕화면/korean_melon/dataset/valid/images/V006_77_0_00_10_02_13_0_c35_20201027_0009_S01_1_jpg.rf.2737de604a98181dce2a8265a5b5997e.jpg: 480x640 3 flowers, 4.0ms\n",
      "image 81/101 /home/leedh/바탕화면/korean_melon/dataset/valid/images/V006_77_0_00_10_02_13_0_c35_20201027_0033_S01_1_jpg.rf.6d81623ace398e021078eb8676660573.jpg: 480x640 1 flower, 4.0ms\n",
      "image 82/101 /home/leedh/바탕화면/korean_melon/dataset/valid/images/V006_77_0_00_10_02_13_0_c35_20201027_0046_S01_1_jpg.rf.c0dc29ff0b95c270e5f43f9fd7844fb3.jpg: 480x640 4 flowers, 4.0ms\n",
      "image 83/101 /home/leedh/바탕화면/korean_melon/dataset/valid/images/V006_77_0_00_10_02_13_0_c35_20201027_0048_S01_1_jpg.rf.0ed547c82abea3e0ce5715ca5e4946d1.jpg: 480x640 1 fruit, 2 flowers, 4.0ms\n",
      "image 84/101 /home/leedh/바탕화면/korean_melon/dataset/valid/images/V006_77_0_00_10_02_13_0_c35_20201027_0054_S01_1_jpg.rf.7c5df105e4a0c1e068fbb6f9bed3f8a3.jpg: 480x640 4 flowers, 4.0ms\n",
      "image 85/101 /home/leedh/바탕화면/korean_melon/dataset/valid/images/V006_77_0_00_10_02_13_0_c35_20201027_0056_S01_1_jpg.rf.b0f15a6b050ba623cc74e70d4335a6ca.jpg: 480x640 1 flower, 4.0ms\n",
      "image 86/101 /home/leedh/바탕화면/korean_melon/dataset/valid/images/V006_77_0_00_10_02_13_0_c35_20201027_0057_S01_1_jpg.rf.67166a07a2a6c9da895b10c014ea9aaf.jpg: 480x640 1 flower, 4.0ms\n",
      "image 87/101 /home/leedh/바탕화면/korean_melon/dataset/valid/images/V006_77_0_00_10_02_13_0_c35_20201027_0059_S01_1_jpg.rf.fb19f965df70d906fbf37f235fc31187.jpg: 480x640 2 flowers, 4.0ms\n",
      "image 88/101 /home/leedh/바탕화면/korean_melon/dataset/valid/images/V006_77_0_00_10_02_13_0_c35_20201027_0069_S01_1_jpg.rf.fb8172fa203560ede31e2db904b21a27.jpg: 480x640 1 flower, 4.0ms\n",
      "image 89/101 /home/leedh/바탕화면/korean_melon/dataset/valid/images/V006_77_0_00_10_02_13_0_c43_20201027_0003_S01_1_jpg.rf.a98606eff7d39cbbe8a9dd46e8edfa63.jpg: 480x640 3 flowers, 4.0ms\n",
      "image 90/101 /home/leedh/바탕화면/korean_melon/dataset/valid/images/V006_77_0_00_10_02_13_0_c43_20201027_0013_S01_1_jpg.rf.8cb5bc82e738da3f7efdd9945f89eed0.jpg: 480x640 1 flower, 4.0ms\n",
      "image 91/101 /home/leedh/바탕화면/korean_melon/dataset/valid/images/V006_77_0_00_10_02_13_0_c43_20201027_0016_S01_1_jpg.rf.3381a404fc86b26e7119433b4100ff8b.jpg: 480x640 2 flowers, 3.9ms\n",
      "image 92/101 /home/leedh/바탕화면/korean_melon/dataset/valid/images/V006_77_0_00_10_02_13_0_c43_20201027_0022_S01_1_jpg.rf.28d8216c25f7d104c2f43fa9331d3e4b.jpg: 480x640 1 flower, 4.0ms\n",
      "image 93/101 /home/leedh/바탕화면/korean_melon/dataset/valid/images/V006_77_0_00_10_02_13_0_c43_20201027_0026_S01_1_jpg.rf.420af64a322ef09d0bfeca71e5afcf6f.jpg: 480x640 1 flower, 4.0ms\n",
      "image 94/101 /home/leedh/바탕화면/korean_melon/dataset/valid/images/V006_77_0_00_10_02_13_0_c43_20201027_0041_S01_1_jpg.rf.b136fff808078f38792014f33c07ba58.jpg: 480x640 2 flowers, 4.0ms\n",
      "image 95/101 /home/leedh/바탕화면/korean_melon/dataset/valid/images/V006_77_0_00_10_02_13_0_c43_20201027_0043_S01_1_jpg.rf.8186198fbd2cda5de507ac20253a0b1e.jpg: 480x640 3 flowers, 4.0ms\n",
      "image 96/101 /home/leedh/바탕화면/korean_melon/dataset/valid/images/V006_77_0_00_10_02_13_0_c43_20201027_0044_S01_1_jpg.rf.a0c662bacc19b5bf5aed4dec1a8092a2.jpg: 480x640 1 flower, 4.0ms\n",
      "image 97/101 /home/leedh/바탕화면/korean_melon/dataset/valid/images/V006_77_0_00_10_02_13_0_c43_20201027_0050_S01_1_jpg.rf.9f87e22a6b474e13732afe7703946573.jpg: 480x640 1 flower, 4.0ms\n",
      "image 98/101 /home/leedh/바탕화면/korean_melon/dataset/valid/images/V006_77_0_00_10_02_13_0_c43_20201027_0051_S01_1_jpg.rf.eca4a63fd11e7b027a17152bead58cf6.jpg: 480x640 1 flower, 4.0ms\n",
      "image 99/101 /home/leedh/바탕화면/korean_melon/dataset/valid/images/V006_77_0_00_10_02_13_0_c43_20201027_0055_S01_1_jpg.rf.a808aa3322e921ce91c89aad61db9eb6.jpg: 480x640 4 flowers, 4.0ms\n",
      "image 100/101 /home/leedh/바탕화면/korean_melon/dataset/valid/images/V006_77_0_00_10_02_13_0_c43_20201027_0064_S01_1_jpg.rf.e49d145bcf55ed42fe2288250be66152.jpg: 480x640 1 fruit, 1 flower, 3.9ms\n",
      "image 101/101 /home/leedh/바탕화면/korean_melon/dataset/valid/images/V006_77_0_00_10_02_13_0_c43_20201027_0076_S01_1_jpg.rf.db38186beb748841cfa5f6612f157035.jpg: 480x640 1 flower, 4.0ms\n",
      "Speed: 1.2ms preprocess, 4.3ms inference, 0.2ms postprocess per image at shape (1, 3, 480, 640)\n",
      "Results saved to \u001b[1mruns/v10b_baseline/val_predict\u001b[0m\n"
     ]
    }
   ],
   "source": [
    "# 실제 validation에 대한 predict 결과 저장\n",
    "pred_results = best_model(\n",
    "    source='dataset/valid/images',      # 예측할 이미지 폴더 경로\n",
    "    conf=train_params['conf'],          # default: 0.25\n",
    "    save=True,\n",
    "    project=f\"{train_params['project']}/{train_params['name']}\",    # Name of the project directory where training outputs are saved\n",
    "    name='val_predict',                 # Name of the project\n",
    ")"
   ]
  },
  {
   "cell_type": "code",
   "execution_count": null,
   "metadata": {},
   "outputs": [],
   "source": []
  },
  {
   "cell_type": "code",
   "execution_count": null,
   "metadata": {},
   "outputs": [],
   "source": []
  },
  {
   "cell_type": "code",
   "execution_count": null,
   "metadata": {},
   "outputs": [],
   "source": [
    "# 하이퍼파라미터 튜닝 할 때 쓰는 코드\n",
    "results = model.tune(\n",
    "    data='data.yaml',\n",
    "    epochs=30,\n",
    "    iterations=300,\n",
    "    optimizer='AdamW',\n",
    ")"
   ]
  }
 ],
 "metadata": {
  "kernelspec": {
   "display_name": "yolov11",
   "language": "python",
   "name": "python3"
  },
  "language_info": {
   "codemirror_mode": {
    "name": "ipython",
    "version": 3
   },
   "file_extension": ".py",
   "mimetype": "text/x-python",
   "name": "python",
   "nbconvert_exporter": "python",
   "pygments_lexer": "ipython3",
   "version": "3.9.20"
  }
 },
 "nbformat": 4,
 "nbformat_minor": 2
}
